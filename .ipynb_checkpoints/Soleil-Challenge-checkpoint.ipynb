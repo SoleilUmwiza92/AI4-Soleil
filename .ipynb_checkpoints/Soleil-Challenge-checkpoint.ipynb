{
 "cells": [
  {
   "cell_type": "markdown",
   "id": "710c6e7b",
   "metadata": {},
   "source": [
    " \n",
    "\n",
    "\n",
    "- *Umwiza, Soleil S.*\n",
    "- *Student number: 4386019*\n",
    "--------------------------------------\n",
    "\n",
    "## Phase 1: Proposal\n",
    "\n",
    "\n",
    "\n",
    "####  phishing Email\n",
    "\n",
    "What Is Phishing Email? \n",
    "\n",
    "Phishing is a form of cyberattack where attackers attempt to trick individuals and organisations into revealing sensitive information, such as login credentials or financial details, by impersonating a trustworthy entity via electronic communication, typically email. The attacker often manipulates the victim’s emotions or uses a sense of urgency to achieve their goals.\n",
    "\n",
    "\n",
    "## 🟡 Domain understanding\n",
    "\n",
    "\n",
    "\n",
    "#### **What?**\n",
    "\n",
    "*What is the main goal of this project?*\n",
    "\n",
    "I want to implement a model that will detect phishing emails automatically without human intervention.\n",
    "\n",
    "\n",
    "\n",
    "#### **Why**\n",
    "*Why is this project important?*\n",
    "\n",
    "With the development of technology, emails are widely used in business, professional, and social communication. Criminals also see this as an opportunity to steal people's money or access personal information and use them in their criminal activities.\n",
    "\n",
    "Unfortunately, not everyone is able to recognize a phishing email just by looking at it. People are still being victims of phishing emails and other online criminalities. Because of this issue, having a system that will detect phishing emails and flag them will help users of emails recognize those unwanted emails and prevent the damage this can cause to email users.\n",
    "\n",
    "#### **Who**\n",
    "*Who will benefit from the results of this project?*\n",
    "\n",
    "This model will benefit the following stakeholders:\n",
    " Companies/Institutions that use emails in their work or business will benefit from this system because it will protect their business and the data of their employees and clients\n",
    "Normal users of email are the main target of phishing therefore will benefit from this system.\n",
    "Email providers have the responsibility of protecting their client's data, therefore this system will be beneficial for them\n",
    "\n",
    "\n",
    "#### **When**\n",
    "*When will you deliver this projetc?*\n",
    "\n",
    "For this project, I am using the Jira software as a tool for my planning and progress of increments. I create use stories to work on during a sprint and for each Sprint I set its goal. Below is the screenshot of my sprint.\n",
    "\n",
    "\n",
    "\n",
    "This project will consist of 2 iterations of challenge 1. The masterpiece challenge will be delivered on the 26th of November.\n",
    "\n",
    "#### **How**\n",
    "*How will the project achieve its objectives?* \n",
    "\n",
    "For this project, I will need the dataset to train and test my model. The data required are sample emails with their types. For Cleaning, processing, and analyzing the dataset, Python will be used as a programming language and Jupyter Notebook will be used as a development environment. \n",
    "Dataset: The dataset that will be used in this project is publicly available on Kaggle. The dataset is composed of 18650 rows and 2 columns(Email body and Email type).\n",
    "Machine Learning Algorithm: Since the expected outcome of this project is a model that will classify incoming emails, Classification will be a suitable algorithm to use in this project.\n",
    "\n",
    "\n",
    "### 🟡 Data Sourcing\n",
    "\n",
    "\n",
    "Define Objectives: \n",
    "\n",
    "-To implement a machine learning model for emails that predicts whether an email is phishing or safe.\n",
    "\n",
    "Data Requirements: Determine the data requirements:\n",
    "- Text data: Email body.\n",
    "- Labels: Each email needs to be flagged as phishing or safe\n",
    "Data Sources: Identify potential data sources:\n",
    "\n",
    "- Publicly available datasets: The data is available publicly on the Kaggle website, and can be downloaded freely\n",
    "\n",
    "Data Legality and Ethics:\n",
    "- Use only publicly available data or data with appropriate licenses.\n",
    "- Data used should not contain personal details or any sensitive data\n",
    "\n",
    "Data Diversity: \n",
    "- For analyzing phishing emails, any source email provider can be used as long as it is publicly available or has an appropriate license\n",
    "\n",
    "Version Control: \n",
    "\n",
    " -GitHub will be used to track all changes that will be performed during preprocessing, this will help to revert changes as needed.\n",
    " \n",
    "Iterative Process:\n",
    "- Continuously monitor the model's performance and gather feedback.\n",
    "- If the model is not performing well, consider reevaluating and updating the data sources.\n",
    "\n",
    "\n",
    "\n",
    "\n",
    "\n",
    "I have found a number of datasets from Kaggle  which will enable me to bring my challenge to a successful conclusion. The datasets are as follows:\n",
    "\n",
    "- **phishing.csv** : This dataset is  contains all the the phishing email\n",
    "- **data_extracted_easy_ham.csv** :This one contains all safe email\n",
    "\n",
    "> The data is available publicly on the Kaggle website, and can be downloaded freely\n",
    ": phishing_&_ham_emails. (2023, March 23). Kaggle. https://www.kaggle.com/datasets/mohamedouledhamed/phishing-and-ham-emails\n",
    "\n",
    "\n",
    "\n",
    "### 🟡 Analytic Approach\n",
    "\n",
    "\n",
    "Since the expected outcome of this project is a model that will classify incoming emails as phishing or safe, Classification will be a suitable algorithm to use in this project.\n",
    "\n",
    "\n",
    "\n",
    "\n",
    "\n",
    "\n",
    "\n"
   ]
  },
  {
   "cell_type": "markdown",
   "id": "c973dc29",
   "metadata": {},
   "source": [
    "# Phase 2:   📦 Data Provisioning \n",
    "\n",
    "## Data requirements \n",
    "## Data collection"
   ]
  },
  {
   "cell_type": "code",
   "execution_count": 29,
   "id": "523eba9a",
   "metadata": {},
   "outputs": [
    {
     "name": "stderr",
     "output_type": "stream",
     "text": [
      "[nltk_data] Downloading package stopwords to\n",
      "[nltk_data]     C:\\Users\\csten\\AppData\\Roaming\\nltk_data...\n",
      "[nltk_data]   Package stopwords is already up-to-date!\n"
     ]
    },
    {
     "name": "stdout",
     "output_type": "stream",
     "text": [
      "scikit-learn version: 1.3.0\n",
      "pandas version: 1.5.3\n",
      "seaborn version: 0.12.2\n",
      "(2239, 12)\n",
      "(2551, 12)\n"
     ]
    }
   ],
   "source": [
    "import re\n",
    "import sklearn\n",
    "import pandas as pd\n",
    "import numpy as np\n",
    "import matplotlib.pyplot as plt\n",
    "import seaborn as sns\n",
    "import nltk\n",
    "nltk.download('stopwords')\n",
    "import warnings\n",
    "pd.set_option(\"max_colwidth\", 200)\n",
    "pd.set_option(\"display.float_format\", '{:.2f}'.format)\n",
    "\n",
    "\n",
    "warnings.filterwarnings('ignore')\n",
    "\n",
    "\n",
    "\n",
    "print(\"scikit-learn version:\", sklearn.__version__)     # 1.1.3\n",
    "print(\"pandas version:\", pd.__version__)            # 1.5.1\n",
    "print(\"seaborn version:\", sns.__version__)   \n",
    "\n",
    "df1 = pd.read_csv(\"phishing.csv\", index_col=0)\n",
    "df2= pd.read_csv(\"data_extracted_easy_ham.csv\", index_col=0)\n",
    "\n",
    "print(df1.shape)\n",
    "print(df2.shape)\n",
    "\n"
   ]
  },
  {
   "cell_type": "markdown",
   "id": "045e47f3",
   "metadata": {},
   "source": [
    "## Data understanding"
   ]
  },
  {
   "cell_type": "markdown",
   "id": "e41df9f1",
   "metadata": {},
   "source": [
    "As it is mentioned in the introduction, the datasets are downloaded from [Kaggle Phishing and ham emails](https://www.kaggle.com/datasets/mohamedouledhamed/phishing-and-ham-emails). I have 2 datasets, one for `phishing emails` which i call `df1` and the other for `Valid/safe emails` which i call `df2`. Below I am reading both datasets and print their shapes, we can see that they have the same number of columns/features."
   ]
  },
  {
   "cell_type": "markdown",
   "id": "d22a3067",
   "metadata": {},
   "source": [
    "### 📃 Sample the data"
   ]
  },
  {
   "cell_type": "markdown",
   "id": "e2c9cd4d",
   "metadata": {},
   "source": [
    "Below I am viewing both datasets to have an impression of the data and see if indeed the columns names matches. For that I am printing 5 random rows."
   ]
  },
  {
   "cell_type": "code",
   "execution_count": 30,
   "id": "1b9e7dea",
   "metadata": {},
   "outputs": [
    {
     "data": {
      "text/html": [
       "<div>\n",
       "<style scoped>\n",
       "    .dataframe tbody tr th:only-of-type {\n",
       "        vertical-align: middle;\n",
       "    }\n",
       "\n",
       "    .dataframe tbody tr th {\n",
       "        vertical-align: top;\n",
       "    }\n",
       "\n",
       "    .dataframe thead th {\n",
       "        text-align: right;\n",
       "    }\n",
       "</style>\n",
       "<table border=\"1\" class=\"dataframe\">\n",
       "  <thead>\n",
       "    <tr style=\"text-align: right;\">\n",
       "      <th></th>\n",
       "      <th>Fullname</th>\n",
       "      <th>To</th>\n",
       "      <th>Subject</th>\n",
       "      <th>Body</th>\n",
       "      <th>Date</th>\n",
       "      <th>IP</th>\n",
       "      <th>Return_Path</th>\n",
       "      <th>Delivered_to</th>\n",
       "      <th>Content_type</th>\n",
       "      <th>Message_Id</th>\n",
       "      <th>X_uid</th>\n",
       "      <th>Content_Length</th>\n",
       "    </tr>\n",
       "    <tr>\n",
       "      <th>From</th>\n",
       "      <th></th>\n",
       "      <th></th>\n",
       "      <th></th>\n",
       "      <th></th>\n",
       "      <th></th>\n",
       "      <th></th>\n",
       "      <th></th>\n",
       "      <th></th>\n",
       "      <th></th>\n",
       "      <th></th>\n",
       "      <th></th>\n",
       "      <th></th>\n",
       "    </tr>\n",
       "  </thead>\n",
       "  <tbody>\n",
       "    <tr>\n",
       "      <th>clientservice.refRZ8379534997WW.cm@nationalcity.com</th>\n",
       "      <td>National City</td>\n",
       "      <td>user &lt;user@example.com&gt;</td>\n",
       "      <td>National City corporate customer cervice informs you! (mess_id:\\n y32348099wj)</td>\n",
       "      <td>[]</td>\n",
       "      <td>Sun,  3 Jun 2007 14:28:54 -0400 (EDT)</td>\n",
       "      <td>108.120.70.160</td>\n",
       "      <td>clientservice.refRZ8379534997WW.cm@nationalcity.com</td>\n",
       "      <td>user@example.com</td>\n",
       "      <td>multipart/alternative;\\n\\tboundary=\"--Y923ZE2UXDUZRFH82GM\"</td>\n",
       "      <td>20070603182855.3748216243@mail.example.com</td>\n",
       "      <td>NaN</td>\n",
       "      <td>3683.00</td>\n",
       "    </tr>\n",
       "    <tr>\n",
       "      <th>service@paypal.com</th>\n",
       "      <td>service@paypal.com</td>\n",
       "      <td>undisclosed-recipients:;</td>\n",
       "      <td>Your account access has been limited</td>\n",
       "      <td>Limited Account Access Details PayPal is constantly working to ensure security by regularly screening the accounts in our system. We recently reviewed your account, and we need more information to...</td>\n",
       "      <td>Wed, 13 Sep 2006 14:53:28 -0400</td>\n",
       "      <td>10.0.0.100</td>\n",
       "      <td>service@paypal.com</td>\n",
       "      <td>user@login.example.com</td>\n",
       "      <td>text/html;\\n\\tcharset=\"Windows-1251\"</td>\n",
       "      <td>200609131453361.SM00972@User</td>\n",
       "      <td>NaN</td>\n",
       "      <td>4944.00</td>\n",
       "    </tr>\n",
       "    <tr>\n",
       "      <th>clientservice.ref7520148931456.cm@bbt.com</th>\n",
       "      <td>BB&amp;T Customer Service</td>\n",
       "      <td>user &lt;user@example.com&gt;</td>\n",
       "      <td>BB&amp;T customer service: confirm your information!</td>\n",
       "      <td>[, ]</td>\n",
       "      <td>Sun, 15 Apr 2007 11:01:39 -0400 (EDT)</td>\n",
       "      <td>69.132.64.74</td>\n",
       "      <td>clientservice.ref7520148931456.cm@bbt.com</td>\n",
       "      <td>user@example.com</td>\n",
       "      <td>multipart/related; \\n\\tboundary=\"QTF_XXWSJV1I6GMQV5K2VUZ\"</td>\n",
       "      <td>20070415150139.B4EDB162C5@mail.example.com</td>\n",
       "      <td>NaN</td>\n",
       "      <td>13852.00</td>\n",
       "    </tr>\n",
       "    <tr>\n",
       "      <th>info@example.co</th>\n",
       "      <td>info@example.co</td>\n",
       "      <td>user@example.com</td>\n",
       "      <td>Notice of account limitation</td>\n",
       "      <td>[, ]</td>\n",
       "      <td>Thu, 21 Jul 2005 18:18:30 +0400</td>\n",
       "      <td>213.242.62.83</td>\n",
       "      <td>info@example.com</td>\n",
       "      <td>user@example.com</td>\n",
       "      <td>multipart/mixed;\\n boundary=\"----=_NextPart_000_0000_775D618E.E020C1B2\"</td>\n",
       "      <td>20050721141953.6B4F9621CA0@mail.example.com</td>\n",
       "      <td>44.00</td>\n",
       "      <td>45123.00</td>\n",
       "    </tr>\n",
       "    <tr>\n",
       "      <th>message@ebay.com</th>\n",
       "      <td>eBay &lt;message@ebay.com</td>\n",
       "      <td>user@example.com</td>\n",
       "      <td>Message from eBay Member</td>\n",
       "      <td>eBay sent this message to youYour registered name is included to show this message originated from eBay. Learn more. Question about Item -- Respond Now eBay sent this message on behalf of an eBay ...</td>\n",
       "      <td>Sat, 14 Oct 2006 15:30:36 +0200</td>\n",
       "      <td>NaN</td>\n",
       "      <td>www-data@hyde.hardwareluxx.de</td>\n",
       "      <td>user@login.example.com</td>\n",
       "      <td>text/html</td>\n",
       "      <td>E1GYjb2-0005aE-BK@hyde.hardwareluxx.de</td>\n",
       "      <td>422.00</td>\n",
       "      <td>NaN</td>\n",
       "    </tr>\n",
       "  </tbody>\n",
       "</table>\n",
       "</div>"
      ],
      "text/plain": [
       "                                                                   Fullname  \\\n",
       "From                                                                          \n",
       "clientservice.refRZ8379534997WW.cm@nationalcity.com           National City   \n",
       "service@paypal.com                                       service@paypal.com   \n",
       "clientservice.ref7520148931456.cm@bbt.com             BB&T Customer Service   \n",
       "info@example.co                                             info@example.co   \n",
       "message@ebay.com                                     eBay <message@ebay.com   \n",
       "\n",
       "                                                                           To  \\\n",
       "From                                                                            \n",
       "clientservice.refRZ8379534997WW.cm@nationalcity.com   user <user@example.com>   \n",
       "service@paypal.com                                   undisclosed-recipients:;   \n",
       "clientservice.ref7520148931456.cm@bbt.com             user <user@example.com>   \n",
       "info@example.co                                              user@example.com   \n",
       "message@ebay.com                                             user@example.com   \n",
       "\n",
       "                                                                                                                            Subject  \\\n",
       "From                                                                                                                                  \n",
       "clientservice.refRZ8379534997WW.cm@nationalcity.com  National City corporate customer cervice informs you! (mess_id:\\n y32348099wj)   \n",
       "service@paypal.com                                                                             Your account access has been limited   \n",
       "clientservice.ref7520148931456.cm@bbt.com                                          BB&T customer service: confirm your information!   \n",
       "info@example.co                                                                                        Notice of account limitation   \n",
       "message@ebay.com                                                                                           Message from eBay Member   \n",
       "\n",
       "                                                                                                                                                                                                                                                        Body  \\\n",
       "From                                                                                                                                                                                                                                                           \n",
       "clientservice.refRZ8379534997WW.cm@nationalcity.com                                                                                                                                                                                                       []   \n",
       "service@paypal.com                                   Limited Account Access Details PayPal is constantly working to ensure security by regularly screening the accounts in our system. We recently reviewed your account, and we need more information to...   \n",
       "clientservice.ref7520148931456.cm@bbt.com                                                                                                                                                                                                               [, ]   \n",
       "info@example.co                                                                                                                                                                                                                                         [, ]   \n",
       "message@ebay.com                                     eBay sent this message to youYour registered name is included to show this message originated from eBay. Learn more. Question about Item -- Respond Now eBay sent this message on behalf of an eBay ...   \n",
       "\n",
       "                                                                                      Date  \\\n",
       "From                                                                                         \n",
       "clientservice.refRZ8379534997WW.cm@nationalcity.com  Sun,  3 Jun 2007 14:28:54 -0400 (EDT)   \n",
       "service@paypal.com                                         Wed, 13 Sep 2006 14:53:28 -0400   \n",
       "clientservice.ref7520148931456.cm@bbt.com            Sun, 15 Apr 2007 11:01:39 -0400 (EDT)   \n",
       "info@example.co                                            Thu, 21 Jul 2005 18:18:30 +0400   \n",
       "message@ebay.com                                           Sat, 14 Oct 2006 15:30:36 +0200   \n",
       "\n",
       "                                                                 IP  \\\n",
       "From                                                                  \n",
       "clientservice.refRZ8379534997WW.cm@nationalcity.com  108.120.70.160   \n",
       "service@paypal.com                                       10.0.0.100   \n",
       "clientservice.ref7520148931456.cm@bbt.com              69.132.64.74   \n",
       "info@example.co                                       213.242.62.83   \n",
       "message@ebay.com                                                NaN   \n",
       "\n",
       "                                                                                             Return_Path  \\\n",
       "From                                                                                                       \n",
       "clientservice.refRZ8379534997WW.cm@nationalcity.com  clientservice.refRZ8379534997WW.cm@nationalcity.com   \n",
       "service@paypal.com                                                                    service@paypal.com   \n",
       "clientservice.ref7520148931456.cm@bbt.com                      clientservice.ref7520148931456.cm@bbt.com   \n",
       "info@example.co                                                                         info@example.com   \n",
       "message@ebay.com                                                           www-data@hyde.hardwareluxx.de   \n",
       "\n",
       "                                                               Delivered_to  \\\n",
       "From                                                                          \n",
       "clientservice.refRZ8379534997WW.cm@nationalcity.com        user@example.com   \n",
       "service@paypal.com                                   user@login.example.com   \n",
       "clientservice.ref7520148931456.cm@bbt.com                  user@example.com   \n",
       "info@example.co                                            user@example.com   \n",
       "message@ebay.com                                     user@login.example.com   \n",
       "\n",
       "                                                                                                                Content_type  \\\n",
       "From                                                                                                                           \n",
       "clientservice.refRZ8379534997WW.cm@nationalcity.com               multipart/alternative;\\n\\tboundary=\"--Y923ZE2UXDUZRFH82GM\"   \n",
       "service@paypal.com                                                                      text/html;\\n\\tcharset=\"Windows-1251\"   \n",
       "clientservice.ref7520148931456.cm@bbt.com                          multipart/related; \\n\\tboundary=\"QTF_XXWSJV1I6GMQV5K2VUZ\"   \n",
       "info@example.co                                      multipart/mixed;\\n boundary=\"----=_NextPart_000_0000_775D618E.E020C1B2\"   \n",
       "message@ebay.com                                                                                                   text/html   \n",
       "\n",
       "                                                                                      Message_Id  \\\n",
       "From                                                                                               \n",
       "clientservice.refRZ8379534997WW.cm@nationalcity.com   20070603182855.3748216243@mail.example.com   \n",
       "service@paypal.com                                                  200609131453361.SM00972@User   \n",
       "clientservice.ref7520148931456.cm@bbt.com             20070415150139.B4EDB162C5@mail.example.com   \n",
       "info@example.co                                      20050721141953.6B4F9621CA0@mail.example.com   \n",
       "message@ebay.com                                          E1GYjb2-0005aE-BK@hyde.hardwareluxx.de   \n",
       "\n",
       "                                                     X_uid  Content_Length  \n",
       "From                                                                        \n",
       "clientservice.refRZ8379534997WW.cm@nationalcity.com    NaN         3683.00  \n",
       "service@paypal.com                                     NaN         4944.00  \n",
       "clientservice.ref7520148931456.cm@bbt.com              NaN        13852.00  \n",
       "info@example.co                                      44.00        45123.00  \n",
       "message@ebay.com                                    422.00             NaN  "
      ]
     },
     "execution_count": 30,
     "metadata": {},
     "output_type": "execute_result"
    }
   ],
   "source": [
    "df1.sample(5)"
   ]
  },
  {
   "cell_type": "code",
   "execution_count": 31,
   "id": "248cbf43",
   "metadata": {
    "scrolled": true
   },
   "outputs": [
    {
     "data": {
      "text/html": [
       "<div>\n",
       "<style scoped>\n",
       "    .dataframe tbody tr th:only-of-type {\n",
       "        vertical-align: middle;\n",
       "    }\n",
       "\n",
       "    .dataframe tbody tr th {\n",
       "        vertical-align: top;\n",
       "    }\n",
       "\n",
       "    .dataframe thead th {\n",
       "        text-align: right;\n",
       "    }\n",
       "</style>\n",
       "<table border=\"1\" class=\"dataframe\">\n",
       "  <thead>\n",
       "    <tr style=\"text-align: right;\">\n",
       "      <th></th>\n",
       "      <th>Fullname</th>\n",
       "      <th>To</th>\n",
       "      <th>Subject</th>\n",
       "      <th>Body</th>\n",
       "      <th>Date</th>\n",
       "      <th>IP</th>\n",
       "      <th>Return_Path</th>\n",
       "      <th>Delivered_to</th>\n",
       "      <th>Content_type</th>\n",
       "      <th>Message_Id</th>\n",
       "      <th>X_uid</th>\n",
       "      <th>Content_Length</th>\n",
       "    </tr>\n",
       "    <tr>\n",
       "      <th>From</th>\n",
       "      <th></th>\n",
       "      <th></th>\n",
       "      <th></th>\n",
       "      <th></th>\n",
       "      <th></th>\n",
       "      <th></th>\n",
       "      <th></th>\n",
       "      <th></th>\n",
       "      <th></th>\n",
       "      <th></th>\n",
       "      <th></th>\n",
       "      <th></th>\n",
       "    </tr>\n",
       "  </thead>\n",
       "  <tbody>\n",
       "    <tr>\n",
       "      <th>joe@barrera.org</th>\n",
       "      <td>Joseph S. Barrera III</td>\n",
       "      <td>rbfar@ebuilt.com</td>\n",
       "      <td>Re: Java is for kiddies</td>\n",
       "      <td>Reza B'Far (eBuilt) wrote:\\n&gt; problems.... Why do most computer scientists insist on solving the same\\n&gt; problems over and over again when there are some many more important and\\n&gt; interesting pro...</td>\n",
       "      <td>Sun, 01 Sep 2002 18:07:29 -0700</td>\n",
       "      <td>127.0.0.1</td>\n",
       "      <td>fork-admin@xent.com</td>\n",
       "      <td>yyyy@localhost.netnoteinc.com</td>\n",
       "      <td>text/plain; charset=us-ascii; format=flowed</td>\n",
       "      <td>3D72B9D1.20101@barrera.org</td>\n",
       "      <td>NaN</td>\n",
       "      <td>NaN</td>\n",
       "    </tr>\n",
       "    <tr>\n",
       "      <th>rah@shipwright.com</th>\n",
       "      <td>R. A. Hettinga</td>\n",
       "      <td>fork@example.com</td>\n",
       "      <td>Re: SF Weekly's Ultimate SF Date lineup :-)</td>\n",
       "      <td>Righ, somebody. Reminds me of the old Divorced Man's exposition of what\\nhappened to him.\\n\\n\"First, you get a ring. Then you give it away. Then, you get a house. And\\nyou give *that* away....\"\\n\\...</td>\n",
       "      <td>Tue, 24 Sep 2002 21:34:55 -0400</td>\n",
       "      <td>66.149.49.6</td>\n",
       "      <td>fork-admin@xent.com</td>\n",
       "      <td>yyyy@localhost.example.com</td>\n",
       "      <td>text/plain; charset=\"us-ascii\"</td>\n",
       "      <td>p05111a20b9b6c2a2b66f@[66.149.49.6]</td>\n",
       "      <td>NaN</td>\n",
       "      <td>NaN</td>\n",
       "    </tr>\n",
       "    <tr>\n",
       "      <th>geege@barrera.org</th>\n",
       "      <td>Geege Schuman</td>\n",
       "      <td>\"John Evdemon\" &lt;jevdemon@acm.org&gt;</td>\n",
       "      <td>RE: Recommended Viewing</td>\n",
       "      <td>Agreed, completely.  I totally grokked the notion of unintened consequence\\nwith the original.\\n\\n-----Original Message-----\\nFrom: fork-admin@xent.com [mailto:fork-admin@xent.com]On Behalf Of Joh...</td>\n",
       "      <td>Mon, 9 Sep 2002 07:25:59 -0400</td>\n",
       "      <td>66.157.233.109</td>\n",
       "      <td>fork-admin@xent.com</td>\n",
       "      <td>yyyy@localhost.example.com</td>\n",
       "      <td>text/plain; charset=\"US-ASCII\"</td>\n",
       "      <td>ILEHJNJFPDLMDEKNIAKCMEECCAAA.geege@barrera.org</td>\n",
       "      <td>NaN</td>\n",
       "      <td>NaN</td>\n",
       "    </tr>\n",
       "    <tr>\n",
       "      <th>rssfeeds@example.com</th>\n",
       "      <td>boingboing &lt;rssfeeds@example.com</td>\n",
       "      <td>yyyy@example.com</td>\n",
       "      <td>Gearheads and bunnyhuggers in the OED</td>\n",
       "      <td>URL: http://boingboing.net/#85494694\\nDate: Not supplied\\n\\nSome of the words in the new shorter Oxford English Dictionary: \\n\\n    Asylum seeker, economic migrant, bed-blocking, and stakeholder p...</td>\n",
       "      <td>Thu, 26 Sep 2002 15:28:11 -0000</td>\n",
       "      <td>127.0.0.1</td>\n",
       "      <td>rssfeeds@example.com</td>\n",
       "      <td>yyyy@localhost.example.com</td>\n",
       "      <td>text/plain; encoding=utf-8</td>\n",
       "      <td>200209261528.g8QFSBg24408@dogma.slashnull.org</td>\n",
       "      <td>NaN</td>\n",
       "      <td>NaN</td>\n",
       "    </tr>\n",
       "    <tr>\n",
       "      <th>dl@silcom.com</th>\n",
       "      <td>Dave Long &lt;dl@silcom.com</td>\n",
       "      <td>fork@example.com</td>\n",
       "      <td>Re: asynchronous I/O (was Re: Gasp!)</td>\n",
       "      <td>&gt; Wrong, [VMS-like async io] makes a huge difference in even what I\\n&gt; consider small programs.\\n\\nSo it sounds as if, to your thinking,\\nmost useful apps are also trivial. \\nUnless each key on my...</td>\n",
       "      <td>Fri, 06 Sep 2002 13:25:32 -0700</td>\n",
       "      <td>NaN</td>\n",
       "      <td>fork-admin@xent.com</td>\n",
       "      <td>yyyy@localhost.example.com</td>\n",
       "      <td>NaN</td>\n",
       "      <td>200209062025.NAA21491@maltesecat</td>\n",
       "      <td>NaN</td>\n",
       "      <td>NaN</td>\n",
       "    </tr>\n",
       "  </tbody>\n",
       "</table>\n",
       "</div>"
      ],
      "text/plain": [
       "                                              Fullname  \\\n",
       "From                                                     \n",
       "joe@barrera.org                  Joseph S. Barrera III   \n",
       "rah@shipwright.com                      R. A. Hettinga   \n",
       "geege@barrera.org                        Geege Schuman   \n",
       "rssfeeds@example.com  boingboing <rssfeeds@example.com   \n",
       "dl@silcom.com                 Dave Long <dl@silcom.com   \n",
       "\n",
       "                                                     To  \\\n",
       "From                                                      \n",
       "joe@barrera.org                        rbfar@ebuilt.com   \n",
       "rah@shipwright.com                     fork@example.com   \n",
       "geege@barrera.org     \"John Evdemon\" <jevdemon@acm.org>   \n",
       "rssfeeds@example.com                   yyyy@example.com   \n",
       "dl@silcom.com                          fork@example.com   \n",
       "\n",
       "                                                          Subject  \\\n",
       "From                                                                \n",
       "joe@barrera.org                           Re: Java is for kiddies   \n",
       "rah@shipwright.com    Re: SF Weekly's Ultimate SF Date lineup :-)   \n",
       "geege@barrera.org                         RE: Recommended Viewing   \n",
       "rssfeeds@example.com        Gearheads and bunnyhuggers in the OED   \n",
       "dl@silcom.com                Re: asynchronous I/O (was Re: Gasp!)   \n",
       "\n",
       "                                                                                                                                                                                                                         Body  \\\n",
       "From                                                                                                                                                                                                                            \n",
       "joe@barrera.org       Reza B'Far (eBuilt) wrote:\\n> problems.... Why do most computer scientists insist on solving the same\\n> problems over and over again when there are some many more important and\\n> interesting pro...   \n",
       "rah@shipwright.com    Righ, somebody. Reminds me of the old Divorced Man's exposition of what\\nhappened to him.\\n\\n\"First, you get a ring. Then you give it away. Then, you get a house. And\\nyou give *that* away....\"\\n\\...   \n",
       "geege@barrera.org     Agreed, completely.  I totally grokked the notion of unintened consequence\\nwith the original.\\n\\n-----Original Message-----\\nFrom: fork-admin@xent.com [mailto:fork-admin@xent.com]On Behalf Of Joh...   \n",
       "rssfeeds@example.com  URL: http://boingboing.net/#85494694\\nDate: Not supplied\\n\\nSome of the words in the new shorter Oxford English Dictionary: \\n\\n    Asylum seeker, economic migrant, bed-blocking, and stakeholder p...   \n",
       "dl@silcom.com         > Wrong, [VMS-like async io] makes a huge difference in even what I\\n> consider small programs.\\n\\nSo it sounds as if, to your thinking,\\nmost useful apps are also trivial. \\nUnless each key on my...   \n",
       "\n",
       "                                                 Date              IP  \\\n",
       "From                                                                    \n",
       "joe@barrera.org       Sun, 01 Sep 2002 18:07:29 -0700       127.0.0.1   \n",
       "rah@shipwright.com    Tue, 24 Sep 2002 21:34:55 -0400     66.149.49.6   \n",
       "geege@barrera.org      Mon, 9 Sep 2002 07:25:59 -0400  66.157.233.109   \n",
       "rssfeeds@example.com  Thu, 26 Sep 2002 15:28:11 -0000       127.0.0.1   \n",
       "dl@silcom.com         Fri, 06 Sep 2002 13:25:32 -0700             NaN   \n",
       "\n",
       "                               Return_Path                   Delivered_to  \\\n",
       "From                                                                        \n",
       "joe@barrera.org        fork-admin@xent.com  yyyy@localhost.netnoteinc.com   \n",
       "rah@shipwright.com     fork-admin@xent.com     yyyy@localhost.example.com   \n",
       "geege@barrera.org      fork-admin@xent.com     yyyy@localhost.example.com   \n",
       "rssfeeds@example.com  rssfeeds@example.com     yyyy@localhost.example.com   \n",
       "dl@silcom.com          fork-admin@xent.com     yyyy@localhost.example.com   \n",
       "\n",
       "                                                     Content_type  \\\n",
       "From                                                                \n",
       "joe@barrera.org       text/plain; charset=us-ascii; format=flowed   \n",
       "rah@shipwright.com                 text/plain; charset=\"us-ascii\"   \n",
       "geege@barrera.org                  text/plain; charset=\"US-ASCII\"   \n",
       "rssfeeds@example.com                   text/plain; encoding=utf-8   \n",
       "dl@silcom.com                                                 NaN   \n",
       "\n",
       "                                                          Message_Id  X_uid  \\\n",
       "From                                                                          \n",
       "joe@barrera.org                           3D72B9D1.20101@barrera.org    NaN   \n",
       "rah@shipwright.com               p05111a20b9b6c2a2b66f@[66.149.49.6]    NaN   \n",
       "geege@barrera.org     ILEHJNJFPDLMDEKNIAKCMEECCAAA.geege@barrera.org    NaN   \n",
       "rssfeeds@example.com   200209261528.g8QFSBg24408@dogma.slashnull.org    NaN   \n",
       "dl@silcom.com                       200209062025.NAA21491@maltesecat    NaN   \n",
       "\n",
       "                      Content_Length  \n",
       "From                                  \n",
       "joe@barrera.org                  NaN  \n",
       "rah@shipwright.com               NaN  \n",
       "geege@barrera.org                NaN  \n",
       "rssfeeds@example.com             NaN  \n",
       "dl@silcom.com                    NaN  "
      ]
     },
     "execution_count": 31,
     "metadata": {},
     "output_type": "execute_result"
    }
   ],
   "source": [
    "df2.sample(5)"
   ]
  },
  {
   "cell_type": "markdown",
   "id": "56044ab7",
   "metadata": {},
   "source": [
    "The first thing i did was globally looking at the data. i first did that by printing the data info."
   ]
  },
  {
   "cell_type": "code",
   "execution_count": 32,
   "id": "d5d4b85b",
   "metadata": {},
   "outputs": [
    {
     "name": "stdout",
     "output_type": "stream",
     "text": [
      "<class 'pandas.core.frame.DataFrame'>\n",
      "Index: 2239 entries, emailconfirm@ebay.com to account@paypal.com\n",
      "Data columns (total 12 columns):\n",
      " #   Column          Non-Null Count  Dtype  \n",
      "---  ------          --------------  -----  \n",
      " 0   Fullname        2236 non-null   object \n",
      " 1   To              2234 non-null   object \n",
      " 2   Subject         2219 non-null   object \n",
      " 3   Body            2213 non-null   object \n",
      " 4   Date            2239 non-null   object \n",
      " 5   IP              1404 non-null   object \n",
      " 6   Return_Path     2239 non-null   object \n",
      " 7   Delivered_to    2239 non-null   object \n",
      " 8   Content_type    2213 non-null   object \n",
      " 9   Message_Id      2239 non-null   object \n",
      " 10  X_uid           1816 non-null   float64\n",
      " 11  Content_Length  699 non-null    float64\n",
      "dtypes: float64(2), object(10)\n",
      "memory usage: 227.4+ KB\n"
     ]
    }
   ],
   "source": [
    "df1.info()"
   ]
  },
  {
   "cell_type": "code",
   "execution_count": 33,
   "id": "d206d56d",
   "metadata": {
    "scrolled": true
   },
   "outputs": [
    {
     "name": "stdout",
     "output_type": "stream",
     "text": [
      "<class 'pandas.core.frame.DataFrame'>\n",
      "Index: 2551 entries, kre@munnari.OZ.AU to rssfeeds@example.com\n",
      "Data columns (total 12 columns):\n",
      " #   Column          Non-Null Count  Dtype  \n",
      "---  ------          --------------  -----  \n",
      " 0   Fullname        2535 non-null   object \n",
      " 1   To              2398 non-null   object \n",
      " 2   Subject         2551 non-null   object \n",
      " 3   Body            2551 non-null   object \n",
      " 4   Date            2551 non-null   object \n",
      " 5   IP              1703 non-null   object \n",
      " 6   Return_Path     2551 non-null   object \n",
      " 7   Delivered_to    2416 non-null   object \n",
      " 8   Content_type    2150 non-null   object \n",
      " 9   Message_Id      2551 non-null   object \n",
      " 10  X_uid           0 non-null      float64\n",
      " 11  Content_Length  0 non-null      float64\n",
      "dtypes: float64(2), object(10)\n",
      "memory usage: 259.1+ KB\n"
     ]
    }
   ],
   "source": [
    "df2.info()"
   ]
  },
  {
   "cell_type": "markdown",
   "id": "f6a8078d",
   "metadata": {},
   "source": [
    "For analysing emails, sender, subject, and Body are one of important targets. So let's have an overview of senders' emails for `Phishing` and `Safe` emails.\n",
    "\n",
    "As we can see the `from`(sender) column is an index of our datasets, so we need first to reset the index of the 2 datasets and use a default index."
   ]
  },
  {
   "cell_type": "code",
   "execution_count": 39,
   "id": "5c11b688",
   "metadata": {},
   "outputs": [
    {
     "name": "stdout",
     "output_type": "stream",
     "text": [
      "service@paypal.com                       231\n",
      "aw-confirm@ebay.com                      127\n",
      "member@ebay.com                           60\n",
      "security@paypal.com                       49\n",
      "aw-confirm@eBay.com                       40\n",
      "                                        ... \n",
      "offers@ebay.com                            1\n",
      "eBay PowerSellers\" <eBay@poseller.com      1\n",
      "emailconfirm@ebay.co                       1\n",
      "69hok@postbank.de                          1\n",
      "operator-393568id@53.com                   1\n",
      "Name: From, Length: 1206, dtype: int64\n",
      "rssfeeds@example.com                     639\n",
      "tomwhore@slack.net                        57\n",
      "pudge@perl.or                             56\n",
      "tim.one@comcast.net (Tim Peters           45\n",
      "garym@canada.com                          44\n",
      "                                        ... \n",
      "dm-temp-310102@nyc.rr.com                  1\n",
      "vytekdemise@hotmail.com                    1\n",
      "lrivers@realsoftware.com                   1\n",
      "bitbitch@magnesium.net                     1\n",
      "marklists@mceahern.com (Mark McEahern      1\n",
      "Name: From, Length: 426, dtype: int64\n"
     ]
    }
   ],
   "source": [
    "df1.reset_index(inplace=True)\n",
    "df2.reset_index(inplace=True)\n",
    "\n",
    "print (df1.From.value_counts())\n",
    "print (df2.From.value_counts())"
   ]
  },
  {
   "cell_type": "markdown",
   "id": "2e472fbb",
   "metadata": {},
   "source": [
    "I will use describe() method, which shows basic statistical characteristics of each numerical feature (int64 and float64 types): number of non-missing values"
   ]
  },
  {
   "cell_type": "code",
   "execution_count": 40,
   "id": "3133b289",
   "metadata": {},
   "outputs": [
    {
     "data": {
      "text/html": [
       "<div>\n",
       "<style scoped>\n",
       "    .dataframe tbody tr th:only-of-type {\n",
       "        vertical-align: middle;\n",
       "    }\n",
       "\n",
       "    .dataframe tbody tr th {\n",
       "        vertical-align: top;\n",
       "    }\n",
       "\n",
       "    .dataframe thead th {\n",
       "        text-align: right;\n",
       "    }\n",
       "</style>\n",
       "<table border=\"1\" class=\"dataframe\">\n",
       "  <thead>\n",
       "    <tr style=\"text-align: right;\">\n",
       "      <th></th>\n",
       "      <th>X_uid</th>\n",
       "      <th>Content_Length</th>\n",
       "    </tr>\n",
       "  </thead>\n",
       "  <tbody>\n",
       "    <tr>\n",
       "      <th>count</th>\n",
       "      <td>1816.00</td>\n",
       "      <td>699.00</td>\n",
       "    </tr>\n",
       "    <tr>\n",
       "      <th>mean</th>\n",
       "      <td>2197.80</td>\n",
       "      <td>7093.43</td>\n",
       "    </tr>\n",
       "    <tr>\n",
       "      <th>std</th>\n",
       "      <td>23342.41</td>\n",
       "      <td>6257.66</td>\n",
       "    </tr>\n",
       "    <tr>\n",
       "      <th>min</th>\n",
       "      <td>1.00</td>\n",
       "      <td>0.00</td>\n",
       "    </tr>\n",
       "    <tr>\n",
       "      <th>25%</th>\n",
       "      <td>238.75</td>\n",
       "      <td>3409.50</td>\n",
       "    </tr>\n",
       "    <tr>\n",
       "      <th>50%</th>\n",
       "      <td>609.50</td>\n",
       "      <td>3891.00</td>\n",
       "    </tr>\n",
       "    <tr>\n",
       "      <th>75%</th>\n",
       "      <td>1065.25</td>\n",
       "      <td>11804.00</td>\n",
       "    </tr>\n",
       "    <tr>\n",
       "      <th>max</th>\n",
       "      <td>413100.00</td>\n",
       "      <td>57188.00</td>\n",
       "    </tr>\n",
       "  </tbody>\n",
       "</table>\n",
       "</div>"
      ],
      "text/plain": [
       "          X_uid  Content_Length\n",
       "count   1816.00          699.00\n",
       "mean    2197.80         7093.43\n",
       "std    23342.41         6257.66\n",
       "min        1.00            0.00\n",
       "25%      238.75         3409.50\n",
       "50%      609.50         3891.00\n",
       "75%     1065.25        11804.00\n",
       "max   413100.00        57188.00"
      ]
     },
     "execution_count": 40,
     "metadata": {},
     "output_type": "execute_result"
    }
   ],
   "source": [
    "df1.describe()"
   ]
  },
  {
   "cell_type": "code",
   "execution_count": 41,
   "id": "e07a34b5",
   "metadata": {},
   "outputs": [
    {
     "data": {
      "text/html": [
       "<div>\n",
       "<style scoped>\n",
       "    .dataframe tbody tr th:only-of-type {\n",
       "        vertical-align: middle;\n",
       "    }\n",
       "\n",
       "    .dataframe tbody tr th {\n",
       "        vertical-align: top;\n",
       "    }\n",
       "\n",
       "    .dataframe thead th {\n",
       "        text-align: right;\n",
       "    }\n",
       "</style>\n",
       "<table border=\"1\" class=\"dataframe\">\n",
       "  <thead>\n",
       "    <tr style=\"text-align: right;\">\n",
       "      <th></th>\n",
       "      <th>X_uid</th>\n",
       "      <th>Content_Length</th>\n",
       "    </tr>\n",
       "  </thead>\n",
       "  <tbody>\n",
       "    <tr>\n",
       "      <th>count</th>\n",
       "      <td>0.00</td>\n",
       "      <td>0.00</td>\n",
       "    </tr>\n",
       "    <tr>\n",
       "      <th>mean</th>\n",
       "      <td>NaN</td>\n",
       "      <td>NaN</td>\n",
       "    </tr>\n",
       "    <tr>\n",
       "      <th>std</th>\n",
       "      <td>NaN</td>\n",
       "      <td>NaN</td>\n",
       "    </tr>\n",
       "    <tr>\n",
       "      <th>min</th>\n",
       "      <td>NaN</td>\n",
       "      <td>NaN</td>\n",
       "    </tr>\n",
       "    <tr>\n",
       "      <th>25%</th>\n",
       "      <td>NaN</td>\n",
       "      <td>NaN</td>\n",
       "    </tr>\n",
       "    <tr>\n",
       "      <th>50%</th>\n",
       "      <td>NaN</td>\n",
       "      <td>NaN</td>\n",
       "    </tr>\n",
       "    <tr>\n",
       "      <th>75%</th>\n",
       "      <td>NaN</td>\n",
       "      <td>NaN</td>\n",
       "    </tr>\n",
       "    <tr>\n",
       "      <th>max</th>\n",
       "      <td>NaN</td>\n",
       "      <td>NaN</td>\n",
       "    </tr>\n",
       "  </tbody>\n",
       "</table>\n",
       "</div>"
      ],
      "text/plain": [
       "       X_uid  Content_Length\n",
       "count   0.00            0.00\n",
       "mean     NaN             NaN\n",
       "std      NaN             NaN\n",
       "min      NaN             NaN\n",
       "25%      NaN             NaN\n",
       "50%      NaN             NaN\n",
       "75%      NaN             NaN\n",
       "max      NaN             NaN"
      ]
     },
     "execution_count": 41,
     "metadata": {},
     "output_type": "execute_result"
    }
   ],
   "source": [
    "df2.describe()"
   ]
  },
  {
   "cell_type": "markdown",
   "id": "f112c01e",
   "metadata": {},
   "source": [
    "Let us check for duplicate values in our dataset as the presence of duplicate values will hamper the accuracy of our ML model."
   ]
  },
  {
   "cell_type": "code",
   "execution_count": 42,
   "id": "212bbb2e",
   "metadata": {},
   "outputs": [
    {
     "name": "stdout",
     "output_type": "stream",
     "text": [
      "0\n"
     ]
    },
    {
     "data": {
      "text/html": [
       "<div>\n",
       "<style scoped>\n",
       "    .dataframe tbody tr th:only-of-type {\n",
       "        vertical-align: middle;\n",
       "    }\n",
       "\n",
       "    .dataframe tbody tr th {\n",
       "        vertical-align: top;\n",
       "    }\n",
       "\n",
       "    .dataframe thead th {\n",
       "        text-align: right;\n",
       "    }\n",
       "</style>\n",
       "<table border=\"1\" class=\"dataframe\">\n",
       "  <thead>\n",
       "    <tr style=\"text-align: right;\">\n",
       "      <th></th>\n",
       "      <th>From</th>\n",
       "      <th>Fullname</th>\n",
       "      <th>To</th>\n",
       "      <th>Subject</th>\n",
       "      <th>Body</th>\n",
       "      <th>Date</th>\n",
       "      <th>IP</th>\n",
       "      <th>Return_Path</th>\n",
       "      <th>Delivered_to</th>\n",
       "      <th>Content_type</th>\n",
       "      <th>Message_Id</th>\n",
       "      <th>X_uid</th>\n",
       "      <th>Content_Length</th>\n",
       "    </tr>\n",
       "  </thead>\n",
       "  <tbody>\n",
       "  </tbody>\n",
       "</table>\n",
       "</div>"
      ],
      "text/plain": [
       "Empty DataFrame\n",
       "Columns: [From, Fullname, To, Subject, Body, Date, IP, Return_Path, Delivered_to, Content_type, Message_Id, X_uid, Content_Length]\n",
       "Index: []"
      ]
     },
     "execution_count": 42,
     "metadata": {},
     "output_type": "execute_result"
    }
   ],
   "source": [
    "duplicatedsValues = df1.duplicated()\n",
    "print(duplicatedsValues.sum())\n",
    "df1[duplicatedsValues]"
   ]
  },
  {
   "cell_type": "code",
   "execution_count": 43,
   "id": "64cc7dea",
   "metadata": {},
   "outputs": [
    {
     "name": "stdout",
     "output_type": "stream",
     "text": [
      "9\n"
     ]
    },
    {
     "data": {
      "text/html": [
       "<div>\n",
       "<style scoped>\n",
       "    .dataframe tbody tr th:only-of-type {\n",
       "        vertical-align: middle;\n",
       "    }\n",
       "\n",
       "    .dataframe tbody tr th {\n",
       "        vertical-align: top;\n",
       "    }\n",
       "\n",
       "    .dataframe thead th {\n",
       "        text-align: right;\n",
       "    }\n",
       "</style>\n",
       "<table border=\"1\" class=\"dataframe\">\n",
       "  <thead>\n",
       "    <tr style=\"text-align: right;\">\n",
       "      <th></th>\n",
       "      <th>From</th>\n",
       "      <th>Fullname</th>\n",
       "      <th>To</th>\n",
       "      <th>Subject</th>\n",
       "      <th>Body</th>\n",
       "      <th>Date</th>\n",
       "      <th>IP</th>\n",
       "      <th>Return_Path</th>\n",
       "      <th>Delivered_to</th>\n",
       "      <th>Content_type</th>\n",
       "      <th>Message_Id</th>\n",
       "      <th>X_uid</th>\n",
       "      <th>Content_Length</th>\n",
       "    </tr>\n",
       "  </thead>\n",
       "  <tbody>\n",
       "    <tr>\n",
       "      <th>461</th>\n",
       "      <td>beberg@mithral.com</td>\n",
       "      <td>Adam L. Beberg</td>\n",
       "      <td>RossO &lt;fork@ordersomewherechaos.com&gt;</td>\n",
       "      <td>Re: Electric car an Edsel...</td>\n",
       "      <td>On 2 Sep 2002, RossO wrote:\\n\\n&gt; John Waylan (who was interviewed in Wired a few years back) pulled out a\\n&gt; 14.4 second run in the quarter mile (91mph), on a battery pack that\\n&gt; hasn't been brok...</td>\n",
       "      <td>Mon, 2 Sep 2002 21:24:47 -0700 (PDT)</td>\n",
       "      <td>NaN</td>\n",
       "      <td>fork-admin@xent.com</td>\n",
       "      <td>yyyy@localhost.example.com</td>\n",
       "      <td>TEXT/PLAIN; charset=US-ASCII</td>\n",
       "      <td>Pine.LNX.4.33.0209022109001.8806-100000@watcher.mithral.com</td>\n",
       "      <td>NaN</td>\n",
       "      <td>NaN</td>\n",
       "    </tr>\n",
       "    <tr>\n",
       "      <th>508</th>\n",
       "      <td>bitbitch@magnesium.ne</td>\n",
       "      <td>bitbitch@magnesium.ne</td>\n",
       "      <td>\"Adam L. Beberg\" &lt;beberg@mithral.com&gt;</td>\n",
       "      <td>Re: Selling Wedded Bliss (was Re: Ouch...)</td>\n",
       "      <td>Ah yes..\\n\\nYet another case where 'marriage' is actually an inappropriate word\\nfor these guys.  What they want is 'housekeeper' 'dog' and\\n'prostitute'.\\n\\nAll I can say, is I hope these girls c...</td>\n",
       "      <td>Thu, 5 Sep 2002 23:16:59 -0400</td>\n",
       "      <td>24.61.143.15</td>\n",
       "      <td>fork-admin@xent.com</td>\n",
       "      <td>yyyy@localhost.example.com</td>\n",
       "      <td>text/plain; charset=us-ascii</td>\n",
       "      <td>77205735221.20020905231659@magnesium.net</td>\n",
       "      <td>NaN</td>\n",
       "      <td>NaN</td>\n",
       "    </tr>\n",
       "    <tr>\n",
       "      <th>780</th>\n",
       "      <td>elias@cse.ucsc.edu</td>\n",
       "      <td>Elias Sinderson &lt;elias@cse.ucsc.edu</td>\n",
       "      <td>fork@example.com</td>\n",
       "      <td>Re: sed /s/United States/Roman Empire/g</td>\n",
       "      <td>Hmm, if the shoe fits... I think these five attributes could more or \\nless describe various actions of the US over the past decade or so...\\n\\n&gt; In the 1990s we witnessed the emergence of a small...</td>\n",
       "      <td>Mon, 23 Sep 2002 10:43:01 -0700</td>\n",
       "      <td>198.123.160.27</td>\n",
       "      <td>fork-admin@xent.com</td>\n",
       "      <td>yyyy@localhost.example.com</td>\n",
       "      <td>text/plain; charset=us-ascii; format=flowed</td>\n",
       "      <td>3D8F52A5.5090709@cse.ucsc.edu</td>\n",
       "      <td>NaN</td>\n",
       "      <td>NaN</td>\n",
       "    </tr>\n",
       "    <tr>\n",
       "      <th>1052</th>\n",
       "      <td>welch@panasas.com</td>\n",
       "      <td>Brent Welch &lt;welch@panasas.com</td>\n",
       "      <td>exmh-users@example.com</td>\n",
       "      <td>Re: ARRRGHHH Had GPG working, now it doesnt.</td>\n",
       "      <td>If you haven't already, you should enable the debug log under\\nHacking Support preferences and look for clues there.\\n\\n&gt;&gt;&gt;Reg Clemens said:\\n &gt; &gt; Hi,\\n &gt; &gt; \\n &gt; &gt; On Sun, 01 Sep 2002 00:05:03 MDT...</td>\n",
       "      <td>Mon, 02 Sep 2002 10:18:39 -0700</td>\n",
       "      <td>172.17.132.188</td>\n",
       "      <td>exmh-users-admin@example.com</td>\n",
       "      <td>yyyy@localhost.example.com</td>\n",
       "      <td>NaN</td>\n",
       "      <td>200209021718.NAA12734@blackcomb.panasas.com</td>\n",
       "      <td>NaN</td>\n",
       "      <td>NaN</td>\n",
       "    </tr>\n",
       "    <tr>\n",
       "      <th>1053</th>\n",
       "      <td>welch@panasas.com</td>\n",
       "      <td>Brent Welch &lt;welch@panasas.com</td>\n",
       "      <td>exmh-users@example.com</td>\n",
       "      <td>Re: ARRRGHHH Had GPG working, now it doesnt.</td>\n",
       "      <td>If you haven't already, you should enable the debug log under\\nHacking Support preferences and look for clues there.\\n\\n&gt;&gt;&gt;Reg Clemens said:\\n &gt; &gt; Hi,\\n &gt; &gt; \\n &gt; &gt; On Sun, 01 Sep 2002 00:05:03 MDT...</td>\n",
       "      <td>Mon, 02 Sep 2002 10:18:39 -0700</td>\n",
       "      <td>172.17.132.188</td>\n",
       "      <td>exmh-users-admin@example.com</td>\n",
       "      <td>yyyy@localhost.example.com</td>\n",
       "      <td>NaN</td>\n",
       "      <td>200209021718.NAA12734@blackcomb.panasas.com</td>\n",
       "      <td>NaN</td>\n",
       "      <td>NaN</td>\n",
       "    </tr>\n",
       "    <tr>\n",
       "      <th>1256</th>\n",
       "      <td>welch@panasas.com</td>\n",
       "      <td>Brent Welch &lt;welch@panasas.com</td>\n",
       "      <td>exmh-users@example.com</td>\n",
       "      <td>Re: ARRRGHHH Had GPG working, now it doesnt.</td>\n",
       "      <td>If you haven't already, you should enable the debug log under\\nHacking Support preferences and look for clues there.\\n\\n&gt;&gt;&gt;Reg Clemens said:\\n &gt; &gt; Hi,\\n &gt; &gt; \\n &gt; &gt; On Sun, 01 Sep 2002 00:05:03 MDT...</td>\n",
       "      <td>Mon, 02 Sep 2002 10:18:39 -0700</td>\n",
       "      <td>172.17.132.188</td>\n",
       "      <td>exmh-users-admin@example.com</td>\n",
       "      <td>yyyy@localhost.example.com</td>\n",
       "      <td>NaN</td>\n",
       "      <td>200209021718.NAA12734@blackcomb.panasas.com</td>\n",
       "      <td>NaN</td>\n",
       "      <td>NaN</td>\n",
       "    </tr>\n",
       "    <tr>\n",
       "      <th>1490</th>\n",
       "      <td>mail@vipul.net</td>\n",
       "      <td>Vipul Ved Prakash &lt;mail@vipul.net</td>\n",
       "      <td>razor-users@example.sourceforge.net</td>\n",
       "      <td>[Razor-users] honor is not in csl</td>\n",
       "      <td>Folks, \\n\\nSome of you seem to have hardcoded honor as the default catalogue server.\\nThere are three catalogue only servers running now, and honor is acting\\nas a nomination only server. Tonight ...</td>\n",
       "      <td>Thu, 22 Aug 2002 14:55:23 -0700</td>\n",
       "      <td>NaN</td>\n",
       "      <td>razor-users-admin@example.sourceforge.net</td>\n",
       "      <td>yyyy@localhost.netnoteinc.com</td>\n",
       "      <td>text/plain; charset=us-ascii</td>\n",
       "      <td>20020822145523.A2125@rover.vipul.net</td>\n",
       "      <td>NaN</td>\n",
       "      <td>NaN</td>\n",
       "    </tr>\n",
       "    <tr>\n",
       "      <th>1518</th>\n",
       "      <td>felicity@kluge.net</td>\n",
       "      <td>Theo Van Dinter &lt;felicity@kluge.net</td>\n",
       "      <td>Justin Mason &lt;yyyy@example.com&gt;</td>\n",
       "      <td>Re: [SAdev] SpamAssassin v2.40 released (finally)!</td>\n",
       "      <td>--eJnRUKwClWJh1Khz\\nContent-Type: text/plain; charset=us-ascii\\nContent-Disposition: inline\\nContent-Transfer-Encoding: quoted-printable\\n\\nOn Mon, Sep 02, 2002 at 06:53:24PM +0100, Justin Mason w...</td>\n",
       "      <td>Mon, 2 Sep 2002 15:46:18 -0400</td>\n",
       "      <td>NaN</td>\n",
       "      <td>felicity@kluge.net</td>\n",
       "      <td>yyyy@localhost.example.com</td>\n",
       "      <td>multipart/signed; micalg=pgp-sha1;\\n    protocol=\"application/pgp-signature\";\\n    boundary=\"eJnRUKwClWJh1Khz\"</td>\n",
       "      <td>20020902194618.GB15737@kluge.net</td>\n",
       "      <td>NaN</td>\n",
       "      <td>NaN</td>\n",
       "    </tr>\n",
       "    <tr>\n",
       "      <th>1661</th>\n",
       "      <td>dbr@greenhydrant.com</td>\n",
       "      <td>David Rees &lt;dbr@greenhydrant.com</td>\n",
       "      <td>razor-users@example.sourceforge.net</td>\n",
       "      <td>Re: [Razor-users] Problem with Razor 2.14 and Spamassassin 2.41</td>\n",
       "      <td>On Thu, Sep 05, 2002 at 10:12:59PM -0400, Leland Woodbury wrote:\\n&gt; I found a nice little Perl script for this purpose called rotate, which \\n&gt; makes the process of rotating log files very simple....</td>\n",
       "      <td>Thu, 5 Sep 2002 19:18:20 -0700</td>\n",
       "      <td>NaN</td>\n",
       "      <td>razor-users-admin@example.sourceforge.net</td>\n",
       "      <td>yyyy@localhost.example.com</td>\n",
       "      <td>text/plain; charset=us-ascii</td>\n",
       "      <td>20020905191820.C5351@greenhydrant.com</td>\n",
       "      <td>NaN</td>\n",
       "      <td>NaN</td>\n",
       "    </tr>\n",
       "  </tbody>\n",
       "</table>\n",
       "</div>"
      ],
      "text/plain": [
       "                       From                             Fullname  \\\n",
       "461      beberg@mithral.com                       Adam L. Beberg   \n",
       "508   bitbitch@magnesium.ne                bitbitch@magnesium.ne   \n",
       "780      elias@cse.ucsc.edu  Elias Sinderson <elias@cse.ucsc.edu   \n",
       "1052      welch@panasas.com       Brent Welch <welch@panasas.com   \n",
       "1053      welch@panasas.com       Brent Welch <welch@panasas.com   \n",
       "1256      welch@panasas.com       Brent Welch <welch@panasas.com   \n",
       "1490         mail@vipul.net    Vipul Ved Prakash <mail@vipul.net   \n",
       "1518     felicity@kluge.net  Theo Van Dinter <felicity@kluge.net   \n",
       "1661   dbr@greenhydrant.com     David Rees <dbr@greenhydrant.com   \n",
       "\n",
       "                                         To  \\\n",
       "461    RossO <fork@ordersomewherechaos.com>   \n",
       "508   \"Adam L. Beberg\" <beberg@mithral.com>   \n",
       "780                        fork@example.com   \n",
       "1052                 exmh-users@example.com   \n",
       "1053                 exmh-users@example.com   \n",
       "1256                 exmh-users@example.com   \n",
       "1490    razor-users@example.sourceforge.net   \n",
       "1518        Justin Mason <yyyy@example.com>   \n",
       "1661    razor-users@example.sourceforge.net   \n",
       "\n",
       "                                                              Subject  \\\n",
       "461                                      Re: Electric car an Edsel...   \n",
       "508                        Re: Selling Wedded Bliss (was Re: Ouch...)   \n",
       "780                           Re: sed /s/United States/Roman Empire/g   \n",
       "1052                     Re: ARRRGHHH Had GPG working, now it doesnt.   \n",
       "1053                     Re: ARRRGHHH Had GPG working, now it doesnt.   \n",
       "1256                     Re: ARRRGHHH Had GPG working, now it doesnt.   \n",
       "1490                                [Razor-users] honor is not in csl   \n",
       "1518               Re: [SAdev] SpamAssassin v2.40 released (finally)!   \n",
       "1661  Re: [Razor-users] Problem with Razor 2.14 and Spamassassin 2.41   \n",
       "\n",
       "                                                                                                                                                                                                         Body  \\\n",
       "461   On 2 Sep 2002, RossO wrote:\\n\\n> John Waylan (who was interviewed in Wired a few years back) pulled out a\\n> 14.4 second run in the quarter mile (91mph), on a battery pack that\\n> hasn't been brok...   \n",
       "508   Ah yes..\\n\\nYet another case where 'marriage' is actually an inappropriate word\\nfor these guys.  What they want is 'housekeeper' 'dog' and\\n'prostitute'.\\n\\nAll I can say, is I hope these girls c...   \n",
       "780   Hmm, if the shoe fits... I think these five attributes could more or \\nless describe various actions of the US over the past decade or so...\\n\\n> In the 1990s we witnessed the emergence of a small...   \n",
       "1052  If you haven't already, you should enable the debug log under\\nHacking Support preferences and look for clues there.\\n\\n>>>Reg Clemens said:\\n > > Hi,\\n > > \\n > > On Sun, 01 Sep 2002 00:05:03 MDT...   \n",
       "1053  If you haven't already, you should enable the debug log under\\nHacking Support preferences and look for clues there.\\n\\n>>>Reg Clemens said:\\n > > Hi,\\n > > \\n > > On Sun, 01 Sep 2002 00:05:03 MDT...   \n",
       "1256  If you haven't already, you should enable the debug log under\\nHacking Support preferences and look for clues there.\\n\\n>>>Reg Clemens said:\\n > > Hi,\\n > > \\n > > On Sun, 01 Sep 2002 00:05:03 MDT...   \n",
       "1490  Folks, \\n\\nSome of you seem to have hardcoded honor as the default catalogue server.\\nThere are three catalogue only servers running now, and honor is acting\\nas a nomination only server. Tonight ...   \n",
       "1518  --eJnRUKwClWJh1Khz\\nContent-Type: text/plain; charset=us-ascii\\nContent-Disposition: inline\\nContent-Transfer-Encoding: quoted-printable\\n\\nOn Mon, Sep 02, 2002 at 06:53:24PM +0100, Justin Mason w...   \n",
       "1661  On Thu, Sep 05, 2002 at 10:12:59PM -0400, Leland Woodbury wrote:\\n> I found a nice little Perl script for this purpose called rotate, which \\n> makes the process of rotating log files very simple....   \n",
       "\n",
       "                                      Date              IP  \\\n",
       "461   Mon, 2 Sep 2002 21:24:47 -0700 (PDT)             NaN   \n",
       "508         Thu, 5 Sep 2002 23:16:59 -0400    24.61.143.15   \n",
       "780        Mon, 23 Sep 2002 10:43:01 -0700  198.123.160.27   \n",
       "1052       Mon, 02 Sep 2002 10:18:39 -0700  172.17.132.188   \n",
       "1053       Mon, 02 Sep 2002 10:18:39 -0700  172.17.132.188   \n",
       "1256       Mon, 02 Sep 2002 10:18:39 -0700  172.17.132.188   \n",
       "1490       Thu, 22 Aug 2002 14:55:23 -0700             NaN   \n",
       "1518        Mon, 2 Sep 2002 15:46:18 -0400             NaN   \n",
       "1661        Thu, 5 Sep 2002 19:18:20 -0700             NaN   \n",
       "\n",
       "                                    Return_Path  \\\n",
       "461                         fork-admin@xent.com   \n",
       "508                         fork-admin@xent.com   \n",
       "780                         fork-admin@xent.com   \n",
       "1052               exmh-users-admin@example.com   \n",
       "1053               exmh-users-admin@example.com   \n",
       "1256               exmh-users-admin@example.com   \n",
       "1490  razor-users-admin@example.sourceforge.net   \n",
       "1518                         felicity@kluge.net   \n",
       "1661  razor-users-admin@example.sourceforge.net   \n",
       "\n",
       "                       Delivered_to  \\\n",
       "461      yyyy@localhost.example.com   \n",
       "508      yyyy@localhost.example.com   \n",
       "780      yyyy@localhost.example.com   \n",
       "1052     yyyy@localhost.example.com   \n",
       "1053     yyyy@localhost.example.com   \n",
       "1256     yyyy@localhost.example.com   \n",
       "1490  yyyy@localhost.netnoteinc.com   \n",
       "1518     yyyy@localhost.example.com   \n",
       "1661     yyyy@localhost.example.com   \n",
       "\n",
       "                                                                                                        Content_type  \\\n",
       "461                                                                                     TEXT/PLAIN; charset=US-ASCII   \n",
       "508                                                                                     text/plain; charset=us-ascii   \n",
       "780                                                                      text/plain; charset=us-ascii; format=flowed   \n",
       "1052                                                                                                             NaN   \n",
       "1053                                                                                                             NaN   \n",
       "1256                                                                                                             NaN   \n",
       "1490                                                                                    text/plain; charset=us-ascii   \n",
       "1518  multipart/signed; micalg=pgp-sha1;\\n    protocol=\"application/pgp-signature\";\\n    boundary=\"eJnRUKwClWJh1Khz\"   \n",
       "1661                                                                                    text/plain; charset=us-ascii   \n",
       "\n",
       "                                                       Message_Id  X_uid  \\\n",
       "461   Pine.LNX.4.33.0209022109001.8806-100000@watcher.mithral.com    NaN   \n",
       "508                      77205735221.20020905231659@magnesium.net    NaN   \n",
       "780                                 3D8F52A5.5090709@cse.ucsc.edu    NaN   \n",
       "1052                  200209021718.NAA12734@blackcomb.panasas.com    NaN   \n",
       "1053                  200209021718.NAA12734@blackcomb.panasas.com    NaN   \n",
       "1256                  200209021718.NAA12734@blackcomb.panasas.com    NaN   \n",
       "1490                         20020822145523.A2125@rover.vipul.net    NaN   \n",
       "1518                             20020902194618.GB15737@kluge.net    NaN   \n",
       "1661                        20020905191820.C5351@greenhydrant.com    NaN   \n",
       "\n",
       "      Content_Length  \n",
       "461              NaN  \n",
       "508              NaN  \n",
       "780              NaN  \n",
       "1052             NaN  \n",
       "1053             NaN  \n",
       "1256             NaN  \n",
       "1490             NaN  \n",
       "1518             NaN  \n",
       "1661             NaN  "
      ]
     },
     "execution_count": 43,
     "metadata": {},
     "output_type": "execute_result"
    }
   ],
   "source": [
    "duplicatedsValues = df2.duplicated()\n",
    "print(duplicatedsValues.sum())\n",
    "df2[duplicatedsValues]"
   ]
  },
  {
   "cell_type": "markdown",
   "id": "a88c1250",
   "metadata": {},
   "source": [
    "We can remove duplicate values using drop_duplicates()"
   ]
  },
  {
   "cell_type": "code",
   "execution_count": 44,
   "id": "11878300",
   "metadata": {},
   "outputs": [],
   "source": [
    "df2.drop_duplicates(inplace=True)"
   ]
  },
  {
   "cell_type": "code",
   "execution_count": 45,
   "id": "aaeb1d05",
   "metadata": {},
   "outputs": [
    {
     "data": {
      "text/plain": [
       "0"
      ]
     },
     "execution_count": 45,
     "metadata": {},
     "output_type": "execute_result"
    }
   ],
   "source": [
    "duplicatedsValues = df2.duplicated()\n",
    "duplicatedsValues.sum()"
   ]
  },
  {
   "cell_type": "markdown",
   "id": "5e0ae860",
   "metadata": {},
   "source": [
    "Handling the outliers in the data, i.e. the extreme values in the data. We can find the outliers in our data using a Boxplot."
   ]
  },
  {
   "cell_type": "code",
   "execution_count": 48,
   "id": "a11e23bb",
   "metadata": {},
   "outputs": [
    {
     "ename": "KeyError",
     "evalue": "\"None of [Index(['From'], dtype='object')] are in the [columns]\"",
     "output_type": "error",
     "traceback": [
      "\u001b[1;31m---------------------------------------------------------------------------\u001b[0m",
      "\u001b[1;31mKeyError\u001b[0m                                  Traceback (most recent call last)",
      "Cell \u001b[1;32mIn[48], line 1\u001b[0m\n\u001b[1;32m----> 1\u001b[0m df1\u001b[38;5;241m.\u001b[39mboxplot(column\u001b[38;5;241m=\u001b[39m[\u001b[38;5;124m'\u001b[39m\u001b[38;5;124mFrom\u001b[39m\u001b[38;5;124m'\u001b[39m])\n\u001b[0;32m      2\u001b[0m plt\u001b[38;5;241m.\u001b[39mshow\n",
      "File \u001b[1;32m~\\anaconda3\\Lib\\site-packages\\pandas\\plotting\\_core.py:516\u001b[0m, in \u001b[0;36mboxplot_frame\u001b[1;34m(self, column, by, ax, fontsize, rot, grid, figsize, layout, return_type, backend, **kwargs)\u001b[0m\n\u001b[0;32m    499\u001b[0m \u001b[38;5;129m@Substitution\u001b[39m(backend\u001b[38;5;241m=\u001b[39m_backend_doc)\n\u001b[0;32m    500\u001b[0m \u001b[38;5;129m@Appender\u001b[39m(_boxplot_doc)\n\u001b[0;32m    501\u001b[0m \u001b[38;5;28;01mdef\u001b[39;00m \u001b[38;5;21mboxplot_frame\u001b[39m(\n\u001b[1;32m   (...)\u001b[0m\n\u001b[0;32m    513\u001b[0m     \u001b[38;5;241m*\u001b[39m\u001b[38;5;241m*\u001b[39mkwargs,\n\u001b[0;32m    514\u001b[0m ):\n\u001b[0;32m    515\u001b[0m     plot_backend \u001b[38;5;241m=\u001b[39m _get_plot_backend(backend)\n\u001b[1;32m--> 516\u001b[0m     \u001b[38;5;28;01mreturn\u001b[39;00m plot_backend\u001b[38;5;241m.\u001b[39mboxplot_frame(\n\u001b[0;32m    517\u001b[0m         \u001b[38;5;28mself\u001b[39m,\n\u001b[0;32m    518\u001b[0m         column\u001b[38;5;241m=\u001b[39mcolumn,\n\u001b[0;32m    519\u001b[0m         by\u001b[38;5;241m=\u001b[39mby,\n\u001b[0;32m    520\u001b[0m         ax\u001b[38;5;241m=\u001b[39max,\n\u001b[0;32m    521\u001b[0m         fontsize\u001b[38;5;241m=\u001b[39mfontsize,\n\u001b[0;32m    522\u001b[0m         rot\u001b[38;5;241m=\u001b[39mrot,\n\u001b[0;32m    523\u001b[0m         grid\u001b[38;5;241m=\u001b[39mgrid,\n\u001b[0;32m    524\u001b[0m         figsize\u001b[38;5;241m=\u001b[39mfigsize,\n\u001b[0;32m    525\u001b[0m         layout\u001b[38;5;241m=\u001b[39mlayout,\n\u001b[0;32m    526\u001b[0m         return_type\u001b[38;5;241m=\u001b[39mreturn_type,\n\u001b[0;32m    527\u001b[0m         \u001b[38;5;241m*\u001b[39m\u001b[38;5;241m*\u001b[39mkwargs,\n\u001b[0;32m    528\u001b[0m     )\n",
      "File \u001b[1;32m~\\anaconda3\\Lib\\site-packages\\pandas\\plotting\\_matplotlib\\boxplot.py:458\u001b[0m, in \u001b[0;36mboxplot_frame\u001b[1;34m(self, column, by, ax, fontsize, rot, grid, figsize, layout, return_type, **kwds)\u001b[0m\n\u001b[0;32m    443\u001b[0m \u001b[38;5;28;01mdef\u001b[39;00m \u001b[38;5;21mboxplot_frame\u001b[39m(\n\u001b[0;32m    444\u001b[0m     \u001b[38;5;28mself\u001b[39m,\n\u001b[0;32m    445\u001b[0m     column\u001b[38;5;241m=\u001b[39m\u001b[38;5;28;01mNone\u001b[39;00m,\n\u001b[1;32m   (...)\u001b[0m\n\u001b[0;32m    454\u001b[0m     \u001b[38;5;241m*\u001b[39m\u001b[38;5;241m*\u001b[39mkwds,\n\u001b[0;32m    455\u001b[0m ):\n\u001b[0;32m    456\u001b[0m     \u001b[38;5;28;01mimport\u001b[39;00m \u001b[38;5;21;01mmatplotlib\u001b[39;00m\u001b[38;5;21;01m.\u001b[39;00m\u001b[38;5;21;01mpyplot\u001b[39;00m \u001b[38;5;28;01mas\u001b[39;00m \u001b[38;5;21;01mplt\u001b[39;00m\n\u001b[1;32m--> 458\u001b[0m     ax \u001b[38;5;241m=\u001b[39m boxplot(\n\u001b[0;32m    459\u001b[0m         \u001b[38;5;28mself\u001b[39m,\n\u001b[0;32m    460\u001b[0m         column\u001b[38;5;241m=\u001b[39mcolumn,\n\u001b[0;32m    461\u001b[0m         by\u001b[38;5;241m=\u001b[39mby,\n\u001b[0;32m    462\u001b[0m         ax\u001b[38;5;241m=\u001b[39max,\n\u001b[0;32m    463\u001b[0m         fontsize\u001b[38;5;241m=\u001b[39mfontsize,\n\u001b[0;32m    464\u001b[0m         grid\u001b[38;5;241m=\u001b[39mgrid,\n\u001b[0;32m    465\u001b[0m         rot\u001b[38;5;241m=\u001b[39mrot,\n\u001b[0;32m    466\u001b[0m         figsize\u001b[38;5;241m=\u001b[39mfigsize,\n\u001b[0;32m    467\u001b[0m         layout\u001b[38;5;241m=\u001b[39mlayout,\n\u001b[0;32m    468\u001b[0m         return_type\u001b[38;5;241m=\u001b[39mreturn_type,\n\u001b[0;32m    469\u001b[0m         \u001b[38;5;241m*\u001b[39m\u001b[38;5;241m*\u001b[39mkwds,\n\u001b[0;32m    470\u001b[0m     )\n\u001b[0;32m    471\u001b[0m     plt\u001b[38;5;241m.\u001b[39mdraw_if_interactive()\n\u001b[0;32m    472\u001b[0m     \u001b[38;5;28;01mreturn\u001b[39;00m ax\n",
      "File \u001b[1;32m~\\anaconda3\\Lib\\site-packages\\pandas\\plotting\\_matplotlib\\boxplot.py:435\u001b[0m, in \u001b[0;36mboxplot\u001b[1;34m(data, column, by, ax, fontsize, rot, grid, figsize, layout, return_type, **kwds)\u001b[0m\n\u001b[0;32m    433\u001b[0m     columns \u001b[38;5;241m=\u001b[39m data\u001b[38;5;241m.\u001b[39mcolumns\n\u001b[0;32m    434\u001b[0m \u001b[38;5;28;01melse\u001b[39;00m:\n\u001b[1;32m--> 435\u001b[0m     data \u001b[38;5;241m=\u001b[39m data[columns]\n\u001b[0;32m    437\u001b[0m result \u001b[38;5;241m=\u001b[39m plot_group(columns, data\u001b[38;5;241m.\u001b[39mvalues\u001b[38;5;241m.\u001b[39mT, ax, \u001b[38;5;241m*\u001b[39m\u001b[38;5;241m*\u001b[39mkwds)\n\u001b[0;32m    438\u001b[0m ax\u001b[38;5;241m.\u001b[39mgrid(grid)\n",
      "File \u001b[1;32m~\\anaconda3\\Lib\\site-packages\\pandas\\core\\frame.py:3813\u001b[0m, in \u001b[0;36mDataFrame.__getitem__\u001b[1;34m(self, key)\u001b[0m\n\u001b[0;32m   3811\u001b[0m     \u001b[38;5;28;01mif\u001b[39;00m is_iterator(key):\n\u001b[0;32m   3812\u001b[0m         key \u001b[38;5;241m=\u001b[39m \u001b[38;5;28mlist\u001b[39m(key)\n\u001b[1;32m-> 3813\u001b[0m     indexer \u001b[38;5;241m=\u001b[39m \u001b[38;5;28mself\u001b[39m\u001b[38;5;241m.\u001b[39mcolumns\u001b[38;5;241m.\u001b[39m_get_indexer_strict(key, \u001b[38;5;124m\"\u001b[39m\u001b[38;5;124mcolumns\u001b[39m\u001b[38;5;124m\"\u001b[39m)[\u001b[38;5;241m1\u001b[39m]\n\u001b[0;32m   3815\u001b[0m \u001b[38;5;66;03m# take() does not accept boolean indexers\u001b[39;00m\n\u001b[0;32m   3816\u001b[0m \u001b[38;5;28;01mif\u001b[39;00m \u001b[38;5;28mgetattr\u001b[39m(indexer, \u001b[38;5;124m\"\u001b[39m\u001b[38;5;124mdtype\u001b[39m\u001b[38;5;124m\"\u001b[39m, \u001b[38;5;28;01mNone\u001b[39;00m) \u001b[38;5;241m==\u001b[39m \u001b[38;5;28mbool\u001b[39m:\n",
      "File \u001b[1;32m~\\anaconda3\\Lib\\site-packages\\pandas\\core\\indexes\\base.py:6070\u001b[0m, in \u001b[0;36mIndex._get_indexer_strict\u001b[1;34m(self, key, axis_name)\u001b[0m\n\u001b[0;32m   6067\u001b[0m \u001b[38;5;28;01melse\u001b[39;00m:\n\u001b[0;32m   6068\u001b[0m     keyarr, indexer, new_indexer \u001b[38;5;241m=\u001b[39m \u001b[38;5;28mself\u001b[39m\u001b[38;5;241m.\u001b[39m_reindex_non_unique(keyarr)\n\u001b[1;32m-> 6070\u001b[0m \u001b[38;5;28mself\u001b[39m\u001b[38;5;241m.\u001b[39m_raise_if_missing(keyarr, indexer, axis_name)\n\u001b[0;32m   6072\u001b[0m keyarr \u001b[38;5;241m=\u001b[39m \u001b[38;5;28mself\u001b[39m\u001b[38;5;241m.\u001b[39mtake(indexer)\n\u001b[0;32m   6073\u001b[0m \u001b[38;5;28;01mif\u001b[39;00m \u001b[38;5;28misinstance\u001b[39m(key, Index):\n\u001b[0;32m   6074\u001b[0m     \u001b[38;5;66;03m# GH 42790 - Preserve name from an Index\u001b[39;00m\n",
      "File \u001b[1;32m~\\anaconda3\\Lib\\site-packages\\pandas\\core\\indexes\\base.py:6130\u001b[0m, in \u001b[0;36mIndex._raise_if_missing\u001b[1;34m(self, key, indexer, axis_name)\u001b[0m\n\u001b[0;32m   6128\u001b[0m     \u001b[38;5;28;01mif\u001b[39;00m use_interval_msg:\n\u001b[0;32m   6129\u001b[0m         key \u001b[38;5;241m=\u001b[39m \u001b[38;5;28mlist\u001b[39m(key)\n\u001b[1;32m-> 6130\u001b[0m     \u001b[38;5;28;01mraise\u001b[39;00m \u001b[38;5;167;01mKeyError\u001b[39;00m(\u001b[38;5;124mf\u001b[39m\u001b[38;5;124m\"\u001b[39m\u001b[38;5;124mNone of [\u001b[39m\u001b[38;5;132;01m{\u001b[39;00mkey\u001b[38;5;132;01m}\u001b[39;00m\u001b[38;5;124m] are in the [\u001b[39m\u001b[38;5;132;01m{\u001b[39;00maxis_name\u001b[38;5;132;01m}\u001b[39;00m\u001b[38;5;124m]\u001b[39m\u001b[38;5;124m\"\u001b[39m)\n\u001b[0;32m   6132\u001b[0m not_found \u001b[38;5;241m=\u001b[39m \u001b[38;5;28mlist\u001b[39m(ensure_index(key)[missing_mask\u001b[38;5;241m.\u001b[39mnonzero()[\u001b[38;5;241m0\u001b[39m]]\u001b[38;5;241m.\u001b[39munique())\n\u001b[0;32m   6133\u001b[0m \u001b[38;5;28;01mraise\u001b[39;00m \u001b[38;5;167;01mKeyError\u001b[39;00m(\u001b[38;5;124mf\u001b[39m\u001b[38;5;124m\"\u001b[39m\u001b[38;5;132;01m{\u001b[39;00mnot_found\u001b[38;5;132;01m}\u001b[39;00m\u001b[38;5;124m not in index\u001b[39m\u001b[38;5;124m\"\u001b[39m)\n",
      "\u001b[1;31mKeyError\u001b[0m: \"None of [Index(['From'], dtype='object')] are in the [columns]\""
     ]
    },
    {
     "data": {
      "image/png": "[encoded data removed]",
      "text/plain": [
       "<Figure size 640x480 with 1 Axes>"
      ]
     },
     "metadata": {},
     "output_type": "display_data"
    }
   ],
   "source": [
    "df1.boxplot(column=['From'])\n",
    "plt.show"
   ]
  },
  {
   "cell_type": "code",
   "execution_count": null,
   "id": "44d49d95",
   "metadata": {},
   "outputs": [],
   "source": []
  },
  {
   "cell_type": "markdown",
   "id": "13448c1e",
   "metadata": {},
   "source": [
    "## Data Preparation"
   ]
  },
  {
   "cell_type": "markdown",
   "id": "d9208afd",
   "metadata": {},
   "source": [
    " From the sample above, we can see that the `From` column is treated as index, however, we can see that the values are not unique per row because the same sender may have sent emails more than once. Hence, I will reset the index and get a default index."
   ]
  },
  {
   "cell_type": "code",
   "execution_count": 6,
   "id": "ad5b270e",
   "metadata": {},
   "outputs": [],
   "source": [
    "df1.reset_index(inplace=True)\n",
    "df2.reset_index(inplace=True)"
   ]
  },
  {
   "cell_type": "markdown",
   "id": "20f89fa2",
   "metadata": {},
   "source": [
    "### 📤 Handling missing data"
   ]
  },
  {
   "cell_type": "markdown",
   "id": "ee5b3278",
   "metadata": {},
   "source": [
    "After resetting the indices, let's explore further the data. By looking at the columns information we see that for some columns we have too many missing values. For example columns \"Content_Length and X_uid\" have too many null values. However, we need to be carefull before we can decide if we can drop them, because it could be that the value being null is a contributing factor that an email is `valid` or `phishing`.\n",
    "\n",
    "Let's verify them carefully, by going back to the `phishing` and `valid` before they are merged.\n"
   ]
  },
  {
   "cell_type": "markdown",
   "id": "f2241f95",
   "metadata": {},
   "source": [
    "Below we are checking the counts of the null values of the 2 columns `X_uid` and `Content_Length` for each of the datasets. We can see that in the `valid emails` the two columns have no values at all, and in the `phishing` dataset almost 75% of the Content_Length and almost 20% of X_uid values are missing."
   ]
  },
  {
   "cell_type": "code",
   "execution_count": 7,
   "id": "a77a3cfc",
   "metadata": {},
   "outputs": [
    {
     "name": "stdout",
     "output_type": "stream",
     "text": [
      "Phishing dataframe: Count of null values in the column X_uid is 423/2239 rows\n",
      "Phishing dataframe: Count of null values in the column Content_Length is 1540/2239 rows\n",
      "\n",
      "Valid email dataframe: Count of null values in the column X_uid is 2551/2551 rows\n",
      "Valid email dataframe: Count of null values in the column Content_Length is 2551/2551 rows\n",
      "\n",
      "Valid email dataframe: Count of null values in the column IP is 848/2551 rows\n",
      "Valid email dataframe: Count of null values in the column IP is 848/2551 rows\n"
     ]
    }
   ],
   "source": [
    "print('Phishing dataframe: Count of null values in the column X_uid is {}/{} rows'.format(df1['X_uid'].isnull().sum(),len(df1.index)));\n",
    "print('Phishing dataframe: Count of null values in the column Content_Length is {}/{} rows\\n'.format(df1['Content_Length'].isnull().sum(),len(df1.index)));\n",
    "\n",
    "print('Valid email dataframe: Count of null values in the column X_uid is {}/{} rows' .format(df2['X_uid'].isnull().sum(),len(df2.index)));\n",
    "print('Valid email dataframe: Count of null values in the column Content_Length is {}/{} rows\\n' .format(df2['Content_Length'].isnull().sum(),len(df2.index)));\n",
    "\n",
    "print('Valid email dataframe: Count of null values in the column IP is {}/{} rows' .format(df2['IP'].isnull().sum(),len(df2.index)));\n",
    "print('Valid email dataframe: Count of null values in the column IP is {}/{} rows' .format(df2['IP'].isnull().sum(),len(df2.index)));"
   ]
  },
  {
   "cell_type": "markdown",
   "id": "16e360a4",
   "metadata": {},
   "source": [
    "##### Now the `Content_length`, `IP` and `X_uid` columns can be dropped due to too many missing values and also their less relevance in this analysis"
   ]
  },
  {
   "cell_type": "code",
   "execution_count": 8,
   "id": "a42594df",
   "metadata": {},
   "outputs": [],
   "source": [
    "df1=df1.drop(columns=['IP','Content_Length','X_uid'])\n",
    "df2=df2.drop(columns=['IP','Content_Length','X_uid'])"
   ]
  },
  {
   "cell_type": "markdown",
   "id": "521ce243",
   "metadata": {},
   "source": [
    "# Phase 3: Predictions"
   ]
  },
  {
   "cell_type": "markdown",
   "id": "b9d47025",
   "metadata": {},
   "source": [
    "\n",
    "## ⚙️ Preprocessing \n",
    "\n",
    "\n",
    "### 🎯 Target variable\n",
    "\n",
    "Since we have two separate datasets one for phishing emails and one for valid emails, we will first label the data by adding a new column `IsEmailPhishing` on both datasets which will indicate if an email is phishing or not. For phishing emails we put `1` and for valid emails `0`, the we will review the shapes of the datasets.\n",
    "\n",
    "Since we have 2 datasets with differents target values, we will then merge both dataframes for further preprocessing and analysis\n"
   ]
  },
  {
   "cell_type": "code",
   "execution_count": 9,
   "id": "6967d04e",
   "metadata": {},
   "outputs": [
    {
     "name": "stdout",
     "output_type": "stream",
     "text": [
      "(4790, 11)\n"
     ]
    }
   ],
   "source": [
    "df1[\"IsEmailPhishing\"] = 1\n",
    "df2[\"IsEmailPhishing\"] = 0\n",
    "\n",
    "df = pd.concat([df1,df2], axis=0)\n",
    "print(df.shape)"
   ]
  },
  {
   "cell_type": "code",
   "execution_count": 10,
   "id": "7c52f32f",
   "metadata": {},
   "outputs": [
    {
     "data": {
      "image/png": "[encoded data removed]",
      "text/plain": [
       "<Figure size 640x480 with 1 Axes>"
      ]
     },
     "metadata": {},
     "output_type": "display_data"
    }
   ],
   "source": [
    "df.plot.hist(stacked=True, bins=20);"
   ]
  },
  {
   "cell_type": "markdown",
   "id": "6afe3240",
   "metadata": {},
   "source": [
    "After merging, the indices of the two merged datasets will be mixed up, because the `phishing` dataset had index from 0-2239 and `valid emails` dataset index 0-2551. Meaning that resulting merged dataset will have index from `0` to `2239` duplicate. So, resetting the index is needed to have sequential index, then after getting a new index, we will drop the mixed up one\n",
    "\n",
    "Then we can verify that our new index is sequential by checking the last 5 rows"
   ]
  },
  {
   "cell_type": "code",
   "execution_count": 11,
   "id": "1d21d3ae",
   "metadata": {},
   "outputs": [
    {
     "data": {
      "text/html": [
       "<div>\n",
       "<style scoped>\n",
       "    .dataframe tbody tr th:only-of-type {\n",
       "        vertical-align: middle;\n",
       "    }\n",
       "\n",
       "    .dataframe tbody tr th {\n",
       "        vertical-align: top;\n",
       "    }\n",
       "\n",
       "    .dataframe thead th {\n",
       "        text-align: right;\n",
       "    }\n",
       "</style>\n",
       "<table border=\"1\" class=\"dataframe\">\n",
       "  <thead>\n",
       "    <tr style=\"text-align: right;\">\n",
       "      <th></th>\n",
       "      <th>From</th>\n",
       "      <th>Fullname</th>\n",
       "      <th>To</th>\n",
       "      <th>Subject</th>\n",
       "      <th>Body</th>\n",
       "      <th>Date</th>\n",
       "      <th>Return_Path</th>\n",
       "      <th>Delivered_to</th>\n",
       "      <th>Content_type</th>\n",
       "      <th>Message_Id</th>\n",
       "      <th>IsEmailPhishing</th>\n",
       "    </tr>\n",
       "  </thead>\n",
       "  <tbody>\n",
       "    <tr>\n",
       "      <th>4785</th>\n",
       "      <td>rssfeeds@example.com</td>\n",
       "      <td>newscientist &lt;rssfeeds@example.com</td>\n",
       "      <td>yyyy@example.com</td>\n",
       "      <td>Gene technique reveals human evolution</td>\n",
       "      <td>URL: http://www.newsisfree.com/click/-3,8714366,1440/\\nDate: Not supplied\\n\\nA method that could allow scientists to probe our ancestors' evolution over the \\nlast 20,000 years passes its first te...</td>\n",
       "      <td>Thu, 10 Oct 2002 08:04:25 -0000</td>\n",
       "      <td>rssfeeds@example.com</td>\n",
       "      <td>yyyy@localhost.example.com</td>\n",
       "      <td>text/plain; encoding=utf-8</td>\n",
       "      <td>200210100804.g9A84PK14188@dogma.slashnull.org</td>\n",
       "      <td>0</td>\n",
       "    </tr>\n",
       "    <tr>\n",
       "      <th>4786</th>\n",
       "      <td>rssfeeds@example.com</td>\n",
       "      <td>guardian &lt;rssfeeds@example.com</td>\n",
       "      <td>yyyy@example.com</td>\n",
       "      <td>Go-ahead for new-style hospitals</td>\n",
       "      <td>URL: http://www.newsisfree.com/click/-4,8723999,215/\\nDate: 2002-10-10T03:26:52+01:00\\n\\n*Society:* Blair brokers Whitehall deal on trusts borrowing private cash.\\n\\n\\n</td>\n",
       "      <td>Thu, 10 Oct 2002 08:04:10 -0000</td>\n",
       "      <td>rssfeeds@example.com</td>\n",
       "      <td>yyyy@localhost.example.com</td>\n",
       "      <td>text/plain; encoding=utf-8</td>\n",
       "      <td>200210100804.g9A84AK14152@dogma.slashnull.org</td>\n",
       "      <td>0</td>\n",
       "    </tr>\n",
       "    <tr>\n",
       "      <th>4787</th>\n",
       "      <td>rssfeeds@example.com</td>\n",
       "      <td>newscientist &lt;rssfeeds@example.com</td>\n",
       "      <td>yyyy@example.com</td>\n",
       "      <td>Malicious code hidden in email software</td>\n",
       "      <td>URL: http://www.newsisfree.com/click/-3,8710804,1440/\\nDate: Not supplied\\n\\nThe new software was switched for dummy code containing a \"Trojan horse\" on its \\ndownload servers\\n\\n\\n</td>\n",
       "      <td>Thu, 10 Oct 2002 08:04:26 -0000</td>\n",
       "      <td>rssfeeds@example.com</td>\n",
       "      <td>yyyy@localhost.example.com</td>\n",
       "      <td>text/plain; encoding=utf-8</td>\n",
       "      <td>200210100804.g9A84QK14191@dogma.slashnull.org</td>\n",
       "      <td>0</td>\n",
       "    </tr>\n",
       "    <tr>\n",
       "      <th>4788</th>\n",
       "      <td>rssfeeds@example.com</td>\n",
       "      <td>guardian &lt;rssfeeds@example.com</td>\n",
       "      <td>yyyy@example.com</td>\n",
       "      <td>'Flexible' retirement gains ground</td>\n",
       "      <td>URL: http://www.newsisfree.com/click/-4,8724000,215/\\nDate: 2002-10-10T03:26:51+01:00\\n\\n*Money:* Government admits millions may have to work on beyond 65.\\n\\n\\n</td>\n",
       "      <td>Thu, 10 Oct 2002 08:04:10 -0000</td>\n",
       "      <td>rssfeeds@example.com</td>\n",
       "      <td>yyyy@localhost.example.com</td>\n",
       "      <td>text/plain; encoding=utf-8</td>\n",
       "      <td>200210100804.g9A84AK14155@dogma.slashnull.org</td>\n",
       "      <td>0</td>\n",
       "    </tr>\n",
       "    <tr>\n",
       "      <th>4789</th>\n",
       "      <td>rssfeeds@example.com</td>\n",
       "      <td>newscientist &lt;rssfeeds@example.com</td>\n",
       "      <td>yyyy@example.com</td>\n",
       "      <td>Critical US satellites could be hacked</td>\n",
       "      <td>URL: http://www.newsisfree.com/click/-3,8708820,1440/\\nDate: Not supplied\\n\\nMilitary communications could be jammed or intercepted and satellites thrown \\noff course or destroyed, a new US study ...</td>\n",
       "      <td>Thu, 10 Oct 2002 08:04:26 -0000</td>\n",
       "      <td>rssfeeds@example.com</td>\n",
       "      <td>yyyy@localhost.example.com</td>\n",
       "      <td>text/plain; encoding=utf-8</td>\n",
       "      <td>200210100804.g9A84QK14194@dogma.slashnull.org</td>\n",
       "      <td>0</td>\n",
       "    </tr>\n",
       "  </tbody>\n",
       "</table>\n",
       "</div>"
      ],
      "text/plain": [
       "                      From                            Fullname  \\\n",
       "4785  rssfeeds@example.com  newscientist <rssfeeds@example.com   \n",
       "4786  rssfeeds@example.com      guardian <rssfeeds@example.com   \n",
       "4787  rssfeeds@example.com  newscientist <rssfeeds@example.com   \n",
       "4788  rssfeeds@example.com      guardian <rssfeeds@example.com   \n",
       "4789  rssfeeds@example.com  newscientist <rssfeeds@example.com   \n",
       "\n",
       "                    To                                  Subject  \\\n",
       "4785  yyyy@example.com   Gene technique reveals human evolution   \n",
       "4786  yyyy@example.com         Go-ahead for new-style hospitals   \n",
       "4787  yyyy@example.com  Malicious code hidden in email software   \n",
       "4788  yyyy@example.com       'Flexible' retirement gains ground   \n",
       "4789  yyyy@example.com   Critical US satellites could be hacked   \n",
       "\n",
       "                                                                                                                                                                                                         Body  \\\n",
       "4785  URL: http://www.newsisfree.com/click/-3,8714366,1440/\\nDate: Not supplied\\n\\nA method that could allow scientists to probe our ancestors' evolution over the \\nlast 20,000 years passes its first te...   \n",
       "4786                                 URL: http://www.newsisfree.com/click/-4,8723999,215/\\nDate: 2002-10-10T03:26:52+01:00\\n\\n*Society:* Blair brokers Whitehall deal on trusts borrowing private cash.\\n\\n\\n   \n",
       "4787                    URL: http://www.newsisfree.com/click/-3,8710804,1440/\\nDate: Not supplied\\n\\nThe new software was switched for dummy code containing a \"Trojan horse\" on its \\ndownload servers\\n\\n\\n   \n",
       "4788                                        URL: http://www.newsisfree.com/click/-4,8724000,215/\\nDate: 2002-10-10T03:26:51+01:00\\n\\n*Money:* Government admits millions may have to work on beyond 65.\\n\\n\\n   \n",
       "4789  URL: http://www.newsisfree.com/click/-3,8708820,1440/\\nDate: Not supplied\\n\\nMilitary communications could be jammed or intercepted and satellites thrown \\noff course or destroyed, a new US study ...   \n",
       "\n",
       "                                 Date           Return_Path  \\\n",
       "4785  Thu, 10 Oct 2002 08:04:25 -0000  rssfeeds@example.com   \n",
       "4786  Thu, 10 Oct 2002 08:04:10 -0000  rssfeeds@example.com   \n",
       "4787  Thu, 10 Oct 2002 08:04:26 -0000  rssfeeds@example.com   \n",
       "4788  Thu, 10 Oct 2002 08:04:10 -0000  rssfeeds@example.com   \n",
       "4789  Thu, 10 Oct 2002 08:04:26 -0000  rssfeeds@example.com   \n",
       "\n",
       "                    Delivered_to                Content_type  \\\n",
       "4785  yyyy@localhost.example.com  text/plain; encoding=utf-8   \n",
       "4786  yyyy@localhost.example.com  text/plain; encoding=utf-8   \n",
       "4787  yyyy@localhost.example.com  text/plain; encoding=utf-8   \n",
       "4788  yyyy@localhost.example.com  text/plain; encoding=utf-8   \n",
       "4789  yyyy@localhost.example.com  text/plain; encoding=utf-8   \n",
       "\n",
       "                                         Message_Id  IsEmailPhishing  \n",
       "4785  200210100804.g9A84PK14188@dogma.slashnull.org                0  \n",
       "4786  200210100804.g9A84AK14152@dogma.slashnull.org                0  \n",
       "4787  200210100804.g9A84QK14191@dogma.slashnull.org                0  \n",
       "4788  200210100804.g9A84AK14155@dogma.slashnull.org                0  \n",
       "4789  200210100804.g9A84QK14194@dogma.slashnull.org                0  "
      ]
     },
     "execution_count": 11,
     "metadata": {},
     "output_type": "execute_result"
    }
   ],
   "source": [
    "df.reset_index(inplace=True)\n",
    "df=df.drop(columns='index')\n",
    "df.tail()"
   ]
  },
  {
   "cell_type": "markdown",
   "id": "6c0056ed",
   "metadata": {},
   "source": [
    "Let's recheck the sumary of the whole dataset after merging. Now we can see that we still have some missing values. Let's start `Feature Selection` process during which we will decide if a column can be considered in our analysis. "
   ]
  },
  {
   "cell_type": "code",
   "execution_count": 12,
   "id": "1200be71",
   "metadata": {},
   "outputs": [
    {
     "name": "stdout",
     "output_type": "stream",
     "text": [
      "<class 'pandas.core.frame.DataFrame'>\n",
      "RangeIndex: 4790 entries, 0 to 4789\n",
      "Data columns (total 11 columns):\n",
      " #   Column           Non-Null Count  Dtype \n",
      "---  ------           --------------  ----- \n",
      " 0   From             4790 non-null   object\n",
      " 1   Fullname         4771 non-null   object\n",
      " 2   To               4632 non-null   object\n",
      " 3   Subject          4770 non-null   object\n",
      " 4   Body             4764 non-null   object\n",
      " 5   Date             4790 non-null   object\n",
      " 6   Return_Path      4790 non-null   object\n",
      " 7   Delivered_to     4655 non-null   object\n",
      " 8   Content_type     4363 non-null   object\n",
      " 9   Message_Id       4790 non-null   object\n",
      " 10  IsEmailPhishing  4790 non-null   int64 \n",
      "dtypes: int64(1), object(10)\n",
      "memory usage: 411.8+ KB\n"
     ]
    }
   ],
   "source": [
    "df.info()"
   ]
  },
  {
   "cell_type": "markdown",
   "id": "d19c95bc",
   "metadata": {},
   "source": [
    "### 💡 Feature selection\n",
    "\n",
    "Since for analyzing phishing emails big focus is on the sender of email than the recipient, the columns `To` and `Delivered_to` are less relevant and will not have much added value on our analysis. The same apply to `Fullname`,`Message_Id`,`date` and `Return_Path` columns. `From` column can have added value in this analyzis, however, it will not be considered for this iteration.\n",
    "\n",
    "The most relevant columns are `Subject`and `Body` since they contains words that will be tokenized and turned to features\n",
    "\n",
    "Let's fill missing values with `None` on `Subject` and `Body` features"
   ]
  },
  {
   "cell_type": "code",
   "execution_count": 13,
   "id": "326b886c",
   "metadata": {},
   "outputs": [],
   "source": [
    "df['Subject'].fillna('None', inplace=True)\n",
    "df['Body'].fillna('None', inplace=True)"
   ]
  },
  {
   "cell_type": "markdown",
   "id": "60530a5e",
   "metadata": {},
   "source": [
    "##### Leaving out non-used columns\n",
    "\n",
    "Let's merge `Subject` text with `Body` columns in a new column `email_text`since both represent the text of an email.\n",
    "\n",
    "Getting a subset of our dataframe by taking only `email_text` and our target value `IsEmailPhishing` and create a new dataframe `emailText_df` and view first 5 rows."
   ]
  },
  {
   "cell_type": "code",
   "execution_count": 14,
   "id": "eb208680",
   "metadata": {},
   "outputs": [
    {
     "data": {
      "text/html": [
       "<div>\n",
       "<style scoped>\n",
       "    .dataframe tbody tr th:only-of-type {\n",
       "        vertical-align: middle;\n",
       "    }\n",
       "\n",
       "    .dataframe tbody tr th {\n",
       "        vertical-align: top;\n",
       "    }\n",
       "\n",
       "    .dataframe thead th {\n",
       "        text-align: right;\n",
       "    }\n",
       "</style>\n",
       "<table border=\"1\" class=\"dataframe\">\n",
       "  <thead>\n",
       "    <tr style=\"text-align: right;\">\n",
       "      <th></th>\n",
       "      <th>Subject</th>\n",
       "      <th>Body</th>\n",
       "      <th>IsEmailPhishing</th>\n",
       "      <th>email_text</th>\n",
       "    </tr>\n",
       "  </thead>\n",
       "  <tbody>\n",
       "    <tr>\n",
       "      <th>0</th>\n",
       "      <td>eBay account verification!</td>\n",
       "      <td>Dear eBay User , After fraud complaints from the eBay members, the eBay Inc. had developed a security program against the fraudulend attempts of accounts thefts. For that we have to securise all t...</td>\n",
       "      <td>1</td>\n",
       "      <td>eBay account verification! Dear eBay User , After fraud complaints from the eBay members, the eBay Inc. had developed a security program against the fraudulend attempts of accounts thefts. For tha...</td>\n",
       "    </tr>\n",
       "    <tr>\n",
       "      <th>1</th>\n",
       "      <td>eBay - verify your account information</td>\n",
       "      <td>Welcome Welcome to a community of sellers that have achieved exceptional levels of success and positive feedback on eBay! We invite you to join us as a PowerSeller If you agree with this rank plea...</td>\n",
       "      <td>1</td>\n",
       "      <td>eBay - verify your account information Welcome Welcome to a community of sellers that have achieved exceptional levels of success and positive feedback on eBay! We invite you to join us as a Power...</td>\n",
       "    </tr>\n",
       "    <tr>\n",
       "      <th>2</th>\n",
       "      <td>Notification of limited account access</td>\n",
       "      <td>Dear valued PayPal® member: PayPal® is committed to maintaining a safe environment for its community of buyers and sellers. To protect the security of your account, PayPal employs some of the most...</td>\n",
       "      <td>1</td>\n",
       "      <td>Notification of limited account access Dear valued PayPal® member: PayPal® is committed to maintaining a safe environment for its community of buyers and sellers. To protect the security of your a...</td>\n",
       "    </tr>\n",
       "    <tr>\n",
       "      <th>3</th>\n",
       "      <td>..PayPal Notification..: Update your information</td>\n",
       "      <td>PayPal You're Billing Information! Dear PayPal Member, It has come to our attention that your PayPal Billing Information records are out of date. That requires you to update the Billing Informatio...</td>\n",
       "      <td>1</td>\n",
       "      <td>..PayPal Notification..: Update your information PayPal You're Billing Information! Dear PayPal Member, It has come to our attention that your PayPal Billing Information records are out of date. T...</td>\n",
       "    </tr>\n",
       "    <tr>\n",
       "      <th>4</th>\n",
       "      <td>We recently noticed one or more attempts to log in your account</td>\n",
       "      <td>We recently noticed one or more attempts to log in your account from a foreign IP address and we have reasons to believe that your account was used by a third party without your authorization. If ...</td>\n",
       "      <td>1</td>\n",
       "      <td>We recently noticed one or more attempts to log in your account We recently noticed one or more attempts to log in your account from a foreign IP address and we have reasons to believe that your a...</td>\n",
       "    </tr>\n",
       "  </tbody>\n",
       "</table>\n",
       "</div>"
      ],
      "text/plain": [
       "                                                           Subject  \\\n",
       "0                                       eBay account verification!   \n",
       "1                           eBay - verify your account information   \n",
       "2                           Notification of limited account access   \n",
       "3                 ..PayPal Notification..: Update your information   \n",
       "4  We recently noticed one or more attempts to log in your account   \n",
       "\n",
       "                                                                                                                                                                                                      Body  \\\n",
       "0  Dear eBay User , After fraud complaints from the eBay members, the eBay Inc. had developed a security program against the fraudulend attempts of accounts thefts. For that we have to securise all t...   \n",
       "1  Welcome Welcome to a community of sellers that have achieved exceptional levels of success and positive feedback on eBay! We invite you to join us as a PowerSeller If you agree with this rank plea...   \n",
       "2  Dear valued PayPal® member: PayPal® is committed to maintaining a safe environment for its community of buyers and sellers. To protect the security of your account, PayPal employs some of the most...   \n",
       "3  PayPal You're Billing Information! Dear PayPal Member, It has come to our attention that your PayPal Billing Information records are out of date. That requires you to update the Billing Informatio...   \n",
       "4  We recently noticed one or more attempts to log in your account from a foreign IP address and we have reasons to believe that your account was used by a third party without your authorization. If ...   \n",
       "\n",
       "   IsEmailPhishing  \\\n",
       "0                1   \n",
       "1                1   \n",
       "2                1   \n",
       "3                1   \n",
       "4                1   \n",
       "\n",
       "                                                                                                                                                                                                email_text  \n",
       "0  eBay account verification! Dear eBay User , After fraud complaints from the eBay members, the eBay Inc. had developed a security program against the fraudulend attempts of accounts thefts. For tha...  \n",
       "1  eBay - verify your account information Welcome Welcome to a community of sellers that have achieved exceptional levels of success and positive feedback on eBay! We invite you to join us as a Power...  \n",
       "2  Notification of limited account access Dear valued PayPal® member: PayPal® is committed to maintaining a safe environment for its community of buyers and sellers. To protect the security of your a...  \n",
       "3  ..PayPal Notification..: Update your information PayPal You're Billing Information! Dear PayPal Member, It has come to our attention that your PayPal Billing Information records are out of date. T...  \n",
       "4  We recently noticed one or more attempts to log in your account We recently noticed one or more attempts to log in your account from a foreign IP address and we have reasons to believe that your a...  "
      ]
     },
     "execution_count": 14,
     "metadata": {},
     "output_type": "execute_result"
    }
   ],
   "source": [
    "emailText_df=df[['Subject','Body','IsEmailPhishing']]\n",
    "emailText_df['email_text']=df['Subject'] + ' ' + df['Body']\n",
    "emailText_dfe=emailText_df[['email_text','IsEmailPhishing']]\n",
    "emailText_df.head()"
   ]
  },
  {
   "cell_type": "markdown",
   "id": "f9e97f0d",
   "metadata": {},
   "source": [
    "##### Tokenization and stemming"
   ]
  },
  {
   "cell_type": "markdown",
   "id": "1b747574",
   "metadata": {},
   "source": [
    "For this Iteration, I will only consider the columns `Body` and `Subject` merged as `email_text` for the analysis.\n",
    "For that I will perform tokenization together with Stemming of the email text using NLTK pre processing. Within the function `text_processing`, I am using regex library to remove all ponctuations. \n",
    "\n",
    "Ref: GeeksforGeeks. (2023, May 16). Removing stop words with NLTK in Python. https://www.geeksforgeeks.org/removing-stop-words-nltk-python/\n"
   ]
  },
  {
   "cell_type": "code",
   "execution_count": 15,
   "id": "896b9a52",
   "metadata": {},
   "outputs": [],
   "source": [
    "from nltk.corpus import stopwords"
   ]
  },
  {
   "cell_type": "code",
   "execution_count": 16,
   "id": "83537583",
   "metadata": {},
   "outputs": [],
   "source": [
    "from nltk.stem import PorterStemmer\n",
    "from nltk.tokenize import sent_tokenize, word_tokenize\n",
    "\n",
    "ps = PorterStemmer()\n",
    "\n",
    "stop_words = set(stopwords.words('english'))\n",
    " \n",
    "# extracting only sequence of letters and numbers from the text, converts the words in word_tokens to lower case and then checks whether\n",
    "#they are present in stop_words or not, return tokens without stopwords in a list of words\n",
    "def text_preprocessing(dataset):\n",
    "    tokens_list=[]\n",
    "    for i in range(0,len(dataset)):\n",
    "        text=re.sub('[^a-zA-Z0-9]',' ',dataset['email_text'][i])\n",
    "        text=text.lower()\n",
    "        text=text.split()\n",
    "        text=[ps.stem(w) for w in text if not w in stop_words]\n",
    "        text =' '.join(text)\n",
    "        tokens_list.append(text)\n",
    "    return tokens_list"
   ]
  },
  {
   "cell_type": "markdown",
   "id": "654f029f",
   "metadata": {},
   "source": [
    "### Text processing using NLTK"
   ]
  },
  {
   "cell_type": "code",
   "execution_count": 17,
   "id": "57332f23",
   "metadata": {},
   "outputs": [
    {
     "data": {
      "text/html": [
       "<div>\n",
       "<style scoped>\n",
       "    .dataframe tbody tr th:only-of-type {\n",
       "        vertical-align: middle;\n",
       "    }\n",
       "\n",
       "    .dataframe tbody tr th {\n",
       "        vertical-align: top;\n",
       "    }\n",
       "\n",
       "    .dataframe thead th {\n",
       "        text-align: right;\n",
       "    }\n",
       "</style>\n",
       "<table border=\"1\" class=\"dataframe\">\n",
       "  <thead>\n",
       "    <tr style=\"text-align: right;\">\n",
       "      <th></th>\n",
       "      <th>Subject</th>\n",
       "      <th>Body</th>\n",
       "      <th>IsEmailPhishing</th>\n",
       "      <th>email_text</th>\n",
       "      <th>email_words</th>\n",
       "    </tr>\n",
       "  </thead>\n",
       "  <tbody>\n",
       "    <tr>\n",
       "      <th>2284</th>\n",
       "      <td>public mailing list sign up package</td>\n",
       "      <td>Has anyone seen/heard of/used some package that would let a random person \\ngo to a webpage, create a mailing list, then administer that list.  Also \\nof course let ppl sign up for the lists and m...</td>\n",
       "      <td>0</td>\n",
       "      <td>public mailing list sign up package Has anyone seen/heard of/used some package that would let a random person \\ngo to a webpage, create a mailing list, then administer that list.  Also \\nof course...</td>\n",
       "      <td>public mail list sign packag anyon seen heard use packag would let random person go webpag creat mail list administ list also cours let ppl sign list manag subscript similar old listbot org like r...</td>\n",
       "    </tr>\n",
       "    <tr>\n",
       "      <th>3565</th>\n",
       "      <td>Re: K3B</td>\n",
       "      <td>checking build system type... i686-pc-linux-gnu\\nchecking host system type... i686-pc-linux-gnu\\nchecking target system type... Invalid configuration\\n`athalon-redhat-linux': machine `athalon-redh...</td>\n",
       "      <td>0</td>\n",
       "      <td>Re: K3B checking build system type... i686-pc-linux-gnu\\nchecking host system type... i686-pc-linux-gnu\\nchecking target system type... Invalid configuration\\n`athalon-redhat-linux': machine `atha...</td>\n",
       "      <td>k3b check build system type i686 pc linux gnu check host system type i686 pc linux gnu check target system type invalid configur athalon redhat linux machin athalon redhat recogn configur error bi...</td>\n",
       "    </tr>\n",
       "    <tr>\n",
       "      <th>1613</th>\n",
       "      <td>Important announce!</td>\n",
       "      <td>[, ]</td>\n",
       "      <td>1</td>\n",
       "      <td>Important announce! [, ]</td>\n",
       "      <td>import announc</td>\n",
       "    </tr>\n",
       "    <tr>\n",
       "      <th>1032</th>\n",
       "      <td>Your Account Will Be Suspended</td>\n",
       "      <td>PayPal Hello, Paypal Customer Ways to use PayPal Forgot your password? Stores that accept PayPal Free Credit Alerts Protect your identity with free Equifax Credit Alerts  a simple, automated way...</td>\n",
       "      <td>1</td>\n",
       "      <td>Your Account Will Be Suspended PayPal Hello, Paypal Customer Ways to use PayPal Forgot your password? Stores that accept PayPal Free Credit Alerts Protect your identity with free Equifax Credit Al...</td>\n",
       "      <td>account suspend paypal hello paypal custom way use paypal forgot password store accept paypal free credit alert protect ident free equifax credit alert simpl autom way detect potenti ident theft r...</td>\n",
       "    </tr>\n",
       "    <tr>\n",
       "      <th>506</th>\n",
       "      <td>Question about how to pay for this item -- Respond Now</td>\n",
       "      <td>[]</td>\n",
       "      <td>1</td>\n",
       "      <td>Question about how to pay for this item -- Respond Now []</td>\n",
       "      <td>question pay item respond</td>\n",
       "    </tr>\n",
       "  </tbody>\n",
       "</table>\n",
       "</div>"
      ],
      "text/plain": [
       "                                                     Subject  \\\n",
       "2284                     public mailing list sign up package   \n",
       "3565                                                 Re: K3B   \n",
       "1613                                     Important announce!   \n",
       "1032                          Your Account Will Be Suspended   \n",
       "506   Question about how to pay for this item -- Respond Now   \n",
       "\n",
       "                                                                                                                                                                                                         Body  \\\n",
       "2284  Has anyone seen/heard of/used some package that would let a random person \\ngo to a webpage, create a mailing list, then administer that list.  Also \\nof course let ppl sign up for the lists and m...   \n",
       "3565  checking build system type... i686-pc-linux-gnu\\nchecking host system type... i686-pc-linux-gnu\\nchecking target system type... Invalid configuration\\n`athalon-redhat-linux': machine `athalon-redh...   \n",
       "1613                                                                                                                                                                                                     [, ]   \n",
       "1032  PayPal Hello, Paypal Customer Ways to use PayPal Forgot your password? Stores that accept PayPal Free Credit Alerts Protect your identity with free Equifax Credit Alerts  a simple, automated way...   \n",
       "506                                                                                                                                                                                                        []   \n",
       "\n",
       "      IsEmailPhishing  \\\n",
       "2284                0   \n",
       "3565                0   \n",
       "1613                1   \n",
       "1032                1   \n",
       "506                 1   \n",
       "\n",
       "                                                                                                                                                                                                   email_text  \\\n",
       "2284  public mailing list sign up package Has anyone seen/heard of/used some package that would let a random person \\ngo to a webpage, create a mailing list, then administer that list.  Also \\nof course...   \n",
       "3565  Re: K3B checking build system type... i686-pc-linux-gnu\\nchecking host system type... i686-pc-linux-gnu\\nchecking target system type... Invalid configuration\\n`athalon-redhat-linux': machine `atha...   \n",
       "1613                                                                                                                                                                                 Important announce! [, ]   \n",
       "1032  Your Account Will Be Suspended PayPal Hello, Paypal Customer Ways to use PayPal Forgot your password? Stores that accept PayPal Free Credit Alerts Protect your identity with free Equifax Credit Al...   \n",
       "506                                                                                                                                                 Question about how to pay for this item -- Respond Now []   \n",
       "\n",
       "                                                                                                                                                                                                  email_words  \n",
       "2284  public mail list sign packag anyon seen heard use packag would let random person go webpag creat mail list administ list also cours let ppl sign list manag subscript similar old listbot org like r...  \n",
       "3565  k3b check build system type i686 pc linux gnu check host system type i686 pc linux gnu check target system type invalid configur athalon redhat linux machin athalon redhat recogn configur error bi...  \n",
       "1613                                                                                                                                                                                           import announc  \n",
       "1032  account suspend paypal hello paypal custom way use paypal forgot password store accept paypal free credit alert protect ident free equifax credit alert simpl autom way detect potenti ident theft r...  \n",
       "506                                                                                                                                                                                 question pay item respond  "
      ]
     },
     "execution_count": 17,
     "metadata": {},
     "output_type": "execute_result"
    }
   ],
   "source": [
    "email_words=text_preprocessing(emailText_df)\n",
    "emailText_df['email_words']=email_words\n",
    "emailText_df.sample(5)"
   ]
  },
  {
   "cell_type": "markdown",
   "id": "405de2c7",
   "metadata": {},
   "source": [
    "### Data Shuffling\n",
    "\n",
    "Now since our dataset is ordered starting with phishing emails and ends with valid emails. To avoid that splitting our dataset may be unbalanced, I will shuffle the dataset using the `sample` function and save the shuffled dataset in a new variable. Then will reoder the columns so we have the target variable as a last column and reset the index.\n",
    "\n",
    "During my reading I understood that Random Forest Classification model shuffles data during training, maybe this step is not needed, but I am not sure."
   ]
  },
  {
   "cell_type": "code",
   "execution_count": 18,
   "id": "cf09df20",
   "metadata": {},
   "outputs": [],
   "source": [
    "emailText_df= emailText_df.sample(frac=1)   # this frac will shufled the data"
   ]
  },
  {
   "cell_type": "code",
   "execution_count": 19,
   "id": "3b29693c",
   "metadata": {},
   "outputs": [],
   "source": [
    "emailText_df=emailText_df.reset_index(drop=True)"
   ]
  },
  {
   "cell_type": "markdown",
   "id": "f98b5f53",
   "metadata": {},
   "source": [
    "Changing order of the columns making the target column last and drop the `email_text` since we have a corpus column `email_words`\n",
    "\n",
    "Ref: How to change the order of DataFrame columns? (n.d.). Stack Overflow. https://stackoverflow.com/questions/13148429/how-to-change-the-order-of-dataframe-columns"
   ]
  },
  {
   "cell_type": "code",
   "execution_count": 20,
   "id": "8a8578a6",
   "metadata": {},
   "outputs": [
    {
     "data": {
      "text/html": [
       "<div>\n",
       "<style scoped>\n",
       "    .dataframe tbody tr th:only-of-type {\n",
       "        vertical-align: middle;\n",
       "    }\n",
       "\n",
       "    .dataframe tbody tr th {\n",
       "        vertical-align: top;\n",
       "    }\n",
       "\n",
       "    .dataframe thead th {\n",
       "        text-align: right;\n",
       "    }\n",
       "</style>\n",
       "<table border=\"1\" class=\"dataframe\">\n",
       "  <thead>\n",
       "    <tr style=\"text-align: right;\">\n",
       "      <th></th>\n",
       "      <th>email_words</th>\n",
       "      <th>Subject</th>\n",
       "      <th>Body</th>\n",
       "      <th>IsEmailPhishing</th>\n",
       "      <th>email_text</th>\n",
       "    </tr>\n",
       "  </thead>\n",
       "  <tbody>\n",
       "    <tr>\n",
       "      <th>0</th>\n",
       "      <td>new test packag angl puglisi angl aminvest com wrote also develop rapidli cv look like next version alsapla pretti cool idea readi ahh oop releas angl geometri rpm list mail list rpm list freshrpm...</td>\n",
       "      <td>Re: New testing packages</td>\n",
       "      <td>Angles Puglisi (angles@aminvestments.com) wrote*:\\n&gt;Also, they are developing rapidly in their CVS and looks like their next version\\n&gt;of alsaplaer will be pretty cool, but I have no idea when it ...</td>\n",
       "      <td>0</td>\n",
       "      <td>Re: New testing packages Angles Puglisi (angles@aminvestments.com) wrote*:\\n&gt;Also, they are developing rapidly in their CVS and looks like their next version\\n&gt;of alsaplaer will be pretty cool, bu...</td>\n",
       "    </tr>\n",
       "    <tr>\n",
       "      <th>1</th>\n",
       "      <td>paypal account suspend paypal account suspend contact remind 09 march 2007 account review team identifi unusu activ account accord paypal user agreement ensur account compromis access account limi...</td>\n",
       "      <td>Your PayPal account will be suspended !</td>\n",
       "      <td>PayPal Your account will be suspended ! We are contacting you to remind you that on 09 March 2007 our Account Review Team identified some unusual activity in your account. In accordance with PayPa...</td>\n",
       "      <td>1</td>\n",
       "      <td>Your PayPal account will be suspended ! PayPal Your account will be suspended ! We are contacting you to remind you that on 09 March 2007 our Account Review Team identified some unusual activity i...</td>\n",
       "    </tr>\n",
       "    <tr>\n",
       "      <th>2</th>\n",
       "      <td>goodby global warm j anyon fulli buri global warm would need j explain dramat increas co2 concentr j increas global temperatur explain increas co2 concentr contribut increas global temperatur news...</td>\n",
       "      <td>RE: Goodbye Global Warming</td>\n",
       "      <td>&gt;     J&gt; For anyone to fully bury global warming, they would need to\\n&gt;     J&gt; explain why the dramatic increase in CO2 concentrations are not\\n&gt;     J&gt; increasing the global temperature.\\n\\nYou h...</td>\n",
       "      <td>0</td>\n",
       "      <td>RE: Goodbye Global Warming &gt;     J&gt; For anyone to fully bury global warming, they would need to\\n&gt;     J&gt; explain why the dramatic increase in CO2 concentrations are not\\n&gt;     J&gt; increasing the g...</td>\n",
       "    </tr>\n",
       "    <tr>\n",
       "      <th>3</th>\n",
       "      <td>barclay bank plc london dearest member barclay bank plc london ask approach good friend vicki william write follow opportun offic immens benefit us though know alreadi made depart discov abandon s...</td>\n",
       "      <td>From  Barclays Bank Plc London</td>\n",
       "      <td>Dearest, I am a member of Barclays Bank Plc here in London and I was asked to approach you by my good friend,Vicky Williams.I am writing following an opportunity in my office that will be of immen...</td>\n",
       "      <td>1</td>\n",
       "      <td>From  Barclays Bank Plc London Dearest, I am a member of Barclays Bank Plc here in London and I was asked to approach you by my good friend,Vicky Williams.I am writing following an opportunity in ...</td>\n",
       "    </tr>\n",
       "    <tr>\n",
       "      <th>4</th>\n",
       "      <td>account notif onlin account need activ</td>\n",
       "      <td>Account Notification:Your Online Account Needs Re-activation</td>\n",
       "      <td>[]</td>\n",
       "      <td>1</td>\n",
       "      <td>Account Notification:Your Online Account Needs Re-activation []</td>\n",
       "    </tr>\n",
       "  </tbody>\n",
       "</table>\n",
       "</div>"
      ],
      "text/plain": [
       "                                                                                                                                                                                               email_words  \\\n",
       "0  new test packag angl puglisi angl aminvest com wrote also develop rapidli cv look like next version alsapla pretti cool idea readi ahh oop releas angl geometri rpm list mail list rpm list freshrpm...   \n",
       "1  paypal account suspend paypal account suspend contact remind 09 march 2007 account review team identifi unusu activ account accord paypal user agreement ensur account compromis access account limi...   \n",
       "2  goodby global warm j anyon fulli buri global warm would need j explain dramat increas co2 concentr j increas global temperatur explain increas co2 concentr contribut increas global temperatur news...   \n",
       "3  barclay bank plc london dearest member barclay bank plc london ask approach good friend vicki william write follow opportun offic immens benefit us though know alreadi made depart discov abandon s...   \n",
       "4                                                                                                                                                                   account notif onlin account need activ   \n",
       "\n",
       "                                                        Subject  \\\n",
       "0                                      Re: New testing packages   \n",
       "1                       Your PayPal account will be suspended !   \n",
       "2                                    RE: Goodbye Global Warming   \n",
       "3                                From  Barclays Bank Plc London   \n",
       "4  Account Notification:Your Online Account Needs Re-activation   \n",
       "\n",
       "                                                                                                                                                                                                      Body  \\\n",
       "0  Angles Puglisi (angles@aminvestments.com) wrote*:\\n>Also, they are developing rapidly in their CVS and looks like their next version\\n>of alsaplaer will be pretty cool, but I have no idea when it ...   \n",
       "1  PayPal Your account will be suspended ! We are contacting you to remind you that on 09 March 2007 our Account Review Team identified some unusual activity in your account. In accordance with PayPa...   \n",
       "2  >     J> For anyone to fully bury global warming, they would need to\\n>     J> explain why the dramatic increase in CO2 concentrations are not\\n>     J> increasing the global temperature.\\n\\nYou h...   \n",
       "3  Dearest, I am a member of Barclays Bank Plc here in London and I was asked to approach you by my good friend,Vicky Williams.I am writing following an opportunity in my office that will be of immen...   \n",
       "4                                                                                                                                                                                                       []   \n",
       "\n",
       "   IsEmailPhishing  \\\n",
       "0                0   \n",
       "1                1   \n",
       "2                0   \n",
       "3                1   \n",
       "4                1   \n",
       "\n",
       "                                                                                                                                                                                                email_text  \n",
       "0  Re: New testing packages Angles Puglisi (angles@aminvestments.com) wrote*:\\n>Also, they are developing rapidly in their CVS and looks like their next version\\n>of alsaplaer will be pretty cool, bu...  \n",
       "1  Your PayPal account will be suspended ! PayPal Your account will be suspended ! We are contacting you to remind you that on 09 March 2007 our Account Review Team identified some unusual activity i...  \n",
       "2  RE: Goodbye Global Warming >     J> For anyone to fully bury global warming, they would need to\\n>     J> explain why the dramatic increase in CO2 concentrations are not\\n>     J> increasing the g...  \n",
       "3  From  Barclays Bank Plc London Dearest, I am a member of Barclays Bank Plc here in London and I was asked to approach you by my good friend,Vicky Williams.I am writing following an opportunity in ...  \n",
       "4                                                                                                                                          Account Notification:Your Online Account Needs Re-activation []  "
      ]
     },
     "execution_count": 20,
     "metadata": {},
     "output_type": "execute_result"
    }
   ],
   "source": [
    "cols = emailText_df.columns.tolist()\n",
    "cols = cols[-1:] + cols[:-1]\n",
    "emailText_df=emailText_df[cols]\n",
    "emailText_df.head()"
   ]
  },
  {
   "cell_type": "markdown",
   "id": "fc82e5ba",
   "metadata": {},
   "source": [
    "Assigning feature and target to variables"
   ]
  },
  {
   "cell_type": "code",
   "execution_count": 21,
   "id": "e28e6ad8",
   "metadata": {},
   "outputs": [],
   "source": [
    "X = emailText_df['email_words']\n",
    "y = emailText_df['IsEmailPhishing']"
   ]
  },
  {
   "cell_type": "markdown",
   "id": "e0e5c960",
   "metadata": {},
   "source": [
    "### 🪓 Splitting into train/test"
   ]
  },
  {
   "cell_type": "markdown",
   "id": "41247cdd",
   "metadata": {},
   "source": [
    "After assigning the feature and target to X and Y variables, I am going to split the train and test data. As per examples in class, I am using 20% for test data and 80% for train data. I also choose random_state of 80."
   ]
  },
  {
   "cell_type": "code",
   "execution_count": 22,
   "id": "721ad4b8",
   "metadata": {
    "scrolled": true
   },
   "outputs": [
    {
     "name": "stdout",
     "output_type": "stream",
     "text": [
      "There are in total 4790 observations, of which 3832 are now in the train set, and 958 in the test set.\n"
     ]
    }
   ],
   "source": [
    "from sklearn.model_selection import train_test_split\n",
    "X_train, X_test, y_train, y_test = train_test_split(X, y, test_size=0.2, random_state=80)\n",
    "print(\"There are in total\", len(X), \"observations, of which\", len(X_train), \"are now in the train set, and\", len(X_test), \"in the test set.\")"
   ]
  },
  {
   "cell_type": "markdown",
   "id": "daf25c06",
   "metadata": {},
   "source": [
    "## 🧬 Modelling\n",
    "In this step only the train set is used to fit the model, which in this case uses a Random forest Classifier algorithm for classification named sklearn.ensemble. Ref: RandomForestClassifier. (n.d.-b). Scikit-learn. https://scikitlearn.org/stable/modules/generated/sklearn.ensemble.RandomForestClassifier.html And after that the test set is used to calculate the model's accuracy, in other words how well it performs. Accuracy is a fraction where any value closer to 1 is considered better, and 1 itself (100% accurate) is usually impossible.\n",
    "\n",
    "Since NLP doesn't understand textual data, the words need some how to be encorded in numbers. Here I am using CountVectorizer to encode our email texts(tokens) to a vector based on the count of each word that occurs in an email. Ref: Prashantrajkaggle. (2023, July 4). Spam message classification with NLP. Kaggle. https://www.kaggle.com/code/prashantrajkaggle/spam-message-classification-with-nlp/notebook\n",
    "\n"
   ]
  },
  {
   "cell_type": "code",
   "execution_count": 23,
   "id": "ab89edb6",
   "metadata": {},
   "outputs": [],
   "source": [
    "from sklearn.feature_extraction.text import CountVectorizer, TfidfVectorizer\n",
    "cv=CountVectorizer(max_features=2000,ngram_range=(1,2))\n",
    "X_train=cv.fit_transform(X_train).toarray()\n",
    "X_test=cv.transform(X_test).toarray()"
   ]
  },
  {
   "cell_type": "code",
   "execution_count": 24,
   "id": "1bd0136f",
   "metadata": {},
   "outputs": [],
   "source": [
    "from sklearn.ensemble import RandomForestClassifier\n",
    "classifier=RandomForestClassifier().fit(X_train,y_train)\n",
    "y_pred=classifier.predict(X_test)"
   ]
  },
  {
   "cell_type": "code",
   "execution_count": 25,
   "id": "8cc6abf8",
   "metadata": {},
   "outputs": [
    {
     "data": {
      "text/plain": [
       "0.9979123173277662"
      ]
     },
     "execution_count": 25,
     "metadata": {},
     "output_type": "execute_result"
    }
   ],
   "source": [
    "from sklearn.metrics import classification_report,accuracy_score,confusion_matrix\n",
    "\n",
    "accuracy_score(y_test,y_pred)"
   ]
  },
  {
   "cell_type": "code",
   "execution_count": 26,
   "id": "620fa81c",
   "metadata": {},
   "outputs": [
    {
     "data": {
      "text/plain": [
       "array([[524,   1],\n",
       "       [  1, 432]], dtype=int64)"
      ]
     },
     "execution_count": 26,
     "metadata": {},
     "output_type": "execute_result"
    }
   ],
   "source": [
    "confusion_matrix(y_test,y_pred)"
   ]
  },
  {
   "cell_type": "markdown",
   "id": "7bebef81",
   "metadata": {},
   "source": [
    "# visualization"
   ]
  },
  {
   "cell_type": "code",
   "execution_count": 27,
   "id": "a7038a91",
   "metadata": {},
   "outputs": [
    {
     "ename": "NameError",
     "evalue": "name 'counter' is not defined",
     "output_type": "error",
     "traceback": [
      "\u001b[1;31m---------------------------------------------------------------------------\u001b[0m",
      "\u001b[1;31mNameError\u001b[0m                                 Traceback (most recent call last)",
      "Cell \u001b[1;32mIn[27], line 1\u001b[0m\n\u001b[1;32m----> 1\u001b[0m cv \u001b[38;5;241m=\u001b[39mcounter\u001b[38;5;241m.\u001b[39mfit_transform(emailText_df)\n\u001b[0;32m      2\u001b[0m \u001b[38;5;66;03m#features = cv.get_feature_names()\u001b[39;00m\n\u001b[0;32m      3\u001b[0m \u001b[38;5;66;03m#Create a series from the sparse matrix\u001b[39;00m\n\u001b[0;32m      4\u001b[0m email_counter \u001b[38;5;241m=\u001b[39m pd\u001b[38;5;241m.\u001b[39mSeries(cv\u001b[38;5;241m.\u001b[39mtoarray())\n",
      "\u001b[1;31mNameError\u001b[0m: name 'counter' is not defined"
     ]
    }
   ],
   "source": [
    "cv =counter.fit_transform(emailText_df)\n",
    "#features = cv.get_feature_names()\n",
    "#Create a series from the sparse matrix\n",
    "email_counter = pd.Series(cv.toarray())\n",
    "              \n",
    "#We are gonna plot the most 50 frequent words in Bill's article, without taking under consideration  the stopwords.\n",
    "bar_graph = email_counter[:50].plot(kind='bar', figsize=(18,8), alpha=1, fontsize=17, rot=90,edgecolor='black', linewidth=2)\n",
    "           \n",
    "bar_graph.set_xlabel('Words')\n",
    "bar_graph.set_ylabel('Occurrences')\n",
    "#bar_graph.title.set_size(18)"
   ]
  },
  {
   "cell_type": "markdown",
   "id": "25c9e1a7",
   "metadata": {},
   "source": [
    "## 🔬 Evaluation\n",
    "\n",
    "Looking at the accuracy score we see that this model perform very well as it is predicting with 99% accuracy. We have some hyperparameters `max_features` and `ngram_range` used in the CountVectorizer that may playing a role in the performance of this model. However, myself I am not able to explain them at the moment(More reading needed). I got idea on this `Modeling` part from Prashantrajkaggle. Ref: Prashantrajkaggle. (2023, July 4). Spam message classification with NLP. Kaggle. https://www.kaggle.com/code/prashantrajkaggle/spam-message-classification-with-nlp/notebook"
   ]
  },
  {
   "cell_type": "code",
   "execution_count": null,
   "id": "c58f3de0",
   "metadata": {},
   "outputs": [],
   "source": [
    "print(classification_report(y_test,y_pred))"
   ]
  },
  {
   "cell_type": "markdown",
   "id": "b97da7f2",
   "metadata": {},
   "source": [
    "# Prediction with KNN Algorithm\n",
    "\n"
   ]
  },
  {
   "cell_type": "markdown",
   "id": "4dd8b098",
   "metadata": {},
   "source": [
    "Looking at the report above, I suspect that there is something wrong with my train data because the accuracy of 100% is almost impossible. Probably we need to increase the amount of the train data or max_features. \n",
    "\n",
    "As per feedback received from my teachers, I will try other algorthms and vectorizer and compare the results.\n",
    "Let's start with KNeighborsClassifier with the same vectorizer `CountVectorizer`"
   ]
  },
  {
   "cell_type": "code",
   "execution_count": null,
   "id": "608b14de",
   "metadata": {},
   "outputs": [],
   "source": [
    "from sklearn.neighbors import KNeighborsClassifier\n",
    "model = KNeighborsClassifier()\n",
    "model.fit(X_train, y_train)\n",
    "score = model.score(X_test, y_test)\n",
    "\n",
    "print(\"Accuracy:\", score)"
   ]
  },
  {
   "cell_type": "markdown",
   "id": "0eeb778a",
   "metadata": {},
   "source": [
    "Using KNN with CountVectorizer we are getting an accuracy of 92%. We can run our model on train and test data and compare their classification results and check if this performance is not an overfitting or underfitting. \n",
    "\n",
    "We can see that the accuracy on both train and test data are almost similar, so we can say that there is no overfitting, however, we can see that the `precision` is much higher and `recall`, which may mean our model is underfitting"
   ]
  },
  {
   "cell_type": "code",
   "execution_count": null,
   "id": "6855f214",
   "metadata": {},
   "outputs": [],
   "source": [
    "knn_train_pred = model.predict(X_train)\n",
    "knn_train_report= classification_report(y_train,knn_train_pred)\n",
    "print(knn_train_report)\n",
    "\n",
    "knn_test_pred = model.predict(X_test)\n",
    "knn_test_report= classification_report(y_test,knn_test_pred)\n",
    "print(knn_test_report)\n"
   ]
  },
  {
   "cell_type": "markdown",
   "id": "a7903f58",
   "metadata": {},
   "source": [
    "In the above model we used default values of hyperparameters, for example n_neighbors (K) is 5 by default.\n",
    "\n",
    "Let's search an optimal K value which will improve our model with less error rate.\n",
    "We are going to run the KNeighborsClassifier model with K values in range 1 to 10 and visualize in a plot to see which K will produce minimal error rate."
   ]
  },
  {
   "cell_type": "code",
   "execution_count": null,
   "id": "abee98d5",
   "metadata": {
    "scrolled": true
   },
   "outputs": [],
   "source": [
    "from sklearn import metrics\n",
    "acc=[]\n",
    "error_rate = []\n",
    "for i in range(1,10):\n",
    "    knn = KNeighborsClassifier(n_neighbors=i)\n",
    "    knn.fit(X_train,y_train)\n",
    "    pred_i = knn.predict(X_test)\n",
    "    error_rate.append(np.mean(pred_i != y_test))\n",
    "    acc.append(metrics.accuracy_score(y_test, pred_i))\n",
    "\n",
    "plt.figure(figsize=(10,6))\n",
    "plt.plot(range(1,10),error_rate,color='blue', linestyle='dashed', \n",
    "         marker='o',markerfacecolor='red', markersize=10)\n",
    "plt.title('Error Rate vs. K Value')\n",
    "plt.xlabel('K')\n",
    "plt.ylabel('Error Rate')\n",
    "print(\"Minimum error: \",min(error_rate),\"at K =\",error_rate.index(min(error_rate))+1)\n"
   ]
  },
  {
   "cell_type": "markdown",
   "id": "0d43872a",
   "metadata": {},
   "source": [
    "We find that K=2 produces the lowest error rate of 0.040, and we are validating this by plotting the accuracy against K values and got the best accuracy of 95,9% when K=2"
   ]
  },
  {
   "cell_type": "code",
   "execution_count": null,
   "id": "743be99b",
   "metadata": {},
   "outputs": [],
   "source": [
    "plt.figure(figsize=(10,6))\n",
    "plt.plot(range(1,10),acc,color='blue', linestyle='dashed', \n",
    "         marker='o',markerfacecolor='red', markersize=10)\n",
    "plt.title('accuracy vs. K Value')\n",
    "plt.xlabel('K')\n",
    "plt.ylabel('Accuracy')\n",
    "print(\"Maximum accuracy: \",max(acc),\"at K =\",acc.index(max(acc))+1)"
   ]
  },
  {
   "cell_type": "markdown",
   "id": "b26feb12",
   "metadata": {},
   "source": [
    "#### Using TF-IDF as a text tokenizer and vectorizer"
   ]
  },
  {
   "cell_type": "markdown",
   "id": "0aa8423c",
   "metadata": {},
   "source": [
    "The goal of using tf-idf is that it not only focuses on the frequency of words present in the corpus as `CountVectorizer`, but also provides the weight of the words. Sklearn.feature_extraction.text.TfidFVectorizer. (n.d.). Scikit-learn. https://scikit-learn.org/stable/modules/generated/sklearn.feature_extraction.text.TfidfVectorizer.html#sklearn.feature_extraction.t\n"
   ]
  },
  {
   "cell_type": "code",
   "execution_count": null,
   "id": "5e455af9",
   "metadata": {},
   "outputs": [],
   "source": [
    "tfidf_vectorizer = TfidfVectorizer(min_df=.01, use_idf =True, stop_words = 'english')\n",
    "tf_X_vectorized = tfidf_vectorizer.fit_transform(emailText_df['email_text']).toarray()\n",
    "tf_X_vectorized.shape"
   ]
  },
  {
   "cell_type": "code",
   "execution_count": null,
   "id": "581fafb8",
   "metadata": {},
   "outputs": [],
   "source": [
    "X = pd.DataFrame(tf_X_vectorized)\n",
    "X['email_text'] = emailText_df[\"email_text\"].values\n",
    "y = emailText_df[\"IsEmailPhishing\"]\n",
    "X.sample(5)"
   ]
  },
  {
   "cell_type": "code",
   "execution_count": null,
   "id": "e9a91f49",
   "metadata": {
    "scrolled": true
   },
   "outputs": [],
   "source": [
    "from sklearn.model_selection import train_test_split\n",
    "X_train, X_test, y_train, y_test = train_test_split(X, y, test_size=0.2, random_state=80)\n",
    "print(\"There are in total\", len(X), \"observations, of which\", len(X_train), \"are now in the train set, and\", len(X_test), \"in the test set.\")"
   ]
  },
  {
   "cell_type": "code",
   "execution_count": null,
   "id": "973b4027",
   "metadata": {},
   "outputs": [],
   "source": [
    "X_train = X_train.drop(['email_text'], axis=1)\n",
    "X_email_text = X_test['email_text']\n",
    "X_test = X_test.drop(['email_text'], axis=1)"
   ]
  },
  {
   "cell_type": "code",
   "execution_count": null,
   "id": "f8fb803c",
   "metadata": {},
   "outputs": [],
   "source": [
    "k=2\n",
    "model = KNeighborsClassifier(n_neighbors=k)\n",
    "model.fit(X_train, y_train)\n",
    "score = model.score(X_test.values, y_test)\n",
    "\n",
    "print(\"Accuracy:\", score)"
   ]
  },
  {
   "cell_type": "markdown",
   "id": "731e97fd",
   "metadata": {},
   "source": [
    "These classification reports shows that we have overfitting in our train data because the model perform well on train data `100%` and and a big difference gat on test data`89%`."
   ]
  },
  {
   "cell_type": "code",
   "execution_count": null,
   "id": "49a4c13a",
   "metadata": {},
   "outputs": [],
   "source": [
    "pred = model.predict(X_train.values)\n",
    "report= classification_report(y_train,pred)\n",
    "print(report)\n",
    "\n",
    "pred = model.predict(X_test.values)\n",
    "report= classification_report(y_test,pred)\n",
    "print(report)"
   ]
  },
  {
   "cell_type": "markdown",
   "id": "3e8ecf68",
   "metadata": {},
   "source": [
    "Let's try to perform hyperparameter tuning by reducing the max_features to 200, which will give use data with shape (4790, 200) "
   ]
  },
  {
   "cell_type": "code",
   "execution_count": null,
   "id": "425c00db",
   "metadata": {},
   "outputs": [],
   "source": [
    "tfidf_vectorizer = TfidfVectorizer(max_features=200,min_df=.01, use_idf =True, stop_words = 'english')\n",
    "tf_X_vectorized = tfidf_vectorizer.fit_transform(emailText_df['email_text']).toarray()\n",
    "tf_X_vectorized.shape"
   ]
  },
  {
   "cell_type": "markdown",
   "id": "dcc08648",
   "metadata": {},
   "source": [
    "Let's add the email text that was removed by the vectorizer"
   ]
  },
  {
   "cell_type": "code",
   "execution_count": null,
   "id": "9e47162a",
   "metadata": {},
   "outputs": [],
   "source": [
    "X = pd.DataFrame(tf_X_vectorized)\n",
    "X['email_text'] = emailText_df[\"email_text\"].values\n",
    "y = emailText_df[\"IsEmailPhishing\"]"
   ]
  },
  {
   "cell_type": "markdown",
   "id": "86eeac04",
   "metadata": {},
   "source": [
    "Splitting Train and Test data by 80% train and 20% test data"
   ]
  },
  {
   "cell_type": "code",
   "execution_count": null,
   "id": "e27cd79d",
   "metadata": {},
   "outputs": [],
   "source": [
    "from sklearn.model_selection import train_test_split\n",
    "X_train, X_test, y_train, y_test = train_test_split(X, y, test_size=0.2, random_state=80)\n",
    "print(\"There are in total\", len(X), \"observations, of which\", len(X_train), \"are now in the train set, and\", len(X_test), \"in the test set.\")"
   ]
  },
  {
   "cell_type": "markdown",
   "id": "e993c279",
   "metadata": {},
   "source": [
    "remove email text from the train and test data for running the model"
   ]
  },
  {
   "cell_type": "code",
   "execution_count": null,
   "id": "3ce34ff3",
   "metadata": {},
   "outputs": [],
   "source": [
    "X_train = X_train.drop(['email_text'], axis=1)\n",
    "X_email_text = X_test['email_text']\n",
    "X_test = X_test.drop(['email_text'], axis=1)"
   ]
  },
  {
   "cell_type": "code",
   "execution_count": null,
   "id": "f67dc705",
   "metadata": {},
   "outputs": [],
   "source": [
    "k=2\n",
    "model = KNeighborsClassifier(n_neighbors=k)\n",
    "model.fit(X_train, y_train)\n",
    "score = model.score(X_test.values, y_test)\n",
    "\n",
    "print(\"Accuracy:\", score)"
   ]
  },
  {
   "cell_type": "markdown",
   "id": "8556113d",
   "metadata": {},
   "source": [
    "Now the accuracy has increased a lot to 98% which is almost perfect performance. "
   ]
  },
  {
   "cell_type": "code",
   "execution_count": null,
   "id": "eca52893",
   "metadata": {},
   "outputs": [],
   "source": [
    "pred = model.predict(X_train.values)\n",
    "report= classification_report(y_train,pred)\n",
    "print(report)\n",
    "\n",
    "pred = model.predict(X_test.values)\n",
    "report= classification_report(y_test,pred)\n",
    "print(report)"
   ]
  },
  {
   "cell_type": "markdown",
   "id": "b751c7f6",
   "metadata": {},
   "source": [
    "## Evaluation"
   ]
  },
  {
   "cell_type": "markdown",
   "id": "32b712e2",
   "metadata": {},
   "source": [
    "Creating labels with meaningful names add a column for phishing and safe and also the actual email text in the predictions dataframe "
   ]
  },
  {
   "cell_type": "code",
   "execution_count": null,
   "id": "211fdbde",
   "metadata": {},
   "outputs": [],
   "source": [
    "label_map = {\"phishing\": 1, \"safe\": 0}\n",
    "predictions = pd.DataFrame(pred)\n",
    "predictions[\"truth\"] = y_test.map(dict((v,k) for k, v in label_map.items())).values\n",
    "predictions[\"text\"] = X_email_text.values\n",
    "predictions.sample(10)"
   ]
  },
  {
   "cell_type": "markdown",
   "id": "98e3fd77",
   "metadata": {},
   "source": [
    "To be continued ..."
   ]
  },
  {
   "cell_type": "code",
   "execution_count": null,
   "id": "35039892",
   "metadata": {},
   "outputs": [],
   "source": []
  }
 ],
 "metadata": {
  "kernelspec": {
   "display_name": "Python 3 (ipykernel)",
   "language": "python",
   "name": "python3"
  },
  "language_info": {
   "codemirror_mode": {
    "name": "ipython",
    "version": 3
   },
   "file_extension": ".py",
   "mimetype": "text/x-python",
   "name": "python",
   "nbconvert_exporter": "python",
   "pygments_lexer": "ipython3",
   "version": "3.11.4"
  }
 },
 "nbformat": 4,
 "nbformat_minor": 5
}
