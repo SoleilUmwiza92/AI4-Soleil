{
 "cells": [
  {
   "cell_type": "code",
   "execution_count": 18,
   "id": "c20ad913",
   "metadata": {},
   "outputs": [
    {
     "name": "stdout",
     "output_type": "stream",
     "text": [
      "scikit-learn version: 1.3.0\n",
      "pandas version: 1.5.3\n",
      "seaborn version: 0.12.2\n"
     ]
    }
   ],
   "source": [
    "import sklearn\n",
    "import pandas as pd\n",
    "import numpy as np\n",
    "import seaborn \n",
    "\n",
    "\n",
    "\n",
    "print(\"scikit-learn version:\", sklearn.__version__)     # 1.1.3\n",
    "print(\"pandas version:\", pandas.__version__)            # 1.5.1\n",
    "print(\"seaborn version:\", seaborn.__version__)   \n",
    "\n"
   ]
  },
  {
   "cell_type": "code",
   "execution_count": 19,
   "id": "528b08b4",
   "metadata": {},
   "outputs": [
    {
     "data": {
      "text/plain": [
       "(18651, 2)"
      ]
     },
     "execution_count": 19,
     "metadata": {},
     "output_type": "execute_result"
    }
   ],
   "source": [
    "columns=[\"Email Text\", \"Email Type\"]\n",
    "df = pd.read_csv(\"Phishing_Email.csv\", names=columns)\n",
    "df.shape\n",
    "\n"
   ]
  },
  {
   "cell_type": "code",
   "execution_count": 20,
   "id": "adae3661",
   "metadata": {},
   "outputs": [
    {
     "data": {
      "text/html": [
       "<div>\n",
       "<style scoped>\n",
       "    .dataframe tbody tr th:only-of-type {\n",
       "        vertical-align: middle;\n",
       "    }\n",
       "\n",
       "    .dataframe tbody tr th {\n",
       "        vertical-align: top;\n",
       "    }\n",
       "\n",
       "    .dataframe thead th {\n",
       "        text-align: right;\n",
       "    }\n",
       "</style>\n",
       "<table border=\"1\" class=\"dataframe\">\n",
       "  <thead>\n",
       "    <tr style=\"text-align: right;\">\n",
       "      <th></th>\n",
       "      <th>Email Text</th>\n",
       "      <th>Email Type</th>\n",
       "    </tr>\n",
       "  </thead>\n",
       "  <tbody>\n",
       "    <tr>\n",
       "      <th>NaN</th>\n",
       "      <td>Email Text</td>\n",
       "      <td>Email Type</td>\n",
       "    </tr>\n",
       "    <tr>\n",
       "      <th>0.0</th>\n",
       "      <td>re : 6 . 1100 , disc : uniformitarianism , re ...</td>\n",
       "      <td>Safe Email</td>\n",
       "    </tr>\n",
       "    <tr>\n",
       "      <th>1.0</th>\n",
       "      <td>the other side of * galicismos * * galicismo *...</td>\n",
       "      <td>Safe Email</td>\n",
       "    </tr>\n",
       "    <tr>\n",
       "      <th>2.0</th>\n",
       "      <td>re : equistar deal tickets are you still avail...</td>\n",
       "      <td>Safe Email</td>\n",
       "    </tr>\n",
       "    <tr>\n",
       "      <th>3.0</th>\n",
       "      <td>\\nHello I am your hot lil horny toy.\\n    I am...</td>\n",
       "      <td>Phishing Email</td>\n",
       "    </tr>\n",
       "  </tbody>\n",
       "</table>\n",
       "</div>"
      ],
      "text/plain": [
       "                                            Email Text      Email Type\n",
       "NaN                                         Email Text      Email Type\n",
       "0.0  re : 6 . 1100 , disc : uniformitarianism , re ...      Safe Email\n",
       "1.0  the other side of * galicismos * * galicismo *...      Safe Email\n",
       "2.0  re : equistar deal tickets are you still avail...      Safe Email\n",
       "3.0  \\nHello I am your hot lil horny toy.\\n    I am...  Phishing Email"
      ]
     },
     "execution_count": 20,
     "metadata": {},
     "output_type": "execute_result"
    }
   ],
   "source": [
    "df.head()"
   ]
  },
  {
   "cell_type": "code",
   "execution_count": 21,
   "id": "407d4317",
   "metadata": {},
   "outputs": [
    {
     "data": {
      "text/html": [
       "<div>\n",
       "<style scoped>\n",
       "    .dataframe tbody tr th:only-of-type {\n",
       "        vertical-align: middle;\n",
       "    }\n",
       "\n",
       "    .dataframe tbody tr th {\n",
       "        vertical-align: top;\n",
       "    }\n",
       "\n",
       "    .dataframe thead th {\n",
       "        text-align: right;\n",
       "    }\n",
       "</style>\n",
       "<table border=\"1\" class=\"dataframe\">\n",
       "  <thead>\n",
       "    <tr style=\"text-align: right;\">\n",
       "      <th></th>\n",
       "      <th>Email Text</th>\n",
       "      <th>Email Type</th>\n",
       "    </tr>\n",
       "  </thead>\n",
       "  <tbody>\n",
       "    <tr>\n",
       "      <th>18646.0</th>\n",
       "      <td>date a lonely housewife always wanted to date ...</td>\n",
       "      <td>Phishing Email</td>\n",
       "    </tr>\n",
       "    <tr>\n",
       "      <th>18647.0</th>\n",
       "      <td>request submitted : access request for anita ....</td>\n",
       "      <td>Safe Email</td>\n",
       "    </tr>\n",
       "    <tr>\n",
       "      <th>18648.0</th>\n",
       "      <td>re : important - prc mtg hi dorn &amp; john , as y...</td>\n",
       "      <td>Safe Email</td>\n",
       "    </tr>\n",
       "    <tr>\n",
       "      <th>18649.0</th>\n",
       "      <td>press clippings - letter on californian utilit...</td>\n",
       "      <td>Safe Email</td>\n",
       "    </tr>\n",
       "    <tr>\n",
       "      <th>18650.0</th>\n",
       "      <td>empty</td>\n",
       "      <td>Phishing Email</td>\n",
       "    </tr>\n",
       "  </tbody>\n",
       "</table>\n",
       "</div>"
      ],
      "text/plain": [
       "                                                Email Text      Email Type\n",
       "18646.0  date a lonely housewife always wanted to date ...  Phishing Email\n",
       "18647.0  request submitted : access request for anita ....      Safe Email\n",
       "18648.0  re : important - prc mtg hi dorn & john , as y...      Safe Email\n",
       "18649.0  press clippings - letter on californian utilit...      Safe Email\n",
       "18650.0                                              empty  Phishing Email"
      ]
     },
     "execution_count": 21,
     "metadata": {},
     "output_type": "execute_result"
    }
   ],
   "source": [
    "df.tail()"
   ]
  },
  {
   "cell_type": "code",
   "execution_count": 22,
   "id": "601bedec",
   "metadata": {},
   "outputs": [
    {
     "data": {
      "text/plain": [
       "<bound method DataFrame.info of                                                 Email Text      Email Type\n",
       "NaN                                             Email Text      Email Type\n",
       "0.0      re : 6 . 1100 , disc : uniformitarianism , re ...      Safe Email\n",
       "1.0      the other side of * galicismos * * galicismo *...      Safe Email\n",
       "2.0      re : equistar deal tickets are you still avail...      Safe Email\n",
       "3.0      \\nHello I am your hot lil horny toy.\\n    I am...  Phishing Email\n",
       "...                                                    ...             ...\n",
       "18646.0  date a lonely housewife always wanted to date ...  Phishing Email\n",
       "18647.0  request submitted : access request for anita ....      Safe Email\n",
       "18648.0  re : important - prc mtg hi dorn & john , as y...      Safe Email\n",
       "18649.0  press clippings - letter on californian utilit...      Safe Email\n",
       "18650.0                                              empty  Phishing Email\n",
       "\n",
       "[18651 rows x 2 columns]>"
      ]
     },
     "execution_count": 22,
     "metadata": {},
     "output_type": "execute_result"
    }
   ],
   "source": [
    "df.info"
   ]
  },
  {
   "cell_type": "code",
   "execution_count": 23,
   "id": "b1f48b86",
   "metadata": {},
   "outputs": [
    {
     "data": {
      "text/plain": [
       "(18651, 2)"
      ]
     },
     "execution_count": 23,
     "metadata": {},
     "output_type": "execute_result"
    }
   ],
   "source": [
    "df.shape"
   ]
  },
  {
   "cell_type": "code",
   "execution_count": 24,
   "id": "673a826d",
   "metadata": {},
   "outputs": [
    {
     "data": {
      "text/html": [
       "<div>\n",
       "<style scoped>\n",
       "    .dataframe tbody tr th:only-of-type {\n",
       "        vertical-align: middle;\n",
       "    }\n",
       "\n",
       "    .dataframe tbody tr th {\n",
       "        vertical-align: top;\n",
       "    }\n",
       "\n",
       "    .dataframe thead th {\n",
       "        text-align: right;\n",
       "    }\n",
       "</style>\n",
       "<table border=\"1\" class=\"dataframe\">\n",
       "  <thead>\n",
       "    <tr style=\"text-align: right;\">\n",
       "      <th></th>\n",
       "      <th>Email Text</th>\n",
       "      <th>Email Type</th>\n",
       "    </tr>\n",
       "  </thead>\n",
       "  <tbody>\n",
       "    <tr>\n",
       "      <th>15733.0</th>\n",
       "      <td>all graphics software available , cheap oem ve...</td>\n",
       "      <td>Phishing Email</td>\n",
       "    </tr>\n",
       "    <tr>\n",
       "      <th>14320.0</th>\n",
       "      <td>On Wednesday 28 August 2002 04:38 pm, Daniel Q...</td>\n",
       "      <td>Safe Email</td>\n",
       "    </tr>\n",
       "    <tr>\n",
       "      <th>17975.0</th>\n",
       "      <td>re : aekdju , the cat raised our us licensed d...</td>\n",
       "      <td>Phishing Email</td>\n",
       "    </tr>\n",
       "    <tr>\n",
       "      <th>12751.0</th>\n",
       "      <td>On Tue, 2002-08-20 at 15:01, Ian Andrew Bell w...</td>\n",
       "      <td>Safe Email</td>\n",
       "    </tr>\n",
       "    <tr>\n",
       "      <th>15978.0</th>\n",
       "      <td>query : preserving field recordings i have a q...</td>\n",
       "      <td>Safe Email</td>\n",
       "    </tr>\n",
       "    <tr>\n",
       "      <th>11994.0</th>\n",
       "      <td>rules 3 . 387 martti arnold nyman &lt; manyman @ ...</td>\n",
       "      <td>Safe Email</td>\n",
       "    </tr>\n",
       "    <tr>\n",
       "      <th>6423.0</th>\n",
       "      <td>splendid rx - - - - 11442698835409955825 hi va...</td>\n",
       "      <td>Phishing Email</td>\n",
       "    </tr>\n",
       "    <tr>\n",
       "      <th>13759.0</th>\n",
       "      <td>hgh : safe and effective release of your own g...</td>\n",
       "      <td>Phishing Email</td>\n",
       "    </tr>\n",
       "    <tr>\n",
       "      <th>3454.0</th>\n",
       "      <td>empty</td>\n",
       "      <td>Phishing Email</td>\n",
       "    </tr>\n",
       "    <tr>\n",
       "      <th>15471.0</th>\n",
       "      <td>how do you feel about offering clearing servic...</td>\n",
       "      <td>Safe Email</td>\n",
       "    </tr>\n",
       "  </tbody>\n",
       "</table>\n",
       "</div>"
      ],
      "text/plain": [
       "                                                Email Text      Email Type\n",
       "15733.0  all graphics software available , cheap oem ve...  Phishing Email\n",
       "14320.0  On Wednesday 28 August 2002 04:38 pm, Daniel Q...      Safe Email\n",
       "17975.0  re : aekdju , the cat raised our us licensed d...  Phishing Email\n",
       "12751.0  On Tue, 2002-08-20 at 15:01, Ian Andrew Bell w...      Safe Email\n",
       "15978.0  query : preserving field recordings i have a q...      Safe Email\n",
       "11994.0  rules 3 . 387 martti arnold nyman < manyman @ ...      Safe Email\n",
       "6423.0   splendid rx - - - - 11442698835409955825 hi va...  Phishing Email\n",
       "13759.0  hgh : safe and effective release of your own g...  Phishing Email\n",
       "3454.0                                               empty  Phishing Email\n",
       "15471.0  how do you feel about offering clearing servic...      Safe Email"
      ]
     },
     "execution_count": 24,
     "metadata": {},
     "output_type": "execute_result"
    }
   ],
   "source": [
    "df.sample(10)"
   ]
  },
  {
   "cell_type": "markdown",
   "id": "f65162a3",
   "metadata": {},
   "source": [
    "# Checking if there is a missing values in DataFrame"
   ]
  },
  {
   "cell_type": "code",
   "execution_count": 25,
   "id": "fd6c56f9",
   "metadata": {},
   "outputs": [
    {
     "data": {
      "text/plain": [
       "NaN        False\n",
       "0.0        False\n",
       "1.0        False\n",
       "2.0        False\n",
       "3.0        False\n",
       "           ...  \n",
       "18646.0    False\n",
       "18647.0    False\n",
       "18648.0    False\n",
       "18649.0    False\n",
       "18650.0    False\n",
       "Name: Email Type, Length: 18651, dtype: bool"
      ]
     },
     "execution_count": 25,
     "metadata": {},
     "output_type": "execute_result"
    }
   ],
   "source": [
    "pd.isna(df[\"Email Type\"])"
   ]
  },
  {
   "cell_type": "code",
   "execution_count": 26,
   "id": "4b34934f",
   "metadata": {},
   "outputs": [
    {
     "data": {
      "text/plain": [
       "NaN        False\n",
       "0.0        False\n",
       "1.0        False\n",
       "2.0        False\n",
       "3.0        False\n",
       "           ...  \n",
       "18646.0    False\n",
       "18647.0    False\n",
       "18648.0    False\n",
       "18649.0    False\n",
       "18650.0    False\n",
       "Name: Email Text, Length: 18651, dtype: bool"
      ]
     },
     "execution_count": 26,
     "metadata": {},
     "output_type": "execute_result"
    }
   ],
   "source": [
    "pd.isna(df[\"Email Text\"])"
   ]
  },
  {
   "cell_type": "code",
   "execution_count": 27,
   "id": "fe7100d5",
   "metadata": {},
   "outputs": [
    {
     "data": {
      "text/plain": [
       "NaN        True\n",
       "0.0        True\n",
       "1.0        True\n",
       "2.0        True\n",
       "3.0        True\n",
       "           ... \n",
       "18646.0    True\n",
       "18647.0    True\n",
       "18648.0    True\n",
       "18649.0    True\n",
       "18650.0    True\n",
       "Name: Email Type, Length: 18651, dtype: bool"
      ]
     },
     "execution_count": 27,
     "metadata": {},
     "output_type": "execute_result"
    }
   ],
   "source": [
    "df[\"Email Type\"].notna()"
   ]
  },
  {
   "cell_type": "code",
   "execution_count": 28,
   "id": "ca57b6ae",
   "metadata": {},
   "outputs": [
    {
     "data": {
      "text/plain": [
       "NaN        True\n",
       "0.0        True\n",
       "1.0        True\n",
       "2.0        True\n",
       "3.0        True\n",
       "           ... \n",
       "18646.0    True\n",
       "18647.0    True\n",
       "18648.0    True\n",
       "18649.0    True\n",
       "18650.0    True\n",
       "Name: Email Text, Length: 18651, dtype: bool"
      ]
     },
     "execution_count": 28,
     "metadata": {},
     "output_type": "execute_result"
    }
   ],
   "source": [
    "df[\"Email Text\"].notna()"
   ]
  },
  {
   "cell_type": "markdown",
   "id": "b229240c",
   "metadata": {},
   "source": [
    "### 🎯 Target variable\n",
    "Given that machine learning algorithms work with only numbers and therefore produce only numbers as output, the first thing that needs to be done is ascertaining that the target variable is numeric. A new column named `Email Type ID` is made, that contains a number for ech of the different `Email Type`, and that becomes the target variable for our model. The thing it needs to predict. In order to fill the new column `Email Type ID` a LabelEncoder is used, which produces a unique number for every unique text it finds in the column `Email Type`. Since there are merely two unique values, the numbers it will give are `0`and `1`. `0` is No and `1` is yes.\n",
    "\n",
    "\n"
   ]
  },
  {
   "cell_type": "code",
   "execution_count": 14,
   "id": "d5cfea03",
   "metadata": {},
   "outputs": [
    {
     "data": {
      "text/html": [
       "<div>\n",
       "<style scoped>\n",
       "    .dataframe tbody tr th:only-of-type {\n",
       "        vertical-align: middle;\n",
       "    }\n",
       "\n",
       "    .dataframe tbody tr th {\n",
       "        vertical-align: top;\n",
       "    }\n",
       "\n",
       "    .dataframe thead th {\n",
       "        text-align: right;\n",
       "    }\n",
       "</style>\n",
       "<table border=\"1\" class=\"dataframe\">\n",
       "  <thead>\n",
       "    <tr style=\"text-align: right;\">\n",
       "      <th></th>\n",
       "      <th>Email Text</th>\n",
       "      <th>Email Type</th>\n",
       "      <th>Email Type ID</th>\n",
       "    </tr>\n",
       "  </thead>\n",
       "  <tbody>\n",
       "    <tr>\n",
       "      <th>18061.0</th>\n",
       "      <td>fw : prepayment fyi . - - - - - - - - - - - - ...</td>\n",
       "      <td>Safe Email</td>\n",
       "      <td>2</td>\n",
       "    </tr>\n",
       "    <tr>\n",
       "      <th>18409.0</th>\n",
       "      <td>chinese dialectology yuen ren society for the ...</td>\n",
       "      <td>Safe Email</td>\n",
       "      <td>2</td>\n",
       "    </tr>\n",
       "    <tr>\n",
       "      <th>15249.0</th>\n",
       "      <td>oportunidad de trabajo - - esta es una respues...</td>\n",
       "      <td>Phishing Email</td>\n",
       "      <td>1</td>\n",
       "    </tr>\n",
       "    <tr>\n",
       "      <th>18023.0</th>\n",
       "      <td>log as of 12 / 29 / 00 attached please find th...</td>\n",
       "      <td>Safe Email</td>\n",
       "      <td>2</td>\n",
       "    </tr>\n",
       "    <tr>\n",
       "      <th>17972.0</th>\n",
       "      <td>save your money by getting an oem software ! n...</td>\n",
       "      <td>Phishing Email</td>\n",
       "      <td>1</td>\n",
       "    </tr>\n",
       "  </tbody>\n",
       "</table>\n",
       "</div>"
      ],
      "text/plain": [
       "                                                Email Text      Email Type  \\\n",
       "18061.0  fw : prepayment fyi . - - - - - - - - - - - - ...      Safe Email   \n",
       "18409.0  chinese dialectology yuen ren society for the ...      Safe Email   \n",
       "15249.0  oportunidad de trabajo - - esta es una respues...  Phishing Email   \n",
       "18023.0  log as of 12 / 29 / 00 attached please find th...      Safe Email   \n",
       "17972.0  save your money by getting an oem software ! n...  Phishing Email   \n",
       "\n",
       "         Email Type ID  \n",
       "18061.0              2  \n",
       "18409.0              2  \n",
       "15249.0              1  \n",
       "18023.0              2  \n",
       "17972.0              1  "
      ]
     },
     "execution_count": 14,
     "metadata": {},
     "output_type": "execute_result"
    }
   ],
   "source": [
    "from sklearn import preprocessing\n",
    "encoder = preprocessing.LabelEncoder()\n",
    "df[\"Email Type ID\"] = encoder.fit_transform(df[\"Email Type\"])\n",
    "df.sample(5)"
   ]
  },
  {
   "cell_type": "code",
   "execution_count": 29,
   "id": "2bccc867",
   "metadata": {},
   "outputs": [
    {
     "name": "stdout",
     "output_type": "stream",
     "text": [
      "Requirement already satisfied: nltk in c:\\users\\csten\\anaconda3\\lib\\site-packages (3.8.1)\n",
      "Requirement already satisfied: click in c:\\users\\csten\\anaconda3\\lib\\site-packages (from nltk) (8.0.4)\n",
      "Requirement already satisfied: joblib in c:\\users\\csten\\anaconda3\\lib\\site-packages (from nltk) (1.2.0)\n",
      "Requirement already satisfied: regex>=2021.8.3 in c:\\users\\csten\\anaconda3\\lib\\site-packages (from nltk) (2022.7.9)\n",
      "Requirement already satisfied: tqdm in c:\\users\\csten\\anaconda3\\lib\\site-packages (from nltk) (4.65.0)\n",
      "Requirement already satisfied: colorama in c:\\users\\csten\\anaconda3\\lib\\site-packages (from click->nltk) (0.4.6)\n"
     ]
    }
   ],
   "source": [
    "! pip install --user nltk"
   ]
  },
  {
   "cell_type": "code",
   "execution_count": 37,
   "id": "87f9c199",
   "metadata": {},
   "outputs": [
    {
     "name": "stderr",
     "output_type": "stream",
     "text": [
      "[nltk_data] Downloading package gutenberg to\n",
      "[nltk_data]     C:\\Users\\csten\\AppData\\Roaming\\nltk_data...\n",
      "[nltk_data]   Package gutenberg is already up-to-date!\n"
     ]
    },
    {
     "data": {
      "text/plain": [
       "True"
      ]
     },
     "execution_count": 37,
     "metadata": {},
     "output_type": "execute_result"
    }
   ],
   "source": [
    "    from nltk import word_tokenize\n",
    "    nltk.download('gutenberg')"
   ]
  },
  {
   "cell_type": "code",
   "execution_count": 38,
   "id": "125d40e9",
   "metadata": {},
   "outputs": [],
   "source": [
    " sent1 = ['lower price', 'hot', 'lost of money', '.']"
   ]
  },
  {
   "cell_type": "code",
   "execution_count": null,
   "id": "41223d43",
   "metadata": {},
   "outputs": [],
   "source": []
  }
 ],
 "metadata": {
  "kernelspec": {
   "display_name": "Python 3 (ipykernel)",
   "language": "python",
   "name": "python3"
  },
  "language_info": {
   "codemirror_mode": {
    "name": "ipython",
    "version": 3
   },
   "file_extension": ".py",
   "mimetype": "text/x-python",
   "name": "python",
   "nbconvert_exporter": "python",
   "pygments_lexer": "ipython3",
   "version": "3.11.4"
  }
 },
 "nbformat": 4,
 "nbformat_minor": 5
}
