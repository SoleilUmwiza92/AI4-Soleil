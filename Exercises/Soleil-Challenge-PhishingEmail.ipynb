{
 "cells": [
  {
   "cell_type": "markdown",
   "id": "fbd6a780",
   "metadata": {},
   "source": [
    "Name: Soleil Umwiza\n",
    "\n",
    "\n",
    "Student number: 4386019\n",
    "\n"
   ]
  },
  {
   "cell_type": "code",
   "execution_count": 1,
   "id": "c20ad913",
   "metadata": {},
   "outputs": [
    {
     "name": "stdout",
     "output_type": "stream",
     "text": [
      "scikit-learn version: 1.3.0\n",
      "pandas version: 1.5.3\n",
      "seaborn version: 0.12.2\n"
     ]
    }
   ],
   "source": [
    "import sklearn\n",
    "import pandas as pd\n",
    "import numpy as np\n",
    "import seaborn \n",
    "\n",
    "\n",
    "\n",
    "print(\"scikit-learn version:\", sklearn.__version__)     # 1.1.3\n",
    "print(\"pandas version:\", pd.__version__)            # 1.5.1\n",
    "print(\"seaborn version:\", seaborn.__version__)   \n",
    "\n"
   ]
  },
  {
   "cell_type": "code",
   "execution_count": 2,
   "id": "528b08b4",
   "metadata": {},
   "outputs": [
    {
     "data": {
      "text/plain": [
       "(18650, 2)"
      ]
     },
     "execution_count": 2,
     "metadata": {},
     "output_type": "execute_result"
    }
   ],
   "source": [
    "df = pd.read_csv(\"Phishing_Email.csv\", index_col=0)\n",
    "df.shape\n",
    "\n"
   ]
  },
  {
   "cell_type": "code",
   "execution_count": 3,
   "id": "adae3661",
   "metadata": {},
   "outputs": [
    {
     "data": {
      "text/html": [
       "<div>\n",
       "<style scoped>\n",
       "    .dataframe tbody tr th:only-of-type {\n",
       "        vertical-align: middle;\n",
       "    }\n",
       "\n",
       "    .dataframe tbody tr th {\n",
       "        vertical-align: top;\n",
       "    }\n",
       "\n",
       "    .dataframe thead th {\n",
       "        text-align: right;\n",
       "    }\n",
       "</style>\n",
       "<table border=\"1\" class=\"dataframe\">\n",
       "  <thead>\n",
       "    <tr style=\"text-align: right;\">\n",
       "      <th></th>\n",
       "      <th>Email Text</th>\n",
       "      <th>Email Type</th>\n",
       "    </tr>\n",
       "  </thead>\n",
       "  <tbody>\n",
       "    <tr>\n",
       "      <th>0</th>\n",
       "      <td>re : 6 . 1100 , disc : uniformitarianism , re ...</td>\n",
       "      <td>Safe Email</td>\n",
       "    </tr>\n",
       "    <tr>\n",
       "      <th>1</th>\n",
       "      <td>the other side of * galicismos * * galicismo *...</td>\n",
       "      <td>Safe Email</td>\n",
       "    </tr>\n",
       "    <tr>\n",
       "      <th>2</th>\n",
       "      <td>re : equistar deal tickets are you still avail...</td>\n",
       "      <td>Safe Email</td>\n",
       "    </tr>\n",
       "    <tr>\n",
       "      <th>3</th>\n",
       "      <td>\\nHello I am your hot lil horny toy.\\n    I am...</td>\n",
       "      <td>Phishing Email</td>\n",
       "    </tr>\n",
       "    <tr>\n",
       "      <th>4</th>\n",
       "      <td>software at incredibly low prices ( 86 % lower...</td>\n",
       "      <td>Phishing Email</td>\n",
       "    </tr>\n",
       "  </tbody>\n",
       "</table>\n",
       "</div>"
      ],
      "text/plain": [
       "                                          Email Text      Email Type\n",
       "0  re : 6 . 1100 , disc : uniformitarianism , re ...      Safe Email\n",
       "1  the other side of * galicismos * * galicismo *...      Safe Email\n",
       "2  re : equistar deal tickets are you still avail...      Safe Email\n",
       "3  \\nHello I am your hot lil horny toy.\\n    I am...  Phishing Email\n",
       "4  software at incredibly low prices ( 86 % lower...  Phishing Email"
      ]
     },
     "execution_count": 3,
     "metadata": {},
     "output_type": "execute_result"
    }
   ],
   "source": [
    "df.head()"
   ]
  },
  {
   "cell_type": "code",
   "execution_count": 4,
   "id": "407d4317",
   "metadata": {},
   "outputs": [
    {
     "data": {
      "text/html": [
       "<div>\n",
       "<style scoped>\n",
       "    .dataframe tbody tr th:only-of-type {\n",
       "        vertical-align: middle;\n",
       "    }\n",
       "\n",
       "    .dataframe tbody tr th {\n",
       "        vertical-align: top;\n",
       "    }\n",
       "\n",
       "    .dataframe thead th {\n",
       "        text-align: right;\n",
       "    }\n",
       "</style>\n",
       "<table border=\"1\" class=\"dataframe\">\n",
       "  <thead>\n",
       "    <tr style=\"text-align: right;\">\n",
       "      <th></th>\n",
       "      <th>Email Text</th>\n",
       "      <th>Email Type</th>\n",
       "    </tr>\n",
       "  </thead>\n",
       "  <tbody>\n",
       "    <tr>\n",
       "      <th>18646</th>\n",
       "      <td>date a lonely housewife always wanted to date ...</td>\n",
       "      <td>Phishing Email</td>\n",
       "    </tr>\n",
       "    <tr>\n",
       "      <th>18647</th>\n",
       "      <td>request submitted : access request for anita ....</td>\n",
       "      <td>Safe Email</td>\n",
       "    </tr>\n",
       "    <tr>\n",
       "      <th>18648</th>\n",
       "      <td>re : important - prc mtg hi dorn &amp; john , as y...</td>\n",
       "      <td>Safe Email</td>\n",
       "    </tr>\n",
       "    <tr>\n",
       "      <th>18649</th>\n",
       "      <td>press clippings - letter on californian utilit...</td>\n",
       "      <td>Safe Email</td>\n",
       "    </tr>\n",
       "    <tr>\n",
       "      <th>18650</th>\n",
       "      <td>empty</td>\n",
       "      <td>Phishing Email</td>\n",
       "    </tr>\n",
       "  </tbody>\n",
       "</table>\n",
       "</div>"
      ],
      "text/plain": [
       "                                              Email Text      Email Type\n",
       "18646  date a lonely housewife always wanted to date ...  Phishing Email\n",
       "18647  request submitted : access request for anita ....      Safe Email\n",
       "18648  re : important - prc mtg hi dorn & john , as y...      Safe Email\n",
       "18649  press clippings - letter on californian utilit...      Safe Email\n",
       "18650                                              empty  Phishing Email"
      ]
     },
     "execution_count": 4,
     "metadata": {},
     "output_type": "execute_result"
    }
   ],
   "source": [
    "df.tail()"
   ]
  },
  {
   "cell_type": "code",
   "execution_count": 5,
   "id": "673a826d",
   "metadata": {},
   "outputs": [
    {
     "data": {
      "text/html": [
       "<div>\n",
       "<style scoped>\n",
       "    .dataframe tbody tr th:only-of-type {\n",
       "        vertical-align: middle;\n",
       "    }\n",
       "\n",
       "    .dataframe tbody tr th {\n",
       "        vertical-align: top;\n",
       "    }\n",
       "\n",
       "    .dataframe thead th {\n",
       "        text-align: right;\n",
       "    }\n",
       "</style>\n",
       "<table border=\"1\" class=\"dataframe\">\n",
       "  <thead>\n",
       "    <tr style=\"text-align: right;\">\n",
       "      <th></th>\n",
       "      <th>Email Text</th>\n",
       "      <th>Email Type</th>\n",
       "    </tr>\n",
       "  </thead>\n",
       "  <tbody>\n",
       "    <tr>\n",
       "      <th>11338</th>\n",
       "      <td>matters \\ / alluum , ambleen , xaanax , tussl ...</td>\n",
       "      <td>Phishing Email</td>\n",
       "    </tr>\n",
       "    <tr>\n",
       "      <th>13289</th>\n",
       "      <td>Another one fizzles out...http://www.cnn.com/2...</td>\n",
       "      <td>Safe Email</td>\n",
       "    </tr>\n",
       "    <tr>\n",
       "      <th>3338</th>\n",
       "      <td>\\nMalte S. Stretz said:\\n&gt; 1046 is fixed. But ...</td>\n",
       "      <td>Safe Email</td>\n",
       "    </tr>\n",
       "    <tr>\n",
       "      <th>15139</th>\n",
       "      <td>Heh. Never mind the perfectly good desert in t...</td>\n",
       "      <td>Safe Email</td>\n",
       "    </tr>\n",
       "    <tr>\n",
       "      <th>15457</th>\n",
       "      <td>re : dental coverage yes . thanks , gm from : ...</td>\n",
       "      <td>Safe Email</td>\n",
       "    </tr>\n",
       "    <tr>\n",
       "      <th>15462</th>\n",
       "      <td>\\nWell it looks pretty much 99% sure that we w...</td>\n",
       "      <td>Safe Email</td>\n",
       "    </tr>\n",
       "    <tr>\n",
       "      <th>12839</th>\n",
       "      <td>best mortgage rate vjd with regards to want to...</td>\n",
       "      <td>Phishing Email</td>\n",
       "    </tr>\n",
       "    <tr>\n",
       "      <th>18023</th>\n",
       "      <td>log as of 12 / 29 / 00 attached please find th...</td>\n",
       "      <td>Safe Email</td>\n",
       "    </tr>\n",
       "    <tr>\n",
       "      <th>7304</th>\n",
       "      <td>use Perl Daily Headline MailerAnnouncing South...</td>\n",
       "      <td>Safe Email</td>\n",
       "    </tr>\n",
       "    <tr>\n",
       "      <th>9927</th>\n",
       "      <td>las vegas - please read and respond asap each ...</td>\n",
       "      <td>Safe Email</td>\n",
       "    </tr>\n",
       "  </tbody>\n",
       "</table>\n",
       "</div>"
      ],
      "text/plain": [
       "                                              Email Text      Email Type\n",
       "11338  matters \\ / alluum , ambleen , xaanax , tussl ...  Phishing Email\n",
       "13289  Another one fizzles out...http://www.cnn.com/2...      Safe Email\n",
       "3338   \\nMalte S. Stretz said:\\n> 1046 is fixed. But ...      Safe Email\n",
       "15139  Heh. Never mind the perfectly good desert in t...      Safe Email\n",
       "15457  re : dental coverage yes . thanks , gm from : ...      Safe Email\n",
       "15462  \\nWell it looks pretty much 99% sure that we w...      Safe Email\n",
       "12839  best mortgage rate vjd with regards to want to...  Phishing Email\n",
       "18023  log as of 12 / 29 / 00 attached please find th...      Safe Email\n",
       "7304   use Perl Daily Headline MailerAnnouncing South...      Safe Email\n",
       "9927   las vegas - please read and respond asap each ...      Safe Email"
      ]
     },
     "execution_count": 5,
     "metadata": {},
     "output_type": "execute_result"
    }
   ],
   "source": [
    "df.sample(10)"
   ]
  },
  {
   "cell_type": "code",
   "execution_count": 18,
   "id": "c1be0783",
   "metadata": {},
   "outputs": [
    {
     "name": "stdout",
     "output_type": "stream",
     "text": [
      "<class 'pandas.core.frame.DataFrame'>\n",
      "Int64Index: 18650 entries, 0 to 18650\n",
      "Data columns (total 4 columns):\n",
      " #   Column          Non-Null Count  Dtype \n",
      "---  ------          --------------  ----- \n",
      " 0   EmailText       18650 non-null  object\n",
      " 1   EmailType       18650 non-null  object\n",
      " 2   EmailTypeID     18650 non-null  int32 \n",
      " 3   TokenizedEmail  18650 non-null  object\n",
      "dtypes: int32(1), object(3)\n",
      "memory usage: 1.1+ MB\n"
     ]
    }
   ],
   "source": [
    "df.info()"
   ]
  },
  {
   "cell_type": "code",
   "execution_count": 6,
   "id": "51c0c693",
   "metadata": {},
   "outputs": [],
   "source": [
    "df=df.rename(columns={'Email Text': 'EmailText','Email Type':'EmailType'}) # changing columns name"
   ]
  },
  {
   "cell_type": "markdown",
   "id": "8497e441",
   "metadata": {},
   "source": [
    "## Data cleaning and Pre-processing"
   ]
  },
  {
   "cell_type": "markdown",
   "id": "d5411a66",
   "metadata": {},
   "source": [
    "Check if there is a missing values"
   ]
  },
  {
   "cell_type": "code",
   "execution_count": 7,
   "id": "fd6c56f9",
   "metadata": {},
   "outputs": [
    {
     "data": {
      "text/plain": [
       "16"
      ]
     },
     "execution_count": 7,
     "metadata": {},
     "output_type": "execute_result"
    }
   ],
   "source": [
    "df.isnull().values.sum()"
   ]
  },
  {
   "cell_type": "code",
   "execution_count": 8,
   "id": "e34d2619",
   "metadata": {},
   "outputs": [
    {
     "name": "stdout",
     "output_type": "stream",
     "text": [
      "      EmailText       EmailType\n",
      "31          NaN  Phishing Email\n",
      "387         NaN  Phishing Email\n",
      "1883        NaN  Phishing Email\n",
      "2049        NaN  Phishing Email\n",
      "2451        NaN  Phishing Email\n",
      "2972        NaN  Phishing Email\n",
      "3627        NaN  Phishing Email\n",
      "3806        NaN  Phishing Email\n",
      "5763        NaN  Phishing Email\n",
      "6299        NaN  Phishing Email\n",
      "6822        NaN  Phishing Email\n",
      "8595        NaN  Phishing Email\n",
      "10000       NaN  Phishing Email\n",
      "11070       NaN  Phishing Email\n",
      "11321       NaN  Phishing Email\n",
      "13844       NaN  Phishing Email\n"
     ]
    }
   ],
   "source": [
    "df1 = df[df.isna().any(axis=1)]\n",
    "print(df1)"
   ]
  },
  {
   "cell_type": "markdown",
   "id": "b229240c",
   "metadata": {},
   "source": [
    "### 🎯 Target variable\n",
    "Given that machine learning algorithms work with only numbers and therefore produce only numbers as output, the first thing that needs to be done is ascertaining that the target variable is numeric. A new column named `EmailTypeID` is made, that contains a number for ech of the different `EmailType`, and that becomes the target variable for our model. The thing it needs to predict. In order to fill the new column `EmailTypeID` a LabelEncoder is used, which produces a unique number for every unique text it finds in the column `EmailType`. Since there are merely two unique values, the numbers it will give are `0`and `1`. `0` is phishing and `1` is safe.\n",
    "\n",
    "\n"
   ]
  },
  {
   "cell_type": "code",
   "execution_count": 9,
   "id": "d5cfea03",
   "metadata": {},
   "outputs": [
    {
     "data": {
      "text/html": [
       "<div>\n",
       "<style scoped>\n",
       "    .dataframe tbody tr th:only-of-type {\n",
       "        vertical-align: middle;\n",
       "    }\n",
       "\n",
       "    .dataframe tbody tr th {\n",
       "        vertical-align: top;\n",
       "    }\n",
       "\n",
       "    .dataframe thead th {\n",
       "        text-align: right;\n",
       "    }\n",
       "</style>\n",
       "<table border=\"1\" class=\"dataframe\">\n",
       "  <thead>\n",
       "    <tr style=\"text-align: right;\">\n",
       "      <th></th>\n",
       "      <th>EmailText</th>\n",
       "      <th>EmailType</th>\n",
       "      <th>EmailTypeID</th>\n",
       "    </tr>\n",
       "  </thead>\n",
       "  <tbody>\n",
       "    <tr>\n",
       "      <th>11795</th>\n",
       "      <td>fwd : [ sneakier ] 81 % - off vicodin . allevi...</td>\n",
       "      <td>Phishing Email</td>\n",
       "      <td>0</td>\n",
       "    </tr>\n",
       "    <tr>\n",
       "      <th>15376</th>\n",
       "      <td>failure notice hi . this is the qmail - send p...</td>\n",
       "      <td>Phishing Email</td>\n",
       "      <td>0</td>\n",
       "    </tr>\n",
       "    <tr>\n",
       "      <th>12225</th>\n",
       "      <td>&gt; * FoRK is now almost all spam, somebody fix ...</td>\n",
       "      <td>Safe Email</td>\n",
       "      <td>1</td>\n",
       "    </tr>\n",
       "    <tr>\n",
       "      <th>7337</th>\n",
       "      <td>possible spreadsheet i ' m not sure if this sp...</td>\n",
       "      <td>Safe Email</td>\n",
       "      <td>1</td>\n",
       "    </tr>\n",
       "    <tr>\n",
       "      <th>15279</th>\n",
       "      <td>re : conference phelim , thanks again for the ...</td>\n",
       "      <td>Safe Email</td>\n",
       "      <td>1</td>\n",
       "    </tr>\n",
       "    <tr>\n",
       "      <th>12403</th>\n",
       "      <td>can ' t draw a straight line ? well . . . now ...</td>\n",
       "      <td>Phishing Email</td>\n",
       "      <td>0</td>\n",
       "    </tr>\n",
       "    <tr>\n",
       "      <th>7166</th>\n",
       "      <td>URL: http://scriptingnews.userland.com/backiss...</td>\n",
       "      <td>Safe Email</td>\n",
       "      <td>1</td>\n",
       "    </tr>\n",
       "    <tr>\n",
       "      <th>6319</th>\n",
       "      <td>it is a great day for great saving on meds sel...</td>\n",
       "      <td>Phishing Email</td>\n",
       "      <td>0</td>\n",
       "    </tr>\n",
       "    <tr>\n",
       "      <th>3057</th>\n",
       "      <td>URL: http://boingboing.net/#85516563\\nDate: No...</td>\n",
       "      <td>Safe Email</td>\n",
       "      <td>1</td>\n",
       "    </tr>\n",
       "    <tr>\n",
       "      <th>1826</th>\n",
       "      <td>=================================Guaranteed to...</td>\n",
       "      <td>Phishing Email</td>\n",
       "      <td>0</td>\n",
       "    </tr>\n",
       "  </tbody>\n",
       "</table>\n",
       "</div>"
      ],
      "text/plain": [
       "                                               EmailText       EmailType  \\\n",
       "11795  fwd : [ sneakier ] 81 % - off vicodin . allevi...  Phishing Email   \n",
       "15376  failure notice hi . this is the qmail - send p...  Phishing Email   \n",
       "12225  > * FoRK is now almost all spam, somebody fix ...      Safe Email   \n",
       "7337   possible spreadsheet i ' m not sure if this sp...      Safe Email   \n",
       "15279  re : conference phelim , thanks again for the ...      Safe Email   \n",
       "12403  can ' t draw a straight line ? well . . . now ...  Phishing Email   \n",
       "7166   URL: http://scriptingnews.userland.com/backiss...      Safe Email   \n",
       "6319   it is a great day for great saving on meds sel...  Phishing Email   \n",
       "3057   URL: http://boingboing.net/#85516563\\nDate: No...      Safe Email   \n",
       "1826   =================================Guaranteed to...  Phishing Email   \n",
       "\n",
       "       EmailTypeID  \n",
       "11795            0  \n",
       "15376            0  \n",
       "12225            1  \n",
       "7337             1  \n",
       "15279            1  \n",
       "12403            0  \n",
       "7166             1  \n",
       "6319             0  \n",
       "3057             1  \n",
       "1826             0  "
      ]
     },
     "execution_count": 9,
     "metadata": {},
     "output_type": "execute_result"
    }
   ],
   "source": [
    "from sklearn import preprocessing\n",
    "encoder = preprocessing.LabelEncoder()\n",
    "df[\"EmailTypeID\"]=encoder.fit_transform(df[\"EmailType\"])\n",
    "df.sample(10)"
   ]
  },
  {
   "cell_type": "markdown",
   "id": "433a3134",
   "metadata": {},
   "source": [
    "Installing NLTK library for tokenization and ignoring English stopwords"
   ]
  },
  {
   "cell_type": "code",
   "execution_count": 10,
   "id": "2bccc867",
   "metadata": {},
   "outputs": [
    {
     "name": "stdout",
     "output_type": "stream",
     "text": [
      "Requirement already satisfied: nltk in c:\\users\\csten\\anaconda3\\lib\\site-packages (3.8.1)\n",
      "Requirement already satisfied: click in c:\\users\\csten\\anaconda3\\lib\\site-packages (from nltk) (8.0.4)\n",
      "Requirement already satisfied: joblib in c:\\users\\csten\\anaconda3\\lib\\site-packages (from nltk) (1.2.0)\n",
      "Requirement already satisfied: regex>=2021.8.3 in c:\\users\\csten\\anaconda3\\lib\\site-packages (from nltk) (2022.7.9)\n",
      "Requirement already satisfied: tqdm in c:\\users\\csten\\anaconda3\\lib\\site-packages (from nltk) (4.65.0)\n",
      "Requirement already satisfied: colorama in c:\\users\\csten\\anaconda3\\lib\\site-packages (from click->nltk) (0.4.6)\n"
     ]
    }
   ],
   "source": [
    "! pip install --user nltk"
   ]
  },
  {
   "cell_type": "markdown",
   "id": "91037c88",
   "metadata": {},
   "source": [
    "Importing packages for tokenization and function to perform natural language pre-processing"
   ]
  },
  {
   "cell_type": "code",
   "execution_count": 11,
   "id": "52c55144",
   "metadata": {},
   "outputs": [
    {
     "name": "stderr",
     "output_type": "stream",
     "text": [
      "[nltk_data] Downloading package punkt to\n",
      "[nltk_data]     C:\\Users\\csten\\AppData\\Roaming\\nltk_data...\n",
      "[nltk_data]   Package punkt is already up-to-date!\n"
     ]
    }
   ],
   "source": [
    "from nltk.tokenize import word_tokenize\n",
    "from nltk.corpus import stopwords\n",
    "from nltk.stem.snowball import EnglishStemmer\n",
    "import nltk\n",
    "nltk.download('punkt')\n",
    "stemmer = EnglishStemmer()\n",
    "\n",
    "#Getting list of English stopwords\n",
    "stop_words = set(stopwords.words('english'))\n",
    " \n",
    "# converts the words in word_tokens to lower case and then checks whether\n",
    "#they are present in stop_words or not, return tokens without stopwords\n",
    "def text_preprocessing(text):\n",
    "    word_tokens = word_tokenize(stemmer.stem(text))\n",
    "    return [w for w in word_tokens if not w in stop_words]\n",
    "\n"
   ]
  },
  {
   "cell_type": "markdown",
   "id": "3c98993a",
   "metadata": {},
   "source": [
    "Fill NaN values with empty string to avoid type errors"
   ]
  },
  {
   "cell_type": "code",
   "execution_count": 19,
   "id": "3ba243ec",
   "metadata": {},
   "outputs": [],
   "source": [
    "df['EmailText']=df['EmailText'].fillna('').apply(str)"
   ]
  },
  {
   "cell_type": "markdown",
   "id": "c0a38eb7",
   "metadata": {},
   "source": [
    "Duplicate the EmailText column and perform tokenization to the new one without changing the original Text"
   ]
  },
  {
   "cell_type": "code",
   "execution_count": 20,
   "id": "02c69ff3",
   "metadata": {},
   "outputs": [],
   "source": [
    "df['TokenizedEmail']= df['EmailText']"
   ]
  },
  {
   "cell_type": "code",
   "execution_count": 21,
   "id": "df446f8c",
   "metadata": {},
   "outputs": [
    {
     "data": {
      "text/plain": [
       "'re : 6 . 1100 , disc : uniformitarianism , re : 1086 ; sex / lang dick hudson \\'s observations on us use of \\'s on \\' but not \\'d aughter \\' as a vocative are very thought-provoking , but i am not sure that it is fair to attribute this to \" sons \" being \" treated like senior relatives \" . for one thing , we do n\\'t normally use \\' brother \\' in this way any more than we do \\'d aughter \\' , and it is hard to imagine a natural class comprising senior relatives and \\'s on \\' but excluding \\' brother \\' . for another , there seem to me to be differences here . if i am not imagining a distinction that is not there , it seems to me that the senior relative terms are used in a wider variety of contexts , e . g . , calling out from a distance to get someone \\'s attention , and hence at the beginning of an utterance , whereas \\'s on \\' seems more natural in utterances like \\' yes , son \\' , \\' hand me that , son \\' than in ones like \\' son ! \\' or \\' son , help me ! \\' ( although perhaps these latter ones are not completely impossible ) . alexis mr'"
      ]
     },
     "execution_count": 21,
     "metadata": {},
     "output_type": "execute_result"
    }
   ],
   "source": [
    "df['TokenizedEmail'][0]"
   ]
  },
  {
   "cell_type": "code",
   "execution_count": 22,
   "id": "e751dadc",
   "metadata": {},
   "outputs": [
    {
     "data": {
      "text/plain": [
       "{'!',\n",
       " \"'\",\n",
       " \"'d\",\n",
       " \"'s\",\n",
       " '(',\n",
       " ')',\n",
       " ',',\n",
       " '.',\n",
       " '/',\n",
       " '1086',\n",
       " '1100',\n",
       " '6',\n",
       " ':',\n",
       " ';',\n",
       " '``',\n",
       " 'alexis',\n",
       " 'although',\n",
       " 'another',\n",
       " 'attention',\n",
       " 'attribute',\n",
       " 'aughter',\n",
       " 'beginning',\n",
       " 'brother',\n",
       " 'calling',\n",
       " 'class',\n",
       " 'completely',\n",
       " 'comprising',\n",
       " 'contexts',\n",
       " 'dick',\n",
       " 'differences',\n",
       " 'disc',\n",
       " 'distance',\n",
       " 'distinction',\n",
       " 'e',\n",
       " 'excluding',\n",
       " 'fair',\n",
       " 'g',\n",
       " 'get',\n",
       " 'hand',\n",
       " 'hard',\n",
       " 'help',\n",
       " 'hence',\n",
       " 'hudson',\n",
       " 'imagine',\n",
       " 'imagining',\n",
       " 'impossible',\n",
       " 'lang',\n",
       " 'latter',\n",
       " 'like',\n",
       " 'mr',\n",
       " \"n't\",\n",
       " 'natural',\n",
       " 'normally',\n",
       " 'observations',\n",
       " 'one',\n",
       " 'ones',\n",
       " 'perhaps',\n",
       " 'relative',\n",
       " 'relatives',\n",
       " 'seem',\n",
       " 'seems',\n",
       " 'senior',\n",
       " 'sex',\n",
       " 'someone',\n",
       " 'son',\n",
       " 'sons',\n",
       " 'sure',\n",
       " 'terms',\n",
       " 'thing',\n",
       " 'thought-provoking',\n",
       " 'treated',\n",
       " 'uniformitarianism',\n",
       " 'us',\n",
       " 'use',\n",
       " 'used',\n",
       " 'utterance',\n",
       " 'utterances',\n",
       " 'variety',\n",
       " 'vocative',\n",
       " 'way',\n",
       " 'whereas',\n",
       " 'wider',\n",
       " 'yes'}"
      ]
     },
     "execution_count": 22,
     "metadata": {},
     "output_type": "execute_result"
    }
   ],
   "source": [
    "set(text_preprocessing(str('re : 6 . 1100 , disc : uniformitarianism , re : 1086 ; sex / lang dick hudson \\'s observations on us use of \\'s on \\' but not \\'d aughter \\' as a vocative are very thought-provoking , but i am not sure that it is fair to attribute this to \" sons \" being \" treated like senior relatives \" . for one thing , we do n\\'t normally use \\' brother \\' in this way any more than we do \\'d aughter \\' , and it is hard to imagine a natural class comprising senior relatives and \\'s on \\' but excluding \\' brother \\' . for another , there seem to me to be differences here . if i am not imagining a distinction that is not there , it seems to me that the senior relative terms are used in a wider variety of contexts , e . g . , calling out from a distance to get someone \\'s attention , and hence at the beginning of an utterance , whereas \\'s on \\' seems more natural in utterances like \\' yes , son \\' , \\' hand me that , son \\' than in ones like \\' son ! \\' or \\' son , help me ! \\' ( although perhaps these latter ones are not completely impossible ) . alexis mr')))"
   ]
  },
  {
   "cell_type": "markdown",
   "id": "911391bb",
   "metadata": {},
   "source": [
    "Using our function that perform stemming, tokenization and eliminates stopwords, we then use the \"set()\" function to convert the list of words to a set, hence removing duplicates "
   ]
  },
  {
   "cell_type": "code",
   "execution_count": 23,
   "id": "6778b583",
   "metadata": {},
   "outputs": [
    {
     "data": {
      "text/plain": [
       "0        {yes, excluding, get, uniformitarianism, one, ...\n",
       "1        {designates, ., joseph, barbarismo, ?, phenome...\n",
       "2        {06, new, questions, let, 04, 1999, 156337, si...\n",
       "3        {sign-up, toy, sexy, hot, ., 1-900-993-2582, e...\n",
       "4        {depend, carry, wild, ., represent, software, ...\n",
       "                               ...                        \n",
       "18646    {personals, signup, thousands, ., /, ?, cheati...\n",
       "18647    {listed, click, 000000000012735, ., /, gibner,...\n",
       "18648    {arrangement, reviewing, discovered, get, well...\n",
       "18649    {letter, clippings, kind, (, california, ,, fo...\n",
       "18650                                              {empti}\n",
       "Name: TokenizedEmail, Length: 18650, dtype: object"
      ]
     },
     "execution_count": 23,
     "metadata": {},
     "output_type": "execute_result"
    }
   ],
   "source": [
    "df['TokenizedEmail'].apply(lambda x: set(text_preprocessing(str(x))))"
   ]
  },
  {
   "cell_type": "code",
   "execution_count": null,
   "id": "0cbdb761",
   "metadata": {},
   "outputs": [],
   "source": []
  }
 ],
 "metadata": {
  "kernelspec": {
   "display_name": "Python 3 (ipykernel)",
   "language": "python",
   "name": "python3"
  },
  "language_info": {
   "codemirror_mode": {
    "name": "ipython",
    "version": 3
   },
   "file_extension": ".py",
   "mimetype": "text/x-python",
   "name": "python",
   "nbconvert_exporter": "python",
   "pygments_lexer": "ipython3",
   "version": "3.11.4"
  }
 },
 "nbformat": 4,
 "nbformat_minor": 5
}
