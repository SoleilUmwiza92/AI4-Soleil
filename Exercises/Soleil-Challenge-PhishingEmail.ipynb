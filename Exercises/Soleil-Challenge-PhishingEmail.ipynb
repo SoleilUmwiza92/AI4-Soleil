{
 "cells": [
  {
   "cell_type": "markdown",
   "id": "fbd6a780",
   "metadata": {},
   "source": [
    "Name: Soleil Umwiza\n",
    "\n",
    "\n",
    "Student number: 4386019\n",
    "\n"
   ]
  },
  {
   "cell_type": "code",
   "execution_count": 1,
   "id": "c20ad913",
   "metadata": {},
   "outputs": [
    {
     "name": "stdout",
     "output_type": "stream",
     "text": [
      "scikit-learn version: 1.3.0\n",
      "pandas version: 1.5.3\n",
      "seaborn version: 0.12.2\n"
     ]
    }
   ],
   "source": [
    "import sklearn\n",
    "import pandas as pd\n",
    "import numpy as np\n",
    "import seaborn \n",
    "\n",
    "\n",
    "\n",
    "print(\"scikit-learn version:\", sklearn.__version__)     # 1.1.3\n",
    "print(\"pandas version:\", pd.__version__)            # 1.5.1\n",
    "print(\"seaborn version:\", seaborn.__version__)   \n",
    "\n"
   ]
  },
  {
   "cell_type": "code",
   "execution_count": 2,
   "id": "528b08b4",
   "metadata": {},
   "outputs": [
    {
     "data": {
      "text/plain": [
       "(18650, 2)"
      ]
     },
     "execution_count": 2,
     "metadata": {},
     "output_type": "execute_result"
    }
   ],
   "source": [
    "df = pd.read_csv(\"Phishing_Email.csv\", index_col=0)\n",
    "df.shape\n",
    "\n"
   ]
  },
  {
   "cell_type": "code",
   "execution_count": 3,
   "id": "adae3661",
   "metadata": {},
   "outputs": [
    {
     "data": {
      "text/html": [
       "<div>\n",
       "<style scoped>\n",
       "    .dataframe tbody tr th:only-of-type {\n",
       "        vertical-align: middle;\n",
       "    }\n",
       "\n",
       "    .dataframe tbody tr th {\n",
       "        vertical-align: top;\n",
       "    }\n",
       "\n",
       "    .dataframe thead th {\n",
       "        text-align: right;\n",
       "    }\n",
       "</style>\n",
       "<table border=\"1\" class=\"dataframe\">\n",
       "  <thead>\n",
       "    <tr style=\"text-align: right;\">\n",
       "      <th></th>\n",
       "      <th>Email Text</th>\n",
       "      <th>Email Type</th>\n",
       "    </tr>\n",
       "  </thead>\n",
       "  <tbody>\n",
       "    <tr>\n",
       "      <th>0</th>\n",
       "      <td>re : 6 . 1100 , disc : uniformitarianism , re ...</td>\n",
       "      <td>Safe Email</td>\n",
       "    </tr>\n",
       "    <tr>\n",
       "      <th>1</th>\n",
       "      <td>the other side of * galicismos * * galicismo *...</td>\n",
       "      <td>Safe Email</td>\n",
       "    </tr>\n",
       "    <tr>\n",
       "      <th>2</th>\n",
       "      <td>re : equistar deal tickets are you still avail...</td>\n",
       "      <td>Safe Email</td>\n",
       "    </tr>\n",
       "    <tr>\n",
       "      <th>3</th>\n",
       "      <td>\\nHello I am your hot lil horny toy.\\n    I am...</td>\n",
       "      <td>Phishing Email</td>\n",
       "    </tr>\n",
       "    <tr>\n",
       "      <th>4</th>\n",
       "      <td>software at incredibly low prices ( 86 % lower...</td>\n",
       "      <td>Phishing Email</td>\n",
       "    </tr>\n",
       "  </tbody>\n",
       "</table>\n",
       "</div>"
      ],
      "text/plain": [
       "                                          Email Text      Email Type\n",
       "0  re : 6 . 1100 , disc : uniformitarianism , re ...      Safe Email\n",
       "1  the other side of * galicismos * * galicismo *...      Safe Email\n",
       "2  re : equistar deal tickets are you still avail...      Safe Email\n",
       "3  \\nHello I am your hot lil horny toy.\\n    I am...  Phishing Email\n",
       "4  software at incredibly low prices ( 86 % lower...  Phishing Email"
      ]
     },
     "execution_count": 3,
     "metadata": {},
     "output_type": "execute_result"
    }
   ],
   "source": [
    "df.head()"
   ]
  },
  {
   "cell_type": "code",
   "execution_count": 4,
   "id": "407d4317",
   "metadata": {},
   "outputs": [
    {
     "data": {
      "text/html": [
       "<div>\n",
       "<style scoped>\n",
       "    .dataframe tbody tr th:only-of-type {\n",
       "        vertical-align: middle;\n",
       "    }\n",
       "\n",
       "    .dataframe tbody tr th {\n",
       "        vertical-align: top;\n",
       "    }\n",
       "\n",
       "    .dataframe thead th {\n",
       "        text-align: right;\n",
       "    }\n",
       "</style>\n",
       "<table border=\"1\" class=\"dataframe\">\n",
       "  <thead>\n",
       "    <tr style=\"text-align: right;\">\n",
       "      <th></th>\n",
       "      <th>Email Text</th>\n",
       "      <th>Email Type</th>\n",
       "    </tr>\n",
       "  </thead>\n",
       "  <tbody>\n",
       "    <tr>\n",
       "      <th>18646</th>\n",
       "      <td>date a lonely housewife always wanted to date ...</td>\n",
       "      <td>Phishing Email</td>\n",
       "    </tr>\n",
       "    <tr>\n",
       "      <th>18647</th>\n",
       "      <td>request submitted : access request for anita ....</td>\n",
       "      <td>Safe Email</td>\n",
       "    </tr>\n",
       "    <tr>\n",
       "      <th>18648</th>\n",
       "      <td>re : important - prc mtg hi dorn &amp; john , as y...</td>\n",
       "      <td>Safe Email</td>\n",
       "    </tr>\n",
       "    <tr>\n",
       "      <th>18649</th>\n",
       "      <td>press clippings - letter on californian utilit...</td>\n",
       "      <td>Safe Email</td>\n",
       "    </tr>\n",
       "    <tr>\n",
       "      <th>18650</th>\n",
       "      <td>empty</td>\n",
       "      <td>Phishing Email</td>\n",
       "    </tr>\n",
       "  </tbody>\n",
       "</table>\n",
       "</div>"
      ],
      "text/plain": [
       "                                              Email Text      Email Type\n",
       "18646  date a lonely housewife always wanted to date ...  Phishing Email\n",
       "18647  request submitted : access request for anita ....      Safe Email\n",
       "18648  re : important - prc mtg hi dorn & john , as y...      Safe Email\n",
       "18649  press clippings - letter on californian utilit...      Safe Email\n",
       "18650                                              empty  Phishing Email"
      ]
     },
     "execution_count": 4,
     "metadata": {},
     "output_type": "execute_result"
    }
   ],
   "source": [
    "df.tail()"
   ]
  },
  {
   "cell_type": "code",
   "execution_count": 5,
   "id": "673a826d",
   "metadata": {},
   "outputs": [
    {
     "data": {
      "text/html": [
       "<div>\n",
       "<style scoped>\n",
       "    .dataframe tbody tr th:only-of-type {\n",
       "        vertical-align: middle;\n",
       "    }\n",
       "\n",
       "    .dataframe tbody tr th {\n",
       "        vertical-align: top;\n",
       "    }\n",
       "\n",
       "    .dataframe thead th {\n",
       "        text-align: right;\n",
       "    }\n",
       "</style>\n",
       "<table border=\"1\" class=\"dataframe\">\n",
       "  <thead>\n",
       "    <tr style=\"text-align: right;\">\n",
       "      <th></th>\n",
       "      <th>Email Text</th>\n",
       "      <th>Email Type</th>\n",
       "    </tr>\n",
       "  </thead>\n",
       "  <tbody>\n",
       "    <tr>\n",
       "      <th>11780</th>\n",
       "      <td>charity partners golf outing ten spaces are st...</td>\n",
       "      <td>Safe Email</td>\n",
       "    </tr>\n",
       "    <tr>\n",
       "      <th>17642</th>\n",
       "      <td>re : you neeed our super specials on antidotes...</td>\n",
       "      <td>Phishing Email</td>\n",
       "    </tr>\n",
       "    <tr>\n",
       "      <th>17385</th>\n",
       "      <td>URL: http://www.newsisfree.com/click/-1,838114...</td>\n",
       "      <td>Safe Email</td>\n",
       "    </tr>\n",
       "    <tr>\n",
       "      <th>3652</th>\n",
       "      <td>world wide announcement to respond to the need...</td>\n",
       "      <td>Safe Email</td>\n",
       "    </tr>\n",
       "    <tr>\n",
       "      <th>18473</th>\n",
       "      <td>URL: http://diveintomark.org/archives/2002/10/...</td>\n",
       "      <td>Safe Email</td>\n",
       "    </tr>\n",
       "    <tr>\n",
       "      <th>9937</th>\n",
       "      <td>\\nFull Access Medical          To sign up for ...</td>\n",
       "      <td>Phishing Email</td>\n",
       "    </tr>\n",
       "    <tr>\n",
       "      <th>1135</th>\n",
       "      <td>esslli ' 98 student session - 2nd cfp the essl...</td>\n",
       "      <td>Safe Email</td>\n",
       "    </tr>\n",
       "    <tr>\n",
       "      <th>4496</th>\n",
       "      <td>empty</td>\n",
       "      <td>Safe Email</td>\n",
       "    </tr>\n",
       "    <tr>\n",
       "      <th>9601</th>\n",
       "      <td>pictures special , list add yes , written reme...</td>\n",
       "      <td>Phishing Email</td>\n",
       "    </tr>\n",
       "    <tr>\n",
       "      <th>13568</th>\n",
       "      <td>jm@jmason.org (Justin Mason) writes:&gt;&gt;&gt;   DATE...</td>\n",
       "      <td>Safe Email</td>\n",
       "    </tr>\n",
       "  </tbody>\n",
       "</table>\n",
       "</div>"
      ],
      "text/plain": [
       "                                              Email Text      Email Type\n",
       "11780  charity partners golf outing ten spaces are st...      Safe Email\n",
       "17642  re : you neeed our super specials on antidotes...  Phishing Email\n",
       "17385  URL: http://www.newsisfree.com/click/-1,838114...      Safe Email\n",
       "3652   world wide announcement to respond to the need...      Safe Email\n",
       "18473  URL: http://diveintomark.org/archives/2002/10/...      Safe Email\n",
       "9937   \\nFull Access Medical          To sign up for ...  Phishing Email\n",
       "1135   esslli ' 98 student session - 2nd cfp the essl...      Safe Email\n",
       "4496                                               empty      Safe Email\n",
       "9601   pictures special , list add yes , written reme...  Phishing Email\n",
       "13568  jm@jmason.org (Justin Mason) writes:>>>   DATE...      Safe Email"
      ]
     },
     "execution_count": 5,
     "metadata": {},
     "output_type": "execute_result"
    }
   ],
   "source": [
    "df.sample(10)"
   ]
  },
  {
   "cell_type": "code",
   "execution_count": 6,
   "id": "c1be0783",
   "metadata": {},
   "outputs": [
    {
     "name": "stdout",
     "output_type": "stream",
     "text": [
      "<class 'pandas.core.frame.DataFrame'>\n",
      "Int64Index: 18650 entries, 0 to 18650\n",
      "Data columns (total 2 columns):\n",
      " #   Column      Non-Null Count  Dtype \n",
      "---  ------      --------------  ----- \n",
      " 0   Email Text  18634 non-null  object\n",
      " 1   Email Type  18650 non-null  object\n",
      "dtypes: object(2)\n",
      "memory usage: 437.1+ KB\n"
     ]
    }
   ],
   "source": [
    "df.info()"
   ]
  },
  {
   "cell_type": "code",
   "execution_count": 7,
   "id": "51c0c693",
   "metadata": {},
   "outputs": [],
   "source": [
    "df=df.rename(columns={'Email Text': 'EmailText','Email Type':'EmailType'}) # changing columns name"
   ]
  },
  {
   "cell_type": "markdown",
   "id": "8497e441",
   "metadata": {},
   "source": [
    "## Data cleaning and Pre-processing"
   ]
  },
  {
   "cell_type": "markdown",
   "id": "d5411a66",
   "metadata": {},
   "source": [
    "Check if there is a missing values"
   ]
  },
  {
   "cell_type": "code",
   "execution_count": 8,
   "id": "fd6c56f9",
   "metadata": {},
   "outputs": [
    {
     "data": {
      "text/plain": [
       "16"
      ]
     },
     "execution_count": 8,
     "metadata": {},
     "output_type": "execute_result"
    }
   ],
   "source": [
    "df.isnull().values.sum()"
   ]
  },
  {
   "cell_type": "code",
   "execution_count": 9,
   "id": "e34d2619",
   "metadata": {},
   "outputs": [
    {
     "name": "stdout",
     "output_type": "stream",
     "text": [
      "      EmailText       EmailType\n",
      "31          NaN  Phishing Email\n",
      "387         NaN  Phishing Email\n",
      "1883        NaN  Phishing Email\n",
      "2049        NaN  Phishing Email\n",
      "2451        NaN  Phishing Email\n",
      "2972        NaN  Phishing Email\n",
      "3627        NaN  Phishing Email\n",
      "3806        NaN  Phishing Email\n",
      "5763        NaN  Phishing Email\n",
      "6299        NaN  Phishing Email\n",
      "6822        NaN  Phishing Email\n",
      "8595        NaN  Phishing Email\n",
      "10000       NaN  Phishing Email\n",
      "11070       NaN  Phishing Email\n",
      "11321       NaN  Phishing Email\n",
      "13844       NaN  Phishing Email\n"
     ]
    }
   ],
   "source": [
    "df1 = df[df.isna().any(axis=1)]\n",
    "print(df1)"
   ]
  },
  {
   "cell_type": "markdown",
   "id": "b229240c",
   "metadata": {},
   "source": [
    "### 🎯 Target variable\n",
    "Given that machine learning algorithms work with only numbers and therefore produce only numbers as output, the first thing that needs to be done is ascertaining that the target variable is numeric. A new column named `EmailTypeID` is made, that contains a number for ech of the different `EmailType`, and that becomes the target variable for our model. The thing it needs to predict. In order to fill the new column `EmailTypeID` a LabelEncoder is used, which produces a unique number for every unique text it finds in the column `EmailType`. Since there are merely two unique values, the numbers it will give are `0`and `1`. `0` is phishing and `1` is safe.\n",
    "\n",
    "\n"
   ]
  },
  {
   "cell_type": "code",
   "execution_count": 10,
   "id": "d5cfea03",
   "metadata": {},
   "outputs": [
    {
     "data": {
      "text/html": [
       "<div>\n",
       "<style scoped>\n",
       "    .dataframe tbody tr th:only-of-type {\n",
       "        vertical-align: middle;\n",
       "    }\n",
       "\n",
       "    .dataframe tbody tr th {\n",
       "        vertical-align: top;\n",
       "    }\n",
       "\n",
       "    .dataframe thead th {\n",
       "        text-align: right;\n",
       "    }\n",
       "</style>\n",
       "<table border=\"1\" class=\"dataframe\">\n",
       "  <thead>\n",
       "    <tr style=\"text-align: right;\">\n",
       "      <th></th>\n",
       "      <th>EmailText</th>\n",
       "      <th>EmailType</th>\n",
       "      <th>EmailTypeID</th>\n",
       "    </tr>\n",
       "  </thead>\n",
       "  <tbody>\n",
       "    <tr>\n",
       "      <th>14559</th>\n",
       "      <td>upcoming discretionary var limit changes per d...</td>\n",
       "      <td>Safe Email</td>\n",
       "      <td>1</td>\n",
       "    </tr>\n",
       "    <tr>\n",
       "      <th>12057</th>\n",
       "      <td>SPECIAL SITUATION ALERTS HOT PICK OF THE YEARE...</td>\n",
       "      <td>Phishing Email</td>\n",
       "      <td>0</td>\n",
       "    </tr>\n",
       "    <tr>\n",
       "      <th>18295</th>\n",
       "      <td>geir ' s goals )</td>\n",
       "      <td>Safe Email</td>\n",
       "      <td>1</td>\n",
       "    </tr>\n",
       "    <tr>\n",
       "      <th>14356</th>\n",
       "      <td>\\n&gt; I just had to jump in here as Carbonara is...</td>\n",
       "      <td>Safe Email</td>\n",
       "      <td>1</td>\n",
       "    </tr>\n",
       "    <tr>\n",
       "      <th>15219</th>\n",
       "      <td>fw : neevr seen prono flash animation buenos d...</td>\n",
       "      <td>Phishing Email</td>\n",
       "      <td>0</td>\n",
       "    </tr>\n",
       "    <tr>\n",
       "      <th>8052</th>\n",
       "      <td>On Wed, 2002-07-31 at 15:16, Elias Sinderson w...</td>\n",
       "      <td>Safe Email</td>\n",
       "      <td>1</td>\n",
       "    </tr>\n",
       "    <tr>\n",
       "      <th>1131</th>\n",
       "      <td>URGENT NOTICEPENDING MERGER TO INCREASE REVENU...</td>\n",
       "      <td>Phishing Email</td>\n",
       "      <td>0</td>\n",
       "    </tr>\n",
       "    <tr>\n",
       "      <th>6885</th>\n",
       "      <td>free this is a multi-part message in mime form...</td>\n",
       "      <td>Phishing Email</td>\n",
       "      <td>0</td>\n",
       "    </tr>\n",
       "    <tr>\n",
       "      <th>18626</th>\n",
       "      <td>cera conference call &amp; web presentation : tran...</td>\n",
       "      <td>Safe Email</td>\n",
       "      <td>1</td>\n",
       "    </tr>\n",
       "    <tr>\n",
       "      <th>7138</th>\n",
       "      <td>\\nHello, jm@netnoteinc.comHuman Growth Hormone...</td>\n",
       "      <td>Phishing Email</td>\n",
       "      <td>0</td>\n",
       "    </tr>\n",
       "  </tbody>\n",
       "</table>\n",
       "</div>"
      ],
      "text/plain": [
       "                                               EmailText       EmailType  \\\n",
       "14559  upcoming discretionary var limit changes per d...      Safe Email   \n",
       "12057  SPECIAL SITUATION ALERTS HOT PICK OF THE YEARE...  Phishing Email   \n",
       "18295                                   geir ' s goals )      Safe Email   \n",
       "14356  \\n> I just had to jump in here as Carbonara is...      Safe Email   \n",
       "15219  fw : neevr seen prono flash animation buenos d...  Phishing Email   \n",
       "8052   On Wed, 2002-07-31 at 15:16, Elias Sinderson w...      Safe Email   \n",
       "1131   URGENT NOTICEPENDING MERGER TO INCREASE REVENU...  Phishing Email   \n",
       "6885   free this is a multi-part message in mime form...  Phishing Email   \n",
       "18626  cera conference call & web presentation : tran...      Safe Email   \n",
       "7138   \\nHello, jm@netnoteinc.comHuman Growth Hormone...  Phishing Email   \n",
       "\n",
       "       EmailTypeID  \n",
       "14559            1  \n",
       "12057            0  \n",
       "18295            1  \n",
       "14356            1  \n",
       "15219            0  \n",
       "8052             1  \n",
       "1131             0  \n",
       "6885             0  \n",
       "18626            1  \n",
       "7138             0  "
      ]
     },
     "execution_count": 10,
     "metadata": {},
     "output_type": "execute_result"
    }
   ],
   "source": [
    "from sklearn import preprocessing\n",
    "encoder = preprocessing.LabelEncoder()\n",
    "df[\"EmailTypeID\"]=encoder.fit_transform(df[\"EmailType\"])\n",
    "df.sample(10)"
   ]
  },
  {
   "cell_type": "code",
   "execution_count": 11,
   "id": "713f884c",
   "metadata": {},
   "outputs": [
    {
     "name": "stdout",
     "output_type": "stream",
     "text": [
      "<class 'pandas.core.frame.DataFrame'>\n",
      "Int64Index: 18650 entries, 0 to 18650\n",
      "Data columns (total 3 columns):\n",
      " #   Column       Non-Null Count  Dtype \n",
      "---  ------       --------------  ----- \n",
      " 0   EmailText    18634 non-null  object\n",
      " 1   EmailType    18650 non-null  object\n",
      " 2   EmailTypeID  18650 non-null  int32 \n",
      "dtypes: int32(1), object(2)\n",
      "memory usage: 510.0+ KB\n"
     ]
    }
   ],
   "source": [
    "df.info()"
   ]
  },
  {
   "cell_type": "markdown",
   "id": "433a3134",
   "metadata": {},
   "source": [
    "Installing NLTK library for tokenization and ignoring English stopwords"
   ]
  },
  {
   "cell_type": "code",
   "execution_count": 12,
   "id": "2bccc867",
   "metadata": {},
   "outputs": [
    {
     "name": "stdout",
     "output_type": "stream",
     "text": [
      "Requirement already satisfied: nltk in c:\\users\\csten\\anaconda3\\lib\\site-packages (3.8.1)\n",
      "Requirement already satisfied: click in c:\\users\\csten\\anaconda3\\lib\\site-packages (from nltk) (8.0.4)\n",
      "Requirement already satisfied: joblib in c:\\users\\csten\\anaconda3\\lib\\site-packages (from nltk) (1.2.0)\n",
      "Requirement already satisfied: regex>=2021.8.3 in c:\\users\\csten\\anaconda3\\lib\\site-packages (from nltk) (2022.7.9)\n",
      "Requirement already satisfied: tqdm in c:\\users\\csten\\anaconda3\\lib\\site-packages (from nltk) (4.65.0)\n",
      "Requirement already satisfied: colorama in c:\\users\\csten\\anaconda3\\lib\\site-packages (from click->nltk) (0.4.6)\n"
     ]
    }
   ],
   "source": [
    "! pip install --user nltk"
   ]
  },
  {
   "cell_type": "markdown",
   "id": "91037c88",
   "metadata": {},
   "source": [
    "Importing packages for tokenization and function to perform natural language pre-processing"
   ]
  },
  {
   "cell_type": "code",
   "execution_count": 13,
   "id": "52c55144",
   "metadata": {},
   "outputs": [
    {
     "name": "stderr",
     "output_type": "stream",
     "text": [
      "[nltk_data] Downloading package punkt to\n",
      "[nltk_data]     C:\\Users\\csten\\AppData\\Roaming\\nltk_data...\n",
      "[nltk_data]   Package punkt is already up-to-date!\n"
     ]
    }
   ],
   "source": [
    "from nltk.tokenize import word_tokenize\n",
    "from nltk.corpus import stopwords\n",
    "from nltk.stem.snowball import EnglishStemmer\n",
    "import nltk\n",
    "nltk.download('punkt')\n",
    "stemmer = EnglishStemmer()\n",
    "\n",
    "#Getting list of English stopwords\n",
    "stop_words = set(stopwords.words('english'))\n",
    " \n",
    "# converts the words in word_tokens to lower case and then checks whether\n",
    "#they are present in stop_words or not, return tokens without stopwords\n",
    "def text_preprocessing(text):\n",
    "    word_tokens = word_tokenize(stemmer.stem(text))\n",
    "    return [w for w in word_tokens if not w in stop_words]\n",
    "\n"
   ]
  },
  {
   "cell_type": "markdown",
   "id": "3c98993a",
   "metadata": {},
   "source": [
    "Fill NaN values with empty string to avoid type errors"
   ]
  },
  {
   "cell_type": "code",
   "execution_count": 14,
   "id": "3ba243ec",
   "metadata": {},
   "outputs": [],
   "source": [
    "df['EmailText']=df['EmailText'].fillna('').apply(str)"
   ]
  },
  {
   "cell_type": "markdown",
   "id": "c0a38eb7",
   "metadata": {},
   "source": [
    "Duplicate the EmailText column and perform tokenization to the new one without changing the original Text"
   ]
  },
  {
   "cell_type": "code",
   "execution_count": 15,
   "id": "02c69ff3",
   "metadata": {},
   "outputs": [],
   "source": [
    "df['TokenizedEmail']= df['EmailText']"
   ]
  },
  {
   "cell_type": "code",
   "execution_count": 16,
   "id": "df446f8c",
   "metadata": {},
   "outputs": [
    {
     "data": {
      "text/plain": [
       "'re : 6 . 1100 , disc : uniformitarianism , re : 1086 ; sex / lang dick hudson \\'s observations on us use of \\'s on \\' but not \\'d aughter \\' as a vocative are very thought-provoking , but i am not sure that it is fair to attribute this to \" sons \" being \" treated like senior relatives \" . for one thing , we do n\\'t normally use \\' brother \\' in this way any more than we do \\'d aughter \\' , and it is hard to imagine a natural class comprising senior relatives and \\'s on \\' but excluding \\' brother \\' . for another , there seem to me to be differences here . if i am not imagining a distinction that is not there , it seems to me that the senior relative terms are used in a wider variety of contexts , e . g . , calling out from a distance to get someone \\'s attention , and hence at the beginning of an utterance , whereas \\'s on \\' seems more natural in utterances like \\' yes , son \\' , \\' hand me that , son \\' than in ones like \\' son ! \\' or \\' son , help me ! \\' ( although perhaps these latter ones are not completely impossible ) . alexis mr'"
      ]
     },
     "execution_count": 16,
     "metadata": {},
     "output_type": "execute_result"
    }
   ],
   "source": [
    "df['TokenizedEmail'][0]"
   ]
  },
  {
   "cell_type": "code",
   "execution_count": 17,
   "id": "e751dadc",
   "metadata": {},
   "outputs": [
    {
     "data": {
      "text/plain": [
       "{'!',\n",
       " \"'\",\n",
       " \"'d\",\n",
       " \"'s\",\n",
       " '(',\n",
       " ')',\n",
       " ',',\n",
       " '.',\n",
       " '/',\n",
       " '1086',\n",
       " '1100',\n",
       " '6',\n",
       " ':',\n",
       " ';',\n",
       " '``',\n",
       " 'alexis',\n",
       " 'although',\n",
       " 'another',\n",
       " 'attention',\n",
       " 'attribute',\n",
       " 'aughter',\n",
       " 'beginning',\n",
       " 'brother',\n",
       " 'calling',\n",
       " 'class',\n",
       " 'completely',\n",
       " 'comprising',\n",
       " 'contexts',\n",
       " 'dick',\n",
       " 'differences',\n",
       " 'disc',\n",
       " 'distance',\n",
       " 'distinction',\n",
       " 'e',\n",
       " 'excluding',\n",
       " 'fair',\n",
       " 'g',\n",
       " 'get',\n",
       " 'hand',\n",
       " 'hard',\n",
       " 'help',\n",
       " 'hence',\n",
       " 'hudson',\n",
       " 'imagine',\n",
       " 'imagining',\n",
       " 'impossible',\n",
       " 'lang',\n",
       " 'latter',\n",
       " 'like',\n",
       " 'mr',\n",
       " \"n't\",\n",
       " 'natural',\n",
       " 'normally',\n",
       " 'observations',\n",
       " 'one',\n",
       " 'ones',\n",
       " 'perhaps',\n",
       " 'relative',\n",
       " 'relatives',\n",
       " 'seem',\n",
       " 'seems',\n",
       " 'senior',\n",
       " 'sex',\n",
       " 'someone',\n",
       " 'son',\n",
       " 'sons',\n",
       " 'sure',\n",
       " 'terms',\n",
       " 'thing',\n",
       " 'thought-provoking',\n",
       " 'treated',\n",
       " 'uniformitarianism',\n",
       " 'us',\n",
       " 'use',\n",
       " 'used',\n",
       " 'utterance',\n",
       " 'utterances',\n",
       " 'variety',\n",
       " 'vocative',\n",
       " 'way',\n",
       " 'whereas',\n",
       " 'wider',\n",
       " 'yes'}"
      ]
     },
     "execution_count": 17,
     "metadata": {},
     "output_type": "execute_result"
    }
   ],
   "source": [
    "set(text_preprocessing(str('re : 6 . 1100 , disc : uniformitarianism , re : 1086 ; sex / lang dick hudson \\'s observations on us use of \\'s on \\' but not \\'d aughter \\' as a vocative are very thought-provoking , but i am not sure that it is fair to attribute this to \" sons \" being \" treated like senior relatives \" . for one thing , we do n\\'t normally use \\' brother \\' in this way any more than we do \\'d aughter \\' , and it is hard to imagine a natural class comprising senior relatives and \\'s on \\' but excluding \\' brother \\' . for another , there seem to me to be differences here . if i am not imagining a distinction that is not there , it seems to me that the senior relative terms are used in a wider variety of contexts , e . g . , calling out from a distance to get someone \\'s attention , and hence at the beginning of an utterance , whereas \\'s on \\' seems more natural in utterances like \\' yes , son \\' , \\' hand me that , son \\' than in ones like \\' son ! \\' or \\' son , help me ! \\' ( although perhaps these latter ones are not completely impossible ) . alexis mr')))"
   ]
  },
  {
   "cell_type": "markdown",
   "id": "911391bb",
   "metadata": {},
   "source": [
    "Using our function that perform stemming, tokenization and eliminates stopwords, we then use the \"set()\" function to convert the list of words to a set, hence removing duplicates "
   ]
  },
  {
   "cell_type": "code",
   "execution_count": 18,
   "id": "6778b583",
   "metadata": {},
   "outputs": [
    {
     "data": {
      "text/plain": [
       "0        {imagine, ;, us, excluding, contexts, whereas,...\n",
       "1        {origin, names, opposite, sounding, <, galicis...\n",
       "2        {farmer, pricing, sale, want, forward, tina, n...\n",
       "3        {call, free, imagination, love, person, e-mail...\n",
       "4        {represent, job, subtract, family, person, %, ...\n",
       "                               ...                        \n",
       "18646    {php, lonely, www, biz, wanted, :, housewifes,...\n",
       "18647    {approval, \\, review, upon, data, common, reso...\n",
       "18648    {hi, mail, starting, arrangement, could, expli...\n",
       "18649    {following, chana, team, ', also, utilities, l...\n",
       "18650                                              {empti}\n",
       "Name: TokenizedEmail, Length: 18650, dtype: object"
      ]
     },
     "execution_count": 18,
     "metadata": {},
     "output_type": "execute_result"
    }
   ],
   "source": [
    "df['TokenizedEmail'].apply(lambda x: set(text_preprocessing(str(x))))"
   ]
  },
  {
   "cell_type": "code",
   "execution_count": 19,
   "id": "0cbdb761",
   "metadata": {},
   "outputs": [
    {
     "data": {
      "text/html": [
       "<div>\n",
       "<style scoped>\n",
       "    .dataframe tbody tr th:only-of-type {\n",
       "        vertical-align: middle;\n",
       "    }\n",
       "\n",
       "    .dataframe tbody tr th {\n",
       "        vertical-align: top;\n",
       "    }\n",
       "\n",
       "    .dataframe thead th {\n",
       "        text-align: right;\n",
       "    }\n",
       "</style>\n",
       "<table border=\"1\" class=\"dataframe\">\n",
       "  <thead>\n",
       "    <tr style=\"text-align: right;\">\n",
       "      <th></th>\n",
       "      <th>EmailText</th>\n",
       "      <th>EmailType</th>\n",
       "      <th>EmailTypeID</th>\n",
       "      <th>TokenizedEmail</th>\n",
       "    </tr>\n",
       "  </thead>\n",
       "  <tbody>\n",
       "    <tr>\n",
       "      <th>0</th>\n",
       "      <td>re : 6 . 1100 , disc : uniformitarianism , re ...</td>\n",
       "      <td>Safe Email</td>\n",
       "      <td>1</td>\n",
       "      <td>re : 6 . 1100 , disc : uniformitarianism , re ...</td>\n",
       "    </tr>\n",
       "    <tr>\n",
       "      <th>1</th>\n",
       "      <td>the other side of * galicismos * * galicismo *...</td>\n",
       "      <td>Safe Email</td>\n",
       "      <td>1</td>\n",
       "      <td>the other side of * galicismos * * galicismo *...</td>\n",
       "    </tr>\n",
       "    <tr>\n",
       "      <th>2</th>\n",
       "      <td>re : equistar deal tickets are you still avail...</td>\n",
       "      <td>Safe Email</td>\n",
       "      <td>1</td>\n",
       "      <td>re : equistar deal tickets are you still avail...</td>\n",
       "    </tr>\n",
       "    <tr>\n",
       "      <th>3</th>\n",
       "      <td>\\nHello I am your hot lil horny toy.\\n    I am...</td>\n",
       "      <td>Phishing Email</td>\n",
       "      <td>0</td>\n",
       "      <td>\\nHello I am your hot lil horny toy.\\n    I am...</td>\n",
       "    </tr>\n",
       "    <tr>\n",
       "      <th>4</th>\n",
       "      <td>software at incredibly low prices ( 86 % lower...</td>\n",
       "      <td>Phishing Email</td>\n",
       "      <td>0</td>\n",
       "      <td>software at incredibly low prices ( 86 % lower...</td>\n",
       "    </tr>\n",
       "    <tr>\n",
       "      <th>...</th>\n",
       "      <td>...</td>\n",
       "      <td>...</td>\n",
       "      <td>...</td>\n",
       "      <td>...</td>\n",
       "    </tr>\n",
       "    <tr>\n",
       "      <th>18646</th>\n",
       "      <td>date a lonely housewife always wanted to date ...</td>\n",
       "      <td>Phishing Email</td>\n",
       "      <td>0</td>\n",
       "      <td>date a lonely housewife always wanted to date ...</td>\n",
       "    </tr>\n",
       "    <tr>\n",
       "      <th>18647</th>\n",
       "      <td>request submitted : access request for anita ....</td>\n",
       "      <td>Safe Email</td>\n",
       "      <td>1</td>\n",
       "      <td>request submitted : access request for anita ....</td>\n",
       "    </tr>\n",
       "    <tr>\n",
       "      <th>18648</th>\n",
       "      <td>re : important - prc mtg hi dorn &amp; john , as y...</td>\n",
       "      <td>Safe Email</td>\n",
       "      <td>1</td>\n",
       "      <td>re : important - prc mtg hi dorn &amp; john , as y...</td>\n",
       "    </tr>\n",
       "    <tr>\n",
       "      <th>18649</th>\n",
       "      <td>press clippings - letter on californian utilit...</td>\n",
       "      <td>Safe Email</td>\n",
       "      <td>1</td>\n",
       "      <td>press clippings - letter on californian utilit...</td>\n",
       "    </tr>\n",
       "    <tr>\n",
       "      <th>18650</th>\n",
       "      <td>empty</td>\n",
       "      <td>Phishing Email</td>\n",
       "      <td>0</td>\n",
       "      <td>empty</td>\n",
       "    </tr>\n",
       "  </tbody>\n",
       "</table>\n",
       "<p>18650 rows × 4 columns</p>\n",
       "</div>"
      ],
      "text/plain": [
       "                                               EmailText       EmailType  \\\n",
       "0      re : 6 . 1100 , disc : uniformitarianism , re ...      Safe Email   \n",
       "1      the other side of * galicismos * * galicismo *...      Safe Email   \n",
       "2      re : equistar deal tickets are you still avail...      Safe Email   \n",
       "3      \\nHello I am your hot lil horny toy.\\n    I am...  Phishing Email   \n",
       "4      software at incredibly low prices ( 86 % lower...  Phishing Email   \n",
       "...                                                  ...             ...   \n",
       "18646  date a lonely housewife always wanted to date ...  Phishing Email   \n",
       "18647  request submitted : access request for anita ....      Safe Email   \n",
       "18648  re : important - prc mtg hi dorn & john , as y...      Safe Email   \n",
       "18649  press clippings - letter on californian utilit...      Safe Email   \n",
       "18650                                              empty  Phishing Email   \n",
       "\n",
       "       EmailTypeID                                     TokenizedEmail  \n",
       "0                1  re : 6 . 1100 , disc : uniformitarianism , re ...  \n",
       "1                1  the other side of * galicismos * * galicismo *...  \n",
       "2                1  re : equistar deal tickets are you still avail...  \n",
       "3                0  \\nHello I am your hot lil horny toy.\\n    I am...  \n",
       "4                0  software at incredibly low prices ( 86 % lower...  \n",
       "...            ...                                                ...  \n",
       "18646            0  date a lonely housewife always wanted to date ...  \n",
       "18647            1  request submitted : access request for anita ....  \n",
       "18648            1  re : important - prc mtg hi dorn & john , as y...  \n",
       "18649            1  press clippings - letter on californian utilit...  \n",
       "18650            0                                              empty  \n",
       "\n",
       "[18650 rows x 4 columns]"
      ]
     },
     "execution_count": 19,
     "metadata": {},
     "output_type": "execute_result"
    }
   ],
   "source": [
    "df"
   ]
  },
  {
   "cell_type": "code",
   "execution_count": null,
   "id": "8b8535b0",
   "metadata": {},
   "outputs": [],
   "source": []
  }
 ],
 "metadata": {
  "kernelspec": {
   "display_name": "Python 3 (ipykernel)",
   "language": "python",
   "name": "python3"
  },
  "language_info": {
   "codemirror_mode": {
    "name": "ipython",
    "version": 3
   },
   "file_extension": ".py",
   "mimetype": "text/x-python",
   "name": "python",
   "nbconvert_exporter": "python",
   "pygments_lexer": "ipython3",
   "version": "3.11.4"
  }
 },
 "nbformat": 4,
 "nbformat_minor": 5
}
