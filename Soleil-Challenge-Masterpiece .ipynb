{
 "cells": [
  {
   "cell_type": "markdown",
   "id": "710c6e7b",
   "metadata": {},
   "source": [
    " \n",
    "\n",
    "\n",
    "- *Umwiza, Soleil S.*\n",
    "- *Student number: 4386019*\n",
    "--------------------------------------\n",
    "\n",
    "## Phase 1: Proposal\n",
    "\n",
    "#### **Introduction**\n",
    "\n",
    "Phishing email have become a persistent and evolving threat, targeting individuals and organizations worldwide. To combat this menace, the integration of artificial intelligence (AI) technologie has emerged as a potent solution. By leveraging AI’s capabilities in data analysis, pattern recognition, and anomaly detection, organizations and email users can enhance their defenses against phishing attacks.\n",
    "\n",
    "\n",
    "\n",
    "## 🟡 Domain understanding\n",
    "\n",
    "\n",
    "\n",
    "#### **What?**\n",
    "\n",
    "*What is the main goal of this project?*\n",
    "\n",
    "I want to implement a model that will detect phishing emails automatically without human intervention.\n",
    "\n",
    "\n",
    "\n",
    "#### **Why**\n",
    "*Why is this project important?*\n",
    "\n",
    "With the development of technology, emails are widely used in business, professional, and social communication. Criminals also see this as an opportunity to steal people's money or access personal information and use them in their criminal activities.\n",
    "\n",
    "Unfortunately, not everyone is able to recognize a phishing email just by looking at it. People are still being victims of phishing emails and other online criminalities. Because of this issue, having a system that will detect phishing emails and flag them will help users of emails recognize those unwanted emails and prevent the damage this can cause to email users.\n",
    "\n",
    "#### **Who**\n",
    "*Who will benefit from the results of this project?*\n",
    "\n",
    "This model will benefit the following stakeholders:\n",
    " Companies/Institutions that use emails in their work or business will benefit from this system because it will protect their business and the data of their employees and clients\n",
    "Normal users of email are the main target of phishing therefore will benefit from this system.\n",
    "Email providers have the responsibility of protecting their client's data, therefore this system will be beneficial for them\n",
    "\n",
    "\n",
    "#### **When**\n",
    "*When will you deliver this projetc?*\n",
    "\n",
    "For this project, I am using the Jira software as a tool for my planning and progress of increments. I create use stories to work on during a sprint and for each Sprint I set its goal. Below is the screenshot of my sprint.\n",
    "\n",
    "\n",
    "\n",
    "This project will consist of 2 iterations of challenge 1. The masterpiece challenge will be delivered on the 26th of November.\n",
    "\n",
    "#### **How**\n",
    "*How will the project achieve its objectives?* \n",
    "\n",
    "For this project, I will need the dataset to train and test my model. The data required are sample emails with their types. For Cleaning, processing, and analyzing the dataset, Python will be used as a programming language and Jupyter Notebook will be used as a development environment. \n",
    "Dataset: The dataset that will be used in this project is publicly available on Kaggle. The dataset is composed of 18650 rows and 2 columns(Email body and Email type).\n",
    "Machine Learning Algorithm: Since the expected outcome of this project is a model that will classify incoming emails, Classification will be a suitable algorithm to use in this project.\n",
    "\n",
    "\n",
    "\n",
    "There are plenty of positive and negative impacts of AI on detecting phishing emails. Below you can find some of them.\n",
    "\n",
    "#### **Positive Impact of AI on detecting phishing emails**\n",
    "\n",
    "Natural Language Processing (NLP) algorithms in AI can analyze the content of emails to identify phishing attempts. They can recognize patterns of language commonly used in phishing emails, such as urgent requests for personal information or suspicious links.\n",
    "\n",
    "\n",
    "\n",
    "AI can contribute to phishing prevention by analyzing sender's behavior and identifying anomalies that might indicate a phishing attempt. By establishing baselines of normal user behavior, AI systems can detect deviations such as sudden increases in email volume, unusual file access patterns, or atypical login locations. These anomalies trigger alerts, allowing organizations to investigate and respond promptly.\n",
    "\n",
    "\n",
    "#### **Negative Impact of AI on detecting phishing emails**\n",
    "\n",
    "\n",
    "AI can be used by attackers to create more sophisticated and convincing phishing emails. Machine learning algorithms can analyze massive datasets to craft messages that are highly targeted and personalized, making them more difficult for traditional security measures to detect.\n",
    "Automated Generation of Malicious Content:\n",
    "\n",
    "AI algorithms can be used to automatically generate malicious content, including phishing emails. This automation can lead to a higher volume of phishing attacks as attackers can deploy AI tools to create and distribute phishing emails at scale.\n",
    "Evasion of Traditional Security Measures:\n",
    "\n",
    "As AI evolves, attackers may use machine learning techniques to design phishing emails that can better evade traditional email security filters. This makes it challenging for organizations to rely solely on rule-based systems to detect and prevent phishing attacks.\n",
    "\n",
    "\n",
    "AI, including chatbots like ChatGPT, can be used for various purposes, both positive and negative. While AI has the potential to bring about significant positive impacts in areas such as healthcare, education, and customer service, it can also be misused for malicious activities, including phishing.\n",
    "\n",
    "\n",
    "\n",
    "## **🔬 Research questions**\n",
    "\n",
    "#### **Main question**\n",
    "\n",
    "***What are the characteristics of a phishing email?***\n",
    "\n",
    "\n",
    "\n",
    "#### **Sub Questions**\n",
    "\n",
    "|                     Sub question                  |                Possible answers                              |\n",
    "|---------------------------------------------------|--------------------------------------------------------------|           \n",
    "| How do I recognize a phishing email from its title?|   Look for strange or suspicious email addresses.           |            \n",
    "| How can I detect if attackers want to steal my sensitive information such as login credentials?|Watch out for threatening      language that pressures you to act quickly.|\n",
    "                                                                                            \n",
    "\n",
    "\n",
    "\n",
    "### 🟡 Data Sourcing\n",
    "\n",
    "\n",
    "Define Objectives: \n",
    "\n",
    "-To implement a machine learning model for emails that predicts whether an email is phishing or safe.\n",
    "\n",
    "Data Requirements: Determine the data requirements:\n",
    "  To be able to implement this model, some data are required so that the model can be trained, tested and evaluated.\n",
    "  The following data will help me to achieve this goal:\n",
    "   - Text data: Email title and Email body: The model will be trained to recognize words that are often used in phishing emails and other characteristics, for instance, the sence of urgency such email will have.  \n",
    "   - Labels: Each email needs to be flagged as phishing or safe which will help the model to learn.\n",
    "   - Other features, such as email-address of the sender can be also used, however, this is not in the scope of this project.\n",
    "  \n",
    "Data Sources: Identify potential data sources:\n",
    "\n",
    "  - Publicly available datasets: The data is available publicly on the Kaggle website, and can be downloaded freely\n",
    "\n",
    "Data Legality and Ethics:\n",
    "- Use only publicly available data or data with appropriate licenses.\n",
    "- Data used should not contain personal details or any sensitive data\n",
    "\n",
    "Data Diversity: \n",
    "- For analyzing phishing emails, any source email provider can be used as long as it is publicly available or has an appropriate license\n",
    "\n",
    "Version Control: \n",
    "\n",
    " -GitHub will be used to track all changes that will be performed during preprocessing, this will help to revert changes as needed.\n",
    " \n",
    "Iterative Process:\n",
    "- Continuously monitor the model's performance and gather feedback.\n",
    "- If the model is not performing well, consider reevaluating and updating the data sources.\n",
    "\n",
    "\n",
    "\n",
    "\n",
    "\n",
    "I have found a number of datasets from Kaggle  which will enable me to bring my challenge to a successful conclusion. The datasets are as follows:\n",
    "\n",
    "- **phishing.csv** : This dataset is  contains all the the phishing email\n",
    "- **data_extracted_easy_ham.csv** :This one contains all safe email\n",
    "\n",
    "\n",
    "\n",
    "### 🟡 Analytic Approach\n",
    "\n",
    "\n",
    "Since the expected outcome of this project is a model that will classify incoming emails as phishing or safe, Classification will be a suitable algorithm to use in this project.\n",
    "\n",
    "\n",
    "\n",
    "\n",
    "\n",
    "\n",
    "\n"
   ]
  },
  {
   "cell_type": "markdown",
   "id": "c973dc29",
   "metadata": {},
   "source": [
    "# Phase 2:   📦 Data Provisioning \n"
   ]
  },
  {
   "cell_type": "markdown",
   "id": "d20fdca1",
   "metadata": {},
   "source": [
    "\n",
    "## Data requirements \n",
    "\n",
    "To be able to implement this model, some data are required so that the model can be trained, tested and evaluated.\n",
    "  The following data will help me to achieve this goal:\n",
    "   - Text data: Email title and Email body: The model will be trained to recognize words that are often used in phishing emails and other characteristics, for instance, the sence of urgency such email will have.  \n",
    "   - Labels: Each email needs to be flagged as phishing or safe which will help the model to learn.\n",
    "   - Other features, such as email-address of the sender can be also used, however, this is not in the scope of this project.\n",
    "  "
   ]
  },
  {
   "cell_type": "markdown",
   "id": "4a8b6088",
   "metadata": {},
   "source": [
    "\n",
    "## Data collection\n",
    "\n",
    "\n",
    "> This data is available publicly on the Kaggle website, and can be downloaded freely\n",
    ": phishing_&_ham_emails. (2023, March 23). Kaggle. https://www.kaggle.com/datasets/mohamedouledhamed/phishing-and-ham-emails\n"
   ]
  },
  {
   "cell_type": "markdown",
   "id": "6f500905",
   "metadata": {},
   "source": [
    "Importing needed libraries and printing their versions"
   ]
  },
  {
   "cell_type": "code",
   "execution_count": 1,
   "id": "523eba9a",
   "metadata": {},
   "outputs": [
    {
     "name": "stdout",
     "output_type": "stream",
     "text": [
      "scikit-learn version: 1.3.0\n",
      "pandas version: 1.5.3\n",
      "seaborn version: 0.12.2\n"
     ]
    },
    {
     "name": "stderr",
     "output_type": "stream",
     "text": [
      "[nltk_data] Downloading package stopwords to\n",
      "[nltk_data]     C:\\Users\\csten\\AppData\\Roaming\\nltk_data...\n",
      "[nltk_data]   Package stopwords is already up-to-date!\n"
     ]
    }
   ],
   "source": [
    "import re\n",
    "import sklearn\n",
    "import pandas as pd\n",
    "import numpy as np\n",
    "import matplotlib.pyplot as plt\n",
    "import seaborn as sns\n",
    "import nltk\n",
    "nltk.download('stopwords')\n",
    "import warnings\n",
    "pd.set_option(\"max_colwidth\", 200)\n",
    "pd.set_option(\"display.float_format\", '{:.2f}'.format)\n",
    "\n",
    "\n",
    "warnings.filterwarnings('ignore')\n",
    "\n",
    "\n",
    "\n",
    "print(\"scikit-learn version:\", sklearn.__version__)     # 1.1.3\n",
    "print(\"pandas version:\", pd.__version__)            # 1.5.1\n",
    "print(\"seaborn version:\", sns.__version__)   \n"
   ]
  },
  {
   "cell_type": "markdown",
   "id": "045e47f3",
   "metadata": {},
   "source": [
    "## Data understanding\n",
    "\n",
    "### Exploratory Data Analysis\n"
   ]
  },
  {
   "cell_type": "markdown",
   "id": "e41df9f1",
   "metadata": {},
   "source": [
    "As it is mentioned in the introduction, the datasets are downloaded from [Kaggle Phishing and ham emails](https://www.kaggle.com/datasets/mohamedouledhamed/phishing-and-ham-emails). I have 2 datasets, one for `phishing emails` which I call `df1` and the other for `Valid/safe emails` which I call `df2`. Below I am reading both datasets and print their shapes, we can see that they have the same number of columns/features."
   ]
  },
  {
   "cell_type": "code",
   "execution_count": 2,
   "id": "cf6c490f",
   "metadata": {},
   "outputs": [
    {
     "name": "stdout",
     "output_type": "stream",
     "text": [
      "(2239, 12)\n",
      "(2551, 12)\n"
     ]
    }
   ],
   "source": [
    "df1 = pd.read_csv(\"phishing.csv\", index_col=0)\n",
    "df2= pd.read_csv(\"data_extracted_easy_ham.csv\", index_col=0)\n",
    "\n",
    "print(df1.shape)\n",
    "print(df2.shape)\n"
   ]
  },
  {
   "cell_type": "markdown",
   "id": "d22a3067",
   "metadata": {},
   "source": [
    "### 📃 Sample the data"
   ]
  },
  {
   "cell_type": "markdown",
   "id": "e2c9cd4d",
   "metadata": {},
   "source": [
    "Below I am viewing both datasets to have an impression of the data and see if indeed columns names of both datasets match. For that I am printing 5 random rows."
   ]
  },
  {
   "cell_type": "code",
   "execution_count": 3,
   "id": "1b9e7dea",
   "metadata": {},
   "outputs": [
    {
     "data": {
      "text/html": [
       "<div>\n",
       "<style scoped>\n",
       "    .dataframe tbody tr th:only-of-type {\n",
       "        vertical-align: middle;\n",
       "    }\n",
       "\n",
       "    .dataframe tbody tr th {\n",
       "        vertical-align: top;\n",
       "    }\n",
       "\n",
       "    .dataframe thead th {\n",
       "        text-align: right;\n",
       "    }\n",
       "</style>\n",
       "<table border=\"1\" class=\"dataframe\">\n",
       "  <thead>\n",
       "    <tr style=\"text-align: right;\">\n",
       "      <th></th>\n",
       "      <th>Fullname</th>\n",
       "      <th>To</th>\n",
       "      <th>Subject</th>\n",
       "      <th>Body</th>\n",
       "      <th>Date</th>\n",
       "      <th>IP</th>\n",
       "      <th>Return_Path</th>\n",
       "      <th>Delivered_to</th>\n",
       "      <th>Content_type</th>\n",
       "      <th>Message_Id</th>\n",
       "      <th>X_uid</th>\n",
       "      <th>Content_Length</th>\n",
       "    </tr>\n",
       "    <tr>\n",
       "      <th>From</th>\n",
       "      <th></th>\n",
       "      <th></th>\n",
       "      <th></th>\n",
       "      <th></th>\n",
       "      <th></th>\n",
       "      <th></th>\n",
       "      <th></th>\n",
       "      <th></th>\n",
       "      <th></th>\n",
       "      <th></th>\n",
       "      <th></th>\n",
       "      <th></th>\n",
       "    </tr>\n",
       "  </thead>\n",
       "  <tbody>\n",
       "    <tr>\n",
       "      <th>clientservice.refWO37388824225UQ.cm@nationalcity.com</th>\n",
       "      <td>National City</td>\n",
       "      <td>user &lt;user@example.com&gt;</td>\n",
       "      <td>National City corporate customer cervice: alert - online client form\\n released!</td>\n",
       "      <td>[]</td>\n",
       "      <td>Wed, 23 May 2007 02:26:28 -0200</td>\n",
       "      <td>74.40.162.212</td>\n",
       "      <td>clientservice.refWO37388824225UQ.cm@nationalcity.com</td>\n",
       "      <td>user@login.example.com</td>\n",
       "      <td>multipart/alternative;\\n\\tboundary=\"--MCNYLW0JHYLW7P\"</td>\n",
       "      <td>20070523032630.18C306FA1A8@mail.example.org</td>\n",
       "      <td>1304.00</td>\n",
       "      <td>NaN</td>\n",
       "    </tr>\n",
       "    <tr>\n",
       "      <th>serviceteam.refr9808927368.nf@northforkbank.com</th>\n",
       "      <td>North Fork Bank</td>\n",
       "      <td>user &lt;user@example.com&gt;</td>\n",
       "      <td>North Fork Bank reminder: confirm your account details!</td>\n",
       "      <td>[]</td>\n",
       "      <td>Thu, 19 Jul 2007 18:39:07 -0400 (EDT)</td>\n",
       "      <td>102.16.28.192</td>\n",
       "      <td>serviceteam.refr9808927368.nf@northforkbank.com</td>\n",
       "      <td>user@login.example.com</td>\n",
       "      <td>multipart/alternative;\\n\\tboundary=\"--Q3Z6F.97JA62YZ3LGPJCX\"</td>\n",
       "      <td>20070719223907.305D86FA1C4@mail.example.org</td>\n",
       "      <td>NaN</td>\n",
       "      <td>3407.00</td>\n",
       "    </tr>\n",
       "    <tr>\n",
       "      <th>member@ebay.co</th>\n",
       "      <td>member@ebay.co</td>\n",
       "      <td>undisclosed-recipients:;</td>\n",
       "      <td>NaN</td>\n",
       "      <td>NaN</td>\n",
       "      <td>Wed, 31 Jan 2007 12:34:21 -0500 (EST)</td>\n",
       "      <td>NaN</td>\n",
       "      <td>member@ebay.com</td>\n",
       "      <td>user@login.example.com</td>\n",
       "      <td>NaN</td>\n",
       "      <td>K[2</td>\n",
       "      <td>729.00</td>\n",
       "      <td>NaN</td>\n",
       "    </tr>\n",
       "    <tr>\n",
       "      <th>service@paypal.com</th>\n",
       "      <td>PayPal</td>\n",
       "      <td>undisclosed-recipients:;</td>\n",
       "      <td>PayPal Account Security Measures</td>\n",
       "      <td>Please Restore Your Account Access Dear PayPal Member, PayPal is committed to maintaining a safe environment for its community of buyers and sellers. To protect the security of your account, PayPa...</td>\n",
       "      <td>Mon, 29 Jan 2007 19:02:26 -0600</td>\n",
       "      <td>65.67.75.241</td>\n",
       "      <td>service@paypal.com</td>\n",
       "      <td>user@login.example.com</td>\n",
       "      <td>text/plain;\\n\\tcharset=\"Windows-1251\"</td>\n",
       "      <td>WILLIAM-KT39JIYxEfh00000b9b@william-kt39jiy</td>\n",
       "      <td>730.00</td>\n",
       "      <td>NaN</td>\n",
       "    </tr>\n",
       "    <tr>\n",
       "      <th>clientcare.refSM288705725900.cm@wamu.com</th>\n",
       "      <td>Washington Mutual</td>\n",
       "      <td>user &lt;user@example.com&gt;</td>\n",
       "      <td>WAMU: Service Message! (message id: AW3171986187)</td>\n",
       "      <td>[]</td>\n",
       "      <td>Tue,  5 Jun 2007 22:58:37 -0400 (EDT)</td>\n",
       "      <td>58.96.158.204</td>\n",
       "      <td>clientcare.refSM288705725900.cm@wamu.com</td>\n",
       "      <td>user@login.example.com</td>\n",
       "      <td>multipart/alternative;\\n\\tboundary=\"--WCD8KOUHCYLOVAUUD5XM\"</td>\n",
       "      <td>20070606025837.898BA6FA1C1@mail.example.org</td>\n",
       "      <td>1361.00</td>\n",
       "      <td>NaN</td>\n",
       "    </tr>\n",
       "  </tbody>\n",
       "</table>\n",
       "</div>"
      ],
      "text/plain": [
       "                                                               Fullname  \\\n",
       "From                                                                      \n",
       "clientservice.refWO37388824225UQ.cm@nationalcity.com      National City   \n",
       "serviceteam.refr9808927368.nf@northforkbank.com         North Fork Bank   \n",
       "member@ebay.co                                           member@ebay.co   \n",
       "service@paypal.com                                               PayPal   \n",
       "clientcare.refSM288705725900.cm@wamu.com              Washington Mutual   \n",
       "\n",
       "                                                                            To  \\\n",
       "From                                                                             \n",
       "clientservice.refWO37388824225UQ.cm@nationalcity.com   user <user@example.com>   \n",
       "serviceteam.refr9808927368.nf@northforkbank.com        user <user@example.com>   \n",
       "member@ebay.co                                        undisclosed-recipients:;   \n",
       "service@paypal.com                                    undisclosed-recipients:;   \n",
       "clientcare.refSM288705725900.cm@wamu.com               user <user@example.com>   \n",
       "\n",
       "                                                                                                                               Subject  \\\n",
       "From                                                                                                                                     \n",
       "clientservice.refWO37388824225UQ.cm@nationalcity.com  National City corporate customer cervice: alert - online client form\\n released!   \n",
       "serviceteam.refr9808927368.nf@northforkbank.com                                North Fork Bank reminder: confirm your account details!   \n",
       "member@ebay.co                                                                                                                     NaN   \n",
       "service@paypal.com                                                                                    PayPal Account Security Measures   \n",
       "clientcare.refSM288705725900.cm@wamu.com                                             WAMU: Service Message! (message id: AW3171986187)   \n",
       "\n",
       "                                                                                                                                                                                                                                                         Body  \\\n",
       "From                                                                                                                                                                                                                                                            \n",
       "clientservice.refWO37388824225UQ.cm@nationalcity.com                                                                                                                                                                                                       []   \n",
       "serviceteam.refr9808927368.nf@northforkbank.com                                                                                                                                                                                                            []   \n",
       "member@ebay.co                                                                                                                                                                                                                                            NaN   \n",
       "service@paypal.com                                    Please Restore Your Account Access Dear PayPal Member, PayPal is committed to maintaining a safe environment for its community of buyers and sellers. To protect the security of your account, PayPa...   \n",
       "clientcare.refSM288705725900.cm@wamu.com                                                                                                                                                                                                                   []   \n",
       "\n",
       "                                                                                       Date  \\\n",
       "From                                                                                          \n",
       "clientservice.refWO37388824225UQ.cm@nationalcity.com        Wed, 23 May 2007 02:26:28 -0200   \n",
       "serviceteam.refr9808927368.nf@northforkbank.com       Thu, 19 Jul 2007 18:39:07 -0400 (EDT)   \n",
       "member@ebay.co                                        Wed, 31 Jan 2007 12:34:21 -0500 (EST)   \n",
       "service@paypal.com                                          Mon, 29 Jan 2007 19:02:26 -0600   \n",
       "clientcare.refSM288705725900.cm@wamu.com              Tue,  5 Jun 2007 22:58:37 -0400 (EDT)   \n",
       "\n",
       "                                                                 IP  \\\n",
       "From                                                                  \n",
       "clientservice.refWO37388824225UQ.cm@nationalcity.com  74.40.162.212   \n",
       "serviceteam.refr9808927368.nf@northforkbank.com       102.16.28.192   \n",
       "member@ebay.co                                                  NaN   \n",
       "service@paypal.com                                     65.67.75.241   \n",
       "clientcare.refSM288705725900.cm@wamu.com              58.96.158.204   \n",
       "\n",
       "                                                                                               Return_Path  \\\n",
       "From                                                                                                         \n",
       "clientservice.refWO37388824225UQ.cm@nationalcity.com  clientservice.refWO37388824225UQ.cm@nationalcity.com   \n",
       "serviceteam.refr9808927368.nf@northforkbank.com            serviceteam.refr9808927368.nf@northforkbank.com   \n",
       "member@ebay.co                                                                             member@ebay.com   \n",
       "service@paypal.com                                                                      service@paypal.com   \n",
       "clientcare.refSM288705725900.cm@wamu.com                          clientcare.refSM288705725900.cm@wamu.com   \n",
       "\n",
       "                                                                Delivered_to  \\\n",
       "From                                                                           \n",
       "clientservice.refWO37388824225UQ.cm@nationalcity.com  user@login.example.com   \n",
       "serviceteam.refr9808927368.nf@northforkbank.com       user@login.example.com   \n",
       "member@ebay.co                                        user@login.example.com   \n",
       "service@paypal.com                                    user@login.example.com   \n",
       "clientcare.refSM288705725900.cm@wamu.com              user@login.example.com   \n",
       "\n",
       "                                                                                                      Content_type  \\\n",
       "From                                                                                                                 \n",
       "clientservice.refWO37388824225UQ.cm@nationalcity.com         multipart/alternative;\\n\\tboundary=\"--MCNYLW0JHYLW7P\"   \n",
       "serviceteam.refr9808927368.nf@northforkbank.com       multipart/alternative;\\n\\tboundary=\"--Q3Z6F.97JA62YZ3LGPJCX\"   \n",
       "member@ebay.co                                                                                                 NaN   \n",
       "service@paypal.com                                                           text/plain;\\n\\tcharset=\"Windows-1251\"   \n",
       "clientcare.refSM288705725900.cm@wamu.com               multipart/alternative;\\n\\tboundary=\"--WCD8KOUHCYLOVAUUD5XM\"   \n",
       "\n",
       "                                                                                       Message_Id  \\\n",
       "From                                                                                                \n",
       "clientservice.refWO37388824225UQ.cm@nationalcity.com  20070523032630.18C306FA1A8@mail.example.org   \n",
       "serviceteam.refr9808927368.nf@northforkbank.com       20070719223907.305D86FA1C4@mail.example.org   \n",
       "member@ebay.co                                                                                K[2   \n",
       "service@paypal.com                                    WILLIAM-KT39JIYxEfh00000b9b@william-kt39jiy   \n",
       "clientcare.refSM288705725900.cm@wamu.com              20070606025837.898BA6FA1C1@mail.example.org   \n",
       "\n",
       "                                                       X_uid  Content_Length  \n",
       "From                                                                          \n",
       "clientservice.refWO37388824225UQ.cm@nationalcity.com 1304.00             NaN  \n",
       "serviceteam.refr9808927368.nf@northforkbank.com          NaN         3407.00  \n",
       "member@ebay.co                                        729.00             NaN  \n",
       "service@paypal.com                                    730.00             NaN  \n",
       "clientcare.refSM288705725900.cm@wamu.com             1361.00             NaN  "
      ]
     },
     "execution_count": 3,
     "metadata": {},
     "output_type": "execute_result"
    }
   ],
   "source": [
    "df1.sample(5)"
   ]
  },
  {
   "cell_type": "code",
   "execution_count": 4,
   "id": "248cbf43",
   "metadata": {
    "scrolled": true
   },
   "outputs": [
    {
     "data": {
      "text/html": [
       "<div>\n",
       "<style scoped>\n",
       "    .dataframe tbody tr th:only-of-type {\n",
       "        vertical-align: middle;\n",
       "    }\n",
       "\n",
       "    .dataframe tbody tr th {\n",
       "        vertical-align: top;\n",
       "    }\n",
       "\n",
       "    .dataframe thead th {\n",
       "        text-align: right;\n",
       "    }\n",
       "</style>\n",
       "<table border=\"1\" class=\"dataframe\">\n",
       "  <thead>\n",
       "    <tr style=\"text-align: right;\">\n",
       "      <th></th>\n",
       "      <th>Fullname</th>\n",
       "      <th>To</th>\n",
       "      <th>Subject</th>\n",
       "      <th>Body</th>\n",
       "      <th>Date</th>\n",
       "      <th>IP</th>\n",
       "      <th>Return_Path</th>\n",
       "      <th>Delivered_to</th>\n",
       "      <th>Content_type</th>\n",
       "      <th>Message_Id</th>\n",
       "      <th>X_uid</th>\n",
       "      <th>Content_Length</th>\n",
       "    </tr>\n",
       "    <tr>\n",
       "      <th>From</th>\n",
       "      <th></th>\n",
       "      <th></th>\n",
       "      <th></th>\n",
       "      <th></th>\n",
       "      <th></th>\n",
       "      <th></th>\n",
       "      <th></th>\n",
       "      <th></th>\n",
       "      <th></th>\n",
       "      <th></th>\n",
       "      <th></th>\n",
       "      <th></th>\n",
       "    </tr>\n",
       "  </thead>\n",
       "  <tbody>\n",
       "    <tr>\n",
       "      <th>rssfeeds@example.com</th>\n",
       "      <td>scripting &lt;rssfeeds@example.com</td>\n",
       "      <td>yyyy@example.com</td>\n",
       "      <td>Jeremy Bowers: \"None of the trackback mechanisms has reached the\\n    critical m</td>\n",
       "      <td>URL: http://scriptingnews.userland.com/backissues/2002/09/25#When:5:12:19AM\\nDate: Wed, 25 Sep 2002 12:12:19 GMT\\n\\nJeremy Bowers[1]: \"None of the trackback mechanisms has reached the critical \\nm...</td>\n",
       "      <td>Thu, 26 Sep 2002 08:01:30 -0000</td>\n",
       "      <td>127.0.0.1</td>\n",
       "      <td>rssfeeds@example.com</td>\n",
       "      <td>yyyy@localhost.example.com</td>\n",
       "      <td>text/plain; encoding=utf-8</td>\n",
       "      <td>200209260801.g8Q81UC06455@dogma.slashnull.org</td>\n",
       "      <td>NaN</td>\n",
       "      <td>NaN</td>\n",
       "    </tr>\n",
       "    <tr>\n",
       "      <th>rssfeeds@example.com</th>\n",
       "      <td>newscientist &lt;rssfeeds@example.com</td>\n",
       "      <td>yyyy@example.com</td>\n",
       "      <td>Electronic circuits created in a flash</td>\n",
       "      <td>URL: http://www.newsisfree.com/click/-4,8518006,1440/\\nDate: Not supplied\\n\\nA material that turns into a conductor at the flash of a light promises to \\nreduce the cost of large LCD displays and ...</td>\n",
       "      <td>Fri, 04 Oct 2002 08:00:51 -0000</td>\n",
       "      <td>127.0.0.1</td>\n",
       "      <td>rssfeeds@example.com</td>\n",
       "      <td>yyyy@localhost.example.com</td>\n",
       "      <td>text/plain; encoding=utf-8</td>\n",
       "      <td>200210040800.g9480pK08861@dogma.slashnull.org</td>\n",
       "      <td>NaN</td>\n",
       "      <td>NaN</td>\n",
       "    </tr>\n",
       "    <tr>\n",
       "      <th>Ken.Coar@Golux.Com</th>\n",
       "      <td>Rodent of Unusual Size &lt;Ken.Coar@Golux.Com</td>\n",
       "      <td>Chris Haun &lt;chris@noskillz.com&gt;</td>\n",
       "      <td>Re: Internet radio - example from a college station</td>\n",
       "      <td>Chris Haun wrote:\\n&gt; \\n&gt; We would need someone to sit in the studio 24/7 writing down all this info -\\n&gt; which sometimes isn't available, like from earlier album that don't have\\n&gt; serial numbers ...</td>\n",
       "      <td>Mon, 09 Sep 2002 12:29:51 -0400</td>\n",
       "      <td>64.192.128.105</td>\n",
       "      <td>fork-admin@xent.com</td>\n",
       "      <td>yyyy@localhost.example.com</td>\n",
       "      <td>text/plain; charset=us-ascii</td>\n",
       "      <td>3D7CCC7F.F8EBCAE@Golux.Com</td>\n",
       "      <td>NaN</td>\n",
       "      <td>NaN</td>\n",
       "    </tr>\n",
       "    <tr>\n",
       "      <th>martin@srv0.ems.ed.ac.uk</th>\n",
       "      <td>Martin Adamson</td>\n",
       "      <td>zzzzteana@yahoogroups.com</td>\n",
       "      <td>Re: [zzzzteana] Save the planet, kill the people</td>\n",
       "      <td>&gt; Zimbabwe has dropped objections to accepting genetically modified (GM) grain\\n&gt; so that urgently-needed food aid can be delivered, says the UN food agency.\\n\\nYes, confirming what I said in my l...</td>\n",
       "      <td>Fri, 6 Sep 2002 11:25:44 +0100</td>\n",
       "      <td>NaN</td>\n",
       "      <td>sentto-2242572-53807-1031307957-zzzz=example.com@returns.groups.yahoo.com</td>\n",
       "      <td>zzzz@localhost.example.com</td>\n",
       "      <td>text/plain; charset=US-ASCII</td>\n",
       "      <td>3D7890C7.21244.52BF5419@localhost</td>\n",
       "      <td>NaN</td>\n",
       "      <td>NaN</td>\n",
       "    </tr>\n",
       "    <tr>\n",
       "      <th>johnhall@evergo.net</th>\n",
       "      <td>John Hall</td>\n",
       "      <td>\"FoRK\" &lt;fork@example.com&gt;</td>\n",
       "      <td>Pluck and Luck</td>\n",
       "      <td>Anyone who doesn't appreciate both PLUCK and LUCK is only looking at\\npart of the equation.\\n\\nAmerica has, in fact, moved hard toward Meritocracy.  But -- and this is\\na huge one -- you don't nec...</td>\n",
       "      <td>Mon, 23 Sep 2002 17:29:29 -0700</td>\n",
       "      <td>NaN</td>\n",
       "      <td>fork-admin@xent.com</td>\n",
       "      <td>yyyy@localhost.example.com</td>\n",
       "      <td>text/plain; charset=\"us-ascii\"</td>\n",
       "      <td>000701c26361$74e027a0$0200a8c0@JMHALL</td>\n",
       "      <td>NaN</td>\n",
       "      <td>NaN</td>\n",
       "    </tr>\n",
       "  </tbody>\n",
       "</table>\n",
       "</div>"
      ],
      "text/plain": [
       "                                                            Fullname  \\\n",
       "From                                                                   \n",
       "rssfeeds@example.com                 scripting <rssfeeds@example.com   \n",
       "rssfeeds@example.com              newscientist <rssfeeds@example.com   \n",
       "Ken.Coar@Golux.Com        Rodent of Unusual Size <Ken.Coar@Golux.Com   \n",
       "martin@srv0.ems.ed.ac.uk                              Martin Adamson   \n",
       "johnhall@evergo.net                                        John Hall   \n",
       "\n",
       "                                                       To  \\\n",
       "From                                                        \n",
       "rssfeeds@example.com                     yyyy@example.com   \n",
       "rssfeeds@example.com                     yyyy@example.com   \n",
       "Ken.Coar@Golux.Com        Chris Haun <chris@noskillz.com>   \n",
       "martin@srv0.ems.ed.ac.uk        zzzzteana@yahoogroups.com   \n",
       "johnhall@evergo.net             \"FoRK\" <fork@example.com>   \n",
       "\n",
       "                                                                                                   Subject  \\\n",
       "From                                                                                                         \n",
       "rssfeeds@example.com      Jeremy Bowers: \"None of the trackback mechanisms has reached the\\n    critical m   \n",
       "rssfeeds@example.com                                                Electronic circuits created in a flash   \n",
       "Ken.Coar@Golux.Com                                     Re: Internet radio - example from a college station   \n",
       "martin@srv0.ems.ed.ac.uk                                  Re: [zzzzteana] Save the planet, kill the people   \n",
       "johnhall@evergo.net                                                                         Pluck and Luck   \n",
       "\n",
       "                                                                                                                                                                                                                             Body  \\\n",
       "From                                                                                                                                                                                                                                \n",
       "rssfeeds@example.com      URL: http://scriptingnews.userland.com/backissues/2002/09/25#When:5:12:19AM\\nDate: Wed, 25 Sep 2002 12:12:19 GMT\\n\\nJeremy Bowers[1]: \"None of the trackback mechanisms has reached the critical \\nm...   \n",
       "rssfeeds@example.com      URL: http://www.newsisfree.com/click/-4,8518006,1440/\\nDate: Not supplied\\n\\nA material that turns into a conductor at the flash of a light promises to \\nreduce the cost of large LCD displays and ...   \n",
       "Ken.Coar@Golux.Com        Chris Haun wrote:\\n> \\n> We would need someone to sit in the studio 24/7 writing down all this info -\\n> which sometimes isn't available, like from earlier album that don't have\\n> serial numbers ...   \n",
       "martin@srv0.ems.ed.ac.uk  > Zimbabwe has dropped objections to accepting genetically modified (GM) grain\\n> so that urgently-needed food aid can be delivered, says the UN food agency.\\n\\nYes, confirming what I said in my l...   \n",
       "johnhall@evergo.net       Anyone who doesn't appreciate both PLUCK and LUCK is only looking at\\npart of the equation.\\n\\nAmerica has, in fact, moved hard toward Meritocracy.  But -- and this is\\na huge one -- you don't nec...   \n",
       "\n",
       "                                                     Date              IP  \\\n",
       "From                                                                        \n",
       "rssfeeds@example.com      Thu, 26 Sep 2002 08:01:30 -0000       127.0.0.1   \n",
       "rssfeeds@example.com      Fri, 04 Oct 2002 08:00:51 -0000       127.0.0.1   \n",
       "Ken.Coar@Golux.Com        Mon, 09 Sep 2002 12:29:51 -0400  64.192.128.105   \n",
       "martin@srv0.ems.ed.ac.uk   Fri, 6 Sep 2002 11:25:44 +0100             NaN   \n",
       "johnhall@evergo.net       Mon, 23 Sep 2002 17:29:29 -0700             NaN   \n",
       "\n",
       "                                                                                        Return_Path  \\\n",
       "From                                                                                                  \n",
       "rssfeeds@example.com                                                           rssfeeds@example.com   \n",
       "rssfeeds@example.com                                                           rssfeeds@example.com   \n",
       "Ken.Coar@Golux.Com                                                              fork-admin@xent.com   \n",
       "martin@srv0.ems.ed.ac.uk  sentto-2242572-53807-1031307957-zzzz=example.com@returns.groups.yahoo.com   \n",
       "johnhall@evergo.net                                                             fork-admin@xent.com   \n",
       "\n",
       "                                        Delivered_to  \\\n",
       "From                                                   \n",
       "rssfeeds@example.com      yyyy@localhost.example.com   \n",
       "rssfeeds@example.com      yyyy@localhost.example.com   \n",
       "Ken.Coar@Golux.Com        yyyy@localhost.example.com   \n",
       "martin@srv0.ems.ed.ac.uk  zzzz@localhost.example.com   \n",
       "johnhall@evergo.net       yyyy@localhost.example.com   \n",
       "\n",
       "                                            Content_type  \\\n",
       "From                                                       \n",
       "rssfeeds@example.com          text/plain; encoding=utf-8   \n",
       "rssfeeds@example.com          text/plain; encoding=utf-8   \n",
       "Ken.Coar@Golux.Com          text/plain; charset=us-ascii   \n",
       "martin@srv0.ems.ed.ac.uk    text/plain; charset=US-ASCII   \n",
       "johnhall@evergo.net       text/plain; charset=\"us-ascii\"   \n",
       "\n",
       "                                                             Message_Id  \\\n",
       "From                                                                      \n",
       "rssfeeds@example.com      200209260801.g8Q81UC06455@dogma.slashnull.org   \n",
       "rssfeeds@example.com      200210040800.g9480pK08861@dogma.slashnull.org   \n",
       "Ken.Coar@Golux.Com                           3D7CCC7F.F8EBCAE@Golux.Com   \n",
       "martin@srv0.ems.ed.ac.uk              3D7890C7.21244.52BF5419@localhost   \n",
       "johnhall@evergo.net               000701c26361$74e027a0$0200a8c0@JMHALL   \n",
       "\n",
       "                          X_uid  Content_Length  \n",
       "From                                             \n",
       "rssfeeds@example.com        NaN             NaN  \n",
       "rssfeeds@example.com        NaN             NaN  \n",
       "Ken.Coar@Golux.Com          NaN             NaN  \n",
       "martin@srv0.ems.ed.ac.uk    NaN             NaN  \n",
       "johnhall@evergo.net         NaN             NaN  "
      ]
     },
     "execution_count": 4,
     "metadata": {},
     "output_type": "execute_result"
    }
   ],
   "source": [
    "df2.sample(5)"
   ]
  },
  {
   "cell_type": "markdown",
   "id": "56044ab7",
   "metadata": {},
   "source": [
    "The first thing i did was globally looking at the data. I did that by printing the data info."
   ]
  },
  {
   "cell_type": "code",
   "execution_count": 5,
   "id": "d5d4b85b",
   "metadata": {},
   "outputs": [
    {
     "name": "stdout",
     "output_type": "stream",
     "text": [
      "<class 'pandas.core.frame.DataFrame'>\n",
      "Index: 2239 entries, emailconfirm@ebay.com to account@paypal.com\n",
      "Data columns (total 12 columns):\n",
      " #   Column          Non-Null Count  Dtype  \n",
      "---  ------          --------------  -----  \n",
      " 0   Fullname        2236 non-null   object \n",
      " 1   To              2234 non-null   object \n",
      " 2   Subject         2219 non-null   object \n",
      " 3   Body            2213 non-null   object \n",
      " 4   Date            2239 non-null   object \n",
      " 5   IP              1404 non-null   object \n",
      " 6   Return_Path     2239 non-null   object \n",
      " 7   Delivered_to    2239 non-null   object \n",
      " 8   Content_type    2213 non-null   object \n",
      " 9   Message_Id      2239 non-null   object \n",
      " 10  X_uid           1816 non-null   float64\n",
      " 11  Content_Length  699 non-null    float64\n",
      "dtypes: float64(2), object(10)\n",
      "memory usage: 227.4+ KB\n"
     ]
    }
   ],
   "source": [
    "df1.info()"
   ]
  },
  {
   "cell_type": "code",
   "execution_count": 6,
   "id": "d206d56d",
   "metadata": {
    "scrolled": true
   },
   "outputs": [
    {
     "name": "stdout",
     "output_type": "stream",
     "text": [
      "<class 'pandas.core.frame.DataFrame'>\n",
      "Index: 2551 entries, kre@munnari.OZ.AU to rssfeeds@example.com\n",
      "Data columns (total 12 columns):\n",
      " #   Column          Non-Null Count  Dtype  \n",
      "---  ------          --------------  -----  \n",
      " 0   Fullname        2535 non-null   object \n",
      " 1   To              2398 non-null   object \n",
      " 2   Subject         2551 non-null   object \n",
      " 3   Body            2551 non-null   object \n",
      " 4   Date            2551 non-null   object \n",
      " 5   IP              1703 non-null   object \n",
      " 6   Return_Path     2551 non-null   object \n",
      " 7   Delivered_to    2416 non-null   object \n",
      " 8   Content_type    2150 non-null   object \n",
      " 9   Message_Id      2551 non-null   object \n",
      " 10  X_uid           0 non-null      float64\n",
      " 11  Content_Length  0 non-null      float64\n",
      "dtypes: float64(2), object(10)\n",
      "memory usage: 259.1+ KB\n"
     ]
    }
   ],
   "source": [
    "df2.info()"
   ]
  },
  {
   "cell_type": "markdown",
   "id": "d84e8193",
   "metadata": {},
   "source": [
    "For analysing emails, `From`(sender), `Subject`, and `Body` data are one of important targets. So let's have an overview of senders' emails for `Phishing` and `Safe` emails by printing some statistical details of the features. We want the `describe` function to show details of all columns.\n",
    "\n",
    "Since the `From` column is set as index, this limits us to include it in the analysis.For this we need first to turn the index `From` to a column. \n",
    "\n",
    "Below I am resetting the index of the 2 datasets and use a default index so that I can have `From` as a column. I also view some statistics of the data using the `describe` function with the `include='all'` parameter to apply the function to all columns "
   ]
  },
  {
   "cell_type": "code",
   "execution_count": 7,
   "id": "bc14e425",
   "metadata": {},
   "outputs": [
    {
     "data": {
      "text/html": [
       "<div>\n",
       "<style scoped>\n",
       "    .dataframe tbody tr th:only-of-type {\n",
       "        vertical-align: middle;\n",
       "    }\n",
       "\n",
       "    .dataframe tbody tr th {\n",
       "        vertical-align: top;\n",
       "    }\n",
       "\n",
       "    .dataframe thead th {\n",
       "        text-align: right;\n",
       "    }\n",
       "</style>\n",
       "<table border=\"1\" class=\"dataframe\">\n",
       "  <thead>\n",
       "    <tr style=\"text-align: right;\">\n",
       "      <th></th>\n",
       "      <th>From</th>\n",
       "      <th>Fullname</th>\n",
       "      <th>To</th>\n",
       "      <th>Subject</th>\n",
       "      <th>Body</th>\n",
       "      <th>Date</th>\n",
       "      <th>IP</th>\n",
       "      <th>Return_Path</th>\n",
       "      <th>Delivered_to</th>\n",
       "      <th>Content_type</th>\n",
       "      <th>Message_Id</th>\n",
       "      <th>X_uid</th>\n",
       "      <th>Content_Length</th>\n",
       "    </tr>\n",
       "  </thead>\n",
       "  <tbody>\n",
       "    <tr>\n",
       "      <th>count</th>\n",
       "      <td>2239</td>\n",
       "      <td>2236</td>\n",
       "      <td>2234</td>\n",
       "      <td>2219</td>\n",
       "      <td>2213</td>\n",
       "      <td>2239</td>\n",
       "      <td>1404</td>\n",
       "      <td>2239</td>\n",
       "      <td>2239</td>\n",
       "      <td>2213</td>\n",
       "      <td>2239</td>\n",
       "      <td>1816.00</td>\n",
       "      <td>699.00</td>\n",
       "    </tr>\n",
       "    <tr>\n",
       "      <th>unique</th>\n",
       "      <td>1206</td>\n",
       "      <td>706</td>\n",
       "      <td>144</td>\n",
       "      <td>1502</td>\n",
       "      <td>749</td>\n",
       "      <td>2208</td>\n",
       "      <td>1160</td>\n",
       "      <td>1176</td>\n",
       "      <td>2</td>\n",
       "      <td>1079</td>\n",
       "      <td>2212</td>\n",
       "      <td>NaN</td>\n",
       "      <td>NaN</td>\n",
       "    </tr>\n",
       "    <tr>\n",
       "      <th>top</th>\n",
       "      <td>service@paypal.com</td>\n",
       "      <td>PayPal</td>\n",
       "      <td>undisclosed-recipients:;</td>\n",
       "      <td>IMPORTANT: Notification of limited accounts</td>\n",
       "      <td>[]</td>\n",
       "      <td>Tue, 27 Mar 2007 10:55:48 +0800</td>\n",
       "      <td>127.0.0.1</td>\n",
       "      <td>user@mail.example.com</td>\n",
       "      <td>user@login.example.com</td>\n",
       "      <td>text/html;\\n\\tcharset=\"Windows-1251\"</td>\n",
       "      <td>1130384585.13653@paypal.com</td>\n",
       "      <td>NaN</td>\n",
       "      <td>NaN</td>\n",
       "    </tr>\n",
       "    <tr>\n",
       "      <th>freq</th>\n",
       "      <td>231</td>\n",
       "      <td>152</td>\n",
       "      <td>621</td>\n",
       "      <td>25</td>\n",
       "      <td>710</td>\n",
       "      <td>4</td>\n",
       "      <td>11</td>\n",
       "      <td>276</td>\n",
       "      <td>1563</td>\n",
       "      <td>657</td>\n",
       "      <td>5</td>\n",
       "      <td>NaN</td>\n",
       "      <td>NaN</td>\n",
       "    </tr>\n",
       "    <tr>\n",
       "      <th>mean</th>\n",
       "      <td>NaN</td>\n",
       "      <td>NaN</td>\n",
       "      <td>NaN</td>\n",
       "      <td>NaN</td>\n",
       "      <td>NaN</td>\n",
       "      <td>NaN</td>\n",
       "      <td>NaN</td>\n",
       "      <td>NaN</td>\n",
       "      <td>NaN</td>\n",
       "      <td>NaN</td>\n",
       "      <td>NaN</td>\n",
       "      <td>2197.80</td>\n",
       "      <td>7093.43</td>\n",
       "    </tr>\n",
       "    <tr>\n",
       "      <th>std</th>\n",
       "      <td>NaN</td>\n",
       "      <td>NaN</td>\n",
       "      <td>NaN</td>\n",
       "      <td>NaN</td>\n",
       "      <td>NaN</td>\n",
       "      <td>NaN</td>\n",
       "      <td>NaN</td>\n",
       "      <td>NaN</td>\n",
       "      <td>NaN</td>\n",
       "      <td>NaN</td>\n",
       "      <td>NaN</td>\n",
       "      <td>23342.41</td>\n",
       "      <td>6257.66</td>\n",
       "    </tr>\n",
       "    <tr>\n",
       "      <th>min</th>\n",
       "      <td>NaN</td>\n",
       "      <td>NaN</td>\n",
       "      <td>NaN</td>\n",
       "      <td>NaN</td>\n",
       "      <td>NaN</td>\n",
       "      <td>NaN</td>\n",
       "      <td>NaN</td>\n",
       "      <td>NaN</td>\n",
       "      <td>NaN</td>\n",
       "      <td>NaN</td>\n",
       "      <td>NaN</td>\n",
       "      <td>1.00</td>\n",
       "      <td>0.00</td>\n",
       "    </tr>\n",
       "    <tr>\n",
       "      <th>25%</th>\n",
       "      <td>NaN</td>\n",
       "      <td>NaN</td>\n",
       "      <td>NaN</td>\n",
       "      <td>NaN</td>\n",
       "      <td>NaN</td>\n",
       "      <td>NaN</td>\n",
       "      <td>NaN</td>\n",
       "      <td>NaN</td>\n",
       "      <td>NaN</td>\n",
       "      <td>NaN</td>\n",
       "      <td>NaN</td>\n",
       "      <td>238.75</td>\n",
       "      <td>3409.50</td>\n",
       "    </tr>\n",
       "    <tr>\n",
       "      <th>50%</th>\n",
       "      <td>NaN</td>\n",
       "      <td>NaN</td>\n",
       "      <td>NaN</td>\n",
       "      <td>NaN</td>\n",
       "      <td>NaN</td>\n",
       "      <td>NaN</td>\n",
       "      <td>NaN</td>\n",
       "      <td>NaN</td>\n",
       "      <td>NaN</td>\n",
       "      <td>NaN</td>\n",
       "      <td>NaN</td>\n",
       "      <td>609.50</td>\n",
       "      <td>3891.00</td>\n",
       "    </tr>\n",
       "    <tr>\n",
       "      <th>75%</th>\n",
       "      <td>NaN</td>\n",
       "      <td>NaN</td>\n",
       "      <td>NaN</td>\n",
       "      <td>NaN</td>\n",
       "      <td>NaN</td>\n",
       "      <td>NaN</td>\n",
       "      <td>NaN</td>\n",
       "      <td>NaN</td>\n",
       "      <td>NaN</td>\n",
       "      <td>NaN</td>\n",
       "      <td>NaN</td>\n",
       "      <td>1065.25</td>\n",
       "      <td>11804.00</td>\n",
       "    </tr>\n",
       "    <tr>\n",
       "      <th>max</th>\n",
       "      <td>NaN</td>\n",
       "      <td>NaN</td>\n",
       "      <td>NaN</td>\n",
       "      <td>NaN</td>\n",
       "      <td>NaN</td>\n",
       "      <td>NaN</td>\n",
       "      <td>NaN</td>\n",
       "      <td>NaN</td>\n",
       "      <td>NaN</td>\n",
       "      <td>NaN</td>\n",
       "      <td>NaN</td>\n",
       "      <td>413100.00</td>\n",
       "      <td>57188.00</td>\n",
       "    </tr>\n",
       "  </tbody>\n",
       "</table>\n",
       "</div>"
      ],
      "text/plain": [
       "                      From Fullname                        To  \\\n",
       "count                 2239     2236                      2234   \n",
       "unique                1206      706                       144   \n",
       "top     service@paypal.com   PayPal  undisclosed-recipients:;   \n",
       "freq                   231      152                       621   \n",
       "mean                   NaN      NaN                       NaN   \n",
       "std                    NaN      NaN                       NaN   \n",
       "min                    NaN      NaN                       NaN   \n",
       "25%                    NaN      NaN                       NaN   \n",
       "50%                    NaN      NaN                       NaN   \n",
       "75%                    NaN      NaN                       NaN   \n",
       "max                    NaN      NaN                       NaN   \n",
       "\n",
       "                                            Subject  Body  \\\n",
       "count                                          2219  2213   \n",
       "unique                                         1502   749   \n",
       "top     IMPORTANT: Notification of limited accounts    []   \n",
       "freq                                             25   710   \n",
       "mean                                            NaN   NaN   \n",
       "std                                             NaN   NaN   \n",
       "min                                             NaN   NaN   \n",
       "25%                                             NaN   NaN   \n",
       "50%                                             NaN   NaN   \n",
       "75%                                             NaN   NaN   \n",
       "max                                             NaN   NaN   \n",
       "\n",
       "                                   Date         IP            Return_Path  \\\n",
       "count                              2239       1404                   2239   \n",
       "unique                             2208       1160                   1176   \n",
       "top     Tue, 27 Mar 2007 10:55:48 +0800  127.0.0.1  user@mail.example.com   \n",
       "freq                                  4         11                    276   \n",
       "mean                                NaN        NaN                    NaN   \n",
       "std                                 NaN        NaN                    NaN   \n",
       "min                                 NaN        NaN                    NaN   \n",
       "25%                                 NaN        NaN                    NaN   \n",
       "50%                                 NaN        NaN                    NaN   \n",
       "75%                                 NaN        NaN                    NaN   \n",
       "max                                 NaN        NaN                    NaN   \n",
       "\n",
       "                  Delivered_to                          Content_type  \\\n",
       "count                     2239                                  2213   \n",
       "unique                       2                                  1079   \n",
       "top     user@login.example.com  text/html;\\n\\tcharset=\"Windows-1251\"   \n",
       "freq                      1563                                   657   \n",
       "mean                       NaN                                   NaN   \n",
       "std                        NaN                                   NaN   \n",
       "min                        NaN                                   NaN   \n",
       "25%                        NaN                                   NaN   \n",
       "50%                        NaN                                   NaN   \n",
       "75%                        NaN                                   NaN   \n",
       "max                        NaN                                   NaN   \n",
       "\n",
       "                         Message_Id     X_uid  Content_Length  \n",
       "count                          2239   1816.00          699.00  \n",
       "unique                         2212       NaN             NaN  \n",
       "top     1130384585.13653@paypal.com       NaN             NaN  \n",
       "freq                              5       NaN             NaN  \n",
       "mean                            NaN   2197.80         7093.43  \n",
       "std                             NaN  23342.41         6257.66  \n",
       "min                             NaN      1.00            0.00  \n",
       "25%                             NaN    238.75         3409.50  \n",
       "50%                             NaN    609.50         3891.00  \n",
       "75%                             NaN   1065.25        11804.00  \n",
       "max                             NaN 413100.00        57188.00  "
      ]
     },
     "execution_count": 7,
     "metadata": {},
     "output_type": "execute_result"
    }
   ],
   "source": [
    "df1.reset_index(inplace=True)\n",
    "df2.reset_index(inplace=True)\n",
    "\n",
    "df1.describe(include='all')"
   ]
  },
  {
   "cell_type": "code",
   "execution_count": 8,
   "id": "c1a26661",
   "metadata": {},
   "outputs": [
    {
     "data": {
      "text/html": [
       "<div>\n",
       "<style scoped>\n",
       "    .dataframe tbody tr th:only-of-type {\n",
       "        vertical-align: middle;\n",
       "    }\n",
       "\n",
       "    .dataframe tbody tr th {\n",
       "        vertical-align: top;\n",
       "    }\n",
       "\n",
       "    .dataframe thead th {\n",
       "        text-align: right;\n",
       "    }\n",
       "</style>\n",
       "<table border=\"1\" class=\"dataframe\">\n",
       "  <thead>\n",
       "    <tr style=\"text-align: right;\">\n",
       "      <th></th>\n",
       "      <th>From</th>\n",
       "      <th>Fullname</th>\n",
       "      <th>To</th>\n",
       "      <th>Subject</th>\n",
       "      <th>Body</th>\n",
       "      <th>Date</th>\n",
       "      <th>IP</th>\n",
       "      <th>Return_Path</th>\n",
       "      <th>Delivered_to</th>\n",
       "      <th>Content_type</th>\n",
       "      <th>Message_Id</th>\n",
       "      <th>X_uid</th>\n",
       "      <th>Content_Length</th>\n",
       "    </tr>\n",
       "  </thead>\n",
       "  <tbody>\n",
       "    <tr>\n",
       "      <th>count</th>\n",
       "      <td>2551</td>\n",
       "      <td>2535</td>\n",
       "      <td>2398</td>\n",
       "      <td>2551</td>\n",
       "      <td>2551</td>\n",
       "      <td>2551</td>\n",
       "      <td>1703</td>\n",
       "      <td>2551</td>\n",
       "      <td>2416</td>\n",
       "      <td>2150</td>\n",
       "      <td>2551</td>\n",
       "      <td>0.00</td>\n",
       "      <td>0.00</td>\n",
       "    </tr>\n",
       "    <tr>\n",
       "      <th>unique</th>\n",
       "      <td>426</td>\n",
       "      <td>440</td>\n",
       "      <td>408</td>\n",
       "      <td>1585</td>\n",
       "      <td>2408</td>\n",
       "      <td>2181</td>\n",
       "      <td>233</td>\n",
       "      <td>141</td>\n",
       "      <td>5</td>\n",
       "      <td>128</td>\n",
       "      <td>2432</td>\n",
       "      <td>NaN</td>\n",
       "      <td>NaN</td>\n",
       "    </tr>\n",
       "    <tr>\n",
       "      <th>top</th>\n",
       "      <td>rssfeeds@example.com</td>\n",
       "      <td>boingboing &lt;rssfeeds@example.com</td>\n",
       "      <td>yyyy@example.com</td>\n",
       "      <td>[Spambayes] Deployment</td>\n",
       "      <td>If you haven't already, you should enable the debug log under\\nHacking Support preferences and look for clues there.\\n\\n&gt;&gt;&gt;Reg Clemens said:\\n &gt; &gt; Hi,\\n &gt; &gt; \\n &gt; &gt; On Sun, 01 Sep 2002 00:05:03 MDT...</td>\n",
       "      <td>Tue, 08 Oct 2002 08:01:06 -0000</td>\n",
       "      <td>127.0.0.1</td>\n",
       "      <td>fork-admin@xent.com</td>\n",
       "      <td>yyyy@localhost.example.com</td>\n",
       "      <td>text/plain; encoding=utf-8</td>\n",
       "      <td>200209021718.NAA12734@blackcomb.panasas.com</td>\n",
       "      <td>NaN</td>\n",
       "      <td>NaN</td>\n",
       "    </tr>\n",
       "    <tr>\n",
       "      <th>freq</th>\n",
       "      <td>639</td>\n",
       "      <td>114</td>\n",
       "      <td>622</td>\n",
       "      <td>27</td>\n",
       "      <td>5</td>\n",
       "      <td>6</td>\n",
       "      <td>927</td>\n",
       "      <td>699</td>\n",
       "      <td>1699</td>\n",
       "      <td>639</td>\n",
       "      <td>5</td>\n",
       "      <td>NaN</td>\n",
       "      <td>NaN</td>\n",
       "    </tr>\n",
       "    <tr>\n",
       "      <th>mean</th>\n",
       "      <td>NaN</td>\n",
       "      <td>NaN</td>\n",
       "      <td>NaN</td>\n",
       "      <td>NaN</td>\n",
       "      <td>NaN</td>\n",
       "      <td>NaN</td>\n",
       "      <td>NaN</td>\n",
       "      <td>NaN</td>\n",
       "      <td>NaN</td>\n",
       "      <td>NaN</td>\n",
       "      <td>NaN</td>\n",
       "      <td>NaN</td>\n",
       "      <td>NaN</td>\n",
       "    </tr>\n",
       "    <tr>\n",
       "      <th>std</th>\n",
       "      <td>NaN</td>\n",
       "      <td>NaN</td>\n",
       "      <td>NaN</td>\n",
       "      <td>NaN</td>\n",
       "      <td>NaN</td>\n",
       "      <td>NaN</td>\n",
       "      <td>NaN</td>\n",
       "      <td>NaN</td>\n",
       "      <td>NaN</td>\n",
       "      <td>NaN</td>\n",
       "      <td>NaN</td>\n",
       "      <td>NaN</td>\n",
       "      <td>NaN</td>\n",
       "    </tr>\n",
       "    <tr>\n",
       "      <th>min</th>\n",
       "      <td>NaN</td>\n",
       "      <td>NaN</td>\n",
       "      <td>NaN</td>\n",
       "      <td>NaN</td>\n",
       "      <td>NaN</td>\n",
       "      <td>NaN</td>\n",
       "      <td>NaN</td>\n",
       "      <td>NaN</td>\n",
       "      <td>NaN</td>\n",
       "      <td>NaN</td>\n",
       "      <td>NaN</td>\n",
       "      <td>NaN</td>\n",
       "      <td>NaN</td>\n",
       "    </tr>\n",
       "    <tr>\n",
       "      <th>25%</th>\n",
       "      <td>NaN</td>\n",
       "      <td>NaN</td>\n",
       "      <td>NaN</td>\n",
       "      <td>NaN</td>\n",
       "      <td>NaN</td>\n",
       "      <td>NaN</td>\n",
       "      <td>NaN</td>\n",
       "      <td>NaN</td>\n",
       "      <td>NaN</td>\n",
       "      <td>NaN</td>\n",
       "      <td>NaN</td>\n",
       "      <td>NaN</td>\n",
       "      <td>NaN</td>\n",
       "    </tr>\n",
       "    <tr>\n",
       "      <th>50%</th>\n",
       "      <td>NaN</td>\n",
       "      <td>NaN</td>\n",
       "      <td>NaN</td>\n",
       "      <td>NaN</td>\n",
       "      <td>NaN</td>\n",
       "      <td>NaN</td>\n",
       "      <td>NaN</td>\n",
       "      <td>NaN</td>\n",
       "      <td>NaN</td>\n",
       "      <td>NaN</td>\n",
       "      <td>NaN</td>\n",
       "      <td>NaN</td>\n",
       "      <td>NaN</td>\n",
       "    </tr>\n",
       "    <tr>\n",
       "      <th>75%</th>\n",
       "      <td>NaN</td>\n",
       "      <td>NaN</td>\n",
       "      <td>NaN</td>\n",
       "      <td>NaN</td>\n",
       "      <td>NaN</td>\n",
       "      <td>NaN</td>\n",
       "      <td>NaN</td>\n",
       "      <td>NaN</td>\n",
       "      <td>NaN</td>\n",
       "      <td>NaN</td>\n",
       "      <td>NaN</td>\n",
       "      <td>NaN</td>\n",
       "      <td>NaN</td>\n",
       "    </tr>\n",
       "    <tr>\n",
       "      <th>max</th>\n",
       "      <td>NaN</td>\n",
       "      <td>NaN</td>\n",
       "      <td>NaN</td>\n",
       "      <td>NaN</td>\n",
       "      <td>NaN</td>\n",
       "      <td>NaN</td>\n",
       "      <td>NaN</td>\n",
       "      <td>NaN</td>\n",
       "      <td>NaN</td>\n",
       "      <td>NaN</td>\n",
       "      <td>NaN</td>\n",
       "      <td>NaN</td>\n",
       "      <td>NaN</td>\n",
       "    </tr>\n",
       "  </tbody>\n",
       "</table>\n",
       "</div>"
      ],
      "text/plain": [
       "                        From                          Fullname  \\\n",
       "count                   2551                              2535   \n",
       "unique                   426                               440   \n",
       "top     rssfeeds@example.com  boingboing <rssfeeds@example.com   \n",
       "freq                     639                               114   \n",
       "mean                     NaN                               NaN   \n",
       "std                      NaN                               NaN   \n",
       "min                      NaN                               NaN   \n",
       "25%                      NaN                               NaN   \n",
       "50%                      NaN                               NaN   \n",
       "75%                      NaN                               NaN   \n",
       "max                      NaN                               NaN   \n",
       "\n",
       "                      To                 Subject  \\\n",
       "count               2398                    2551   \n",
       "unique               408                    1585   \n",
       "top     yyyy@example.com  [Spambayes] Deployment   \n",
       "freq                 622                      27   \n",
       "mean                 NaN                     NaN   \n",
       "std                  NaN                     NaN   \n",
       "min                  NaN                     NaN   \n",
       "25%                  NaN                     NaN   \n",
       "50%                  NaN                     NaN   \n",
       "75%                  NaN                     NaN   \n",
       "max                  NaN                     NaN   \n",
       "\n",
       "                                                                                                                                                                                                           Body  \\\n",
       "count                                                                                                                                                                                                      2551   \n",
       "unique                                                                                                                                                                                                     2408   \n",
       "top     If you haven't already, you should enable the debug log under\\nHacking Support preferences and look for clues there.\\n\\n>>>Reg Clemens said:\\n > > Hi,\\n > > \\n > > On Sun, 01 Sep 2002 00:05:03 MDT...   \n",
       "freq                                                                                                                                                                                                          5   \n",
       "mean                                                                                                                                                                                                        NaN   \n",
       "std                                                                                                                                                                                                         NaN   \n",
       "min                                                                                                                                                                                                         NaN   \n",
       "25%                                                                                                                                                                                                         NaN   \n",
       "50%                                                                                                                                                                                                         NaN   \n",
       "75%                                                                                                                                                                                                         NaN   \n",
       "max                                                                                                                                                                                                         NaN   \n",
       "\n",
       "                                   Date         IP          Return_Path  \\\n",
       "count                              2551       1703                 2551   \n",
       "unique                             2181        233                  141   \n",
       "top     Tue, 08 Oct 2002 08:01:06 -0000  127.0.0.1  fork-admin@xent.com   \n",
       "freq                                  6        927                  699   \n",
       "mean                                NaN        NaN                  NaN   \n",
       "std                                 NaN        NaN                  NaN   \n",
       "min                                 NaN        NaN                  NaN   \n",
       "25%                                 NaN        NaN                  NaN   \n",
       "50%                                 NaN        NaN                  NaN   \n",
       "75%                                 NaN        NaN                  NaN   \n",
       "max                                 NaN        NaN                  NaN   \n",
       "\n",
       "                      Delivered_to                Content_type  \\\n",
       "count                         2416                        2150   \n",
       "unique                           5                         128   \n",
       "top     yyyy@localhost.example.com  text/plain; encoding=utf-8   \n",
       "freq                          1699                         639   \n",
       "mean                           NaN                         NaN   \n",
       "std                            NaN                         NaN   \n",
       "min                            NaN                         NaN   \n",
       "25%                            NaN                         NaN   \n",
       "50%                            NaN                         NaN   \n",
       "75%                            NaN                         NaN   \n",
       "max                            NaN                         NaN   \n",
       "\n",
       "                                         Message_Id  X_uid  Content_Length  \n",
       "count                                          2551   0.00            0.00  \n",
       "unique                                         2432    NaN             NaN  \n",
       "top     200209021718.NAA12734@blackcomb.panasas.com    NaN             NaN  \n",
       "freq                                              5    NaN             NaN  \n",
       "mean                                            NaN    NaN             NaN  \n",
       "std                                             NaN    NaN             NaN  \n",
       "min                                             NaN    NaN             NaN  \n",
       "25%                                             NaN    NaN             NaN  \n",
       "50%                                             NaN    NaN             NaN  \n",
       "75%                                             NaN    NaN             NaN  \n",
       "max                                             NaN    NaN             NaN  "
      ]
     },
     "execution_count": 8,
     "metadata": {},
     "output_type": "execute_result"
    }
   ],
   "source": [
    "df2.describe(include='all')"
   ]
  },
  {
   "cell_type": "markdown",
   "id": "bf39d70e",
   "metadata": {},
   "source": [
    "Looking at the description of the data we can see unique value counts, value with higher frequency. No more that than since most of the data are not numeric. \n",
    "Now let's plot top five senders of `Phishing` and `Safe` emails to have more idea about the data. We can achieve that by plotting top 5 of value counts for the column `From`.\n",
    "\n",
    "Below we can see that for `Phishing`, top 5 senders are kind of e-commerce webshops and this makes more sence because the criminal(sender of a fishing email) will be targetting to steal people's payment details.  "
   ]
  },
  {
   "cell_type": "code",
   "execution_count": 9,
   "id": "811d72cf",
   "metadata": {},
   "outputs": [
    {
     "data": {
      "text/plain": [
       "<Axes: >"
      ]
     },
     "execution_count": 9,
     "metadata": {},
     "output_type": "execute_result"
    },
    {
     "data": {
      "image/png": "[encoded data removed]",
      "text/plain": [
       "<Figure size 640x480 with 1 Axes>"
      ]
     },
     "metadata": {},
     "output_type": "display_data"
    }
   ],
   "source": [
    "fig, ax = plt.subplots()\n",
    "df1['From'].value_counts().head(5).plot(ax=ax, kind='bar')"
   ]
  },
  {
   "cell_type": "markdown",
   "id": "c8b53f75",
   "metadata": {},
   "source": [
    "And for `Safe`, we can see that RSS feeds email are the highest sent emails, and the rest are individual emails which is also make sence for normal emails"
   ]
  },
  {
   "cell_type": "code",
   "execution_count": 10,
   "id": "ee0443d6",
   "metadata": {},
   "outputs": [
    {
     "data": {
      "text/plain": [
       "<Axes: >"
      ]
     },
     "execution_count": 10,
     "metadata": {},
     "output_type": "execute_result"
    },
    {
     "data": {
      "image/png": "[encoded data removed]",
      "text/plain": [
       "<Figure size 640x480 with 1 Axes>"
      ]
     },
     "metadata": {},
     "output_type": "display_data"
    }
   ],
   "source": [
    "fig, ax = plt.subplots()\n",
    "df2['From'].value_counts().head(5).plot(ax=ax, kind='bar')"
   ]
  },
  {
   "cell_type": "markdown",
   "id": "13448c1e",
   "metadata": {},
   "source": [
    "## Data Preparation\n",
    "\n",
    "In this section I will handle data with `NaN` values, check duplicates and drop them if required."
   ]
  },
  {
   "cell_type": "code",
   "execution_count": 11,
   "id": "d9a65781",
   "metadata": {},
   "outputs": [
    {
     "data": {
      "text/plain": [
       "From                 0\n",
       "Fullname             3\n",
       "To                   5\n",
       "Subject             20\n",
       "Body                26\n",
       "Date                 0\n",
       "IP                 835\n",
       "Return_Path          0\n",
       "Delivered_to         0\n",
       "Content_type        26\n",
       "Message_Id           0\n",
       "X_uid              423\n",
       "Content_Length    1540\n",
       "dtype: int64"
      ]
     },
     "execution_count": 11,
     "metadata": {},
     "output_type": "execute_result"
    }
   ],
   "source": [
    "df1.isnull().sum()"
   ]
  },
  {
   "cell_type": "code",
   "execution_count": 12,
   "id": "077bff17",
   "metadata": {},
   "outputs": [
    {
     "data": {
      "text/plain": [
       "From                 0\n",
       "Fullname            16\n",
       "To                 153\n",
       "Subject              0\n",
       "Body                 0\n",
       "Date                 0\n",
       "IP                 848\n",
       "Return_Path          0\n",
       "Delivered_to       135\n",
       "Content_type       401\n",
       "Message_Id           0\n",
       "X_uid             2551\n",
       "Content_Length    2551\n",
       "dtype: int64"
      ]
     },
     "execution_count": 12,
     "metadata": {},
     "output_type": "execute_result"
    }
   ],
   "source": [
    "\n",
    "df2.isnull().sum()"
   ]
  },
  {
   "cell_type": "markdown",
   "id": "bca7bd6d",
   "metadata": {},
   "source": [
    "Let us check for duplicate values in our dataset and drop them as the presence of duplicate values will hamper the accuracy of our ML model. \n",
    "\n",
    "We can see that only df2 has duplicates."
   ]
  },
  {
   "cell_type": "code",
   "execution_count": 13,
   "id": "2b93f5d7",
   "metadata": {},
   "outputs": [
    {
     "name": "stdout",
     "output_type": "stream",
     "text": [
      "0\n"
     ]
    },
    {
     "data": {
      "text/html": [
       "<div>\n",
       "<style scoped>\n",
       "    .dataframe tbody tr th:only-of-type {\n",
       "        vertical-align: middle;\n",
       "    }\n",
       "\n",
       "    .dataframe tbody tr th {\n",
       "        vertical-align: top;\n",
       "    }\n",
       "\n",
       "    .dataframe thead th {\n",
       "        text-align: right;\n",
       "    }\n",
       "</style>\n",
       "<table border=\"1\" class=\"dataframe\">\n",
       "  <thead>\n",
       "    <tr style=\"text-align: right;\">\n",
       "      <th></th>\n",
       "      <th>From</th>\n",
       "      <th>Fullname</th>\n",
       "      <th>To</th>\n",
       "      <th>Subject</th>\n",
       "      <th>Body</th>\n",
       "      <th>Date</th>\n",
       "      <th>IP</th>\n",
       "      <th>Return_Path</th>\n",
       "      <th>Delivered_to</th>\n",
       "      <th>Content_type</th>\n",
       "      <th>Message_Id</th>\n",
       "      <th>X_uid</th>\n",
       "      <th>Content_Length</th>\n",
       "    </tr>\n",
       "  </thead>\n",
       "  <tbody>\n",
       "  </tbody>\n",
       "</table>\n",
       "</div>"
      ],
      "text/plain": [
       "Empty DataFrame\n",
       "Columns: [From, Fullname, To, Subject, Body, Date, IP, Return_Path, Delivered_to, Content_type, Message_Id, X_uid, Content_Length]\n",
       "Index: []"
      ]
     },
     "execution_count": 13,
     "metadata": {},
     "output_type": "execute_result"
    }
   ],
   "source": [
    "duplicatedsValues = df1.duplicated()\n",
    "print(duplicatedsValues.sum())\n",
    "df1[duplicatedsValues]"
   ]
  },
  {
   "cell_type": "code",
   "execution_count": 14,
   "id": "1cbd24cb",
   "metadata": {},
   "outputs": [
    {
     "name": "stdout",
     "output_type": "stream",
     "text": [
      "9\n"
     ]
    }
   ],
   "source": [
    "duplicatedsValues = df2.duplicated()\n",
    "print(duplicatedsValues.sum())"
   ]
  },
  {
   "cell_type": "markdown",
   "id": "0d13ec66",
   "metadata": {},
   "source": [
    "We can remove duplicate values using drop_duplicates()"
   ]
  },
  {
   "cell_type": "code",
   "execution_count": 15,
   "id": "1e0d16bc",
   "metadata": {},
   "outputs": [],
   "source": [
    "df2.drop_duplicates(inplace=True)"
   ]
  },
  {
   "cell_type": "markdown",
   "id": "69813cf8",
   "metadata": {},
   "source": [
    "I am verifying if duplicates rows are removed"
   ]
  },
  {
   "cell_type": "code",
   "execution_count": 16,
   "id": "d19c11a7",
   "metadata": {},
   "outputs": [
    {
     "data": {
      "text/plain": [
       "0"
      ]
     },
     "execution_count": 16,
     "metadata": {},
     "output_type": "execute_result"
    }
   ],
   "source": [
    "duplicatedsValues = df2.duplicated()\n",
    "duplicatedsValues.sum()"
   ]
  },
  {
   "cell_type": "markdown",
   "id": "20f89fa2",
   "metadata": {},
   "source": [
    "### 📤 Handling missing data"
   ]
  },
  {
   "cell_type": "markdown",
   "id": "ee5b3278",
   "metadata": {},
   "source": [
    "After resetting the indices, let's explore further the data. By looking at the columns information we see that for some columns we have too many missing values. For example columns \"Content_Length and X_uid\" have too many null values. However, we need to be carefull before we can decide if we can drop them, because it could be that the value being null is a contributing factor that an email is `valid` or `phishing`.\n",
    "\n",
    "Let's verify them carefully, by going back to the `phishing` and `valid` before they are merged.\n"
   ]
  },
  {
   "cell_type": "markdown",
   "id": "f2241f95",
   "metadata": {},
   "source": [
    "Below we are checking the counts of the null values of the 2 columns `X_uid` and `Content_Length` for each of the datasets. We can see that in the `valid emails` the two columns have no values at all, and in the `phishing` dataset almost 75% of the Content_Length and almost 20% of X_uid values are missing."
   ]
  },
  {
   "cell_type": "code",
   "execution_count": 17,
   "id": "a77a3cfc",
   "metadata": {},
   "outputs": [
    {
     "name": "stdout",
     "output_type": "stream",
     "text": [
      "Phishing dataframe: Count of null values in the column X_uid is 423/2239 rows\n",
      "Phishing dataframe: Count of null values in the column Content_Length is 1540/2239 rows\n",
      "\n",
      "Valid email dataframe: Count of null values in the column X_uid is 2542/2542 rows\n",
      "Valid email dataframe: Count of null values in the column Content_Length is 2542/2542 rows\n",
      "\n",
      "Valid email dataframe: Count of null values in the column IP is 844/2542 rows\n",
      "Valid email dataframe: Count of null values in the column IP is 844/2542 rows\n"
     ]
    }
   ],
   "source": [
    "print('Phishing dataframe: Count of null values in the column X_uid is {}/{} rows'.format(df1['X_uid'].isnull().sum(),len(df1.index)));\n",
    "print('Phishing dataframe: Count of null values in the column Content_Length is {}/{} rows\\n'.format(df1['Content_Length'].isnull().sum(),len(df1.index)));\n",
    "\n",
    "print('Valid email dataframe: Count of null values in the column X_uid is {}/{} rows' .format(df2['X_uid'].isnull().sum(),len(df2.index)));\n",
    "print('Valid email dataframe: Count of null values in the column Content_Length is {}/{} rows\\n' .format(df2['Content_Length'].isnull().sum(),len(df2.index)));\n",
    "\n",
    "print('Valid email dataframe: Count of null values in the column IP is {}/{} rows' .format(df2['IP'].isnull().sum(),len(df2.index)));\n",
    "print('Valid email dataframe: Count of null values in the column IP is {}/{} rows' .format(df2['IP'].isnull().sum(),len(df2.index)));"
   ]
  },
  {
   "cell_type": "markdown",
   "id": "16e360a4",
   "metadata": {},
   "source": [
    "##### Now the `Content_length`, `IP` and `X_uid` columns can be dropped due to too many missing values and also their less relevance in this analysis"
   ]
  },
  {
   "cell_type": "code",
   "execution_count": 18,
   "id": "a42594df",
   "metadata": {},
   "outputs": [],
   "source": [
    "df1=df1.drop(columns=['IP','Content_Length','X_uid'])\n",
    "df2=df2.drop(columns=['IP','Content_Length','X_uid'])"
   ]
  },
  {
   "cell_type": "markdown",
   "id": "521ce243",
   "metadata": {},
   "source": [
    "# Phase 3: Predictions"
   ]
  },
  {
   "cell_type": "markdown",
   "id": "b9d47025",
   "metadata": {},
   "source": [
    "\n",
    "## ⚙️ Preprocessing \n",
    "\n",
    "\n",
    "### 🎯 Target variable\n",
    "\n",
    "Since we have two separate datasets one for phishing emails and one for valid emails, we will first label the data by adding a new column `IsEmailPhishing` on both datasets which will indicate if an email is phishing or not. For phishing emails we put `1` and for valid emails `0`, the we will review the shapes of the datasets.\n",
    "\n",
    "Since we have 2 datasets with differents target values, we will then merge both dataframes for further preprocessing and analysis\n"
   ]
  },
  {
   "cell_type": "code",
   "execution_count": 19,
   "id": "6967d04e",
   "metadata": {},
   "outputs": [
    {
     "name": "stdout",
     "output_type": "stream",
     "text": [
      "(4781, 11)\n"
     ]
    }
   ],
   "source": [
    "df1[\"IsEmailPhishing\"] = 1\n",
    "df2[\"IsEmailPhishing\"] = 0\n",
    "\n",
    "df = pd.concat([df1,df2], axis=0)\n",
    "print(df.shape)"
   ]
  },
  {
   "cell_type": "markdown",
   "id": "6afe3240",
   "metadata": {},
   "source": [
    "After merging, the indices of the two merged datasets will be mixed up, because the `phishing` dataset had index from 0-2239 and `valid emails` dataset index 0-2551. Meaning that resulting merged dataset will have index from `0` to `2239` duplicate. So, resetting the index is needed to have sequential index, then after getting a new index, we will drop the mixed up one\n",
    "\n",
    "Then we can verify that our new index is sequential by checking the last 5 rows"
   ]
  },
  {
   "cell_type": "code",
   "execution_count": 20,
   "id": "1d21d3ae",
   "metadata": {},
   "outputs": [
    {
     "data": {
      "text/html": [
       "<div>\n",
       "<style scoped>\n",
       "    .dataframe tbody tr th:only-of-type {\n",
       "        vertical-align: middle;\n",
       "    }\n",
       "\n",
       "    .dataframe tbody tr th {\n",
       "        vertical-align: top;\n",
       "    }\n",
       "\n",
       "    .dataframe thead th {\n",
       "        text-align: right;\n",
       "    }\n",
       "</style>\n",
       "<table border=\"1\" class=\"dataframe\">\n",
       "  <thead>\n",
       "    <tr style=\"text-align: right;\">\n",
       "      <th></th>\n",
       "      <th>From</th>\n",
       "      <th>Fullname</th>\n",
       "      <th>To</th>\n",
       "      <th>Subject</th>\n",
       "      <th>Body</th>\n",
       "      <th>Date</th>\n",
       "      <th>Return_Path</th>\n",
       "      <th>Delivered_to</th>\n",
       "      <th>Content_type</th>\n",
       "      <th>Message_Id</th>\n",
       "      <th>IsEmailPhishing</th>\n",
       "    </tr>\n",
       "  </thead>\n",
       "  <tbody>\n",
       "    <tr>\n",
       "      <th>4776</th>\n",
       "      <td>rssfeeds@example.com</td>\n",
       "      <td>newscientist &lt;rssfeeds@example.com</td>\n",
       "      <td>yyyy@example.com</td>\n",
       "      <td>Gene technique reveals human evolution</td>\n",
       "      <td>URL: http://www.newsisfree.com/click/-3,8714366,1440/\\nDate: Not supplied\\n\\nA method that could allow scientists to probe our ancestors' evolution over the \\nlast 20,000 years passes its first te...</td>\n",
       "      <td>Thu, 10 Oct 2002 08:04:25 -0000</td>\n",
       "      <td>rssfeeds@example.com</td>\n",
       "      <td>yyyy@localhost.example.com</td>\n",
       "      <td>text/plain; encoding=utf-8</td>\n",
       "      <td>200210100804.g9A84PK14188@dogma.slashnull.org</td>\n",
       "      <td>0</td>\n",
       "    </tr>\n",
       "    <tr>\n",
       "      <th>4777</th>\n",
       "      <td>rssfeeds@example.com</td>\n",
       "      <td>guardian &lt;rssfeeds@example.com</td>\n",
       "      <td>yyyy@example.com</td>\n",
       "      <td>Go-ahead for new-style hospitals</td>\n",
       "      <td>URL: http://www.newsisfree.com/click/-4,8723999,215/\\nDate: 2002-10-10T03:26:52+01:00\\n\\n*Society:* Blair brokers Whitehall deal on trusts borrowing private cash.\\n\\n\\n</td>\n",
       "      <td>Thu, 10 Oct 2002 08:04:10 -0000</td>\n",
       "      <td>rssfeeds@example.com</td>\n",
       "      <td>yyyy@localhost.example.com</td>\n",
       "      <td>text/plain; encoding=utf-8</td>\n",
       "      <td>200210100804.g9A84AK14152@dogma.slashnull.org</td>\n",
       "      <td>0</td>\n",
       "    </tr>\n",
       "    <tr>\n",
       "      <th>4778</th>\n",
       "      <td>rssfeeds@example.com</td>\n",
       "      <td>newscientist &lt;rssfeeds@example.com</td>\n",
       "      <td>yyyy@example.com</td>\n",
       "      <td>Malicious code hidden in email software</td>\n",
       "      <td>URL: http://www.newsisfree.com/click/-3,8710804,1440/\\nDate: Not supplied\\n\\nThe new software was switched for dummy code containing a \"Trojan horse\" on its \\ndownload servers\\n\\n\\n</td>\n",
       "      <td>Thu, 10 Oct 2002 08:04:26 -0000</td>\n",
       "      <td>rssfeeds@example.com</td>\n",
       "      <td>yyyy@localhost.example.com</td>\n",
       "      <td>text/plain; encoding=utf-8</td>\n",
       "      <td>200210100804.g9A84QK14191@dogma.slashnull.org</td>\n",
       "      <td>0</td>\n",
       "    </tr>\n",
       "    <tr>\n",
       "      <th>4779</th>\n",
       "      <td>rssfeeds@example.com</td>\n",
       "      <td>guardian &lt;rssfeeds@example.com</td>\n",
       "      <td>yyyy@example.com</td>\n",
       "      <td>'Flexible' retirement gains ground</td>\n",
       "      <td>URL: http://www.newsisfree.com/click/-4,8724000,215/\\nDate: 2002-10-10T03:26:51+01:00\\n\\n*Money:* Government admits millions may have to work on beyond 65.\\n\\n\\n</td>\n",
       "      <td>Thu, 10 Oct 2002 08:04:10 -0000</td>\n",
       "      <td>rssfeeds@example.com</td>\n",
       "      <td>yyyy@localhost.example.com</td>\n",
       "      <td>text/plain; encoding=utf-8</td>\n",
       "      <td>200210100804.g9A84AK14155@dogma.slashnull.org</td>\n",
       "      <td>0</td>\n",
       "    </tr>\n",
       "    <tr>\n",
       "      <th>4780</th>\n",
       "      <td>rssfeeds@example.com</td>\n",
       "      <td>newscientist &lt;rssfeeds@example.com</td>\n",
       "      <td>yyyy@example.com</td>\n",
       "      <td>Critical US satellites could be hacked</td>\n",
       "      <td>URL: http://www.newsisfree.com/click/-3,8708820,1440/\\nDate: Not supplied\\n\\nMilitary communications could be jammed or intercepted and satellites thrown \\noff course or destroyed, a new US study ...</td>\n",
       "      <td>Thu, 10 Oct 2002 08:04:26 -0000</td>\n",
       "      <td>rssfeeds@example.com</td>\n",
       "      <td>yyyy@localhost.example.com</td>\n",
       "      <td>text/plain; encoding=utf-8</td>\n",
       "      <td>200210100804.g9A84QK14194@dogma.slashnull.org</td>\n",
       "      <td>0</td>\n",
       "    </tr>\n",
       "  </tbody>\n",
       "</table>\n",
       "</div>"
      ],
      "text/plain": [
       "                      From                            Fullname  \\\n",
       "4776  rssfeeds@example.com  newscientist <rssfeeds@example.com   \n",
       "4777  rssfeeds@example.com      guardian <rssfeeds@example.com   \n",
       "4778  rssfeeds@example.com  newscientist <rssfeeds@example.com   \n",
       "4779  rssfeeds@example.com      guardian <rssfeeds@example.com   \n",
       "4780  rssfeeds@example.com  newscientist <rssfeeds@example.com   \n",
       "\n",
       "                    To                                  Subject  \\\n",
       "4776  yyyy@example.com   Gene technique reveals human evolution   \n",
       "4777  yyyy@example.com         Go-ahead for new-style hospitals   \n",
       "4778  yyyy@example.com  Malicious code hidden in email software   \n",
       "4779  yyyy@example.com       'Flexible' retirement gains ground   \n",
       "4780  yyyy@example.com   Critical US satellites could be hacked   \n",
       "\n",
       "                                                                                                                                                                                                         Body  \\\n",
       "4776  URL: http://www.newsisfree.com/click/-3,8714366,1440/\\nDate: Not supplied\\n\\nA method that could allow scientists to probe our ancestors' evolution over the \\nlast 20,000 years passes its first te...   \n",
       "4777                                 URL: http://www.newsisfree.com/click/-4,8723999,215/\\nDate: 2002-10-10T03:26:52+01:00\\n\\n*Society:* Blair brokers Whitehall deal on trusts borrowing private cash.\\n\\n\\n   \n",
       "4778                    URL: http://www.newsisfree.com/click/-3,8710804,1440/\\nDate: Not supplied\\n\\nThe new software was switched for dummy code containing a \"Trojan horse\" on its \\ndownload servers\\n\\n\\n   \n",
       "4779                                        URL: http://www.newsisfree.com/click/-4,8724000,215/\\nDate: 2002-10-10T03:26:51+01:00\\n\\n*Money:* Government admits millions may have to work on beyond 65.\\n\\n\\n   \n",
       "4780  URL: http://www.newsisfree.com/click/-3,8708820,1440/\\nDate: Not supplied\\n\\nMilitary communications could be jammed or intercepted and satellites thrown \\noff course or destroyed, a new US study ...   \n",
       "\n",
       "                                 Date           Return_Path  \\\n",
       "4776  Thu, 10 Oct 2002 08:04:25 -0000  rssfeeds@example.com   \n",
       "4777  Thu, 10 Oct 2002 08:04:10 -0000  rssfeeds@example.com   \n",
       "4778  Thu, 10 Oct 2002 08:04:26 -0000  rssfeeds@example.com   \n",
       "4779  Thu, 10 Oct 2002 08:04:10 -0000  rssfeeds@example.com   \n",
       "4780  Thu, 10 Oct 2002 08:04:26 -0000  rssfeeds@example.com   \n",
       "\n",
       "                    Delivered_to                Content_type  \\\n",
       "4776  yyyy@localhost.example.com  text/plain; encoding=utf-8   \n",
       "4777  yyyy@localhost.example.com  text/plain; encoding=utf-8   \n",
       "4778  yyyy@localhost.example.com  text/plain; encoding=utf-8   \n",
       "4779  yyyy@localhost.example.com  text/plain; encoding=utf-8   \n",
       "4780  yyyy@localhost.example.com  text/plain; encoding=utf-8   \n",
       "\n",
       "                                         Message_Id  IsEmailPhishing  \n",
       "4776  200210100804.g9A84PK14188@dogma.slashnull.org                0  \n",
       "4777  200210100804.g9A84AK14152@dogma.slashnull.org                0  \n",
       "4778  200210100804.g9A84QK14191@dogma.slashnull.org                0  \n",
       "4779  200210100804.g9A84AK14155@dogma.slashnull.org                0  \n",
       "4780  200210100804.g9A84QK14194@dogma.slashnull.org                0  "
      ]
     },
     "execution_count": 20,
     "metadata": {},
     "output_type": "execute_result"
    }
   ],
   "source": [
    "df.reset_index(inplace=True)\n",
    "df=df.drop(columns='index')\n",
    "df.tail()"
   ]
  },
  {
   "cell_type": "markdown",
   "id": "6c0056ed",
   "metadata": {},
   "source": [
    "Let's recheck the sumary of the whole dataset after merging. Now we can see that we still have some missing values. Let's start `Feature Selection` process during which we will decide if a column can be considered in our analysis. "
   ]
  },
  {
   "cell_type": "code",
   "execution_count": 21,
   "id": "1200be71",
   "metadata": {},
   "outputs": [
    {
     "name": "stdout",
     "output_type": "stream",
     "text": [
      "<class 'pandas.core.frame.DataFrame'>\n",
      "RangeIndex: 4781 entries, 0 to 4780\n",
      "Data columns (total 11 columns):\n",
      " #   Column           Non-Null Count  Dtype \n",
      "---  ------           --------------  ----- \n",
      " 0   From             4781 non-null   object\n",
      " 1   Fullname         4762 non-null   object\n",
      " 2   To               4623 non-null   object\n",
      " 3   Subject          4761 non-null   object\n",
      " 4   Body             4755 non-null   object\n",
      " 5   Date             4781 non-null   object\n",
      " 6   Return_Path      4781 non-null   object\n",
      " 7   Delivered_to     4646 non-null   object\n",
      " 8   Content_type     4357 non-null   object\n",
      " 9   Message_Id       4781 non-null   object\n",
      " 10  IsEmailPhishing  4781 non-null   int64 \n",
      "dtypes: int64(1), object(10)\n",
      "memory usage: 411.0+ KB\n"
     ]
    }
   ],
   "source": [
    "df.info()"
   ]
  },
  {
   "cell_type": "markdown",
   "id": "d19c95bc",
   "metadata": {},
   "source": [
    "### 💡 Feature selection\n",
    "\n",
    "Since for analyzing phishing emails big focus is on the sender of email than the recipient, the columns `To` and `Delivered_to` are less relevant and will not have much added value on our analysis. The same apply to `Fullname`,`Message_Id`,`date` and `Return_Path` columns. `From` column can have added value in this analyzis, however, it will not be considered for this iteration.\n",
    "\n",
    "The most relevant columns are `Subject`and `Body` since they contains words that will be tokenized and turned to features\n",
    "\n",
    "Let's fill missing values with `None` on `Subject` and `Body` features"
   ]
  },
  {
   "cell_type": "code",
   "execution_count": 22,
   "id": "326b886c",
   "metadata": {},
   "outputs": [],
   "source": [
    "df['Subject'].fillna('None', inplace=True)\n",
    "df['Body'].fillna('None', inplace=True)"
   ]
  },
  {
   "cell_type": "markdown",
   "id": "60530a5e",
   "metadata": {},
   "source": [
    "##### Leaving out non-used columns\n",
    "\n",
    "Let's merge `Subject` text with `Body` columns in a new column `email_text`since both represent the text of an email.\n",
    "\n",
    "Getting a subset of our dataframe by taking only `email_text` and our target value `IsEmailPhishing` and create a new dataframe `emailText_df` and view first 5 rows."
   ]
  },
  {
   "cell_type": "code",
   "execution_count": 23,
   "id": "eb208680",
   "metadata": {},
   "outputs": [
    {
     "data": {
      "text/html": [
       "<div>\n",
       "<style scoped>\n",
       "    .dataframe tbody tr th:only-of-type {\n",
       "        vertical-align: middle;\n",
       "    }\n",
       "\n",
       "    .dataframe tbody tr th {\n",
       "        vertical-align: top;\n",
       "    }\n",
       "\n",
       "    .dataframe thead th {\n",
       "        text-align: right;\n",
       "    }\n",
       "</style>\n",
       "<table border=\"1\" class=\"dataframe\">\n",
       "  <thead>\n",
       "    <tr style=\"text-align: right;\">\n",
       "      <th></th>\n",
       "      <th>Subject</th>\n",
       "      <th>Body</th>\n",
       "      <th>IsEmailPhishing</th>\n",
       "      <th>email_text</th>\n",
       "    </tr>\n",
       "  </thead>\n",
       "  <tbody>\n",
       "    <tr>\n",
       "      <th>0</th>\n",
       "      <td>eBay account verification!</td>\n",
       "      <td>Dear eBay User , After fraud complaints from the eBay members, the eBay Inc. had developed a security program against the fraudulend attempts of accounts thefts. For that we have to securise all t...</td>\n",
       "      <td>1</td>\n",
       "      <td>eBay account verification! Dear eBay User , After fraud complaints from the eBay members, the eBay Inc. had developed a security program against the fraudulend attempts of accounts thefts. For tha...</td>\n",
       "    </tr>\n",
       "    <tr>\n",
       "      <th>1</th>\n",
       "      <td>eBay - verify your account information</td>\n",
       "      <td>Welcome Welcome to a community of sellers that have achieved exceptional levels of success and positive feedback on eBay! We invite you to join us as a PowerSeller If you agree with this rank plea...</td>\n",
       "      <td>1</td>\n",
       "      <td>eBay - verify your account information Welcome Welcome to a community of sellers that have achieved exceptional levels of success and positive feedback on eBay! We invite you to join us as a Power...</td>\n",
       "    </tr>\n",
       "    <tr>\n",
       "      <th>2</th>\n",
       "      <td>Notification of limited account access</td>\n",
       "      <td>Dear valued PayPal® member: PayPal® is committed to maintaining a safe environment for its community of buyers and sellers. To protect the security of your account, PayPal employs some of the most...</td>\n",
       "      <td>1</td>\n",
       "      <td>Notification of limited account access Dear valued PayPal® member: PayPal® is committed to maintaining a safe environment for its community of buyers and sellers. To protect the security of your a...</td>\n",
       "    </tr>\n",
       "    <tr>\n",
       "      <th>3</th>\n",
       "      <td>..PayPal Notification..: Update your information</td>\n",
       "      <td>PayPal You're Billing Information! Dear PayPal Member, It has come to our attention that your PayPal Billing Information records are out of date. That requires you to update the Billing Informatio...</td>\n",
       "      <td>1</td>\n",
       "      <td>..PayPal Notification..: Update your information PayPal You're Billing Information! Dear PayPal Member, It has come to our attention that your PayPal Billing Information records are out of date. T...</td>\n",
       "    </tr>\n",
       "    <tr>\n",
       "      <th>4</th>\n",
       "      <td>We recently noticed one or more attempts to log in your account</td>\n",
       "      <td>We recently noticed one or more attempts to log in your account from a foreign IP address and we have reasons to believe that your account was used by a third party without your authorization. If ...</td>\n",
       "      <td>1</td>\n",
       "      <td>We recently noticed one or more attempts to log in your account We recently noticed one or more attempts to log in your account from a foreign IP address and we have reasons to believe that your a...</td>\n",
       "    </tr>\n",
       "  </tbody>\n",
       "</table>\n",
       "</div>"
      ],
      "text/plain": [
       "                                                           Subject  \\\n",
       "0                                       eBay account verification!   \n",
       "1                           eBay - verify your account information   \n",
       "2                           Notification of limited account access   \n",
       "3                 ..PayPal Notification..: Update your information   \n",
       "4  We recently noticed one or more attempts to log in your account   \n",
       "\n",
       "                                                                                                                                                                                                      Body  \\\n",
       "0  Dear eBay User , After fraud complaints from the eBay members, the eBay Inc. had developed a security program against the fraudulend attempts of accounts thefts. For that we have to securise all t...   \n",
       "1  Welcome Welcome to a community of sellers that have achieved exceptional levels of success and positive feedback on eBay! We invite you to join us as a PowerSeller If you agree with this rank plea...   \n",
       "2  Dear valued PayPal® member: PayPal® is committed to maintaining a safe environment for its community of buyers and sellers. To protect the security of your account, PayPal employs some of the most...   \n",
       "3  PayPal You're Billing Information! Dear PayPal Member, It has come to our attention that your PayPal Billing Information records are out of date. That requires you to update the Billing Informatio...   \n",
       "4  We recently noticed one or more attempts to log in your account from a foreign IP address and we have reasons to believe that your account was used by a third party without your authorization. If ...   \n",
       "\n",
       "   IsEmailPhishing  \\\n",
       "0                1   \n",
       "1                1   \n",
       "2                1   \n",
       "3                1   \n",
       "4                1   \n",
       "\n",
       "                                                                                                                                                                                                email_text  \n",
       "0  eBay account verification! Dear eBay User , After fraud complaints from the eBay members, the eBay Inc. had developed a security program against the fraudulend attempts of accounts thefts. For tha...  \n",
       "1  eBay - verify your account information Welcome Welcome to a community of sellers that have achieved exceptional levels of success and positive feedback on eBay! We invite you to join us as a Power...  \n",
       "2  Notification of limited account access Dear valued PayPal® member: PayPal® is committed to maintaining a safe environment for its community of buyers and sellers. To protect the security of your a...  \n",
       "3  ..PayPal Notification..: Update your information PayPal You're Billing Information! Dear PayPal Member, It has come to our attention that your PayPal Billing Information records are out of date. T...  \n",
       "4  We recently noticed one or more attempts to log in your account We recently noticed one or more attempts to log in your account from a foreign IP address and we have reasons to believe that your a...  "
      ]
     },
     "execution_count": 23,
     "metadata": {},
     "output_type": "execute_result"
    }
   ],
   "source": [
    "emailText_df=df[['Subject','Body','IsEmailPhishing']]\n",
    "emailText_df['email_text']=df['Subject'] + ' ' + df['Body']\n",
    "emailText_dfe=emailText_df[['email_text','IsEmailPhishing']]\n",
    "emailText_df.head()"
   ]
  },
  {
   "cell_type": "markdown",
   "id": "f9e97f0d",
   "metadata": {},
   "source": [
    "##### Tokenization and stemming"
   ]
  },
  {
   "cell_type": "markdown",
   "id": "1b747574",
   "metadata": {},
   "source": [
    "For this Iteration, I will only consider the columns `Body` and `Subject` merged as `email_text` for the analysis.\n",
    "For that I will perform tokenization together with Stemming of the email text using NLTK pre processing. Within the function `text_processing`, I am using regex library to remove all ponctuations. \n",
    "\n",
    "Ref: GeeksforGeeks. (2023, May 16). Removing stop words with NLTK in Python. https://www.geeksforgeeks.org/removing-stop-words-nltk-python/\n"
   ]
  },
  {
   "cell_type": "code",
   "execution_count": 24,
   "id": "896b9a52",
   "metadata": {},
   "outputs": [],
   "source": [
    "from nltk.corpus import stopwords"
   ]
  },
  {
   "cell_type": "code",
   "execution_count": 25,
   "id": "83537583",
   "metadata": {},
   "outputs": [],
   "source": [
    "from nltk.stem import PorterStemmer\n",
    "from nltk.tokenize import sent_tokenize, word_tokenize\n",
    "\n",
    "ps = PorterStemmer()\n",
    "\n",
    "stop_words = set(stopwords.words('english'))\n",
    " \n",
    "# extracting only sequence of letters and numbers from the text, converts the words in word_tokens to lower case and then checks whether\n",
    "#they are present in stop_words or not, return tokens without stopwords in a list of words\n",
    "def text_preprocessing(dataset):\n",
    "    tokens_list=[]\n",
    "    for i in range(0,len(dataset)):\n",
    "        text=re.sub('[^a-zA-Z0-9]',' ',dataset['email_text'][i])\n",
    "        text=text.lower()\n",
    "        text=text.split()\n",
    "        text=[ps.stem(w) for w in text if not w in stop_words]\n",
    "        text =' '.join(text)\n",
    "        tokens_list.append(text)\n",
    "    return tokens_list"
   ]
  },
  {
   "cell_type": "markdown",
   "id": "654f029f",
   "metadata": {},
   "source": [
    "### Text processing using NLTK"
   ]
  },
  {
   "cell_type": "code",
   "execution_count": 26,
   "id": "57332f23",
   "metadata": {},
   "outputs": [
    {
     "data": {
      "text/html": [
       "<div>\n",
       "<style scoped>\n",
       "    .dataframe tbody tr th:only-of-type {\n",
       "        vertical-align: middle;\n",
       "    }\n",
       "\n",
       "    .dataframe tbody tr th {\n",
       "        vertical-align: top;\n",
       "    }\n",
       "\n",
       "    .dataframe thead th {\n",
       "        text-align: right;\n",
       "    }\n",
       "</style>\n",
       "<table border=\"1\" class=\"dataframe\">\n",
       "  <thead>\n",
       "    <tr style=\"text-align: right;\">\n",
       "      <th></th>\n",
       "      <th>Subject</th>\n",
       "      <th>Body</th>\n",
       "      <th>IsEmailPhishing</th>\n",
       "      <th>email_text</th>\n",
       "      <th>email_words</th>\n",
       "    </tr>\n",
       "  </thead>\n",
       "  <tbody>\n",
       "    <tr>\n",
       "      <th>42</th>\n",
       "      <td>Account Review. PayPal Team identified some unusual activity in your</td>\n",
       "      <td>Notification of Limited Account Access As part of our security measures, we regularly screen activity in the PayPal system. We recently noticed the following issue on your account: Unusual account...</td>\n",
       "      <td>1</td>\n",
       "      <td>Account Review. PayPal Team identified some unusual activity in your  Notification of Limited Account Access As part of our security measures, we regularly screen activity in the PayPal system. We...</td>\n",
       "      <td>account review paypal team identifi unusu activ notif limit account access part secur measur regularli screen activ paypal system recent notic follow issu account unusu account activ made necessar...</td>\n",
       "    </tr>\n",
       "    <tr>\n",
       "      <th>1796</th>\n",
       "      <td>Customer notification: details confirmation! (message id: ny208135124)</td>\n",
       "      <td>[]</td>\n",
       "      <td>1</td>\n",
       "      <td>Customer notification: details confirmation! (message id: ny208135124) []</td>\n",
       "      <td>custom notif detail confirm messag id ny208135124</td>\n",
       "    </tr>\n",
       "    <tr>\n",
       "      <th>2871</th>\n",
       "      <td>Re: From salon.com - Forbidden thoughts about 9/11</td>\n",
       "      <td>--0-1051763016-1031874793=:3397\\nContent-Type: text/plain; charset=us-ascii\\n\\n\\nI am delurking to comment on the Salon article. I just wanted to say that I am grateful they choose not to publish ...</td>\n",
       "      <td>0</td>\n",
       "      <td>Re: From salon.com - Forbidden thoughts about 9/11 --0-1051763016-1031874793=:3397\\nContent-Type: text/plain; charset=us-ascii\\n\\n\\nI am delurking to comment on the Salon article. I just wanted to...</td>\n",
       "      <td>salon com forbidden thought 9 11 0 1051763016 1031874793 3397 content type text plain charset us ascii delurk comment salon articl want say grate choos publish forbidden thought sent coupl day 9 1...</td>\n",
       "    </tr>\n",
       "    <tr>\n",
       "      <th>3637</th>\n",
       "      <td>[SAtalk] Some Stupid Questions</td>\n",
       "      <td>As the subject line indicates, I'm sure these are stupid questions, but\\nI'm having trouble getting SA working like I understand it should work,\\nand have about given up on trying to figure it out...</td>\n",
       "      <td>0</td>\n",
       "      <td>[SAtalk] Some Stupid Questions As the subject line indicates, I'm sure these are stupid questions, but\\nI'm having trouble getting SA working like I understand it should work,\\nand have about give...</td>\n",
       "      <td>satalk stupid question subject line indic sure stupid question troubl get sa work like understand work given tri figur user line like whitelist yahoogroup com spamassassin user pref file line effe...</td>\n",
       "    </tr>\n",
       "    <tr>\n",
       "      <th>3800</th>\n",
       "      <td>Re: [SAtalk] Still confused about spamd/c</td>\n",
       "      <td>--Q68bSM7Ycu6FN28Q\\nContent-Type: text/plain; charset=us-ascii\\nContent-Disposition: inline\\nContent-Transfer-Encoding: quoted-printable\\n\\nOn Sat, Sep 14, 2002 at 04:27:47PM +0100, Justin Mason w...</td>\n",
       "      <td>0</td>\n",
       "      <td>Re: [SAtalk] Still confused about spamd/c --Q68bSM7Ycu6FN28Q\\nContent-Type: text/plain; charset=us-ascii\\nContent-Disposition: inline\\nContent-Transfer-Encoding: quoted-printable\\n\\nOn Sat, Sep 14...</td>\n",
       "      <td>satalk still confus spamd c q68bsm7ycu6fn28q content type text plain charset us ascii content disposit inlin content transfer encod quot printabl sat sep 14 2002 04 27 47pm 0100 justin mason wrote...</td>\n",
       "    </tr>\n",
       "  </tbody>\n",
       "</table>\n",
       "</div>"
      ],
      "text/plain": [
       "                                                                     Subject  \\\n",
       "42     Account Review. PayPal Team identified some unusual activity in your    \n",
       "1796  Customer notification: details confirmation! (message id: ny208135124)   \n",
       "2871                      Re: From salon.com - Forbidden thoughts about 9/11   \n",
       "3637                                          [SAtalk] Some Stupid Questions   \n",
       "3800                               Re: [SAtalk] Still confused about spamd/c   \n",
       "\n",
       "                                                                                                                                                                                                         Body  \\\n",
       "42    Notification of Limited Account Access As part of our security measures, we regularly screen activity in the PayPal system. We recently noticed the following issue on your account: Unusual account...   \n",
       "1796                                                                                                                                                                                                       []   \n",
       "2871  --0-1051763016-1031874793=:3397\\nContent-Type: text/plain; charset=us-ascii\\n\\n\\nI am delurking to comment on the Salon article. I just wanted to say that I am grateful they choose not to publish ...   \n",
       "3637  As the subject line indicates, I'm sure these are stupid questions, but\\nI'm having trouble getting SA working like I understand it should work,\\nand have about given up on trying to figure it out...   \n",
       "3800  --Q68bSM7Ycu6FN28Q\\nContent-Type: text/plain; charset=us-ascii\\nContent-Disposition: inline\\nContent-Transfer-Encoding: quoted-printable\\n\\nOn Sat, Sep 14, 2002 at 04:27:47PM +0100, Justin Mason w...   \n",
       "\n",
       "      IsEmailPhishing  \\\n",
       "42                  1   \n",
       "1796                1   \n",
       "2871                0   \n",
       "3637                0   \n",
       "3800                0   \n",
       "\n",
       "                                                                                                                                                                                                   email_text  \\\n",
       "42    Account Review. PayPal Team identified some unusual activity in your  Notification of Limited Account Access As part of our security measures, we regularly screen activity in the PayPal system. We...   \n",
       "1796                                                                                                                                Customer notification: details confirmation! (message id: ny208135124) []   \n",
       "2871  Re: From salon.com - Forbidden thoughts about 9/11 --0-1051763016-1031874793=:3397\\nContent-Type: text/plain; charset=us-ascii\\n\\n\\nI am delurking to comment on the Salon article. I just wanted to...   \n",
       "3637  [SAtalk] Some Stupid Questions As the subject line indicates, I'm sure these are stupid questions, but\\nI'm having trouble getting SA working like I understand it should work,\\nand have about give...   \n",
       "3800  Re: [SAtalk] Still confused about spamd/c --Q68bSM7Ycu6FN28Q\\nContent-Type: text/plain; charset=us-ascii\\nContent-Disposition: inline\\nContent-Transfer-Encoding: quoted-printable\\n\\nOn Sat, Sep 14...   \n",
       "\n",
       "                                                                                                                                                                                                  email_words  \n",
       "42    account review paypal team identifi unusu activ notif limit account access part secur measur regularli screen activ paypal system recent notic follow issu account unusu account activ made necessar...  \n",
       "1796                                                                                                                                                        custom notif detail confirm messag id ny208135124  \n",
       "2871  salon com forbidden thought 9 11 0 1051763016 1031874793 3397 content type text plain charset us ascii delurk comment salon articl want say grate choos publish forbidden thought sent coupl day 9 1...  \n",
       "3637  satalk stupid question subject line indic sure stupid question troubl get sa work like understand work given tri figur user line like whitelist yahoogroup com spamassassin user pref file line effe...  \n",
       "3800  satalk still confus spamd c q68bsm7ycu6fn28q content type text plain charset us ascii content disposit inlin content transfer encod quot printabl sat sep 14 2002 04 27 47pm 0100 justin mason wrote...  "
      ]
     },
     "execution_count": 26,
     "metadata": {},
     "output_type": "execute_result"
    }
   ],
   "source": [
    "email_words=text_preprocessing(emailText_df)\n",
    "emailText_df['email_words']=email_words\n",
    "emailText_df.sample(5)"
   ]
  },
  {
   "cell_type": "markdown",
   "id": "405de2c7",
   "metadata": {},
   "source": [
    "### Data Shuffling\n",
    "\n",
    "Now since our dataset is ordered starting with phishing emails and ends with valid emails. To avoid that splitting our dataset may be unbalanced, I will shuffle the dataset using the `sample` function and save the shuffled dataset in a new variable. Then will reoder the columns so we have the target variable as a last column and reset the index.\n",
    "\n",
    "During my reading I understood that Random Forest Classification model shuffles data during training, maybe this step is not needed, but I am not sure."
   ]
  },
  {
   "cell_type": "code",
   "execution_count": 27,
   "id": "cf09df20",
   "metadata": {},
   "outputs": [],
   "source": [
    "emailText_df= emailText_df.sample(frac=1)   # this frac will shufled the data"
   ]
  },
  {
   "cell_type": "code",
   "execution_count": 28,
   "id": "3b29693c",
   "metadata": {},
   "outputs": [],
   "source": [
    "emailText_df=emailText_df.reset_index(drop=True)"
   ]
  },
  {
   "cell_type": "markdown",
   "id": "f98b5f53",
   "metadata": {},
   "source": [
    "Changing order of the columns making the target column last and drop the `email_text` since we have a corpus column `email_words`\n",
    "\n",
    "Ref: How to change the order of DataFrame columns? (n.d.). Stack Overflow. https://stackoverflow.com/questions/13148429/how-to-change-the-order-of-dataframe-columns"
   ]
  },
  {
   "cell_type": "code",
   "execution_count": 29,
   "id": "8a8578a6",
   "metadata": {},
   "outputs": [
    {
     "data": {
      "text/html": [
       "<div>\n",
       "<style scoped>\n",
       "    .dataframe tbody tr th:only-of-type {\n",
       "        vertical-align: middle;\n",
       "    }\n",
       "\n",
       "    .dataframe tbody tr th {\n",
       "        vertical-align: top;\n",
       "    }\n",
       "\n",
       "    .dataframe thead th {\n",
       "        text-align: right;\n",
       "    }\n",
       "</style>\n",
       "<table border=\"1\" class=\"dataframe\">\n",
       "  <thead>\n",
       "    <tr style=\"text-align: right;\">\n",
       "      <th></th>\n",
       "      <th>email_words</th>\n",
       "      <th>Subject</th>\n",
       "      <th>Body</th>\n",
       "      <th>IsEmailPhishing</th>\n",
       "      <th>email_text</th>\n",
       "    </tr>\n",
       "  </thead>\n",
       "  <tbody>\n",
       "    <tr>\n",
       "      <th>0</th>\n",
       "      <td>must updat account inform new page 1 dear custom well fargo constantli work increas secur onlin bank user ensur integr onlin payment system period review account account might place restrict statu...</td>\n",
       "      <td>You Must Update Your Account Information</td>\n",
       "      <td>New Page 1 Dear customers: Wells Fargo is constantly working to increase security for all Online Banking users. To ensure the integrity of our online payment system, we periodically review account...</td>\n",
       "      <td>1</td>\n",
       "      <td>You Must Update Your Account Information New Page 1 Dear customers: Wells Fargo is constantly working to increase security for all Online Banking users. To ensure the integrity of our online payme...</td>\n",
       "    </tr>\n",
       "    <tr>\n",
       "      <th>1</th>\n",
       "      <td>new toy url http diveintomark org archiv 2002 09 23 html new toy date 2002 09 23t16 50 42 05 00 shelley power 8220 thought stuff weekend foaf joke 1 8212 bunch peopl play new toy foaf aid aggreg a...</td>\n",
       "      <td>New toys</td>\n",
       "      <td>URL: http://diveintomark.org/archives/2002/09/23.html#new_toys\\nDate: 2002-09-23T16:50:42-05:00\\n\\n_Shelley Powers_: &amp;#8220;I thought the stuff this weekend on FOAF was a joke[1]\\n&amp;#8212;a bunch o...</td>\n",
       "      <td>0</td>\n",
       "      <td>New toys URL: http://diveintomark.org/archives/2002/09/23.html#new_toys\\nDate: 2002-09-23T16:50:42-05:00\\n\\n_Shelley Powers_: &amp;#8220;I thought the stuff this weekend on FOAF was a joke[1]\\n&amp;#8212;...</td>\n",
       "    </tr>\n",
       "    <tr>\n",
       "      <th>2</th>\n",
       "      <td>notif bill depart recent notic one attempt log paypal account foreign ip address recent access account travel unusu log attempt may initi howev right holder account click link log account follow i...</td>\n",
       "      <td>Notification from Billing Department</td>\n",
       "      <td>We recently noticed one or more attempts to log in to your PayPal account from a foreign IP address. If you recently accessed your account while traveling, the unusual log in attempts may have bee...</td>\n",
       "      <td>1</td>\n",
       "      <td>Notification from Billing Department We recently noticed one or more attempts to log in to your PayPal account from a foreign IP address. If you recently accessed your account while traveling, the...</td>\n",
       "    </tr>\n",
       "    <tr>\n",
       "      <th>3</th>\n",
       "      <td>none none</td>\n",
       "      <td>None</td>\n",
       "      <td>None</td>\n",
       "      <td>1</td>\n",
       "      <td>None None</td>\n",
       "    </tr>\n",
       "    <tr>\n",
       "      <th>4</th>\n",
       "      <td>money access servic inc import paypal account verif secur center advisori email temporali suspend recent notic one attempt log paypal account foreign ip address reason beliv account hijack third p...</td>\n",
       "      <td>MONEY ACCESS SERVICE, INC: IMPORTANT :PayPal Account Verification</td>\n",
       "      <td>Security Center Advisory! ($email) Temporaly Suspend, We recently noticed one or more attempts to log in to your PayPal account from a foreign IP address and we have reasons to belive that your ac...</td>\n",
       "      <td>1</td>\n",
       "      <td>MONEY ACCESS SERVICE, INC: IMPORTANT :PayPal Account Verification Security Center Advisory! ($email) Temporaly Suspend, We recently noticed one or more attempts to log in to your PayPal account fr...</td>\n",
       "    </tr>\n",
       "  </tbody>\n",
       "</table>\n",
       "</div>"
      ],
      "text/plain": [
       "                                                                                                                                                                                               email_words  \\\n",
       "0  must updat account inform new page 1 dear custom well fargo constantli work increas secur onlin bank user ensur integr onlin payment system period review account account might place restrict statu...   \n",
       "1  new toy url http diveintomark org archiv 2002 09 23 html new toy date 2002 09 23t16 50 42 05 00 shelley power 8220 thought stuff weekend foaf joke 1 8212 bunch peopl play new toy foaf aid aggreg a...   \n",
       "2  notif bill depart recent notic one attempt log paypal account foreign ip address recent access account travel unusu log attempt may initi howev right holder account click link log account follow i...   \n",
       "3                                                                                                                                                                                                none none   \n",
       "4  money access servic inc import paypal account verif secur center advisori email temporali suspend recent notic one attempt log paypal account foreign ip address reason beliv account hijack third p...   \n",
       "\n",
       "                                                             Subject  \\\n",
       "0                           You Must Update Your Account Information   \n",
       "1                                                           New toys   \n",
       "2                               Notification from Billing Department   \n",
       "3                                                               None   \n",
       "4  MONEY ACCESS SERVICE, INC: IMPORTANT :PayPal Account Verification   \n",
       "\n",
       "                                                                                                                                                                                                      Body  \\\n",
       "0  New Page 1 Dear customers: Wells Fargo is constantly working to increase security for all Online Banking users. To ensure the integrity of our online payment system, we periodically review account...   \n",
       "1  URL: http://diveintomark.org/archives/2002/09/23.html#new_toys\\nDate: 2002-09-23T16:50:42-05:00\\n\\n_Shelley Powers_: &#8220;I thought the stuff this weekend on FOAF was a joke[1]\\n&#8212;a bunch o...   \n",
       "2  We recently noticed one or more attempts to log in to your PayPal account from a foreign IP address. If you recently accessed your account while traveling, the unusual log in attempts may have bee...   \n",
       "3                                                                                                                                                                                                     None   \n",
       "4  Security Center Advisory! ($email) Temporaly Suspend, We recently noticed one or more attempts to log in to your PayPal account from a foreign IP address and we have reasons to belive that your ac...   \n",
       "\n",
       "   IsEmailPhishing  \\\n",
       "0                1   \n",
       "1                0   \n",
       "2                1   \n",
       "3                1   \n",
       "4                1   \n",
       "\n",
       "                                                                                                                                                                                                email_text  \n",
       "0  You Must Update Your Account Information New Page 1 Dear customers: Wells Fargo is constantly working to increase security for all Online Banking users. To ensure the integrity of our online payme...  \n",
       "1  New toys URL: http://diveintomark.org/archives/2002/09/23.html#new_toys\\nDate: 2002-09-23T16:50:42-05:00\\n\\n_Shelley Powers_: &#8220;I thought the stuff this weekend on FOAF was a joke[1]\\n&#8212;...  \n",
       "2  Notification from Billing Department We recently noticed one or more attempts to log in to your PayPal account from a foreign IP address. If you recently accessed your account while traveling, the...  \n",
       "3                                                                                                                                                                                                None None  \n",
       "4  MONEY ACCESS SERVICE, INC: IMPORTANT :PayPal Account Verification Security Center Advisory! ($email) Temporaly Suspend, We recently noticed one or more attempts to log in to your PayPal account fr...  "
      ]
     },
     "execution_count": 29,
     "metadata": {},
     "output_type": "execute_result"
    }
   ],
   "source": [
    "cols = emailText_df.columns.tolist()\n",
    "cols = cols[-1:] + cols[:-1]\n",
    "emailText_df=emailText_df[cols]\n",
    "emailText_df.head()"
   ]
  },
  {
   "cell_type": "markdown",
   "id": "fc82e5ba",
   "metadata": {},
   "source": [
    "Assigning feature and target to variables"
   ]
  },
  {
   "cell_type": "code",
   "execution_count": 30,
   "id": "e28e6ad8",
   "metadata": {},
   "outputs": [],
   "source": [
    "X = emailText_df['email_words']\n",
    "y = emailText_df['IsEmailPhishing']"
   ]
  },
  {
   "cell_type": "markdown",
   "id": "e0e5c960",
   "metadata": {},
   "source": [
    "### 🪓 Splitting into train/test"
   ]
  },
  {
   "cell_type": "markdown",
   "id": "41247cdd",
   "metadata": {},
   "source": [
    "After assigning the feature and target to X and Y variables, I am going to split the train and test data. As per examples in class, I am using 20% for test data and 80% for train data. I also choose random_state of 80."
   ]
  },
  {
   "cell_type": "code",
   "execution_count": 31,
   "id": "721ad4b8",
   "metadata": {
    "scrolled": true
   },
   "outputs": [
    {
     "name": "stdout",
     "output_type": "stream",
     "text": [
      "There are in total 4781 observations, of which 3824 are now in the train set, and 957 in the test set.\n"
     ]
    }
   ],
   "source": [
    "from sklearn.model_selection import train_test_split\n",
    "X_train, X_test, y_train, y_test = train_test_split(X, y, test_size=0.2, random_state=80)\n",
    "print(\"There are in total\", len(X), \"observations, of which\", len(X_train), \"are now in the train set, and\", len(X_test), \"in the test set.\")"
   ]
  },
  {
   "cell_type": "markdown",
   "id": "daf25c06",
   "metadata": {},
   "source": [
    "## 🧬 Modelling\n",
    "In this step only the train set is used to fit the model, which in this case uses a Random forest Classifier algorithm for classification named sklearn.ensemble. Ref: RandomForestClassifier. (n.d.-b). Scikit-learn. https://scikitlearn.org/stable/modules/generated/sklearn.ensemble.RandomForestClassifier.html And after that the test set is used to calculate the model's accuracy, in other words how well it performs. Accuracy is a fraction where any value closer to 1 is considered better, and 1 itself (100% accurate) is usually impossible.\n",
    "\n",
    "Since NLP doesn't understand textual data, the words need some how to be encorded in numbers. Here I am using CountVectorizer to encode our email texts(tokens) to a vector based on the count of each word that occurs in an email. Ref: Prashantrajkaggle. (2023, July 4). Spam message classification with NLP. Kaggle. https://www.kaggle.com/code/prashantrajkaggle/spam-message-classification-with-nlp/notebook\n",
    "\n"
   ]
  },
  {
   "cell_type": "code",
   "execution_count": 32,
   "id": "ab89edb6",
   "metadata": {},
   "outputs": [],
   "source": [
    "from sklearn.feature_extraction.text import CountVectorizer, TfidfVectorizer\n",
    "cv=CountVectorizer(max_features=2000,ngram_range=(1,2))\n",
    "X_train=cv.fit_transform(X_train).toarray()\n",
    "X_test=cv.transform(X_test).toarray()"
   ]
  },
  {
   "cell_type": "code",
   "execution_count": 33,
   "id": "87bb392d",
   "metadata": {},
   "outputs": [],
   "source": [
    "features = cv.get_feature_names_out()"
   ]
  },
  {
   "cell_type": "code",
   "execution_count": 34,
   "id": "1bd0136f",
   "metadata": {},
   "outputs": [],
   "source": [
    "from sklearn.ensemble import RandomForestClassifier\n",
    "classifier=RandomForestClassifier().fit(X_train,y_train)\n",
    "y_pred=classifier.predict(X_test)"
   ]
  },
  {
   "cell_type": "code",
   "execution_count": 35,
   "id": "8cc6abf8",
   "metadata": {},
   "outputs": [
    {
     "data": {
      "text/plain": [
       "0.9979101358411703"
      ]
     },
     "execution_count": 35,
     "metadata": {},
     "output_type": "execute_result"
    }
   ],
   "source": [
    "from sklearn.metrics import classification_report,accuracy_score,confusion_matrix\n",
    "\n",
    "accuracy_score(y_test,y_pred)"
   ]
  },
  {
   "cell_type": "code",
   "execution_count": 36,
   "id": "620fa81c",
   "metadata": {},
   "outputs": [
    {
     "data": {
      "text/plain": [
       "array([[517,   2],\n",
       "       [  0, 438]], dtype=int64)"
      ]
     },
     "execution_count": 36,
     "metadata": {},
     "output_type": "execute_result"
    }
   ],
   "source": [
    "confusion_matrix(y_test,y_pred)"
   ]
  },
  {
   "cell_type": "markdown",
   "id": "25c9e1a7",
   "metadata": {},
   "source": [
    "## 🔬 Evaluation\n",
    "\n",
    "Looking at the accuracy score we see that this model perform very well as it is predicting with 99% accuracy. We have some hyperparameters `max_features` and `ngram_range` used in the CountVectorizer that may playing a role in the performance of this model. However, myself I am not able to explain them at the moment(More reading needed). I got idea on this `Modeling` part from Prashantrajkaggle. Ref: Prashantrajkaggle. (2023, July 4). Spam message classification with NLP. Kaggle. https://www.kaggle.com/code/prashantrajkaggle/spam-message-classification-with-nlp/notebook"
   ]
  },
  {
   "cell_type": "code",
   "execution_count": 37,
   "id": "c58f3de0",
   "metadata": {},
   "outputs": [
    {
     "name": "stdout",
     "output_type": "stream",
     "text": [
      "              precision    recall  f1-score   support\n",
      "\n",
      "           0       1.00      1.00      1.00       519\n",
      "           1       1.00      1.00      1.00       438\n",
      "\n",
      "    accuracy                           1.00       957\n",
      "   macro avg       1.00      1.00      1.00       957\n",
      "weighted avg       1.00      1.00      1.00       957\n",
      "\n"
     ]
    }
   ],
   "source": [
    "print(classification_report(y_test,y_pred))"
   ]
  },
  {
   "cell_type": "markdown",
   "id": "b97da7f2",
   "metadata": {},
   "source": [
    "# Prediction with KNN Algorithm\n",
    "\n"
   ]
  },
  {
   "cell_type": "markdown",
   "id": "4dd8b098",
   "metadata": {},
   "source": [
    "Looking at the report above, I suspect that there is something wrong with my train data because the accuracy of 100% is almost impossible. Probably we need to increase the amount of the train data or max_features. \n",
    "\n",
    "As per feedback received from my teachers, I will try other algorthms and vectorizer and compare the results.\n",
    "Let's start with KNeighborsClassifier with the same vectorizer `CountVectorizer`"
   ]
  },
  {
   "cell_type": "code",
   "execution_count": 38,
   "id": "608b14de",
   "metadata": {},
   "outputs": [
    {
     "name": "stdout",
     "output_type": "stream",
     "text": [
      "Accuracy: 0.9122257053291536\n"
     ]
    }
   ],
   "source": [
    "from sklearn.neighbors import KNeighborsClassifier\n",
    "model = KNeighborsClassifier()\n",
    "model.fit(X_train, y_train)\n",
    "score = model.score(X_test, y_test)\n",
    "\n",
    "print(\"Accuracy:\", score)"
   ]
  },
  {
   "cell_type": "markdown",
   "id": "0eeb778a",
   "metadata": {},
   "source": [
    "Using KNN with CountVectorizer we are getting an accuracy of 92%. We can run our model on train and test data and compare their classification results and check if this performance is not an overfitting or underfitting. \n",
    "\n",
    "We can see that the accuracy on both train and test data are almost similar, so we can say that there is no overfitting, however, we can see that the `precision` is much higher and `recall`, which may mean our model is underfitting"
   ]
  },
  {
   "cell_type": "code",
   "execution_count": 39,
   "id": "6855f214",
   "metadata": {},
   "outputs": [
    {
     "name": "stdout",
     "output_type": "stream",
     "text": [
      "              precision    recall  f1-score   support\n",
      "\n",
      "           0       1.00      0.87      0.93      2023\n",
      "           1       0.87      1.00      0.93      1801\n",
      "\n",
      "    accuracy                           0.93      3824\n",
      "   macro avg       0.93      0.93      0.93      3824\n",
      "weighted avg       0.94      0.93      0.93      3824\n",
      "\n",
      "              precision    recall  f1-score   support\n",
      "\n",
      "           0       1.00      0.84      0.91       519\n",
      "           1       0.84      1.00      0.91       438\n",
      "\n",
      "    accuracy                           0.91       957\n",
      "   macro avg       0.92      0.92      0.91       957\n",
      "weighted avg       0.93      0.91      0.91       957\n",
      "\n"
     ]
    }
   ],
   "source": [
    "knn_train_pred = model.predict(X_train)\n",
    "knn_train_report= classification_report(y_train,knn_train_pred)\n",
    "print(knn_train_report)\n",
    "\n",
    "knn_test_pred = model.predict(X_test)\n",
    "knn_test_report= classification_report(y_test,knn_test_pred)\n",
    "print(knn_test_report)\n"
   ]
  },
  {
   "cell_type": "markdown",
   "id": "a7903f58",
   "metadata": {},
   "source": [
    "In the above model we used default values of hyperparameters, for example n_neighbors (K) is 5 by default.\n",
    "\n",
    "Let's search an optimal K value which will improve our model with less error rate.\n",
    "We are going to run the KNeighborsClassifier model with K values in range 1 to 10 and visualize in a plot to see which K will produce minimal error rate."
   ]
  },
  {
   "cell_type": "code",
   "execution_count": 40,
   "id": "abee98d5",
   "metadata": {
    "scrolled": true
   },
   "outputs": [
    {
     "name": "stdout",
     "output_type": "stream",
     "text": [
      "Minimum error:  0.051201671891327065 at K = 2\n"
     ]
    },
    {
     "data": {
      "image/png": "[encoded data removed]",
      "text/plain": [
       "<Figure size 1000x600 with 1 Axes>"
      ]
     },
     "metadata": {},
     "output_type": "display_data"
    }
   ],
   "source": [
    "from sklearn import metrics\n",
    "acc=[]\n",
    "error_rate = []\n",
    "for i in range(1,10):\n",
    "    knn = KNeighborsClassifier(n_neighbors=i)\n",
    "    knn.fit(X_train,y_train)\n",
    "    pred_i = knn.predict(X_test)\n",
    "    error_rate.append(np.mean(pred_i != y_test))\n",
    "    acc.append(metrics.accuracy_score(y_test, pred_i))\n",
    "\n",
    "plt.figure(figsize=(10,6))\n",
    "plt.plot(range(1,10),error_rate,color='blue', linestyle='dashed', \n",
    "         marker='o',markerfacecolor='red', markersize=10)\n",
    "plt.title('Error Rate vs. K Value')\n",
    "plt.xlabel('K')\n",
    "plt.ylabel('Error Rate')\n",
    "print(\"Minimum error: \",min(error_rate),\"at K =\",error_rate.index(min(error_rate))+1)\n"
   ]
  },
  {
   "cell_type": "markdown",
   "id": "0d43872a",
   "metadata": {},
   "source": [
    "We find that K=2 produces the lowest error rate of 0.040, and we are validating this by plotting the accuracy against K values and got the best accuracy of 95,9% when K=2"
   ]
  },
  {
   "cell_type": "code",
   "execution_count": 41,
   "id": "743be99b",
   "metadata": {},
   "outputs": [
    {
     "name": "stdout",
     "output_type": "stream",
     "text": [
      "Maximum accuracy:  0.9487983281086729 at K = 2\n"
     ]
    },
    {
     "data": {
      "image/png": "[encoded data removed]",
      "text/plain": [
       "<Figure size 1000x600 with 1 Axes>"
      ]
     },
     "metadata": {},
     "output_type": "display_data"
    }
   ],
   "source": [
    "plt.figure(figsize=(10,6))\n",
    "plt.plot(range(1,10),acc,color='blue', linestyle='dashed', \n",
    "         marker='o',markerfacecolor='red', markersize=10)\n",
    "plt.title('accuracy vs. K Value')\n",
    "plt.xlabel('K')\n",
    "plt.ylabel('Accuracy')\n",
    "print(\"Maximum accuracy: \",max(acc),\"at K =\",acc.index(max(acc))+1)"
   ]
  },
  {
   "cell_type": "markdown",
   "id": "b26feb12",
   "metadata": {},
   "source": [
    "#### Using TF-IDF as a text tokenizer and vectorizer"
   ]
  },
  {
   "cell_type": "markdown",
   "id": "0aa8423c",
   "metadata": {},
   "source": [
    "The goal of using tf-idf is that it not only focuses on the frequency of words present in the corpus as `CountVectorizer`, but also provides the weight of the words. Sklearn.feature_extraction.text.TfidFVectorizer. (n.d.). Scikit-learn. https://scikit-learn.org/stable/modules/generated/sklearn.feature_extraction.text.TfidfVectorizer.html#sklearn.feature_extraction.t\n"
   ]
  },
  {
   "cell_type": "code",
   "execution_count": 42,
   "id": "5e455af9",
   "metadata": {},
   "outputs": [
    {
     "data": {
      "text/plain": [
       "(4781, 1320)"
      ]
     },
     "execution_count": 42,
     "metadata": {},
     "output_type": "execute_result"
    }
   ],
   "source": [
    "tfidf_vectorizer = TfidfVectorizer(min_df=.01, use_idf =True, stop_words = 'english')\n",
    "tf_X_vectorized = tfidf_vectorizer.fit_transform(emailText_df['email_text']).toarray()\n",
    "tf_X_vectorized.shape"
   ]
  },
  {
   "cell_type": "code",
   "execution_count": 43,
   "id": "581fafb8",
   "metadata": {},
   "outputs": [
    {
     "data": {
      "text/html": [
       "<div>\n",
       "<style scoped>\n",
       "    .dataframe tbody tr th:only-of-type {\n",
       "        vertical-align: middle;\n",
       "    }\n",
       "\n",
       "    .dataframe tbody tr th {\n",
       "        vertical-align: top;\n",
       "    }\n",
       "\n",
       "    .dataframe thead th {\n",
       "        text-align: right;\n",
       "    }\n",
       "</style>\n",
       "<table border=\"1\" class=\"dataframe\">\n",
       "  <thead>\n",
       "    <tr style=\"text-align: right;\">\n",
       "      <th></th>\n",
       "      <th>0</th>\n",
       "      <th>1</th>\n",
       "      <th>2</th>\n",
       "      <th>3</th>\n",
       "      <th>4</th>\n",
       "      <th>5</th>\n",
       "      <th>6</th>\n",
       "      <th>7</th>\n",
       "      <th>8</th>\n",
       "      <th>9</th>\n",
       "      <th>...</th>\n",
       "      <th>1311</th>\n",
       "      <th>1312</th>\n",
       "      <th>1313</th>\n",
       "      <th>1314</th>\n",
       "      <th>1315</th>\n",
       "      <th>1316</th>\n",
       "      <th>1317</th>\n",
       "      <th>1318</th>\n",
       "      <th>1319</th>\n",
       "      <th>email_text</th>\n",
       "    </tr>\n",
       "  </thead>\n",
       "  <tbody>\n",
       "    <tr>\n",
       "      <th>2925</th>\n",
       "      <td>0.00</td>\n",
       "      <td>0.00</td>\n",
       "      <td>0.00</td>\n",
       "      <td>0.00</td>\n",
       "      <td>0.00</td>\n",
       "      <td>0.00</td>\n",
       "      <td>0.00</td>\n",
       "      <td>0.00</td>\n",
       "      <td>0.00</td>\n",
       "      <td>0.00</td>\n",
       "      <td>...</td>\n",
       "      <td>0.00</td>\n",
       "      <td>0.00</td>\n",
       "      <td>0.00</td>\n",
       "      <td>0.00</td>\n",
       "      <td>0.00</td>\n",
       "      <td>0.00</td>\n",
       "      <td>0.00</td>\n",
       "      <td>0.00</td>\n",
       "      <td>0.00</td>\n",
       "      <td>Important Security Notice! [, ]</td>\n",
       "    </tr>\n",
       "    <tr>\n",
       "      <th>1567</th>\n",
       "      <td>0.00</td>\n",
       "      <td>0.00</td>\n",
       "      <td>0.00</td>\n",
       "      <td>0.00</td>\n",
       "      <td>0.00</td>\n",
       "      <td>0.00</td>\n",
       "      <td>0.00</td>\n",
       "      <td>0.00</td>\n",
       "      <td>0.00</td>\n",
       "      <td>0.00</td>\n",
       "      <td>...</td>\n",
       "      <td>0.00</td>\n",
       "      <td>0.00</td>\n",
       "      <td>0.00</td>\n",
       "      <td>0.00</td>\n",
       "      <td>0.00</td>\n",
       "      <td>0.00</td>\n",
       "      <td>0.00</td>\n",
       "      <td>0.00</td>\n",
       "      <td>0.00</td>\n",
       "      <td>Resolution Center: Your account is limited. (Your case ID for this\\n reason is PP-141-663-845) []</td>\n",
       "    </tr>\n",
       "    <tr>\n",
       "      <th>3717</th>\n",
       "      <td>0.07</td>\n",
       "      <td>0.00</td>\n",
       "      <td>0.00</td>\n",
       "      <td>0.00</td>\n",
       "      <td>0.00</td>\n",
       "      <td>0.00</td>\n",
       "      <td>0.00</td>\n",
       "      <td>0.00</td>\n",
       "      <td>0.00</td>\n",
       "      <td>0.00</td>\n",
       "      <td>...</td>\n",
       "      <td>0.04</td>\n",
       "      <td>0.19</td>\n",
       "      <td>0.00</td>\n",
       "      <td>0.00</td>\n",
       "      <td>0.00</td>\n",
       "      <td>0.00</td>\n",
       "      <td>0.00</td>\n",
       "      <td>0.00</td>\n",
       "      <td>0.00</td>\n",
       "      <td>Re: A biblical digression On Sat, 24 Aug 2002 11:07:00 -0700, \"John Hall\" &lt;johnhall@evergo.net&gt;\\nsaid:\\n&gt; Ran across a site which claimed to explain the original meaning of the\\n&gt; Ten Commandments...</td>\n",
       "    </tr>\n",
       "    <tr>\n",
       "      <th>3810</th>\n",
       "      <td>0.00</td>\n",
       "      <td>0.00</td>\n",
       "      <td>0.13</td>\n",
       "      <td>0.00</td>\n",
       "      <td>0.19</td>\n",
       "      <td>0.00</td>\n",
       "      <td>0.00</td>\n",
       "      <td>0.00</td>\n",
       "      <td>0.14</td>\n",
       "      <td>0.00</td>\n",
       "      <td>...</td>\n",
       "      <td>0.00</td>\n",
       "      <td>0.00</td>\n",
       "      <td>0.00</td>\n",
       "      <td>0.00</td>\n",
       "      <td>0.00</td>\n",
       "      <td>0.00</td>\n",
       "      <td>0.00</td>\n",
       "      <td>0.00</td>\n",
       "      <td>0.00</td>\n",
       "      <td>Re: http://apt.nixia.no/ On Fri, Feb 01, 2002 at 05:41:32PM +0200, Harri Haataja wrote:\\n&gt; I have a local one for the main and upgrades from somewhere plus my own\\n&gt; at $ORKPLACE.\\n\\nOlen ajatellu...</td>\n",
       "    </tr>\n",
       "    <tr>\n",
       "      <th>4007</th>\n",
       "      <td>0.00</td>\n",
       "      <td>0.00</td>\n",
       "      <td>0.06</td>\n",
       "      <td>0.00</td>\n",
       "      <td>0.09</td>\n",
       "      <td>0.00</td>\n",
       "      <td>0.00</td>\n",
       "      <td>0.00</td>\n",
       "      <td>0.00</td>\n",
       "      <td>0.00</td>\n",
       "      <td>...</td>\n",
       "      <td>0.03</td>\n",
       "      <td>0.00</td>\n",
       "      <td>0.00</td>\n",
       "      <td>0.00</td>\n",
       "      <td>0.00</td>\n",
       "      <td>0.00</td>\n",
       "      <td>0.07</td>\n",
       "      <td>0.00</td>\n",
       "      <td>0.00</td>\n",
       "      <td>Re: Sorting On Wed, 11 Sep 2002 01:24:46 +0200 \\nRobert Waldner &lt;waldner@waldner.priv.at&gt; wrote:\\n&gt; On Tue, 10 Sep 2002 09:27:12 PDT, J C Lawrence writes:\\n\\n&gt;&gt; I run exmh on my desktops at home a...</td>\n",
       "    </tr>\n",
       "  </tbody>\n",
       "</table>\n",
       "<p>5 rows × 1321 columns</p>\n",
       "</div>"
      ],
      "text/plain": [
       "        0    1    2    3    4    5    6    7    8    9  ...  1311  1312  1313  \\\n",
       "2925 0.00 0.00 0.00 0.00 0.00 0.00 0.00 0.00 0.00 0.00  ...  0.00  0.00  0.00   \n",
       "1567 0.00 0.00 0.00 0.00 0.00 0.00 0.00 0.00 0.00 0.00  ...  0.00  0.00  0.00   \n",
       "3717 0.07 0.00 0.00 0.00 0.00 0.00 0.00 0.00 0.00 0.00  ...  0.04  0.19  0.00   \n",
       "3810 0.00 0.00 0.13 0.00 0.19 0.00 0.00 0.00 0.14 0.00  ...  0.00  0.00  0.00   \n",
       "4007 0.00 0.00 0.06 0.00 0.09 0.00 0.00 0.00 0.00 0.00  ...  0.03  0.00  0.00   \n",
       "\n",
       "      1314  1315  1316  1317  1318  1319  \\\n",
       "2925  0.00  0.00  0.00  0.00  0.00  0.00   \n",
       "1567  0.00  0.00  0.00  0.00  0.00  0.00   \n",
       "3717  0.00  0.00  0.00  0.00  0.00  0.00   \n",
       "3810  0.00  0.00  0.00  0.00  0.00  0.00   \n",
       "4007  0.00  0.00  0.00  0.07  0.00  0.00   \n",
       "\n",
       "                                                                                                                                                                                                   email_text  \n",
       "2925                                                                                                                                                                          Important Security Notice! [, ]  \n",
       "1567                                                                                                        Resolution Center: Your account is limited. (Your case ID for this\\n reason is PP-141-663-845) []  \n",
       "3717  Re: A biblical digression On Sat, 24 Aug 2002 11:07:00 -0700, \"John Hall\" <johnhall@evergo.net>\\nsaid:\\n> Ran across a site which claimed to explain the original meaning of the\\n> Ten Commandments...  \n",
       "3810  Re: http://apt.nixia.no/ On Fri, Feb 01, 2002 at 05:41:32PM +0200, Harri Haataja wrote:\\n> I have a local one for the main and upgrades from somewhere plus my own\\n> at $ORKPLACE.\\n\\nOlen ajatellu...  \n",
       "4007  Re: Sorting On Wed, 11 Sep 2002 01:24:46 +0200 \\nRobert Waldner <waldner@waldner.priv.at> wrote:\\n> On Tue, 10 Sep 2002 09:27:12 PDT, J C Lawrence writes:\\n\\n>> I run exmh on my desktops at home a...  \n",
       "\n",
       "[5 rows x 1321 columns]"
      ]
     },
     "execution_count": 43,
     "metadata": {},
     "output_type": "execute_result"
    }
   ],
   "source": [
    "X = pd.DataFrame(tf_X_vectorized)\n",
    "X['email_text'] = emailText_df[\"email_text\"].values\n",
    "y = emailText_df[\"IsEmailPhishing\"]\n",
    "X.sample(5)"
   ]
  },
  {
   "cell_type": "code",
   "execution_count": 44,
   "id": "e9a91f49",
   "metadata": {
    "scrolled": true
   },
   "outputs": [
    {
     "name": "stdout",
     "output_type": "stream",
     "text": [
      "There are in total 4781 observations, of which 3824 are now in the train set, and 957 in the test set.\n"
     ]
    }
   ],
   "source": [
    "from sklearn.model_selection import train_test_split\n",
    "X_train, X_test, y_train, y_test = train_test_split(X, y, test_size=0.2, random_state=80)\n",
    "print(\"There are in total\", len(X), \"observations, of which\", len(X_train), \"are now in the train set, and\", len(X_test), \"in the test set.\")"
   ]
  },
  {
   "cell_type": "code",
   "execution_count": 45,
   "id": "973b4027",
   "metadata": {},
   "outputs": [],
   "source": [
    "X_train = X_train.drop(['email_text'], axis=1)\n",
    "X_email_text = X_test['email_text']\n",
    "X_test = X_test.drop(['email_text'], axis=1)"
   ]
  },
  {
   "cell_type": "code",
   "execution_count": 46,
   "id": "f8fb803c",
   "metadata": {},
   "outputs": [
    {
     "name": "stdout",
     "output_type": "stream",
     "text": [
      "Accuracy: 0.8829676071055381\n"
     ]
    }
   ],
   "source": [
    "k=2\n",
    "model = KNeighborsClassifier(n_neighbors=k)\n",
    "model.fit(X_train, y_train)\n",
    "score = model.score(X_test.values, y_test)\n",
    "\n",
    "print(\"Accuracy:\", score)"
   ]
  },
  {
   "cell_type": "markdown",
   "id": "731e97fd",
   "metadata": {},
   "source": [
    "These classification reports shows that we have overfitting in our train data because the model perform well on train data `100%` and and a big difference gat on test data`89%`."
   ]
  },
  {
   "cell_type": "code",
   "execution_count": 47,
   "id": "49a4c13a",
   "metadata": {},
   "outputs": [
    {
     "name": "stdout",
     "output_type": "stream",
     "text": [
      "              precision    recall  f1-score   support\n",
      "\n",
      "           0       1.00      1.00      1.00      2023\n",
      "           1       1.00      1.00      1.00      1801\n",
      "\n",
      "    accuracy                           1.00      3824\n",
      "   macro avg       1.00      1.00      1.00      3824\n",
      "weighted avg       1.00      1.00      1.00      3824\n",
      "\n",
      "              precision    recall  f1-score   support\n",
      "\n",
      "           0       1.00      0.79      0.88       519\n",
      "           1       0.80      1.00      0.89       438\n",
      "\n",
      "    accuracy                           0.88       957\n",
      "   macro avg       0.90      0.89      0.88       957\n",
      "weighted avg       0.91      0.88      0.88       957\n",
      "\n"
     ]
    }
   ],
   "source": [
    "pred = model.predict(X_train.values)\n",
    "report= classification_report(y_train,pred)\n",
    "print(report)\n",
    "\n",
    "pred = model.predict(X_test.values)\n",
    "report= classification_report(y_test,pred)\n",
    "print(report)"
   ]
  },
  {
   "cell_type": "markdown",
   "id": "3e8ecf68",
   "metadata": {},
   "source": [
    "Let's try to perform hyperparameter tuning by reducing the max_features to 200, which will give use data with shape (4790, 200) "
   ]
  },
  {
   "cell_type": "code",
   "execution_count": 48,
   "id": "425c00db",
   "metadata": {},
   "outputs": [
    {
     "data": {
      "text/plain": [
       "(4781, 200)"
      ]
     },
     "execution_count": 48,
     "metadata": {},
     "output_type": "execute_result"
    }
   ],
   "source": [
    "tfidf_vectorizer = TfidfVectorizer(max_features=200,min_df=.01, use_idf =True, stop_words = 'english')\n",
    "tf_X_vectorized = tfidf_vectorizer.fit_transform(emailText_df['email_text']).toarray()\n",
    "tf_X_vectorized.shape"
   ]
  },
  {
   "cell_type": "markdown",
   "id": "dcc08648",
   "metadata": {},
   "source": [
    "Let's add the email text that was removed by the vectorizer"
   ]
  },
  {
   "cell_type": "code",
   "execution_count": 49,
   "id": "9e47162a",
   "metadata": {},
   "outputs": [],
   "source": [
    "X = pd.DataFrame(tf_X_vectorized)\n",
    "X['email_text'] = emailText_df[\"email_text\"].values\n",
    "y = emailText_df[\"IsEmailPhishing\"]"
   ]
  },
  {
   "cell_type": "markdown",
   "id": "86eeac04",
   "metadata": {},
   "source": [
    "Splitting Train and Test data by 80% train and 20% test data"
   ]
  },
  {
   "cell_type": "code",
   "execution_count": 50,
   "id": "e27cd79d",
   "metadata": {},
   "outputs": [
    {
     "name": "stdout",
     "output_type": "stream",
     "text": [
      "There are in total 4781 observations, of which 3824 are now in the train set, and 957 in the test set.\n"
     ]
    }
   ],
   "source": [
    "from sklearn.model_selection import train_test_split\n",
    "X_train, X_test, y_train, y_test = train_test_split(X, y, test_size=0.2, random_state=80)\n",
    "print(\"There are in total\", len(X), \"observations, of which\", len(X_train), \"are now in the train set, and\", len(X_test), \"in the test set.\")"
   ]
  },
  {
   "cell_type": "markdown",
   "id": "e993c279",
   "metadata": {},
   "source": [
    "Remove email text from the train and test data for running the model"
   ]
  },
  {
   "cell_type": "code",
   "execution_count": 51,
   "id": "3ce34ff3",
   "metadata": {},
   "outputs": [],
   "source": [
    "X_train = X_train.drop(['email_text'], axis=1)\n",
    "X_email_text = X_test['email_text']\n",
    "X_test = X_test.drop(['email_text'], axis=1)"
   ]
  },
  {
   "cell_type": "code",
   "execution_count": 52,
   "id": "f67dc705",
   "metadata": {},
   "outputs": [
    {
     "name": "stdout",
     "output_type": "stream",
     "text": [
      "Accuracy: 0.9791013584117032\n"
     ]
    }
   ],
   "source": [
    "k=2\n",
    "model = KNeighborsClassifier(n_neighbors=k)\n",
    "model.fit(X_train, y_train)\n",
    "score = model.score(X_test.values, y_test)\n",
    "\n",
    "print(\"Accuracy:\", score)"
   ]
  },
  {
   "cell_type": "markdown",
   "id": "8556113d",
   "metadata": {},
   "source": [
    "Now the accuracy has increased a lot to 98% which is almost perfect performance. "
   ]
  },
  {
   "cell_type": "code",
   "execution_count": 53,
   "id": "eca52893",
   "metadata": {},
   "outputs": [
    {
     "name": "stdout",
     "output_type": "stream",
     "text": [
      "              precision    recall  f1-score   support\n",
      "\n",
      "           0       0.99      1.00      1.00      2023\n",
      "           1       1.00      0.99      1.00      1801\n",
      "\n",
      "    accuracy                           1.00      3824\n",
      "   macro avg       1.00      1.00      1.00      3824\n",
      "weighted avg       1.00      1.00      1.00      3824\n",
      "\n",
      "              precision    recall  f1-score   support\n",
      "\n",
      "           0       0.99      0.97      0.98       519\n",
      "           1       0.96      0.99      0.98       438\n",
      "\n",
      "    accuracy                           0.98       957\n",
      "   macro avg       0.98      0.98      0.98       957\n",
      "weighted avg       0.98      0.98      0.98       957\n",
      "\n"
     ]
    }
   ],
   "source": [
    "pred = model.predict(X_train.values)\n",
    "report= classification_report(y_train,pred)\n",
    "print(report)\n",
    "\n",
    "pred = model.predict(X_test.values)\n",
    "report= classification_report(y_test,pred)\n",
    "print(report)"
   ]
  },
  {
   "cell_type": "markdown",
   "id": "b751c7f6",
   "metadata": {},
   "source": [
    "## Evaluation"
   ]
  },
  {
   "cell_type": "markdown",
   "id": "32b712e2",
   "metadata": {},
   "source": [
    "Creating labels with meaningful names add a column for phishing and safe and also the actual email text in the predictions dataframe "
   ]
  },
  {
   "cell_type": "code",
   "execution_count": 54,
   "id": "211fdbde",
   "metadata": {},
   "outputs": [
    {
     "data": {
      "text/html": [
       "<div>\n",
       "<style scoped>\n",
       "    .dataframe tbody tr th:only-of-type {\n",
       "        vertical-align: middle;\n",
       "    }\n",
       "\n",
       "    .dataframe tbody tr th {\n",
       "        vertical-align: top;\n",
       "    }\n",
       "\n",
       "    .dataframe thead th {\n",
       "        text-align: right;\n",
       "    }\n",
       "</style>\n",
       "<table border=\"1\" class=\"dataframe\">\n",
       "  <thead>\n",
       "    <tr style=\"text-align: right;\">\n",
       "      <th></th>\n",
       "      <th>0</th>\n",
       "      <th>truth</th>\n",
       "      <th>text</th>\n",
       "    </tr>\n",
       "  </thead>\n",
       "  <tbody>\n",
       "    <tr>\n",
       "      <th>835</th>\n",
       "      <td>0</td>\n",
       "      <td>safe</td>\n",
       "      <td>[Razor-users] Re: Collision of hashes? To continue the subject on an otherwise unrelated note, the following\\npersonal correspondence was just flagged as spam:\\n\\nThe following is a slightly modif...</td>\n",
       "    </tr>\n",
       "    <tr>\n",
       "      <th>60</th>\n",
       "      <td>0</td>\n",
       "      <td>safe</td>\n",
       "      <td>Re: sed /s/United States/Roman Empire/g ----- Original Message -----\\nFrom: \"R. A. Hettinga\" &lt;rah@shipwright.com&gt;\\n\\n&gt;\\n&gt; Seriously. Look at he life expectancy and human carrying capacity of\\n&gt; th...</td>\n",
       "    </tr>\n",
       "    <tr>\n",
       "      <th>726</th>\n",
       "      <td>1</td>\n",
       "      <td>phishing</td>\n",
       "      <td>Confirm Your Account Records! (message id: zw73485881890e) []</td>\n",
       "    </tr>\n",
       "    <tr>\n",
       "      <th>223</th>\n",
       "      <td>0</td>\n",
       "      <td>safe</td>\n",
       "      <td>Cypriot leaders in last-ditch attempt at unification URL: http://www.newsisfree.com/click/215,5,215/\\nDate: 2002-10-03T04:21:02+01:00\\n\\n*World latest:* The ethnic Greek and Turkish leaders of Cyp...</td>\n",
       "    </tr>\n",
       "    <tr>\n",
       "      <th>905</th>\n",
       "      <td>0</td>\n",
       "      <td>safe</td>\n",
       "      <td>Re: Ouch... LOL!  They're not doomed at all.  Thousands of men wear cb2000s to work \\nevery day (along with other chastity devices).    They are not just \\ndecorations.  You will not get a woody o...</td>\n",
       "    </tr>\n",
       "    <tr>\n",
       "      <th>939</th>\n",
       "      <td>1</td>\n",
       "      <td>phishing</td>\n",
       "      <td>None None</td>\n",
       "    </tr>\n",
       "    <tr>\n",
       "      <th>863</th>\n",
       "      <td>0</td>\n",
       "      <td>safe</td>\n",
       "      <td>Re: Avast there matey Owen Byrne writes:\\n&gt; [quoting http://www.quinion.com/words/qa/qa-shi2.htm]\\n&gt; *SHIVER MY TIMBERS*\\n&gt; \\n&gt; /From Tad Spencer/: \"Please could you tell me where the phrase /shiv...</td>\n",
       "    </tr>\n",
       "    <tr>\n",
       "      <th>602</th>\n",
       "      <td>0</td>\n",
       "      <td>safe</td>\n",
       "      <td>[zzzzteana] Bashing the bishop http://www.guardian.co.uk/religion/Story/0,2763,806744,00.html\\n\\nEvangelicals' threat to new archbishop\\n\\nDirect action threat over liberal views on sexuality\\n\\nS...</td>\n",
       "    </tr>\n",
       "    <tr>\n",
       "      <th>498</th>\n",
       "      <td>0</td>\n",
       "      <td>safe</td>\n",
       "      <td>quick hack URL: http://www.aaronsw.com/weblog/000624\\nDate: 2002-10-01T22:36:19-06:00\\n\\nNew York Times as a Weblog[1] (source code[2]) Comments appreciated. Yes, I \\nknow UserLand had something l...</td>\n",
       "    </tr>\n",
       "    <tr>\n",
       "      <th>364</th>\n",
       "      <td>0</td>\n",
       "      <td>safe</td>\n",
       "      <td>Re: Hanson's Sept 11 message in the National Review On Thu, Sep 19, 2002 at 11:11:47AM -0400, Bill Stoddard wrote:\\n&gt; people? Either these folks are social misfits who have no understanding of\\n&gt; ...</td>\n",
       "    </tr>\n",
       "  </tbody>\n",
       "</table>\n",
       "</div>"
      ],
      "text/plain": [
       "     0     truth  \\\n",
       "835  0      safe   \n",
       "60   0      safe   \n",
       "726  1  phishing   \n",
       "223  0      safe   \n",
       "905  0      safe   \n",
       "939  1  phishing   \n",
       "863  0      safe   \n",
       "602  0      safe   \n",
       "498  0      safe   \n",
       "364  0      safe   \n",
       "\n",
       "                                                                                                                                                                                                        text  \n",
       "835  [Razor-users] Re: Collision of hashes? To continue the subject on an otherwise unrelated note, the following\\npersonal correspondence was just flagged as spam:\\n\\nThe following is a slightly modif...  \n",
       "60   Re: sed /s/United States/Roman Empire/g ----- Original Message -----\\nFrom: \"R. A. Hettinga\" <rah@shipwright.com>\\n\\n>\\n> Seriously. Look at he life expectancy and human carrying capacity of\\n> th...  \n",
       "726                                                                                                                                            Confirm Your Account Records! (message id: zw73485881890e) []  \n",
       "223  Cypriot leaders in last-ditch attempt at unification URL: http://www.newsisfree.com/click/215,5,215/\\nDate: 2002-10-03T04:21:02+01:00\\n\\n*World latest:* The ethnic Greek and Turkish leaders of Cyp...  \n",
       "905  Re: Ouch... LOL!  They're not doomed at all.  Thousands of men wear cb2000s to work \\nevery day (along with other chastity devices).    They are not just \\ndecorations.  You will not get a woody o...  \n",
       "939                                                                                                                                                                                                None None  \n",
       "863  Re: Avast there matey Owen Byrne writes:\\n> [quoting http://www.quinion.com/words/qa/qa-shi2.htm]\\n> *SHIVER MY TIMBERS*\\n> \\n> /From Tad Spencer/: \"Please could you tell me where the phrase /shiv...  \n",
       "602  [zzzzteana] Bashing the bishop http://www.guardian.co.uk/religion/Story/0,2763,806744,00.html\\n\\nEvangelicals' threat to new archbishop\\n\\nDirect action threat over liberal views on sexuality\\n\\nS...  \n",
       "498  quick hack URL: http://www.aaronsw.com/weblog/000624\\nDate: 2002-10-01T22:36:19-06:00\\n\\nNew York Times as a Weblog[1] (source code[2]) Comments appreciated. Yes, I \\nknow UserLand had something l...  \n",
       "364  Re: Hanson's Sept 11 message in the National Review On Thu, Sep 19, 2002 at 11:11:47AM -0400, Bill Stoddard wrote:\\n> people? Either these folks are social misfits who have no understanding of\\n> ...  "
      ]
     },
     "execution_count": 54,
     "metadata": {},
     "output_type": "execute_result"
    }
   ],
   "source": [
    "label_map = {\"phishing\": 1, \"safe\": 0}\n",
    "predictions = pd.DataFrame(pred)\n",
    "predictions[\"truth\"] = y_test.map(dict((v,k) for k, v in label_map.items())).values\n",
    "predictions[\"text\"] = X_email_text.values\n",
    "predictions.sample(10)"
   ]
  }
 ],
 "metadata": {
  "kernelspec": {
   "display_name": "Python 3 (ipykernel)",
   "language": "python",
   "name": "python3"
  },
  "language_info": {
   "codemirror_mode": {
    "name": "ipython",
    "version": 3
   },
   "file_extension": ".py",
   "mimetype": "text/x-python",
   "name": "python",
   "nbconvert_exporter": "python",
   "pygments_lexer": "ipython3",
   "version": "3.11.4"
  }
 },
 "nbformat": 4,
 "nbformat_minor": 5
}
