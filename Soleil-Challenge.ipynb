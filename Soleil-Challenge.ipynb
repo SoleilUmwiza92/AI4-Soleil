{
 "cells": [
  {
   "cell_type": "markdown",
   "id": "27791c8b",
   "metadata": {},
   "source": [
    "Name: Soleil Umwiza\n",
    "\n",
    "Student number: 4386019"
   ]
  },
  {
   "cell_type": "markdown",
   "id": "192f619b",
   "metadata": {},
   "source": [
    "In this notebook i am going to use the sklearn.ensemble. Ref: RandomForestClassifier. (n.d.-a). Scikit-learn. https://scikit-learn.org/stable/modules/generated/sklearn.ensemble.RandomForestClassifier.htmlalgorithm to classify emails as phishing or valid(safe). i will use a free and public dataset `phishing-and-ham-emails` downloaded from Ref: phishing_&_ham_emails.(2023, March 23). Kaggle. https://www.kaggle.com/datasets/mohamedouledhamed/phishing-and-ham-emails.  A phishing email can be recognized by a human by analyzing it's `Subject` and/or `Body text`. And since the subject and body are in unstructured free text format, Natural Language Processing with NLTK for `words tokenization` and `stemming` is used, Ref:  CH03.RSt2. (n.d.). https://www.nltk.org/book/ch03.html.\n",
    "\n",
    "First, the versions of the required libraries are shown. It always wise to report the versions of the libraries used so that in case problems arise in the future, one can still go back to a state in which the notebook worked."
   ]
  },
  {
   "cell_type": "code",
   "execution_count": 1,
   "id": "523eba9a",
   "metadata": {},
   "outputs": [
    {
     "name": "stdout",
     "output_type": "stream",
     "text": [
      "scikit-learn version: 1.3.0\n",
      "pandas version: 1.5.3\n",
      "seaborn version: 0.12.2\n"
     ]
    },
    {
     "name": "stderr",
     "output_type": "stream",
     "text": [
      "[nltk_data] Downloading package stopwords to\n",
      "[nltk_data]     C:\\Users\\csten\\AppData\\Roaming\\nltk_data...\n",
      "[nltk_data]   Package stopwords is already up-to-date!\n"
     ]
    }
   ],
   "source": [
    "import re\n",
    "import sklearn\n",
    "import pandas as pd\n",
    "import numpy as np\n",
    "import matplotlib.pyplot as plt\n",
    "import seaborn as sns\n",
    "import nltk\n",
    "nltk.download('stopwords')\n",
    "import warnings\n",
    "\n",
    "warnings.filterwarnings('ignore')\n",
    "\n",
    "\n",
    "\n",
    "print(\"scikit-learn version:\", sklearn.__version__)     # 1.1.3\n",
    "print(\"pandas version:\", pd.__version__)            # 1.5.1\n",
    "print(\"seaborn version:\", sns.__version__)   \n",
    "\n"
   ]
  },
  {
   "cell_type": "markdown",
   "id": "496c1b42",
   "metadata": {},
   "source": [
    "# 📦 Data provisioning"
   ]
  },
  {
   "cell_type": "markdown",
   "id": "caf618e0",
   "metadata": {},
   "source": [
    "As it is mentioned in the introduction, the datasets are downloaded from [Kaggle Phishing and ham emails](https://www.kaggle.com/datasets/mohamedouledhamed/phishing-and-ham-emails). I have 2 datasets, one for `phishing emails` which we call `df1` and the other for `Valid/safe emails` which we call `df2`. Below I am reading both datasets and print their shapes, we can see that they have the same number of columns/features."
   ]
  },
  {
   "cell_type": "code",
   "execution_count": 2,
   "id": "7bcac7c6",
   "metadata": {},
   "outputs": [
    {
     "name": "stdout",
     "output_type": "stream",
     "text": [
      "(2239, 12)\n",
      "(2551, 12)\n"
     ]
    }
   ],
   "source": [
    "df1 = pd.read_csv(\"phishing.csv\", index_col=0)\n",
    "df2= pd.read_csv(\"data_extracted_easy_ham.csv\", index_col=0)\n",
    "print(df1.shape)\n",
    "print(df2.shape)\n"
   ]
  },
  {
   "cell_type": "markdown",
   "id": "13448c1e",
   "metadata": {},
   "source": [
    "# Exploring the data"
   ]
  },
  {
   "cell_type": "markdown",
   "id": "d22a3067",
   "metadata": {},
   "source": [
    "## 📃 Sample the data"
   ]
  },
  {
   "cell_type": "markdown",
   "id": "e2c9cd4d",
   "metadata": {},
   "source": [
    "Below I am viewing both datasets to have an impression of the data and see if indeed the columns names matches. For that I am printing 5 random rows."
   ]
  },
  {
   "cell_type": "code",
   "execution_count": 3,
   "id": "1b9e7dea",
   "metadata": {},
   "outputs": [
    {
     "data": {
      "text/html": [
       "<div>\n",
       "<style scoped>\n",
       "    .dataframe tbody tr th:only-of-type {\n",
       "        vertical-align: middle;\n",
       "    }\n",
       "\n",
       "    .dataframe tbody tr th {\n",
       "        vertical-align: top;\n",
       "    }\n",
       "\n",
       "    .dataframe thead th {\n",
       "        text-align: right;\n",
       "    }\n",
       "</style>\n",
       "<table border=\"1\" class=\"dataframe\">\n",
       "  <thead>\n",
       "    <tr style=\"text-align: right;\">\n",
       "      <th></th>\n",
       "      <th>Fullname</th>\n",
       "      <th>To</th>\n",
       "      <th>Subject</th>\n",
       "      <th>Body</th>\n",
       "      <th>Date</th>\n",
       "      <th>IP</th>\n",
       "      <th>Return_Path</th>\n",
       "      <th>Delivered_to</th>\n",
       "      <th>Content_type</th>\n",
       "      <th>Message_Id</th>\n",
       "      <th>X_uid</th>\n",
       "      <th>Content_Length</th>\n",
       "    </tr>\n",
       "    <tr>\n",
       "      <th>From</th>\n",
       "      <th></th>\n",
       "      <th></th>\n",
       "      <th></th>\n",
       "      <th></th>\n",
       "      <th></th>\n",
       "      <th></th>\n",
       "      <th></th>\n",
       "      <th></th>\n",
       "      <th></th>\n",
       "      <th></th>\n",
       "      <th></th>\n",
       "      <th></th>\n",
       "    </tr>\n",
       "  </thead>\n",
       "  <tbody>\n",
       "    <tr>\n",
       "      <th>update@regions.com</th>\n",
       "      <td>Regions Bank</td>\n",
       "      <td>owner-openbsd-mobile-outgoing@example.com</td>\n",
       "      <td>Verify And Update Your Account</td>\n",
       "      <td>[]</td>\n",
       "      <td>Thu, 15 Feb 2007 08:22:40 +0500</td>\n",
       "      <td>77.110.147.175</td>\n",
       "      <td>update@regions.com</td>\n",
       "      <td>user@login.example.com</td>\n",
       "      <td>multipart/alternative;\\n\\tboundary=\"86BEDA..22...</td>\n",
       "      <td>hu6m2l--lkf87y-8$0p$g$-$b0u-9@ei1ng.1vh7</td>\n",
       "      <td>827.0</td>\n",
       "      <td>NaN</td>\n",
       "    </tr>\n",
       "    <tr>\n",
       "      <th>contact@amazon.com</th>\n",
       "      <td>&lt;contact@amazon.com</td>\n",
       "      <td>user@example.com</td>\n",
       "      <td>Private Message From Amazon Accounts Managemen...</td>\n",
       "      <td>Dear Amazon® member, It has come to our attent...</td>\n",
       "      <td>Wed, 07 Dec 2005 12:24:52 +0100</td>\n",
       "      <td>NaN</td>\n",
       "      <td>nobody@albergue.hospedajededicado.com</td>\n",
       "      <td>user@example.com</td>\n",
       "      <td>text/html</td>\n",
       "      <td>E1EjxPo-0006VN-Qa@albergue.hospedajededicado.com</td>\n",
       "      <td>250.0</td>\n",
       "      <td>NaN</td>\n",
       "    </tr>\n",
       "    <tr>\n",
       "      <th>aw-confirm@eBay.com</th>\n",
       "      <td>aw-confirm@eBay.com</td>\n",
       "      <td>undisclosed-recipients:;</td>\n",
       "      <td>eBay Listing confirmed. Sell another item now!</td>\n",
       "      <td>eBay sent this message Listing confirmed. Sell...</td>\n",
       "      <td>Tue, 8 Aug 2006 19:24:16 -0700</td>\n",
       "      <td>66.125.41.182</td>\n",
       "      <td>aw-confirm@eBay.com</td>\n",
       "      <td>user@login.example.com</td>\n",
       "      <td>text/html;\\n\\tcharset=\"Windows-1251\"</td>\n",
       "      <td>20060809020300.EB6E76CD0F6@mail.example.org</td>\n",
       "      <td>14.0</td>\n",
       "      <td>NaN</td>\n",
       "    </tr>\n",
       "    <tr>\n",
       "      <th>aw-confirm@eBay.com</th>\n",
       "      <td>eBay &lt;aw-confirm@eBay.com</td>\n",
       "      <td>user@example.com</td>\n",
       "      <td>eBay Suspension - User Agreement - Abusing eBay</td>\n",
       "      <td>eBay sent this message to your registered emai...</td>\n",
       "      <td>Tue, 05 Dec 2006 10:01:54 -0600</td>\n",
       "      <td>NaN</td>\n",
       "      <td>nobody@server.hostfit.com</td>\n",
       "      <td>user@login.example.com</td>\n",
       "      <td>text/html</td>\n",
       "      <td>E1Grcjy-0008IA-DT@server.hostfit.com</td>\n",
       "      <td>479.0</td>\n",
       "      <td>NaN</td>\n",
       "    </tr>\n",
       "    <tr>\n",
       "      <th>corporateclients.refx328051458485x.cm@nationalcity.com</th>\n",
       "      <td>National City</td>\n",
       "      <td>user &lt;user@example.com&gt;</td>\n",
       "      <td>National City corporate customer service: conf...</td>\n",
       "      <td>[]</td>\n",
       "      <td>Wed, 13 Jun 2007 11:02:38 -0400 (EDT)</td>\n",
       "      <td>120.64.100.191</td>\n",
       "      <td>corporateclients.refx328051458485x.cm@national...</td>\n",
       "      <td>user@example.com</td>\n",
       "      <td>multipart/alternative;\\n\\tboundary=\"--0MGI_RTD...</td>\n",
       "      <td>20070613150240.36C8E16243@mail.example.com</td>\n",
       "      <td>NaN</td>\n",
       "      <td>3677.0</td>\n",
       "    </tr>\n",
       "  </tbody>\n",
       "</table>\n",
       "</div>"
      ],
      "text/plain": [
       "                                                                     Fullname  \\\n",
       "From                                                                            \n",
       "update@regions.com                                               Regions Bank   \n",
       "contact@amazon.com                                        <contact@amazon.com   \n",
       "aw-confirm@eBay.com                                       aw-confirm@eBay.com   \n",
       "aw-confirm@eBay.com                                 eBay <aw-confirm@eBay.com   \n",
       "corporateclients.refx328051458485x.cm@nationalc...              National City   \n",
       "\n",
       "                                                                                           To  \\\n",
       "From                                                                                            \n",
       "update@regions.com                                  owner-openbsd-mobile-outgoing@example.com   \n",
       "contact@amazon.com                                                           user@example.com   \n",
       "aw-confirm@eBay.com                                                  undisclosed-recipients:;   \n",
       "aw-confirm@eBay.com                                                          user@example.com   \n",
       "corporateclients.refx328051458485x.cm@nationalc...                    user <user@example.com>   \n",
       "\n",
       "                                                                                              Subject  \\\n",
       "From                                                                                                    \n",
       "update@regions.com                                                     Verify And Update Your Account   \n",
       "contact@amazon.com                                  Private Message From Amazon Accounts Managemen...   \n",
       "aw-confirm@eBay.com                                    eBay Listing confirmed. Sell another item now!   \n",
       "aw-confirm@eBay.com                                   eBay Suspension - User Agreement - Abusing eBay   \n",
       "corporateclients.refx328051458485x.cm@nationalc...  National City corporate customer service: conf...   \n",
       "\n",
       "                                                                                                 Body  \\\n",
       "From                                                                                                    \n",
       "update@regions.com                                                                                 []   \n",
       "contact@amazon.com                                  Dear Amazon® member, It has come to our attent...   \n",
       "aw-confirm@eBay.com                                 eBay sent this message Listing confirmed. Sell...   \n",
       "aw-confirm@eBay.com                                 eBay sent this message to your registered emai...   \n",
       "corporateclients.refx328051458485x.cm@nationalc...                                                 []   \n",
       "\n",
       "                                                                                     Date  \\\n",
       "From                                                                                        \n",
       "update@regions.com                                        Thu, 15 Feb 2007 08:22:40 +0500   \n",
       "contact@amazon.com                                        Wed, 07 Dec 2005 12:24:52 +0100   \n",
       "aw-confirm@eBay.com                                        Tue, 8 Aug 2006 19:24:16 -0700   \n",
       "aw-confirm@eBay.com                                       Tue, 05 Dec 2006 10:01:54 -0600   \n",
       "corporateclients.refx328051458485x.cm@nationalc...  Wed, 13 Jun 2007 11:02:38 -0400 (EDT)   \n",
       "\n",
       "                                                                IP  \\\n",
       "From                                                                 \n",
       "update@regions.com                                  77.110.147.175   \n",
       "contact@amazon.com                                             NaN   \n",
       "aw-confirm@eBay.com                                  66.125.41.182   \n",
       "aw-confirm@eBay.com                                            NaN   \n",
       "corporateclients.refx328051458485x.cm@nationalc...  120.64.100.191   \n",
       "\n",
       "                                                                                          Return_Path  \\\n",
       "From                                                                                                    \n",
       "update@regions.com                                                                 update@regions.com   \n",
       "contact@amazon.com                                              nobody@albergue.hospedajededicado.com   \n",
       "aw-confirm@eBay.com                                                               aw-confirm@eBay.com   \n",
       "aw-confirm@eBay.com                                                         nobody@server.hostfit.com   \n",
       "corporateclients.refx328051458485x.cm@nationalc...  corporateclients.refx328051458485x.cm@national...   \n",
       "\n",
       "                                                              Delivered_to  \\\n",
       "From                                                                         \n",
       "update@regions.com                                  user@login.example.com   \n",
       "contact@amazon.com                                        user@example.com   \n",
       "aw-confirm@eBay.com                                 user@login.example.com   \n",
       "aw-confirm@eBay.com                                 user@login.example.com   \n",
       "corporateclients.refx328051458485x.cm@nationalc...        user@example.com   \n",
       "\n",
       "                                                                                         Content_type  \\\n",
       "From                                                                                                    \n",
       "update@regions.com                                  multipart/alternative;\\n\\tboundary=\"86BEDA..22...   \n",
       "contact@amazon.com                                                                          text/html   \n",
       "aw-confirm@eBay.com                                              text/html;\\n\\tcharset=\"Windows-1251\"   \n",
       "aw-confirm@eBay.com                                                                         text/html   \n",
       "corporateclients.refx328051458485x.cm@nationalc...  multipart/alternative;\\n\\tboundary=\"--0MGI_RTD...   \n",
       "\n",
       "                                                                                          Message_Id  \\\n",
       "From                                                                                                   \n",
       "update@regions.com                                          hu6m2l--lkf87y-8$0p$g$-$b0u-9@ei1ng.1vh7   \n",
       "contact@amazon.com                                  E1EjxPo-0006VN-Qa@albergue.hospedajededicado.com   \n",
       "aw-confirm@eBay.com                                      20060809020300.EB6E76CD0F6@mail.example.org   \n",
       "aw-confirm@eBay.com                                             E1Grcjy-0008IA-DT@server.hostfit.com   \n",
       "corporateclients.refx328051458485x.cm@nationalc...        20070613150240.36C8E16243@mail.example.com   \n",
       "\n",
       "                                                    X_uid  Content_Length  \n",
       "From                                                                       \n",
       "update@regions.com                                  827.0             NaN  \n",
       "contact@amazon.com                                  250.0             NaN  \n",
       "aw-confirm@eBay.com                                  14.0             NaN  \n",
       "aw-confirm@eBay.com                                 479.0             NaN  \n",
       "corporateclients.refx328051458485x.cm@nationalc...    NaN          3677.0  "
      ]
     },
     "execution_count": 3,
     "metadata": {},
     "output_type": "execute_result"
    }
   ],
   "source": [
    "df1.sample(5)"
   ]
  },
  {
   "cell_type": "code",
   "execution_count": 4,
   "id": "248cbf43",
   "metadata": {
    "scrolled": true
   },
   "outputs": [
    {
     "data": {
      "text/html": [
       "<div>\n",
       "<style scoped>\n",
       "    .dataframe tbody tr th:only-of-type {\n",
       "        vertical-align: middle;\n",
       "    }\n",
       "\n",
       "    .dataframe tbody tr th {\n",
       "        vertical-align: top;\n",
       "    }\n",
       "\n",
       "    .dataframe thead th {\n",
       "        text-align: right;\n",
       "    }\n",
       "</style>\n",
       "<table border=\"1\" class=\"dataframe\">\n",
       "  <thead>\n",
       "    <tr style=\"text-align: right;\">\n",
       "      <th></th>\n",
       "      <th>Fullname</th>\n",
       "      <th>To</th>\n",
       "      <th>Subject</th>\n",
       "      <th>Body</th>\n",
       "      <th>Date</th>\n",
       "      <th>IP</th>\n",
       "      <th>Return_Path</th>\n",
       "      <th>Delivered_to</th>\n",
       "      <th>Content_type</th>\n",
       "      <th>Message_Id</th>\n",
       "      <th>X_uid</th>\n",
       "      <th>Content_Length</th>\n",
       "    </tr>\n",
       "    <tr>\n",
       "      <th>From</th>\n",
       "      <th></th>\n",
       "      <th></th>\n",
       "      <th></th>\n",
       "      <th></th>\n",
       "      <th></th>\n",
       "      <th></th>\n",
       "      <th></th>\n",
       "      <th></th>\n",
       "      <th></th>\n",
       "      <th></th>\n",
       "      <th></th>\n",
       "      <th></th>\n",
       "    </tr>\n",
       "  </thead>\n",
       "  <tbody>\n",
       "    <tr>\n",
       "      <th>oberman@es.net</th>\n",
       "      <td>Kevin Oberman</td>\n",
       "      <td>exmh-users@example.com</td>\n",
       "      <td>Re: Sorting</td>\n",
       "      <td>--Multipart_Tue_Sep_10_08:56:11_2002-1\\nConten...</td>\n",
       "      <td>Tue, 10 Sep 2002 08:56:47 -0700</td>\n",
       "      <td>127.0.0.1</td>\n",
       "      <td>exmh-users-admin@example.com</td>\n",
       "      <td>yyyy@localhost.example.com</td>\n",
       "      <td>multipart/mixed; boundary=\"Multipart_Tue_Sep_1...</td>\n",
       "      <td>20020910155647.0B7FF5D04@ptavv.es.net</td>\n",
       "      <td>NaN</td>\n",
       "      <td>NaN</td>\n",
       "    </tr>\n",
       "    <tr>\n",
       "      <th>cdale@techmonkeys.net</th>\n",
       "      <td>CDale &lt;cdale@techmonkeys.net</td>\n",
       "      <td>fork@example.com</td>\n",
       "      <td>boycotting yahoo</td>\n",
       "      <td>Because of this:\\nhttp://hrw.org/press/2002/08...</td>\n",
       "      <td>Tue, 17 Sep 2002 21:41:40 -0500 (CDT)</td>\n",
       "      <td>NaN</td>\n",
       "      <td>fork-admin@xent.com</td>\n",
       "      <td>yyyy@localhost.example.com</td>\n",
       "      <td>TEXT/PLAIN; charset=US-ASCII</td>\n",
       "      <td>Pine.LNX.4.44.0209172137100.5112-100000@isolne...</td>\n",
       "      <td>NaN</td>\n",
       "      <td>NaN</td>\n",
       "    </tr>\n",
       "    <tr>\n",
       "      <th>eugen@leitl.org</th>\n",
       "      <td>Eugen Leitl &lt;eugen@leitl.org</td>\n",
       "      <td>&lt;transhumantech@yahoogroups.com&gt;</td>\n",
       "      <td>Making a mesh on the move</td>\n",
       "      <td>http://www.guardian.co.uk/Print/0%2c3858%2c448...</td>\n",
       "      <td>Tue, 3 Sep 2002 08:05:27 +0200 (CEST)</td>\n",
       "      <td>NaN</td>\n",
       "      <td>fork-admin@xent.com</td>\n",
       "      <td>yyyy@localhost.example.com</td>\n",
       "      <td>TEXT/PLAIN; charset=ISO-8859-1</td>\n",
       "      <td>Pine.LNX.4.33.0209030804570.3124-100000@hydrog...</td>\n",
       "      <td>NaN</td>\n",
       "      <td>NaN</td>\n",
       "    </tr>\n",
       "    <tr>\n",
       "      <th>fork_list@hotmail.com</th>\n",
       "      <td>Mr. FoRK</td>\n",
       "      <td>&lt;fork@example.com&gt;</td>\n",
       "      <td>Am I This Or Not?</td>\n",
       "      <td>Wow, talk about a pheenomeenon\\n\\n==\\nhttp://w...</td>\n",
       "      <td>Mon, 30 Sep 2002 22:19:29 -0700</td>\n",
       "      <td>NaN</td>\n",
       "      <td>fork-admin@xent.com</td>\n",
       "      <td>yyyy@localhost.example.com</td>\n",
       "      <td>text/plain; charset=\"iso-8859-1\"</td>\n",
       "      <td>DAV48S97K5Nvz3bGlab00007ca3@hotmail.com</td>\n",
       "      <td>NaN</td>\n",
       "      <td>NaN</td>\n",
       "    </tr>\n",
       "    <tr>\n",
       "      <th>felicity@kluge.net</th>\n",
       "      <td>Theo Van Dinter &lt;felicity@kluge.net</td>\n",
       "      <td>Josh Hildebrand &lt;josh@jedi.net&gt;</td>\n",
       "      <td>Re: [SAtalk] redhat init.d script for spamd an...</td>\n",
       "      <td>--UHN/qo2QbUvPLonB\\nContent-Type: text/plain; ...</td>\n",
       "      <td>Fri, 6 Sep 2002 13:54:11 -0400</td>\n",
       "      <td>NaN</td>\n",
       "      <td>spamassassin-talk-admin@example.sourceforge.net</td>\n",
       "      <td>yyyy@localhost.example.com</td>\n",
       "      <td>multipart/signed; micalg=pgp-sha1;\\n    protoc...</td>\n",
       "      <td>20020906175411.GB18326@kluge.net</td>\n",
       "      <td>NaN</td>\n",
       "      <td>NaN</td>\n",
       "    </tr>\n",
       "  </tbody>\n",
       "</table>\n",
       "</div>"
      ],
      "text/plain": [
       "                                                  Fullname  \\\n",
       "From                                                         \n",
       "oberman@es.net                               Kevin Oberman   \n",
       "cdale@techmonkeys.net         CDale <cdale@techmonkeys.net   \n",
       "eugen@leitl.org               Eugen Leitl <eugen@leitl.org   \n",
       "fork_list@hotmail.com                             Mr. FoRK   \n",
       "felicity@kluge.net     Theo Van Dinter <felicity@kluge.net   \n",
       "\n",
       "                                                     To  \\\n",
       "From                                                      \n",
       "oberman@es.net                   exmh-users@example.com   \n",
       "cdale@techmonkeys.net                  fork@example.com   \n",
       "eugen@leitl.org        <transhumantech@yahoogroups.com>   \n",
       "fork_list@hotmail.com                <fork@example.com>   \n",
       "felicity@kluge.net      Josh Hildebrand <josh@jedi.net>   \n",
       "\n",
       "                                                                 Subject  \\\n",
       "From                                                                       \n",
       "oberman@es.net                                               Re: Sorting   \n",
       "cdale@techmonkeys.net                                   boycotting yahoo   \n",
       "eugen@leitl.org                                Making a mesh on the move   \n",
       "fork_list@hotmail.com                                  Am I This Or Not?   \n",
       "felicity@kluge.net     Re: [SAtalk] redhat init.d script for spamd an...   \n",
       "\n",
       "                                                                    Body  \\\n",
       "From                                                                       \n",
       "oberman@es.net         --Multipart_Tue_Sep_10_08:56:11_2002-1\\nConten...   \n",
       "cdale@techmonkeys.net  Because of this:\\nhttp://hrw.org/press/2002/08...   \n",
       "eugen@leitl.org        http://www.guardian.co.uk/Print/0%2c3858%2c448...   \n",
       "fork_list@hotmail.com  Wow, talk about a pheenomeenon\\n\\n==\\nhttp://w...   \n",
       "felicity@kluge.net     --UHN/qo2QbUvPLonB\\nContent-Type: text/plain; ...   \n",
       "\n",
       "                                                        Date         IP  \\\n",
       "From                                                                      \n",
       "oberman@es.net               Tue, 10 Sep 2002 08:56:47 -0700  127.0.0.1   \n",
       "cdale@techmonkeys.net  Tue, 17 Sep 2002 21:41:40 -0500 (CDT)        NaN   \n",
       "eugen@leitl.org        Tue, 3 Sep 2002 08:05:27 +0200 (CEST)        NaN   \n",
       "fork_list@hotmail.com        Mon, 30 Sep 2002 22:19:29 -0700        NaN   \n",
       "felicity@kluge.net            Fri, 6 Sep 2002 13:54:11 -0400        NaN   \n",
       "\n",
       "                                                           Return_Path  \\\n",
       "From                                                                     \n",
       "oberman@es.net                            exmh-users-admin@example.com   \n",
       "cdale@techmonkeys.net                              fork-admin@xent.com   \n",
       "eugen@leitl.org                                    fork-admin@xent.com   \n",
       "fork_list@hotmail.com                              fork-admin@xent.com   \n",
       "felicity@kluge.net     spamassassin-talk-admin@example.sourceforge.net   \n",
       "\n",
       "                                     Delivered_to  \\\n",
       "From                                                \n",
       "oberman@es.net         yyyy@localhost.example.com   \n",
       "cdale@techmonkeys.net  yyyy@localhost.example.com   \n",
       "eugen@leitl.org        yyyy@localhost.example.com   \n",
       "fork_list@hotmail.com  yyyy@localhost.example.com   \n",
       "felicity@kluge.net     yyyy@localhost.example.com   \n",
       "\n",
       "                                                            Content_type  \\\n",
       "From                                                                       \n",
       "oberman@es.net         multipart/mixed; boundary=\"Multipart_Tue_Sep_1...   \n",
       "cdale@techmonkeys.net                       TEXT/PLAIN; charset=US-ASCII   \n",
       "eugen@leitl.org                           TEXT/PLAIN; charset=ISO-8859-1   \n",
       "fork_list@hotmail.com                   text/plain; charset=\"iso-8859-1\"   \n",
       "felicity@kluge.net     multipart/signed; micalg=pgp-sha1;\\n    protoc...   \n",
       "\n",
       "                                                              Message_Id  \\\n",
       "From                                                                       \n",
       "oberman@es.net                     20020910155647.0B7FF5D04@ptavv.es.net   \n",
       "cdale@techmonkeys.net  Pine.LNX.4.44.0209172137100.5112-100000@isolne...   \n",
       "eugen@leitl.org        Pine.LNX.4.33.0209030804570.3124-100000@hydrog...   \n",
       "fork_list@hotmail.com            DAV48S97K5Nvz3bGlab00007ca3@hotmail.com   \n",
       "felicity@kluge.net                      20020906175411.GB18326@kluge.net   \n",
       "\n",
       "                       X_uid  Content_Length  \n",
       "From                                          \n",
       "oberman@es.net           NaN             NaN  \n",
       "cdale@techmonkeys.net    NaN             NaN  \n",
       "eugen@leitl.org          NaN             NaN  \n",
       "fork_list@hotmail.com    NaN             NaN  \n",
       "felicity@kluge.net       NaN             NaN  "
      ]
     },
     "execution_count": 4,
     "metadata": {},
     "output_type": "execute_result"
    }
   ],
   "source": [
    "df2.sample(5)"
   ]
  },
  {
   "cell_type": "markdown",
   "id": "d9208afd",
   "metadata": {},
   "source": [
    " From the sample above, we can see that the `From` column is treated as index, however, we can see that the values are not unique per row because the same sender may have sent emails more than once. Hence, I will reset the index and get a default index."
   ]
  },
  {
   "cell_type": "code",
   "execution_count": 5,
   "id": "ad5b270e",
   "metadata": {},
   "outputs": [],
   "source": [
    "df1.reset_index(inplace=True)\n",
    "df2.reset_index(inplace=True)"
   ]
  },
  {
   "cell_type": "markdown",
   "id": "ee5b3278",
   "metadata": {},
   "source": [
    "After resetting the indices, let's explore further the data. By looking at the columns information we see that for some columns we have too many missing values. For example columns \"Content_Length and X_uid\" have too many null values. However, we need to be carefull before we can decide if we can drop them, because it could be that the value being null is a contributing factor that an email is `valid` or `phishing`.\n",
    "\n",
    "Let's verify them carefully, by going back to the `phishing` and `valid` before they are merged.\n"
   ]
  },
  {
   "cell_type": "code",
   "execution_count": 6,
   "id": "00bc801f",
   "metadata": {},
   "outputs": [
    {
     "name": "stdout",
     "output_type": "stream",
     "text": [
      "<class 'pandas.core.frame.DataFrame'>\n",
      "RangeIndex: 2239 entries, 0 to 2238\n",
      "Data columns (total 13 columns):\n",
      " #   Column          Non-Null Count  Dtype  \n",
      "---  ------          --------------  -----  \n",
      " 0   From            2239 non-null   object \n",
      " 1   Fullname        2236 non-null   object \n",
      " 2   To              2234 non-null   object \n",
      " 3   Subject         2219 non-null   object \n",
      " 4   Body            2213 non-null   object \n",
      " 5   Date            2239 non-null   object \n",
      " 6   IP              1404 non-null   object \n",
      " 7   Return_Path     2239 non-null   object \n",
      " 8   Delivered_to    2239 non-null   object \n",
      " 9   Content_type    2213 non-null   object \n",
      " 10  Message_Id      2239 non-null   object \n",
      " 11  X_uid           1816 non-null   float64\n",
      " 12  Content_Length  699 non-null    float64\n",
      "dtypes: float64(2), object(11)\n",
      "memory usage: 227.5+ KB\n"
     ]
    }
   ],
   "source": [
    "df1.info()"
   ]
  },
  {
   "cell_type": "code",
   "execution_count": 7,
   "id": "7534a45b",
   "metadata": {},
   "outputs": [
    {
     "name": "stdout",
     "output_type": "stream",
     "text": [
      "<class 'pandas.core.frame.DataFrame'>\n",
      "RangeIndex: 2551 entries, 0 to 2550\n",
      "Data columns (total 13 columns):\n",
      " #   Column          Non-Null Count  Dtype  \n",
      "---  ------          --------------  -----  \n",
      " 0   From            2551 non-null   object \n",
      " 1   Fullname        2535 non-null   object \n",
      " 2   To              2398 non-null   object \n",
      " 3   Subject         2551 non-null   object \n",
      " 4   Body            2551 non-null   object \n",
      " 5   Date            2551 non-null   object \n",
      " 6   IP              1703 non-null   object \n",
      " 7   Return_Path     2551 non-null   object \n",
      " 8   Delivered_to    2416 non-null   object \n",
      " 9   Content_type    2150 non-null   object \n",
      " 10  Message_Id      2551 non-null   object \n",
      " 11  X_uid           0 non-null      float64\n",
      " 12  Content_Length  0 non-null      float64\n",
      "dtypes: float64(2), object(11)\n",
      "memory usage: 259.2+ KB\n"
     ]
    }
   ],
   "source": [
    "df2.info()"
   ]
  },
  {
   "cell_type": "markdown",
   "id": "f2241f95",
   "metadata": {},
   "source": [
    "Below we are checking the counts of the null values of the 2 columns `X_uid` and `Content_Length` for each of the datasets. We can see that in the `valid emails` the two columns have no values at all, and in the `phishing` dataset almost 75% of the Content_Length and almost 20% of X_uid values are missing."
   ]
  },
  {
   "cell_type": "code",
   "execution_count": 8,
   "id": "a77a3cfc",
   "metadata": {},
   "outputs": [
    {
     "name": "stdout",
     "output_type": "stream",
     "text": [
      "Phishing dataframe: Count of null values in the column X_uid is 423/2239 rows\n",
      "Phishing dataframe: Count of null values in the column Content_Length is 1540/2239 rows\n",
      "\n",
      "Valid email dataframe: Count of null values in the column X_uid is 2551/2551 rows\n",
      "Valid email dataframe: Count of null values in the column Content_Length is 2551/2551 rows\n",
      "\n",
      "Valid email dataframe: Count of null values in the column IP is 848/2551 rows\n",
      "Valid email dataframe: Count of null values in the column IP is 848/2551 rows\n"
     ]
    }
   ],
   "source": [
    "print('Phishing dataframe: Count of null values in the column X_uid is {}/{} rows'.format(df1['X_uid'].isnull().sum(),len(df1.index)));\n",
    "print('Phishing dataframe: Count of null values in the column Content_Length is {}/{} rows\\n'.format(df1['Content_Length'].isnull().sum(),len(df1.index)));\n",
    "\n",
    "print('Valid email dataframe: Count of null values in the column X_uid is {}/{} rows' .format(df2['X_uid'].isnull().sum(),len(df2.index)));\n",
    "print('Valid email dataframe: Count of null values in the column Content_Length is {}/{} rows\\n' .format(df2['Content_Length'].isnull().sum(),len(df2.index)));\n",
    "\n",
    "print('Valid email dataframe: Count of null values in the column IP is {}/{} rows' .format(df2['IP'].isnull().sum(),len(df2.index)));\n",
    "print('Valid email dataframe: Count of null values in the column IP is {}/{} rows' .format(df2['IP'].isnull().sum(),len(df2.index)));"
   ]
  },
  {
   "cell_type": "markdown",
   "id": "16e360a4",
   "metadata": {},
   "source": [
    "##### Now the `Content_length`, `IP` and `X_uid` columns can be dropped due to too many missing values and also their less relevance in this analysis"
   ]
  },
  {
   "cell_type": "code",
   "execution_count": 9,
   "id": "a42594df",
   "metadata": {},
   "outputs": [],
   "source": [
    "df1=df1.drop(columns=['IP','Content_Length','X_uid'])\n",
    "df2=df2.drop(columns=['IP','Content_Length','X_uid'])"
   ]
  },
  {
   "cell_type": "markdown",
   "id": "b9d47025",
   "metadata": {},
   "source": [
    "\n",
    "# 🛠️ Preprocessing\n",
    "\n",
    "\n",
    "### 🎯 Target variable\n",
    "\n",
    "Since we have two separate datasets one for phishing emails and one for valid emails, we will first label the data by adding a new column `IsEmailPhishing` on both datasets which will indicate if an email is phishing or not. For phishing emails we put `1` and for valid emails `0`, the we will review the shapes of the datasets.\n"
   ]
  },
  {
   "cell_type": "code",
   "execution_count": 10,
   "id": "6967d04e",
   "metadata": {},
   "outputs": [],
   "source": [
    "df1[\"IsEmailPhishing\"] = 1"
   ]
  },
  {
   "cell_type": "code",
   "execution_count": 11,
   "id": "d07ef391",
   "metadata": {},
   "outputs": [
    {
     "data": {
      "text/plain": [
       "1    2239\n",
       "Name: IsEmailPhishing, dtype: int64"
      ]
     },
     "execution_count": 11,
     "metadata": {},
     "output_type": "execute_result"
    }
   ],
   "source": [
    "df1.IsEmailPhishing.value_counts()"
   ]
  },
  {
   "cell_type": "code",
   "execution_count": 12,
   "id": "1b1f41ac",
   "metadata": {},
   "outputs": [],
   "source": [
    "df2[\"IsEmailPhishing\"] = 0\n"
   ]
  },
  {
   "cell_type": "code",
   "execution_count": 13,
   "id": "5f348038",
   "metadata": {},
   "outputs": [
    {
     "data": {
      "text/plain": [
       "0    2551\n",
       "Name: IsEmailPhishing, dtype: int64"
      ]
     },
     "execution_count": 13,
     "metadata": {},
     "output_type": "execute_result"
    }
   ],
   "source": [
    "df2.IsEmailPhishing.value_counts()"
   ]
  },
  {
   "cell_type": "code",
   "execution_count": 14,
   "id": "687b8726",
   "metadata": {},
   "outputs": [
    {
     "name": "stdout",
     "output_type": "stream",
     "text": [
      "(2239, 11)\n",
      "(2551, 11)\n"
     ]
    }
   ],
   "source": [
    "print(df1.shape)\n",
    "print(df2.shape)"
   ]
  },
  {
   "cell_type": "markdown",
   "id": "7a072280",
   "metadata": {},
   "source": [
    "Since we have 2 datasets with differents target values, we will then merge both dataframes for further preprocessing and analysis"
   ]
  },
  {
   "cell_type": "code",
   "execution_count": 15,
   "id": "b456707c",
   "metadata": {},
   "outputs": [
    {
     "name": "stdout",
     "output_type": "stream",
     "text": [
      "(4790, 11)\n"
     ]
    }
   ],
   "source": [
    "df = pd.concat([df1,df2], axis=0)\n",
    "print(df.shape)"
   ]
  },
  {
   "cell_type": "code",
   "execution_count": 16,
   "id": "99c15857",
   "metadata": {},
   "outputs": [
    {
     "data": {
      "text/html": [
       "<div>\n",
       "<style scoped>\n",
       "    .dataframe tbody tr th:only-of-type {\n",
       "        vertical-align: middle;\n",
       "    }\n",
       "\n",
       "    .dataframe tbody tr th {\n",
       "        vertical-align: top;\n",
       "    }\n",
       "\n",
       "    .dataframe thead th {\n",
       "        text-align: right;\n",
       "    }\n",
       "</style>\n",
       "<table border=\"1\" class=\"dataframe\">\n",
       "  <thead>\n",
       "    <tr style=\"text-align: right;\">\n",
       "      <th></th>\n",
       "      <th>From</th>\n",
       "      <th>Fullname</th>\n",
       "      <th>To</th>\n",
       "      <th>Subject</th>\n",
       "      <th>Body</th>\n",
       "      <th>Date</th>\n",
       "      <th>Return_Path</th>\n",
       "      <th>Delivered_to</th>\n",
       "      <th>Content_type</th>\n",
       "      <th>Message_Id</th>\n",
       "      <th>IsEmailPhishing</th>\n",
       "    </tr>\n",
       "  </thead>\n",
       "  <tbody>\n",
       "    <tr>\n",
       "      <th>0</th>\n",
       "      <td>emailconfirm@ebay.com</td>\n",
       "      <td>emailconfirm@ebay.com</td>\n",
       "      <td>NaN</td>\n",
       "      <td>eBay account verification!</td>\n",
       "      <td>Dear eBay User , After fraud complaints from t...</td>\n",
       "      <td>Thu, 30 Oct 2003 08:52:16 +0200</td>\n",
       "      <td>user@example.com</td>\n",
       "      <td>user@example.com</td>\n",
       "      <td>text/html;\\n\\tcharset=\"Windows-1251\"</td>\n",
       "      <td>200502211804.NAA02450@mail.example.com</td>\n",
       "      <td>1</td>\n",
       "    </tr>\n",
       "    <tr>\n",
       "      <th>1</th>\n",
       "      <td>aw45-confirm@ebay.com</td>\n",
       "      <td>Ebay Team</td>\n",
       "      <td>undisclosed-recipients: ;</td>\n",
       "      <td>eBay - verify your account information</td>\n",
       "      <td>Welcome Welcome to a community of sellers that...</td>\n",
       "      <td>Fri, 1 Jul 2005 17:57:54 -0700</td>\n",
       "      <td>user@mail.example.com</td>\n",
       "      <td>user@example.com</td>\n",
       "      <td>text/html;\\n\\tcharset=\"Windows-1251\"</td>\n",
       "      <td>200507020500.BAA12022@mail.example.com</td>\n",
       "      <td>1</td>\n",
       "    </tr>\n",
       "    <tr>\n",
       "      <th>2</th>\n",
       "      <td>service@paypal.com</td>\n",
       "      <td>PayPal &lt;service@paypal.com</td>\n",
       "      <td>user@example.com</td>\n",
       "      <td>Notification of limited account access</td>\n",
       "      <td>Dear valued PayPal® member: PayPal® is committ...</td>\n",
       "      <td>Wed, 17 Aug 2005 18:28:02 +0000 (GMT)</td>\n",
       "      <td>user@mail.example.com</td>\n",
       "      <td>user@example.com</td>\n",
       "      <td>text/html</td>\n",
       "      <td>20050817182802.703BC84B0A0@asia.ibbmonitor.com</td>\n",
       "      <td>1</td>\n",
       "    </tr>\n",
       "    <tr>\n",
       "      <th>3</th>\n",
       "      <td>service@intl.paypal.com</td>\n",
       "      <td>service@intl.paypal.com &lt;service@intl.paypal.com</td>\n",
       "      <td>user@example.com</td>\n",
       "      <td>..PayPal Notification..: Update your information</td>\n",
       "      <td>PayPal You're Billing Information! Dear PayPal...</td>\n",
       "      <td>Thu, 21 Sep 2006 04:46:36 +0200 (CEST)</td>\n",
       "      <td>wwwrun@s2.medienuniversum.com</td>\n",
       "      <td>user@login.example.com</td>\n",
       "      <td>text/html</td>\n",
       "      <td>20060921024636.9C7E3391672@s2.medienuniversum.com</td>\n",
       "      <td>1</td>\n",
       "    </tr>\n",
       "    <tr>\n",
       "      <th>4</th>\n",
       "      <td>service@paypal.com</td>\n",
       "      <td>service@paypal.com</td>\n",
       "      <td>undisclosed-recipients:;</td>\n",
       "      <td>We recently noticed one or more attempts to lo...</td>\n",
       "      <td>We recently noticed one or more attempts to lo...</td>\n",
       "      <td>Thu, 21 Sep 2006 05:52:53 +0200</td>\n",
       "      <td>service@paypal.com</td>\n",
       "      <td>user@login.example.com</td>\n",
       "      <td>text/html;\\n\\tcharset=\"Windows-1251\"</td>\n",
       "      <td>20060921034817.322E41C00245@mwinf1921.orange.fr</td>\n",
       "      <td>1</td>\n",
       "    </tr>\n",
       "  </tbody>\n",
       "</table>\n",
       "</div>"
      ],
      "text/plain": [
       "                      From                                          Fullname  \\\n",
       "0    emailconfirm@ebay.com                             emailconfirm@ebay.com   \n",
       "1    aw45-confirm@ebay.com                                         Ebay Team   \n",
       "2       service@paypal.com                        PayPal <service@paypal.com   \n",
       "3  service@intl.paypal.com  service@intl.paypal.com <service@intl.paypal.com   \n",
       "4       service@paypal.com                                service@paypal.com   \n",
       "\n",
       "                          To  \\\n",
       "0                        NaN   \n",
       "1  undisclosed-recipients: ;   \n",
       "2           user@example.com   \n",
       "3           user@example.com   \n",
       "4   undisclosed-recipients:;   \n",
       "\n",
       "                                             Subject  \\\n",
       "0                         eBay account verification!   \n",
       "1             eBay - verify your account information   \n",
       "2             Notification of limited account access   \n",
       "3   ..PayPal Notification..: Update your information   \n",
       "4  We recently noticed one or more attempts to lo...   \n",
       "\n",
       "                                                Body  \\\n",
       "0  Dear eBay User , After fraud complaints from t...   \n",
       "1  Welcome Welcome to a community of sellers that...   \n",
       "2  Dear valued PayPal® member: PayPal® is committ...   \n",
       "3  PayPal You're Billing Information! Dear PayPal...   \n",
       "4  We recently noticed one or more attempts to lo...   \n",
       "\n",
       "                                     Date                    Return_Path  \\\n",
       "0         Thu, 30 Oct 2003 08:52:16 +0200               user@example.com   \n",
       "1          Fri, 1 Jul 2005 17:57:54 -0700          user@mail.example.com   \n",
       "2   Wed, 17 Aug 2005 18:28:02 +0000 (GMT)          user@mail.example.com   \n",
       "3  Thu, 21 Sep 2006 04:46:36 +0200 (CEST)  wwwrun@s2.medienuniversum.com   \n",
       "4         Thu, 21 Sep 2006 05:52:53 +0200             service@paypal.com   \n",
       "\n",
       "             Delivered_to                          Content_type  \\\n",
       "0        user@example.com  text/html;\\n\\tcharset=\"Windows-1251\"   \n",
       "1        user@example.com  text/html;\\n\\tcharset=\"Windows-1251\"   \n",
       "2        user@example.com                             text/html   \n",
       "3  user@login.example.com                             text/html   \n",
       "4  user@login.example.com  text/html;\\n\\tcharset=\"Windows-1251\"   \n",
       "\n",
       "                                          Message_Id  IsEmailPhishing  \n",
       "0             200502211804.NAA02450@mail.example.com                1  \n",
       "1             200507020500.BAA12022@mail.example.com                1  \n",
       "2     20050817182802.703BC84B0A0@asia.ibbmonitor.com                1  \n",
       "3  20060921024636.9C7E3391672@s2.medienuniversum.com                1  \n",
       "4    20060921034817.322E41C00245@mwinf1921.orange.fr                1  "
      ]
     },
     "execution_count": 16,
     "metadata": {},
     "output_type": "execute_result"
    }
   ],
   "source": [
    "df.head(5)"
   ]
  },
  {
   "cell_type": "markdown",
   "id": "6afe3240",
   "metadata": {},
   "source": [
    "After merging the indices of the two merged datasets will be mixed up, because the `phishing` dataset had index from 0-2239 and `valid emails` dataset index 0-2551. Meaning that resulting merged dataset will have index from `0` to `2239` duplicate. So, resetting the index is needed to have sequential index, then after getting a new index, we will drop the mixed up one"
   ]
  },
  {
   "cell_type": "code",
   "execution_count": 17,
   "id": "1d21d3ae",
   "metadata": {},
   "outputs": [],
   "source": [
    "df.reset_index(inplace=True)\n",
    "df=df.drop(columns='index')"
   ]
  },
  {
   "cell_type": "markdown",
   "id": "c9d7bb5f",
   "metadata": {},
   "source": [
    "And we can verify that our new index is sequential by checking the last 5 rows"
   ]
  },
  {
   "cell_type": "code",
   "execution_count": 18,
   "id": "3c9f82b7",
   "metadata": {},
   "outputs": [
    {
     "data": {
      "text/html": [
       "<div>\n",
       "<style scoped>\n",
       "    .dataframe tbody tr th:only-of-type {\n",
       "        vertical-align: middle;\n",
       "    }\n",
       "\n",
       "    .dataframe tbody tr th {\n",
       "        vertical-align: top;\n",
       "    }\n",
       "\n",
       "    .dataframe thead th {\n",
       "        text-align: right;\n",
       "    }\n",
       "</style>\n",
       "<table border=\"1\" class=\"dataframe\">\n",
       "  <thead>\n",
       "    <tr style=\"text-align: right;\">\n",
       "      <th></th>\n",
       "      <th>From</th>\n",
       "      <th>Fullname</th>\n",
       "      <th>To</th>\n",
       "      <th>Subject</th>\n",
       "      <th>Body</th>\n",
       "      <th>Date</th>\n",
       "      <th>Return_Path</th>\n",
       "      <th>Delivered_to</th>\n",
       "      <th>Content_type</th>\n",
       "      <th>Message_Id</th>\n",
       "      <th>IsEmailPhishing</th>\n",
       "    </tr>\n",
       "  </thead>\n",
       "  <tbody>\n",
       "    <tr>\n",
       "      <th>4785</th>\n",
       "      <td>rssfeeds@example.com</td>\n",
       "      <td>newscientist &lt;rssfeeds@example.com</td>\n",
       "      <td>yyyy@example.com</td>\n",
       "      <td>Gene technique reveals human evolution</td>\n",
       "      <td>URL: http://www.newsisfree.com/click/-3,871436...</td>\n",
       "      <td>Thu, 10 Oct 2002 08:04:25 -0000</td>\n",
       "      <td>rssfeeds@example.com</td>\n",
       "      <td>yyyy@localhost.example.com</td>\n",
       "      <td>text/plain; encoding=utf-8</td>\n",
       "      <td>200210100804.g9A84PK14188@dogma.slashnull.org</td>\n",
       "      <td>0</td>\n",
       "    </tr>\n",
       "    <tr>\n",
       "      <th>4786</th>\n",
       "      <td>rssfeeds@example.com</td>\n",
       "      <td>guardian &lt;rssfeeds@example.com</td>\n",
       "      <td>yyyy@example.com</td>\n",
       "      <td>Go-ahead for new-style hospitals</td>\n",
       "      <td>URL: http://www.newsisfree.com/click/-4,872399...</td>\n",
       "      <td>Thu, 10 Oct 2002 08:04:10 -0000</td>\n",
       "      <td>rssfeeds@example.com</td>\n",
       "      <td>yyyy@localhost.example.com</td>\n",
       "      <td>text/plain; encoding=utf-8</td>\n",
       "      <td>200210100804.g9A84AK14152@dogma.slashnull.org</td>\n",
       "      <td>0</td>\n",
       "    </tr>\n",
       "    <tr>\n",
       "      <th>4787</th>\n",
       "      <td>rssfeeds@example.com</td>\n",
       "      <td>newscientist &lt;rssfeeds@example.com</td>\n",
       "      <td>yyyy@example.com</td>\n",
       "      <td>Malicious code hidden in email software</td>\n",
       "      <td>URL: http://www.newsisfree.com/click/-3,871080...</td>\n",
       "      <td>Thu, 10 Oct 2002 08:04:26 -0000</td>\n",
       "      <td>rssfeeds@example.com</td>\n",
       "      <td>yyyy@localhost.example.com</td>\n",
       "      <td>text/plain; encoding=utf-8</td>\n",
       "      <td>200210100804.g9A84QK14191@dogma.slashnull.org</td>\n",
       "      <td>0</td>\n",
       "    </tr>\n",
       "    <tr>\n",
       "      <th>4788</th>\n",
       "      <td>rssfeeds@example.com</td>\n",
       "      <td>guardian &lt;rssfeeds@example.com</td>\n",
       "      <td>yyyy@example.com</td>\n",
       "      <td>'Flexible' retirement gains ground</td>\n",
       "      <td>URL: http://www.newsisfree.com/click/-4,872400...</td>\n",
       "      <td>Thu, 10 Oct 2002 08:04:10 -0000</td>\n",
       "      <td>rssfeeds@example.com</td>\n",
       "      <td>yyyy@localhost.example.com</td>\n",
       "      <td>text/plain; encoding=utf-8</td>\n",
       "      <td>200210100804.g9A84AK14155@dogma.slashnull.org</td>\n",
       "      <td>0</td>\n",
       "    </tr>\n",
       "    <tr>\n",
       "      <th>4789</th>\n",
       "      <td>rssfeeds@example.com</td>\n",
       "      <td>newscientist &lt;rssfeeds@example.com</td>\n",
       "      <td>yyyy@example.com</td>\n",
       "      <td>Critical US satellites could be hacked</td>\n",
       "      <td>URL: http://www.newsisfree.com/click/-3,870882...</td>\n",
       "      <td>Thu, 10 Oct 2002 08:04:26 -0000</td>\n",
       "      <td>rssfeeds@example.com</td>\n",
       "      <td>yyyy@localhost.example.com</td>\n",
       "      <td>text/plain; encoding=utf-8</td>\n",
       "      <td>200210100804.g9A84QK14194@dogma.slashnull.org</td>\n",
       "      <td>0</td>\n",
       "    </tr>\n",
       "  </tbody>\n",
       "</table>\n",
       "</div>"
      ],
      "text/plain": [
       "                      From                            Fullname  \\\n",
       "4785  rssfeeds@example.com  newscientist <rssfeeds@example.com   \n",
       "4786  rssfeeds@example.com      guardian <rssfeeds@example.com   \n",
       "4787  rssfeeds@example.com  newscientist <rssfeeds@example.com   \n",
       "4788  rssfeeds@example.com      guardian <rssfeeds@example.com   \n",
       "4789  rssfeeds@example.com  newscientist <rssfeeds@example.com   \n",
       "\n",
       "                    To                                  Subject  \\\n",
       "4785  yyyy@example.com   Gene technique reveals human evolution   \n",
       "4786  yyyy@example.com         Go-ahead for new-style hospitals   \n",
       "4787  yyyy@example.com  Malicious code hidden in email software   \n",
       "4788  yyyy@example.com       'Flexible' retirement gains ground   \n",
       "4789  yyyy@example.com   Critical US satellites could be hacked   \n",
       "\n",
       "                                                   Body  \\\n",
       "4785  URL: http://www.newsisfree.com/click/-3,871436...   \n",
       "4786  URL: http://www.newsisfree.com/click/-4,872399...   \n",
       "4787  URL: http://www.newsisfree.com/click/-3,871080...   \n",
       "4788  URL: http://www.newsisfree.com/click/-4,872400...   \n",
       "4789  URL: http://www.newsisfree.com/click/-3,870882...   \n",
       "\n",
       "                                 Date           Return_Path  \\\n",
       "4785  Thu, 10 Oct 2002 08:04:25 -0000  rssfeeds@example.com   \n",
       "4786  Thu, 10 Oct 2002 08:04:10 -0000  rssfeeds@example.com   \n",
       "4787  Thu, 10 Oct 2002 08:04:26 -0000  rssfeeds@example.com   \n",
       "4788  Thu, 10 Oct 2002 08:04:10 -0000  rssfeeds@example.com   \n",
       "4789  Thu, 10 Oct 2002 08:04:26 -0000  rssfeeds@example.com   \n",
       "\n",
       "                    Delivered_to                Content_type  \\\n",
       "4785  yyyy@localhost.example.com  text/plain; encoding=utf-8   \n",
       "4786  yyyy@localhost.example.com  text/plain; encoding=utf-8   \n",
       "4787  yyyy@localhost.example.com  text/plain; encoding=utf-8   \n",
       "4788  yyyy@localhost.example.com  text/plain; encoding=utf-8   \n",
       "4789  yyyy@localhost.example.com  text/plain; encoding=utf-8   \n",
       "\n",
       "                                         Message_Id  IsEmailPhishing  \n",
       "4785  200210100804.g9A84PK14188@dogma.slashnull.org                0  \n",
       "4786  200210100804.g9A84AK14152@dogma.slashnull.org                0  \n",
       "4787  200210100804.g9A84QK14191@dogma.slashnull.org                0  \n",
       "4788  200210100804.g9A84AK14155@dogma.slashnull.org                0  \n",
       "4789  200210100804.g9A84QK14194@dogma.slashnull.org                0  "
      ]
     },
     "execution_count": 18,
     "metadata": {},
     "output_type": "execute_result"
    }
   ],
   "source": [
    "df.tail()"
   ]
  },
  {
   "cell_type": "markdown",
   "id": "6c0056ed",
   "metadata": {},
   "source": [
    "Let's recheck the sumary of the whole dataset after merging. Now we can see that we still have some missing values. Let's start `Feature Selection` process during which we will decide if a column can be considered in our analysis. "
   ]
  },
  {
   "cell_type": "code",
   "execution_count": 19,
   "id": "1200be71",
   "metadata": {},
   "outputs": [
    {
     "name": "stdout",
     "output_type": "stream",
     "text": [
      "<class 'pandas.core.frame.DataFrame'>\n",
      "RangeIndex: 4790 entries, 0 to 4789\n",
      "Data columns (total 11 columns):\n",
      " #   Column           Non-Null Count  Dtype \n",
      "---  ------           --------------  ----- \n",
      " 0   From             4790 non-null   object\n",
      " 1   Fullname         4771 non-null   object\n",
      " 2   To               4632 non-null   object\n",
      " 3   Subject          4770 non-null   object\n",
      " 4   Body             4764 non-null   object\n",
      " 5   Date             4790 non-null   object\n",
      " 6   Return_Path      4790 non-null   object\n",
      " 7   Delivered_to     4655 non-null   object\n",
      " 8   Content_type     4363 non-null   object\n",
      " 9   Message_Id       4790 non-null   object\n",
      " 10  IsEmailPhishing  4790 non-null   int64 \n",
      "dtypes: int64(1), object(10)\n",
      "memory usage: 411.8+ KB\n"
     ]
    }
   ],
   "source": [
    "df.info()"
   ]
  },
  {
   "cell_type": "markdown",
   "id": "d19c95bc",
   "metadata": {},
   "source": [
    "### 💡 Feature selection\n",
    "\n",
    "Since for analyzing phishing emails big focus is on the sender of email than the recipient, the columns `To` and `Delivered_to` are less relevant and will not have much added value on our analysis. The same apply to `Fullname`,`Message_Id`,`date` and `Return_Path` columns. `From` column can have added value in this analyzis, however, it will not be considered for this iteration.\n",
    "\n",
    "The most relevant columns are `Subject`and `Body` since they contains words that will be tokenized and turned to features\n",
    "\n",
    "Let's fill missing values with `None` on `Subject` and `Body` features"
   ]
  },
  {
   "cell_type": "code",
   "execution_count": 20,
   "id": "326b886c",
   "metadata": {},
   "outputs": [],
   "source": [
    "df['Subject'].fillna('None', inplace=True)\n",
    "df['Body'].fillna('None', inplace=True)"
   ]
  },
  {
   "cell_type": "markdown",
   "id": "9cf15383",
   "metadata": {},
   "source": [
    "###### Leaving out non-used columns"
   ]
  },
  {
   "cell_type": "markdown",
   "id": "60530a5e",
   "metadata": {},
   "source": [
    "Let's merge `Subject` text with `Body` columns in a new column `email_text`since both represent the text of an email.\n",
    "\n",
    "Getting a subset of our dataframe by taking only `email_text` and our target value `IsEmailPhishing` and create a new dataframe `emailText_with_type` and view first 5 rows."
   ]
  },
  {
   "cell_type": "code",
   "execution_count": 21,
   "id": "eb208680",
   "metadata": {},
   "outputs": [
    {
     "data": {
      "text/html": [
       "<div>\n",
       "<style scoped>\n",
       "    .dataframe tbody tr th:only-of-type {\n",
       "        vertical-align: middle;\n",
       "    }\n",
       "\n",
       "    .dataframe tbody tr th {\n",
       "        vertical-align: top;\n",
       "    }\n",
       "\n",
       "    .dataframe thead th {\n",
       "        text-align: right;\n",
       "    }\n",
       "</style>\n",
       "<table border=\"1\" class=\"dataframe\">\n",
       "  <thead>\n",
       "    <tr style=\"text-align: right;\">\n",
       "      <th></th>\n",
       "      <th>email_text</th>\n",
       "      <th>IsEmailPhishing</th>\n",
       "    </tr>\n",
       "  </thead>\n",
       "  <tbody>\n",
       "    <tr>\n",
       "      <th>0</th>\n",
       "      <td>eBay account verification! Dear eBay User , Af...</td>\n",
       "      <td>1</td>\n",
       "    </tr>\n",
       "    <tr>\n",
       "      <th>1</th>\n",
       "      <td>eBay - verify your account information Welcome...</td>\n",
       "      <td>1</td>\n",
       "    </tr>\n",
       "    <tr>\n",
       "      <th>2</th>\n",
       "      <td>Notification of limited account access Dear va...</td>\n",
       "      <td>1</td>\n",
       "    </tr>\n",
       "    <tr>\n",
       "      <th>3</th>\n",
       "      <td>..PayPal Notification..: Update your informati...</td>\n",
       "      <td>1</td>\n",
       "    </tr>\n",
       "    <tr>\n",
       "      <th>4</th>\n",
       "      <td>We recently noticed one or more attempts to lo...</td>\n",
       "      <td>1</td>\n",
       "    </tr>\n",
       "  </tbody>\n",
       "</table>\n",
       "</div>"
      ],
      "text/plain": [
       "                                          email_text  IsEmailPhishing\n",
       "0  eBay account verification! Dear eBay User , Af...                1\n",
       "1  eBay - verify your account information Welcome...                1\n",
       "2  Notification of limited account access Dear va...                1\n",
       "3  ..PayPal Notification..: Update your informati...                1\n",
       "4  We recently noticed one or more attempts to lo...                1"
      ]
     },
     "execution_count": 21,
     "metadata": {},
     "output_type": "execute_result"
    }
   ],
   "source": [
    "emailText_with_type=df[['Subject','Body','IsEmailPhishing']]\n",
    "emailText_with_type['email_text']=df['Subject'] + ' ' + df['Body']\n",
    "emailText_with_type=emailText_with_type[['email_text','IsEmailPhishing']]\n",
    "emailText_with_type.head()"
   ]
  },
  {
   "cell_type": "markdown",
   "id": "f9e97f0d",
   "metadata": {},
   "source": [
    "##### Tokenization and stemming"
   ]
  },
  {
   "cell_type": "markdown",
   "id": "1b747574",
   "metadata": {},
   "source": [
    "For this Iteration, I will only consider the columns `Body` and `Subject` merged as `email_text` for the analysis.\n",
    "For that I will perform tokenization together with Stemming of the email text using NLTK pre processing. Within the function `text_processing`, I am using regex library to remove all ponctuations. \n",
    "\n",
    "Ref: GeeksforGeeks. (2023, May 16). Removing stop words with NLTK in Python. https://www.geeksforgeeks.org/removing-stop-words-nltk-python/\n"
   ]
  },
  {
   "cell_type": "code",
   "execution_count": 22,
   "id": "896b9a52",
   "metadata": {},
   "outputs": [],
   "source": [
    "from nltk.corpus import stopwords"
   ]
  },
  {
   "cell_type": "code",
   "execution_count": 23,
   "id": "83537583",
   "metadata": {},
   "outputs": [],
   "source": [
    "from nltk.stem import PorterStemmer\n",
    "from nltk.tokenize import sent_tokenize, word_tokenize\n",
    "\n",
    "ps = PorterStemmer()\n",
    "\n",
    "stop_words = set(stopwords.words('english'))\n",
    " \n",
    "# extracting only sequence of letters and numbers from the text, converts the words in word_tokens to lower case and then checks whether\n",
    "#they are present in stop_words or not, return tokens without stopwords in a list of words\n",
    "def text_preprocessing(dataset):\n",
    "    tokens_list=[]\n",
    "    for i in range(0,len(dataset)):\n",
    "        text=re.sub('[^a-zA-Z0-9]',' ',dataset['email_text'][i])\n",
    "        text=text.lower()\n",
    "        text=text.split()\n",
    "        text=[ps.stem(w) for w in text if not w in stop_words]\n",
    "        text =' '.join(text)\n",
    "        tokens_list.append(text)\n",
    "    return tokens_list"
   ]
  },
  {
   "cell_type": "markdown",
   "id": "654f029f",
   "metadata": {},
   "source": [
    "### Text processing using NLTK"
   ]
  },
  {
   "cell_type": "code",
   "execution_count": 25,
   "id": "57332f23",
   "metadata": {},
   "outputs": [],
   "source": [
    "email_words=text_preprocessing(emailText_with_type)\n",
    "emailText_with_type['email_words']=email_words"
   ]
  },
  {
   "cell_type": "code",
   "execution_count": 26,
   "id": "fef2f46b",
   "metadata": {},
   "outputs": [
    {
     "data": {
      "text/html": [
       "<div>\n",
       "<style scoped>\n",
       "    .dataframe tbody tr th:only-of-type {\n",
       "        vertical-align: middle;\n",
       "    }\n",
       "\n",
       "    .dataframe tbody tr th {\n",
       "        vertical-align: top;\n",
       "    }\n",
       "\n",
       "    .dataframe thead th {\n",
       "        text-align: right;\n",
       "    }\n",
       "</style>\n",
       "<table border=\"1\" class=\"dataframe\">\n",
       "  <thead>\n",
       "    <tr style=\"text-align: right;\">\n",
       "      <th></th>\n",
       "      <th>email_text</th>\n",
       "      <th>IsEmailPhishing</th>\n",
       "      <th>email_words</th>\n",
       "    </tr>\n",
       "  </thead>\n",
       "  <tbody>\n",
       "    <tr>\n",
       "      <th>540</th>\n",
       "      <td>Notification of Limited Account Access Februar...</td>\n",
       "      <td>1</td>\n",
       "      <td>notif limit account access februari 2007 paypa...</td>\n",
       "    </tr>\n",
       "    <tr>\n",
       "      <th>4536</th>\n",
       "      <td>Distributed.net cracks the RC5-64 cipher URL: ...</td>\n",
       "      <td>0</td>\n",
       "      <td>distribut net crack rc5 64 cipher url http boi...</td>\n",
       "    </tr>\n",
       "    <tr>\n",
       "      <th>2784</th>\n",
       "      <td>RE: Selling Wedded Bliss (was Re: Ouch...) Hah...</td>\n",
       "      <td>0</td>\n",
       "      <td>sell wed bliss ouch hah guess want everyon kno...</td>\n",
       "    </tr>\n",
       "    <tr>\n",
       "      <th>3727</th>\n",
       "      <td>Re: [SAtalk] Tru64 compile of SA On Thu, 29 Au...</td>\n",
       "      <td>0</td>\n",
       "      <td>satalk tru64 compil sa thu 29 aug 2002 rick be...</td>\n",
       "    </tr>\n",
       "    <tr>\n",
       "      <th>853</th>\n",
       "      <td>BoA: instructions for customer [, ]</td>\n",
       "      <td>1</td>\n",
       "      <td>boa instruct custom</td>\n",
       "    </tr>\n",
       "  </tbody>\n",
       "</table>\n",
       "</div>"
      ],
      "text/plain": [
       "                                             email_text  IsEmailPhishing  \\\n",
       "540   Notification of Limited Account Access Februar...                1   \n",
       "4536  Distributed.net cracks the RC5-64 cipher URL: ...                0   \n",
       "2784  RE: Selling Wedded Bliss (was Re: Ouch...) Hah...                0   \n",
       "3727  Re: [SAtalk] Tru64 compile of SA On Thu, 29 Au...                0   \n",
       "853                 BoA: instructions for customer [, ]                1   \n",
       "\n",
       "                                            email_words  \n",
       "540   notif limit account access februari 2007 paypa...  \n",
       "4536  distribut net crack rc5 64 cipher url http boi...  \n",
       "2784  sell wed bliss ouch hah guess want everyon kno...  \n",
       "3727  satalk tru64 compil sa thu 29 aug 2002 rick be...  \n",
       "853                                 boa instruct custom  "
      ]
     },
     "execution_count": 26,
     "metadata": {},
     "output_type": "execute_result"
    }
   ],
   "source": [
    "emailText_with_type.sample(5)"
   ]
  },
  {
   "cell_type": "markdown",
   "id": "69a5c77b",
   "metadata": {},
   "source": [
    "##### Data Shuffling"
   ]
  },
  {
   "cell_type": "markdown",
   "id": "405de2c7",
   "metadata": {},
   "source": [
    "Now since our dataset is ordered starting with phishing emails and ends with valid emails. To avoid that splitting our dataset may be unbalanced, I will shuffle the dataset using the `sample` function and save the shuffled dataset in a new variable. Then will reoder the columns so we have the target variable as a last column and reset the index.\n",
    "\n",
    "During my reading I understood that Random Forest Classification model shuffles data during training, maybe this step is not needed, but I am not sure."
   ]
  },
  {
   "cell_type": "code",
   "execution_count": 27,
   "id": "cf09df20",
   "metadata": {},
   "outputs": [],
   "source": [
    "emailText_with_type= emailText_with_type.sample(frac=1)"
   ]
  },
  {
   "cell_type": "code",
   "execution_count": 28,
   "id": "3b29693c",
   "metadata": {},
   "outputs": [],
   "source": [
    "emailText_with_type=emailText_with_type.reset_index(drop=True)"
   ]
  },
  {
   "cell_type": "markdown",
   "id": "f98b5f53",
   "metadata": {},
   "source": [
    "Changing order of the columns making the target column last and drop the `email_text` since we have a corpus column `email_wors`\n",
    "\n",
    "Ref: How to change the order of DataFrame columns? (n.d.). Stack Overflow. https://stackoverflow.com/questions/13148429/how-to-change-the-order-of-dataframe-columns"
   ]
  },
  {
   "cell_type": "code",
   "execution_count": 29,
   "id": "8a8578a6",
   "metadata": {},
   "outputs": [],
   "source": [
    "\n",
    "cols = emailText_with_type.columns.tolist()\n",
    "cols = cols[-1:] + cols[:-1]\n",
    "emailText_with_type=emailText_with_type[cols]"
   ]
  },
  {
   "cell_type": "code",
   "execution_count": 30,
   "id": "c5a5396b",
   "metadata": {},
   "outputs": [],
   "source": [
    "emailText_with_type=emailText_with_type.drop(columns='email_text')"
   ]
  },
  {
   "cell_type": "code",
   "execution_count": 31,
   "id": "0f66e507",
   "metadata": {},
   "outputs": [
    {
     "data": {
      "text/html": [
       "<div>\n",
       "<style scoped>\n",
       "    .dataframe tbody tr th:only-of-type {\n",
       "        vertical-align: middle;\n",
       "    }\n",
       "\n",
       "    .dataframe tbody tr th {\n",
       "        vertical-align: top;\n",
       "    }\n",
       "\n",
       "    .dataframe thead th {\n",
       "        text-align: right;\n",
       "    }\n",
       "</style>\n",
       "<table border=\"1\" class=\"dataframe\">\n",
       "  <thead>\n",
       "    <tr style=\"text-align: right;\">\n",
       "      <th></th>\n",
       "      <th>email_words</th>\n",
       "      <th>IsEmailPhishing</th>\n",
       "    </tr>\n",
       "  </thead>\n",
       "  <tbody>\n",
       "    <tr>\n",
       "      <th>0</th>\n",
       "      <td>sadev live rule updat releas ye great mind thi...</td>\n",
       "      <td>0</td>\n",
       "    </tr>\n",
       "    <tr>\n",
       "      <th>1</th>\n",
       "      <td>wifi progress well look pretti much 99 sure mo...</td>\n",
       "      <td>0</td>\n",
       "    </tr>\n",
       "    <tr>\n",
       "      <th>2</th>\n",
       "      <td>paypal account review depart recent notic one ...</td>\n",
       "      <td>1</td>\n",
       "    </tr>\n",
       "    <tr>\n",
       "      <th>3</th>\n",
       "      <td>import notic dear lasal bank custom dear lasal...</td>\n",
       "      <td>1</td>\n",
       "    </tr>\n",
       "    <tr>\n",
       "      <th>4</th>\n",
       "      <td>import notic fifth third bank</td>\n",
       "      <td>1</td>\n",
       "    </tr>\n",
       "  </tbody>\n",
       "</table>\n",
       "</div>"
      ],
      "text/plain": [
       "                                         email_words  IsEmailPhishing\n",
       "0  sadev live rule updat releas ye great mind thi...                0\n",
       "1  wifi progress well look pretti much 99 sure mo...                0\n",
       "2  paypal account review depart recent notic one ...                1\n",
       "3  import notic dear lasal bank custom dear lasal...                1\n",
       "4                      import notic fifth third bank                1"
      ]
     },
     "execution_count": 31,
     "metadata": {},
     "output_type": "execute_result"
    }
   ],
   "source": [
    "emailText_with_type.head()"
   ]
  },
  {
   "cell_type": "markdown",
   "id": "fc82e5ba",
   "metadata": {},
   "source": [
    "Assigning feature and target to variables"
   ]
  },
  {
   "cell_type": "code",
   "execution_count": 32,
   "id": "e28e6ad8",
   "metadata": {},
   "outputs": [],
   "source": [
    "X = emailText_with_type['email_words']\n",
    "y = emailText_with_type['IsEmailPhishing']"
   ]
  },
  {
   "cell_type": "markdown",
   "id": "e0e5c960",
   "metadata": {},
   "source": [
    "### 🪓 Splitting into train/test"
   ]
  },
  {
   "cell_type": "markdown",
   "id": "41247cdd",
   "metadata": {},
   "source": [
    "After assigning the feature and target to X and Y variables, I am going to split the train and test data. As per examples in class, I am using 20% for test data and 80% for train data. I also choose random_state of 80."
   ]
  },
  {
   "cell_type": "code",
   "execution_count": 33,
   "id": "721ad4b8",
   "metadata": {},
   "outputs": [
    {
     "name": "stdout",
     "output_type": "stream",
     "text": [
      "There are in total 4790 observations, of which 3832 are now in the train set, and 958 in the test set.\n"
     ]
    }
   ],
   "source": [
    "from sklearn.model_selection import train_test_split\n",
    "X_train, X_test, y_train, y_test = train_test_split(X, y, test_size=0.2, random_state=80)\n",
    "print(\"There are in total\", len(X), \"observations, of which\", len(X_train), \"are now in the train set, and\", len(X_test), \"in the test set.\")"
   ]
  },
  {
   "cell_type": "markdown",
   "id": "daf25c06",
   "metadata": {},
   "source": [
    "# 🧬 Modelling\n",
    "In this step only the train set is used to fit the model, which in this case uses a Random forest Classifier algorithm for classification named sklearn.ensemble. Ref: RandomForestClassifier. (n.d.-b). Scikit-learn. https://scikitlearn.org/stable/modules/generated/sklearn.ensemble.RandomForestClassifier.html And after that the test set is used to calculate the model's accuracy, in other words how well it performs. Accuracy is a fraction where any value closer to 1 is considered better, and 1 itself (100% accurate) is usually impossible.\n",
    "\n",
    "Since NLP doesn't understand textual data, the words need some how to be encorded in numbers. Here I am using CountVectorizer to encode our email texts(tokens) to a vector based on the count of each word that occurs in an email. Ref: Prashantrajkaggle. (2023, July 4). Spam message classification with NLP. Kaggle. https://www.kaggle.com/code/prashantrajkaggle/spam-message-classification-with-nlp/notebook\n",
    "\n"
   ]
  },
  {
   "cell_type": "code",
   "execution_count": 34,
   "id": "ab89edb6",
   "metadata": {},
   "outputs": [],
   "source": [
    "from sklearn.feature_extraction.text import CountVectorizer\n",
    "cv=CountVectorizer(max_features=2000,ngram_range=(1,2))\n",
    "X_train=cv.fit_transform(X_train).toarray()"
   ]
  },
  {
   "cell_type": "code",
   "execution_count": 35,
   "id": "c832967c",
   "metadata": {},
   "outputs": [],
   "source": [
    "X_test=cv.transform(X_test).toarray()"
   ]
  },
  {
   "cell_type": "code",
   "execution_count": 36,
   "id": "1bd0136f",
   "metadata": {},
   "outputs": [],
   "source": [
    "from sklearn.ensemble import RandomForestClassifier\n",
    "classifier=RandomForestClassifier().fit(X_train,y_train)"
   ]
  },
  {
   "cell_type": "code",
   "execution_count": 37,
   "id": "fa3f7bda",
   "metadata": {},
   "outputs": [],
   "source": [
    "y_pred=classifier.predict(X_test)\n",
    "                              "
   ]
  },
  {
   "cell_type": "code",
   "execution_count": 38,
   "id": "024d4ac6",
   "metadata": {},
   "outputs": [
    {
     "data": {
      "text/plain": [
       "0.9895615866388309"
      ]
     },
     "execution_count": 38,
     "metadata": {},
     "output_type": "execute_result"
    }
   ],
   "source": [
    "from sklearn.metrics import classification_report,accuracy_score,confusion_matrix\n",
    "\n",
    "accuracy_score(y_test,y_pred)"
   ]
  },
  {
   "cell_type": "code",
   "execution_count": 39,
   "id": "620fa81c",
   "metadata": {},
   "outputs": [
    {
     "data": {
      "text/plain": [
       "array([[482,   5],\n",
       "       [  5, 466]], dtype=int64)"
      ]
     },
     "execution_count": 39,
     "metadata": {},
     "output_type": "execute_result"
    }
   ],
   "source": [
    "confusion_matrix(y_test,y_pred)"
   ]
  },
  {
   "cell_type": "markdown",
   "id": "25c9e1a7",
   "metadata": {},
   "source": [
    "# 🔬 Evaluation\n",
    "\n",
    "Looking at the accuracy score we see that this model perform very well as it is predicting with almost 99% accuracy. We have some hyperparameters `max_features` and `ngram_range` used in the CountVectorizer that may playing a role in the performance of this model. However, myself I am not able to explain them at the moment(More reading needed). I got idea on this `Modeling` part from Prashantrajkaggle. Ref: Prashantrajkaggle. (2023, July 4). Spam message classification with NLP. Kaggle. https://www.kaggle.com/code/prashantrajkaggle/spam-message-classification-with-nlp/notebook"
   ]
  },
  {
   "cell_type": "code",
   "execution_count": 40,
   "id": "847d96a6",
   "metadata": {},
   "outputs": [
    {
     "name": "stdout",
     "output_type": "stream",
     "text": [
      "              precision    recall  f1-score   support\n",
      "\n",
      "           0       0.99      0.99      0.99       487\n",
      "           1       0.99      0.99      0.99       471\n",
      "\n",
      "    accuracy                           0.99       958\n",
      "   macro avg       0.99      0.99      0.99       958\n",
      "weighted avg       0.99      0.99      0.99       958\n",
      "\n"
     ]
    }
   ],
   "source": [
    "print(classification_report(y_test,y_pred))"
   ]
  },
  {
   "cell_type": "code",
   "execution_count": null,
   "id": "c265e17b",
   "metadata": {},
   "outputs": [],
   "source": []
  },
  {
   "cell_type": "code",
   "execution_count": null,
   "id": "99d36367",
   "metadata": {},
   "outputs": [],
   "source": []
  }
 ],
 "metadata": {
  "kernelspec": {
   "display_name": "Python 3 (ipykernel)",
   "language": "python",
   "name": "python3"
  },
  "language_info": {
   "codemirror_mode": {
    "name": "ipython",
    "version": 3
   },
   "file_extension": ".py",
   "mimetype": "text/x-python",
   "name": "python",
   "nbconvert_exporter": "python",
   "pygments_lexer": "ipython3",
   "version": "3.11.4"
  }
 },
 "nbformat": 4,
 "nbformat_minor": 5
}
