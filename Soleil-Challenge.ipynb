{
 "cells": [
  {
   "cell_type": "markdown",
   "id": "710c6e7b",
   "metadata": {},
   "source": [
    " \n",
    "\n",
    "\n",
    "- *Umwiza, Soleil S.*\n",
    "- *Student number: 4386019*\n",
    "--------------------------------------\n",
    "\n",
    "## Phase 1: Proposal\n",
    "\n",
    "\n",
    "\n",
    "####  phishing Email\n",
    "\n",
    "What Is Phishing Email? \n",
    "\n",
    "Phishing is a form of cyberattack where attackers attempt to trick individuals and organisations into revealing sensitive information, such as login credentials or financial details, by impersonating a trustworthy entity via electronic communication, typically email. The attacker often manipulates the victim’s emotions or uses a sense of urgency to achieve their goals.\n",
    "\n",
    "\n",
    "## 🟡 Domain understanding\n",
    "\n",
    "\n",
    "\n",
    "#### **What?**\n",
    "\n",
    "*What is the main goal of this project?*\n",
    "\n",
    "I want to implement a model that will detect phishing emails automatically without human intervention.\n",
    "\n",
    "\n",
    "\n",
    "#### **Why**\n",
    "*Why is this project important?*\n",
    "\n",
    "With the development of technology, emails are widely used in business, professional, and social communication. Criminals also see this as an opportunity to steal people's money or access personal information and use them in their criminal activities.\n",
    "\n",
    "Unfortunately, not everyone is able to recognize a phishing email just by looking at it. People are still being victims of phishing emails and other online criminalities. Because of this issue, having a system that will detect phishing emails and flag them will help users of emails recognize those unwanted emails and prevent the damage this can cause to email users.\n",
    "\n",
    "#### **Who**\n",
    "*Who will benefit from the results of this project?*\n",
    "\n",
    "This model will benefit the following stakeholders:\n",
    " Companies/Institutions that use emails in their work or business will benefit from this system because it will protect their business and the data of their employees and clients\n",
    "Normal users of email are the main target of phishing therefore will benefit from this system.\n",
    "Email providers have the responsibility of protecting their client's data, therefore this system will be beneficial for them\n",
    "\n",
    "\n",
    "#### **When**\n",
    "*When will you deliver this projetc?*\n",
    "\n",
    "For this project, I am using the Jira software as a tool for my planning and progress of increments. I create use stories to work on during a sprint and for each Sprint I set its goal. Below is the screenshot of my sprint.\n",
    "\n",
    "\n",
    "\n",
    "This project will consist of 2 iterations of challenge 1. The masterpiece challenge will be delivered on the 26th of November.\n",
    "\n",
    "#### **How**\n",
    "*How will the project achieve its objectives?* \n",
    "\n",
    "For this project, I will need the dataset to train and test my model. The data required are sample emails with their types. For Cleaning, processing, and analyzing the dataset, Python will be used as a programming language and Jupyter Notebook will be used as a development environment. \n",
    "Dataset: The dataset that will be used in this project is publicly available on Kaggle. The dataset is composed of 18650 rows and 2 columns(Email body and Email type).\n",
    "Machine Learning Algorithm: Since the expected outcome of this project is a model that will classify incoming emails, Classification will be a suitable algorithm to use in this project.\n",
    "\n",
    "\n",
    "### 🟡 Data Sourcing\n",
    "\n",
    "\n",
    "Define Objectives: \n",
    "\n",
    "-To implement a machine learning model for emails that predicts whether an email is phishing or safe.\n",
    "\n",
    "Data Requirements: Determine the data requirements:\n",
    "- Text data: Email body.\n",
    "- Labels: Each email needs to be flagged as phishing or safe\n",
    "Data Sources: Identify potential data sources:\n",
    "\n",
    "- Publicly available datasets: The data is available publicly on the Kaggle website, and can be downloaded freely\n",
    "\n",
    "Data Legality and Ethics:\n",
    "- Use only publicly available data or data with appropriate licenses.\n",
    "- Data used should not contain personal details or any sensitive data\n",
    "\n",
    "Data Diversity: \n",
    "- For analyzing phishing emails, any source email provider can be used as long as it is publicly available or has an appropriate license\n",
    "\n",
    "Version Control: \n",
    "\n",
    " -GitHub will be used to track all changes that will be performed during preprocessing, this will help to revert changes as needed.\n",
    " \n",
    "Iterative Process:\n",
    "- Continuously monitor the model's performance and gather feedback.\n",
    "- If the model is not performing well, consider reevaluating and updating the data sources.\n",
    "\n",
    "\n",
    "\n",
    "\n",
    "\n",
    "I have found a number of datasets from Kaggle  which will enable me to bring my challenge to a successful conclusion. The datasets are as follows:\n",
    "\n",
    "- **phishing.csv** : This dataset is  contains all the the phishing email\n",
    "- **data_extracted_easy_ham.csv** :This one contains all safe email\n",
    "\n",
    "> The data is available publicly on the Kaggle website, and can be downloaded freely\n",
    ": phishing_&_ham_emails. (2023, March 23). Kaggle. https://www.kaggle.com/datasets/mohamedouledhamed/phishing-and-ham-emails\n",
    "\n",
    "\n",
    "\n",
    "### 🟡 Analytic Approach\n",
    "\n",
    "\n",
    "Since the expected outcome of this project is a model that will classify incoming emails as phishing or safe, Classification will be a suitable algorithm to use in this project.\n",
    "\n",
    "\n",
    "\n",
    "\n",
    "\n",
    "\n",
    "\n"
   ]
  },
  {
   "cell_type": "markdown",
   "id": "c973dc29",
   "metadata": {},
   "source": [
    "# Phase 2:   📦 Data Provisioning \n",
    "\n",
    "## Data requirements \n",
    "## Data collection"
   ]
  },
  {
   "cell_type": "code",
   "execution_count": 1,
   "id": "523eba9a",
   "metadata": {},
   "outputs": [
    {
     "name": "stdout",
     "output_type": "stream",
     "text": [
      "scikit-learn version: 1.3.0\n",
      "pandas version: 1.5.3\n",
      "seaborn version: 0.12.2\n",
      "(2239, 12)\n",
      "(2551, 12)\n"
     ]
    },
    {
     "name": "stderr",
     "output_type": "stream",
     "text": [
      "[nltk_data] Downloading package stopwords to\n",
      "[nltk_data]     C:\\Users\\csten\\AppData\\Roaming\\nltk_data...\n",
      "[nltk_data]   Package stopwords is already up-to-date!\n"
     ]
    }
   ],
   "source": [
    "import re\n",
    "import sklearn\n",
    "import pandas as pd\n",
    "import numpy as np\n",
    "import matplotlib.pyplot as plt\n",
    "import seaborn as sns\n",
    "import nltk\n",
    "nltk.download('stopwords')\n",
    "import warnings\n",
    "pd.set_option(\"max_colwidth\", 200)\n",
    "pd.set_option(\"display.float_format\", '{:.2f}'.format)\n",
    "\n",
    "\n",
    "warnings.filterwarnings('ignore')\n",
    "\n",
    "\n",
    "\n",
    "print(\"scikit-learn version:\", sklearn.__version__)     # 1.1.3\n",
    "print(\"pandas version:\", pd.__version__)            # 1.5.1\n",
    "print(\"seaborn version:\", sns.__version__)   \n",
    "\n",
    "df1 = pd.read_csv(\"phishing.csv\", index_col=0)\n",
    "df2= pd.read_csv(\"data_extracted_easy_ham.csv\", index_col=0)\n",
    "\n",
    "print(df1.shape)\n",
    "print(df2.shape)\n",
    "\n"
   ]
  },
  {
   "cell_type": "markdown",
   "id": "045e47f3",
   "metadata": {},
   "source": [
    "## Data understanding"
   ]
  },
  {
   "cell_type": "markdown",
   "id": "e41df9f1",
   "metadata": {},
   "source": [
    "As it is mentioned in the introduction, the datasets are downloaded from [Kaggle Phishing and ham emails](https://www.kaggle.com/datasets/mohamedouledhamed/phishing-and-ham-emails). I have 2 datasets, one for `phishing emails` which i call `df1` and the other for `Valid/safe emails` which i call `df2`. Below I am reading both datasets and print their shapes, we can see that they have the same number of columns/features."
   ]
  },
  {
   "cell_type": "markdown",
   "id": "56044ab7",
   "metadata": {},
   "source": [
    "The first thing i did was globally looking at the data. i first did that by printing the data info."
   ]
  },
  {
   "cell_type": "code",
   "execution_count": 2,
   "id": "d5d4b85b",
   "metadata": {},
   "outputs": [
    {
     "name": "stdout",
     "output_type": "stream",
     "text": [
      "<class 'pandas.core.frame.DataFrame'>\n",
      "Index: 2239 entries, emailconfirm@ebay.com to account@paypal.com\n",
      "Data columns (total 12 columns):\n",
      " #   Column          Non-Null Count  Dtype  \n",
      "---  ------          --------------  -----  \n",
      " 0   Fullname        2236 non-null   object \n",
      " 1   To              2234 non-null   object \n",
      " 2   Subject         2219 non-null   object \n",
      " 3   Body            2213 non-null   object \n",
      " 4   Date            2239 non-null   object \n",
      " 5   IP              1404 non-null   object \n",
      " 6   Return_Path     2239 non-null   object \n",
      " 7   Delivered_to    2239 non-null   object \n",
      " 8   Content_type    2213 non-null   object \n",
      " 9   Message_Id      2239 non-null   object \n",
      " 10  X_uid           1816 non-null   float64\n",
      " 11  Content_Length  699 non-null    float64\n",
      "dtypes: float64(2), object(10)\n",
      "memory usage: 227.4+ KB\n"
     ]
    }
   ],
   "source": [
    "df1.info()"
   ]
  },
  {
   "cell_type": "code",
   "execution_count": 3,
   "id": "d206d56d",
   "metadata": {},
   "outputs": [
    {
     "name": "stdout",
     "output_type": "stream",
     "text": [
      "<class 'pandas.core.frame.DataFrame'>\n",
      "Index: 2551 entries, kre@munnari.OZ.AU to rssfeeds@example.com\n",
      "Data columns (total 12 columns):\n",
      " #   Column          Non-Null Count  Dtype  \n",
      "---  ------          --------------  -----  \n",
      " 0   Fullname        2535 non-null   object \n",
      " 1   To              2398 non-null   object \n",
      " 2   Subject         2551 non-null   object \n",
      " 3   Body            2551 non-null   object \n",
      " 4   Date            2551 non-null   object \n",
      " 5   IP              1703 non-null   object \n",
      " 6   Return_Path     2551 non-null   object \n",
      " 7   Delivered_to    2416 non-null   object \n",
      " 8   Content_type    2150 non-null   object \n",
      " 9   Message_Id      2551 non-null   object \n",
      " 10  X_uid           0 non-null      float64\n",
      " 11  Content_Length  0 non-null      float64\n",
      "dtypes: float64(2), object(10)\n",
      "memory usage: 259.1+ KB\n"
     ]
    }
   ],
   "source": [
    "df2.info()"
   ]
  },
  {
   "cell_type": "markdown",
   "id": "13448c1e",
   "metadata": {},
   "source": [
    "## Data Preparation"
   ]
  },
  {
   "cell_type": "markdown",
   "id": "d22a3067",
   "metadata": {},
   "source": [
    "### 📃 Sample the data"
   ]
  },
  {
   "cell_type": "markdown",
   "id": "e2c9cd4d",
   "metadata": {},
   "source": [
    "Below I am viewing both datasets to have an impression of the data and see if indeed the columns names matches. For that I am printing 5 random rows."
   ]
  },
  {
   "cell_type": "code",
   "execution_count": 4,
   "id": "1b9e7dea",
   "metadata": {},
   "outputs": [
    {
     "data": {
      "text/html": [
       "<div>\n",
       "<style scoped>\n",
       "    .dataframe tbody tr th:only-of-type {\n",
       "        vertical-align: middle;\n",
       "    }\n",
       "\n",
       "    .dataframe tbody tr th {\n",
       "        vertical-align: top;\n",
       "    }\n",
       "\n",
       "    .dataframe thead th {\n",
       "        text-align: right;\n",
       "    }\n",
       "</style>\n",
       "<table border=\"1\" class=\"dataframe\">\n",
       "  <thead>\n",
       "    <tr style=\"text-align: right;\">\n",
       "      <th></th>\n",
       "      <th>Fullname</th>\n",
       "      <th>To</th>\n",
       "      <th>Subject</th>\n",
       "      <th>Body</th>\n",
       "      <th>Date</th>\n",
       "      <th>IP</th>\n",
       "      <th>Return_Path</th>\n",
       "      <th>Delivered_to</th>\n",
       "      <th>Content_type</th>\n",
       "      <th>Message_Id</th>\n",
       "      <th>X_uid</th>\n",
       "      <th>Content_Length</th>\n",
       "    </tr>\n",
       "    <tr>\n",
       "      <th>From</th>\n",
       "      <th></th>\n",
       "      <th></th>\n",
       "      <th></th>\n",
       "      <th></th>\n",
       "      <th></th>\n",
       "      <th></th>\n",
       "      <th></th>\n",
       "      <th></th>\n",
       "      <th></th>\n",
       "      <th></th>\n",
       "      <th></th>\n",
       "      <th></th>\n",
       "    </tr>\n",
       "  </thead>\n",
       "  <tbody>\n",
       "    <tr>\n",
       "      <th>member@ebay.com</th>\n",
       "      <td>eBay Member yosdude72</td>\n",
       "      <td>user@example.com</td>\n",
       "      <td>eBay Member yosdude72</td>\n",
       "      <td>[]</td>\n",
       "      <td>Mon, 22 Jan 2007 18:36:58 +0600</td>\n",
       "      <td>NaN</td>\n",
       "      <td>member@ebay.com</td>\n",
       "      <td>user@login.example.com</td>\n",
       "      <td>multipart/alternative;\\n\\tboundary=\"--142394960117919088574\"</td>\n",
       "      <td>@yahoo.com</td>\n",
       "      <td>658.00</td>\n",
       "      <td>NaN</td>\n",
       "    </tr>\n",
       "    <tr>\n",
       "      <th>accounts@wellsfargo.com</th>\n",
       "      <td>Wells Fargo Online Banking &lt;accounts@wellsfargo.com</td>\n",
       "      <td>user@example.com</td>\n",
       "      <td>Update Information - Verification Required</td>\n",
       "      <td>Untitled Document Dear Wells Fargo customer, As you may already know, we at Wells Fargo guarantee your online security and partner with you to prevent fraud. Due to the newly introduced Comprehens...</td>\n",
       "      <td>Tue, 20 Sep 2005 15:55:41 -0700</td>\n",
       "      <td>NaN</td>\n",
       "      <td>user@mail.example.com</td>\n",
       "      <td>user@example.com</td>\n",
       "      <td>text/html; charset=iso-8859-1</td>\n",
       "      <td>E1EHr1Z-0005yd-GO@ferrari.elinuxservers.com</td>\n",
       "      <td>154.00</td>\n",
       "      <td>2018.00</td>\n",
       "    </tr>\n",
       "    <tr>\n",
       "      <th>info@ebay.com</th>\n",
       "      <td>eBay Customer Support &lt;info@ebay.com</td>\n",
       "      <td>user@example.com</td>\n",
       "      <td>Update Notification</td>\n",
       "      <td>Place or Update Credit Card on File Dear eBay Customer ,This is your final warning about the safety of your eBay account. If you do not update your billing informations your access on eBay will be...</td>\n",
       "      <td>Thu, 13 Oct 2005 10:33:38 -0400</td>\n",
       "      <td>NaN</td>\n",
       "      <td>user@mail.example.com</td>\n",
       "      <td>user@example.com</td>\n",
       "      <td>text/html</td>\n",
       "      <td>E1EQ49K-00025e-FO@cpanel.1dr.net</td>\n",
       "      <td>195.00</td>\n",
       "      <td>6032.00</td>\n",
       "    </tr>\n",
       "    <tr>\n",
       "      <th>service@amazon.com</th>\n",
       "      <td>Amazon.com</td>\n",
       "      <td>undisclosed-recipients:;</td>\n",
       "      <td>Amazon.com - Important Notice</td>\n",
       "      <td>Amazon.com We are contacting you to inform that our Account Review Team identified some unusual activity in your account. In accordance with Amazon's User Agreement and to ensure that your account...</td>\n",
       "      <td>Mon, 9 Oct 2006 20:52:28 +0300</td>\n",
       "      <td>67.153.124.202</td>\n",
       "      <td>service@amazon.com</td>\n",
       "      <td>user@login.example.com</td>\n",
       "      <td>text/html;\\n\\tcharset=\"Windows-1251\"</td>\n",
       "      <td>200610091748.k99HmLRM030093@wiltec.info</td>\n",
       "      <td>406.00</td>\n",
       "      <td>NaN</td>\n",
       "    </tr>\n",
       "    <tr>\n",
       "      <th>aw-confirm@eBay.com</th>\n",
       "      <td>eBay</td>\n",
       "      <td>undisclosed-recipients:;</td>\n",
       "      <td>Question about item #330063234433 Brother Embroidery Machine PR 600 &amp;\\n Accessories</td>\n",
       "      <td>eBay sent this message to eBay Member.Your registered name is included to show this message originated from eBay. Learn more. Question about Item -- Respond Now eBay sent this message on behalf of...</td>\n",
       "      <td>Sun, 17 Dec 2006 10:09:25 -0500</td>\n",
       "      <td>71.224.31.112</td>\n",
       "      <td>aw-confirm@eBay.com</td>\n",
       "      <td>user@login.example.com</td>\n",
       "      <td>text/html;\\n\\tcharset=\"Windows-1251\"</td>\n",
       "      <td>20061217150902.D943410EB08A@mail.acepta.com</td>\n",
       "      <td>529.00</td>\n",
       "      <td>NaN</td>\n",
       "    </tr>\n",
       "  </tbody>\n",
       "</table>\n",
       "</div>"
      ],
      "text/plain": [
       "                                                                    Fullname  \\\n",
       "From                                                                           \n",
       "member@ebay.com                                        eBay Member yosdude72   \n",
       "accounts@wellsfargo.com  Wells Fargo Online Banking <accounts@wellsfargo.com   \n",
       "info@ebay.com                           eBay Customer Support <info@ebay.com   \n",
       "service@amazon.com                                                Amazon.com   \n",
       "aw-confirm@eBay.com                                                     eBay   \n",
       "\n",
       "                                               To  \\\n",
       "From                                                \n",
       "member@ebay.com                  user@example.com   \n",
       "accounts@wellsfargo.com          user@example.com   \n",
       "info@ebay.com                    user@example.com   \n",
       "service@amazon.com       undisclosed-recipients:;   \n",
       "aw-confirm@eBay.com      undisclosed-recipients:;   \n",
       "\n",
       "                                                                                                     Subject  \\\n",
       "From                                                                                                           \n",
       "member@ebay.com                                                                        eBay Member yosdude72   \n",
       "accounts@wellsfargo.com                                           Update Information - Verification Required   \n",
       "info@ebay.com                                                                            Update Notification   \n",
       "service@amazon.com                                                             Amazon.com - Important Notice   \n",
       "aw-confirm@eBay.com      Question about item #330063234433 Brother Embroidery Machine PR 600 &\\n Accessories   \n",
       "\n",
       "                                                                                                                                                                                                                            Body  \\\n",
       "From                                                                                                                                                                                                                               \n",
       "member@ebay.com                                                                                                                                                                                                               []   \n",
       "accounts@wellsfargo.com  Untitled Document Dear Wells Fargo customer, As you may already know, we at Wells Fargo guarantee your online security and partner with you to prevent fraud. Due to the newly introduced Comprehens...   \n",
       "info@ebay.com            Place or Update Credit Card on File Dear eBay Customer ,This is your final warning about the safety of your eBay account. If you do not update your billing informations your access on eBay will be...   \n",
       "service@amazon.com       Amazon.com We are contacting you to inform that our Account Review Team identified some unusual activity in your account. In accordance with Amazon's User Agreement and to ensure that your account...   \n",
       "aw-confirm@eBay.com      eBay sent this message to eBay Member.Your registered name is included to show this message originated from eBay. Learn more. Question about Item -- Respond Now eBay sent this message on behalf of...   \n",
       "\n",
       "                                                    Date              IP  \\\n",
       "From                                                                       \n",
       "member@ebay.com          Mon, 22 Jan 2007 18:36:58 +0600             NaN   \n",
       "accounts@wellsfargo.com  Tue, 20 Sep 2005 15:55:41 -0700             NaN   \n",
       "info@ebay.com            Thu, 13 Oct 2005 10:33:38 -0400             NaN   \n",
       "service@amazon.com        Mon, 9 Oct 2006 20:52:28 +0300  67.153.124.202   \n",
       "aw-confirm@eBay.com      Sun, 17 Dec 2006 10:09:25 -0500   71.224.31.112   \n",
       "\n",
       "                                   Return_Path            Delivered_to  \\\n",
       "From                                                                     \n",
       "member@ebay.com                member@ebay.com  user@login.example.com   \n",
       "accounts@wellsfargo.com  user@mail.example.com        user@example.com   \n",
       "info@ebay.com            user@mail.example.com        user@example.com   \n",
       "service@amazon.com          service@amazon.com  user@login.example.com   \n",
       "aw-confirm@eBay.com        aw-confirm@eBay.com  user@login.example.com   \n",
       "\n",
       "                                                                         Content_type  \\\n",
       "From                                                                                    \n",
       "member@ebay.com          multipart/alternative;\\n\\tboundary=\"--142394960117919088574\"   \n",
       "accounts@wellsfargo.com                                 text/html; charset=iso-8859-1   \n",
       "info@ebay.com                                                               text/html   \n",
       "service@amazon.com                               text/html;\\n\\tcharset=\"Windows-1251\"   \n",
       "aw-confirm@eBay.com                              text/html;\\n\\tcharset=\"Windows-1251\"   \n",
       "\n",
       "                                                          Message_Id  X_uid  \\\n",
       "From                                                                          \n",
       "member@ebay.com                                           @yahoo.com 658.00   \n",
       "accounts@wellsfargo.com  E1EHr1Z-0005yd-GO@ferrari.elinuxservers.com 154.00   \n",
       "info@ebay.com                       E1EQ49K-00025e-FO@cpanel.1dr.net 195.00   \n",
       "service@amazon.com           200610091748.k99HmLRM030093@wiltec.info 406.00   \n",
       "aw-confirm@eBay.com      20061217150902.D943410EB08A@mail.acepta.com 529.00   \n",
       "\n",
       "                         Content_Length  \n",
       "From                                     \n",
       "member@ebay.com                     NaN  \n",
       "accounts@wellsfargo.com         2018.00  \n",
       "info@ebay.com                   6032.00  \n",
       "service@amazon.com                  NaN  \n",
       "aw-confirm@eBay.com                 NaN  "
      ]
     },
     "execution_count": 4,
     "metadata": {},
     "output_type": "execute_result"
    }
   ],
   "source": [
    "df1.sample(5)"
   ]
  },
  {
   "cell_type": "code",
   "execution_count": 5,
   "id": "248cbf43",
   "metadata": {
    "scrolled": true
   },
   "outputs": [
    {
     "data": {
      "text/html": [
       "<div>\n",
       "<style scoped>\n",
       "    .dataframe tbody tr th:only-of-type {\n",
       "        vertical-align: middle;\n",
       "    }\n",
       "\n",
       "    .dataframe tbody tr th {\n",
       "        vertical-align: top;\n",
       "    }\n",
       "\n",
       "    .dataframe thead th {\n",
       "        text-align: right;\n",
       "    }\n",
       "</style>\n",
       "<table border=\"1\" class=\"dataframe\">\n",
       "  <thead>\n",
       "    <tr style=\"text-align: right;\">\n",
       "      <th></th>\n",
       "      <th>Fullname</th>\n",
       "      <th>To</th>\n",
       "      <th>Subject</th>\n",
       "      <th>Body</th>\n",
       "      <th>Date</th>\n",
       "      <th>IP</th>\n",
       "      <th>Return_Path</th>\n",
       "      <th>Delivered_to</th>\n",
       "      <th>Content_type</th>\n",
       "      <th>Message_Id</th>\n",
       "      <th>X_uid</th>\n",
       "      <th>Content_Length</th>\n",
       "    </tr>\n",
       "    <tr>\n",
       "      <th>From</th>\n",
       "      <th></th>\n",
       "      <th></th>\n",
       "      <th></th>\n",
       "      <th></th>\n",
       "      <th></th>\n",
       "      <th></th>\n",
       "      <th></th>\n",
       "      <th></th>\n",
       "      <th></th>\n",
       "      <th></th>\n",
       "      <th></th>\n",
       "      <th></th>\n",
       "    </tr>\n",
       "  </thead>\n",
       "  <tbody>\n",
       "    <tr>\n",
       "      <th>rssfeeds@example.com</th>\n",
       "      <td>scripting &lt;rssfeeds@example.com</td>\n",
       "      <td>yyyy@example.com</td>\n",
       "      <td>Slashdot reports that Amazon still wants to patent the Web.</td>\n",
       "      <td>URL: http://scriptingnews.userland.com/backissues/2002/09/23#When:8:30:51AM\\nDate: Mon, 23 Sep 2002 15:30:51 GMT\\n\\nSlashdot reports[1] that Amazon still wants to patent the Web.\\n\\n[1] http://sla...</td>\n",
       "      <td>Tue, 24 Sep 2002 08:00:10 -0000</td>\n",
       "      <td>127.0.0.1</td>\n",
       "      <td>rssfeeds@example.com</td>\n",
       "      <td>yyyy@localhost.example.com</td>\n",
       "      <td>text/plain; encoding=utf-8</td>\n",
       "      <td>200209240800.g8O80AC26563@dogma.slashnull.org</td>\n",
       "      <td>NaN</td>\n",
       "      <td>NaN</td>\n",
       "    </tr>\n",
       "    <tr>\n",
       "      <th>cwg-exmh@DeepEddy.Com</th>\n",
       "      <td>Chris Garrigues &lt;cwg-exmh@DeepEddy.Com</td>\n",
       "      <td>Robert Elz &lt;kre@munnari.OZ.AU&gt;</td>\n",
       "      <td>Re: Anolther sequence related traceback</td>\n",
       "      <td>--==_Exmh_-695163552P\\nContent-Type: text/plain; charset=us-ascii\\n\\n&gt; From:  Robert Elz &lt;kre@munnari.OZ.AU&gt;\\n&gt; Date:  Mon, 26 Aug 2002 14:00:18 +0700\\n&gt;\\n&gt;     Date:        Fri, 23 Aug 2002 10:58...</td>\n",
       "      <td>Mon, 26 Aug 2002 09:27:56 -0500</td>\n",
       "      <td>127.0.0.1</td>\n",
       "      <td>exmh-workers-admin@example.com</td>\n",
       "      <td>yyyy@localhost.netnoteinc.com</td>\n",
       "      <td>multipart/signed;\\n    boundary=\"==_Exmh_-695163552P\";\\n    micalg=pgp-sha1;\\n    protocol=\"application/pgp-signature\"</td>\n",
       "      <td>1030372078.11075.TMDA@deepeddy.vircio.com</td>\n",
       "      <td>NaN</td>\n",
       "      <td>NaN</td>\n",
       "    </tr>\n",
       "    <tr>\n",
       "      <th>matthias@egwn.net</th>\n",
       "      <td>Matthias Saou &lt;matthias@egwn.net</td>\n",
       "      <td>rpm-zzzlist@freshrpms.net</td>\n",
       "      <td>Re: Apt problems</td>\n",
       "      <td>Once upon a time, Peter wrote :\\n\\n&gt; On Wed, Feb 06, 2002 at 04:14:27PM +0100, Matthias Saou wrote:\\n&gt; &gt; Strange... all my openssh packages don't explicitly requires a version\\n&gt; &gt; of openssl. Wha...</td>\n",
       "      <td>Wed, 6 Feb 2002 17:34:32 +0100</td>\n",
       "      <td>212.9.66.13</td>\n",
       "      <td>rpm-zzzlist-admin@freshrpms.net</td>\n",
       "      <td>yyyy@localhost.example.com</td>\n",
       "      <td>text/plain; charset=US-ASCII</td>\n",
       "      <td>20020206173432.02f6f277.matthias@egwn.net</td>\n",
       "      <td>NaN</td>\n",
       "      <td>NaN</td>\n",
       "    </tr>\n",
       "    <tr>\n",
       "      <th>ralf@camperquake.de</th>\n",
       "      <td>Ralf Ertzinger &lt;ralf@camperquake.de</td>\n",
       "      <td>rpm-zzzlist@freshrpms.net</td>\n",
       "      <td>Re: Apt repository authentication: it's time</td>\n",
       "      <td>Hi.\\n\\nBrian Fahrlander &lt;kilroy@kamakiriad.com&gt; wrote:\\n\\n&gt;     What's it take to ensure we're covered against this kind of\\n&gt;     childish/moronic/Microsoft-era problems?\\n\\nWell, I am checking t...</td>\n",
       "      <td>Wed, 9 Oct 2002 10:28:23 +0200</td>\n",
       "      <td>212.51.6.15</td>\n",
       "      <td>rpm-zzzlist-admin@freshrpms.net</td>\n",
       "      <td>zzzz@localhost.example.com</td>\n",
       "      <td>text/plain; charset=US-ASCII</td>\n",
       "      <td>20021009102823.0e442ee6.ralf@camperquake.de</td>\n",
       "      <td>NaN</td>\n",
       "      <td>NaN</td>\n",
       "    </tr>\n",
       "    <tr>\n",
       "      <th>matthias@rpmforge.net</th>\n",
       "      <td>Matthias Saou &lt;matthias@rpmforge.net</td>\n",
       "      <td>rpm-zzzlist@freshrpms.net</td>\n",
       "      <td>Re: Mplayer</td>\n",
       "      <td>Once upon a time, Roi wrote :\\n\\n&gt; Since I upgraded to redhat8 mplayer -vo sdl isnt working for me\\n&gt; It gives me black screen and I only hear sound.\\n&gt; \\n&gt; can anyone help me with this ?\\n\\nI'll ...</td>\n",
       "      <td>Thu, 3 Oct 2002 11:05:10 +0200</td>\n",
       "      <td>212.9.66.13</td>\n",
       "      <td>rpm-zzzlist-admin@freshrpms.net</td>\n",
       "      <td>yyyy@localhost.example.com</td>\n",
       "      <td>text/plain; charset=US-ASCII</td>\n",
       "      <td>20021003110510.1c619b15.matthias@rpmforge.net</td>\n",
       "      <td>NaN</td>\n",
       "      <td>NaN</td>\n",
       "    </tr>\n",
       "  </tbody>\n",
       "</table>\n",
       "</div>"
      ],
      "text/plain": [
       "                                                     Fullname  \\\n",
       "From                                                            \n",
       "rssfeeds@example.com          scripting <rssfeeds@example.com   \n",
       "cwg-exmh@DeepEddy.Com  Chris Garrigues <cwg-exmh@DeepEddy.Com   \n",
       "matthias@egwn.net            Matthias Saou <matthias@egwn.net   \n",
       "ralf@camperquake.de       Ralf Ertzinger <ralf@camperquake.de   \n",
       "matthias@rpmforge.net    Matthias Saou <matthias@rpmforge.net   \n",
       "\n",
       "                                                   To  \\\n",
       "From                                                    \n",
       "rssfeeds@example.com                 yyyy@example.com   \n",
       "cwg-exmh@DeepEddy.Com  Robert Elz <kre@munnari.OZ.AU>   \n",
       "matthias@egwn.net           rpm-zzzlist@freshrpms.net   \n",
       "ralf@camperquake.de         rpm-zzzlist@freshrpms.net   \n",
       "matthias@rpmforge.net       rpm-zzzlist@freshrpms.net   \n",
       "\n",
       "                                                                           Subject  \\\n",
       "From                                                                                 \n",
       "rssfeeds@example.com   Slashdot reports that Amazon still wants to patent the Web.   \n",
       "cwg-exmh@DeepEddy.Com                      Re: Anolther sequence related traceback   \n",
       "matthias@egwn.net                                                 Re: Apt problems   \n",
       "ralf@camperquake.de                   Re: Apt repository authentication: it's time   \n",
       "matthias@rpmforge.net                                                  Re: Mplayer   \n",
       "\n",
       "                                                                                                                                                                                                                          Body  \\\n",
       "From                                                                                                                                                                                                                             \n",
       "rssfeeds@example.com   URL: http://scriptingnews.userland.com/backissues/2002/09/23#When:8:30:51AM\\nDate: Mon, 23 Sep 2002 15:30:51 GMT\\n\\nSlashdot reports[1] that Amazon still wants to patent the Web.\\n\\n[1] http://sla...   \n",
       "cwg-exmh@DeepEddy.Com  --==_Exmh_-695163552P\\nContent-Type: text/plain; charset=us-ascii\\n\\n> From:  Robert Elz <kre@munnari.OZ.AU>\\n> Date:  Mon, 26 Aug 2002 14:00:18 +0700\\n>\\n>     Date:        Fri, 23 Aug 2002 10:58...   \n",
       "matthias@egwn.net      Once upon a time, Peter wrote :\\n\\n> On Wed, Feb 06, 2002 at 04:14:27PM +0100, Matthias Saou wrote:\\n> > Strange... all my openssh packages don't explicitly requires a version\\n> > of openssl. Wha...   \n",
       "ralf@camperquake.de    Hi.\\n\\nBrian Fahrlander <kilroy@kamakiriad.com> wrote:\\n\\n>     What's it take to ensure we're covered against this kind of\\n>     childish/moronic/Microsoft-era problems?\\n\\nWell, I am checking t...   \n",
       "matthias@rpmforge.net  Once upon a time, Roi wrote :\\n\\n> Since I upgraded to redhat8 mplayer -vo sdl isnt working for me\\n> It gives me black screen and I only hear sound.\\n> \\n> can anyone help me with this ?\\n\\nI'll ...   \n",
       "\n",
       "                                                  Date           IP  \\\n",
       "From                                                                  \n",
       "rssfeeds@example.com   Tue, 24 Sep 2002 08:00:10 -0000    127.0.0.1   \n",
       "cwg-exmh@DeepEddy.Com  Mon, 26 Aug 2002 09:27:56 -0500    127.0.0.1   \n",
       "matthias@egwn.net       Wed, 6 Feb 2002 17:34:32 +0100  212.9.66.13   \n",
       "ralf@camperquake.de     Wed, 9 Oct 2002 10:28:23 +0200  212.51.6.15   \n",
       "matthias@rpmforge.net   Thu, 3 Oct 2002 11:05:10 +0200  212.9.66.13   \n",
       "\n",
       "                                           Return_Path  \\\n",
       "From                                                     \n",
       "rssfeeds@example.com              rssfeeds@example.com   \n",
       "cwg-exmh@DeepEddy.Com   exmh-workers-admin@example.com   \n",
       "matthias@egwn.net      rpm-zzzlist-admin@freshrpms.net   \n",
       "ralf@camperquake.de    rpm-zzzlist-admin@freshrpms.net   \n",
       "matthias@rpmforge.net  rpm-zzzlist-admin@freshrpms.net   \n",
       "\n",
       "                                        Delivered_to  \\\n",
       "From                                                   \n",
       "rssfeeds@example.com      yyyy@localhost.example.com   \n",
       "cwg-exmh@DeepEddy.Com  yyyy@localhost.netnoteinc.com   \n",
       "matthias@egwn.net         yyyy@localhost.example.com   \n",
       "ralf@camperquake.de       zzzz@localhost.example.com   \n",
       "matthias@rpmforge.net     yyyy@localhost.example.com   \n",
       "\n",
       "                                                                                                                                 Content_type  \\\n",
       "From                                                                                                                                            \n",
       "rssfeeds@example.com                                                                                               text/plain; encoding=utf-8   \n",
       "cwg-exmh@DeepEddy.Com  multipart/signed;\\n    boundary=\"==_Exmh_-695163552P\";\\n    micalg=pgp-sha1;\\n    protocol=\"application/pgp-signature\"   \n",
       "matthias@egwn.net                                                                                                text/plain; charset=US-ASCII   \n",
       "ralf@camperquake.de                                                                                              text/plain; charset=US-ASCII   \n",
       "matthias@rpmforge.net                                                                                            text/plain; charset=US-ASCII   \n",
       "\n",
       "                                                          Message_Id  X_uid  \\\n",
       "From                                                                          \n",
       "rssfeeds@example.com   200209240800.g8O80AC26563@dogma.slashnull.org    NaN   \n",
       "cwg-exmh@DeepEddy.Com      1030372078.11075.TMDA@deepeddy.vircio.com    NaN   \n",
       "matthias@egwn.net          20020206173432.02f6f277.matthias@egwn.net    NaN   \n",
       "ralf@camperquake.de      20021009102823.0e442ee6.ralf@camperquake.de    NaN   \n",
       "matthias@rpmforge.net  20021003110510.1c619b15.matthias@rpmforge.net    NaN   \n",
       "\n",
       "                       Content_Length  \n",
       "From                                   \n",
       "rssfeeds@example.com              NaN  \n",
       "cwg-exmh@DeepEddy.Com             NaN  \n",
       "matthias@egwn.net                 NaN  \n",
       "ralf@camperquake.de               NaN  \n",
       "matthias@rpmforge.net             NaN  "
      ]
     },
     "execution_count": 5,
     "metadata": {},
     "output_type": "execute_result"
    }
   ],
   "source": [
    "df2.sample(5)"
   ]
  },
  {
   "cell_type": "markdown",
   "id": "d9208afd",
   "metadata": {},
   "source": [
    " From the sample above, we can see that the `From` column is treated as index, however, we can see that the values are not unique per row because the same sender may have sent emails more than once. Hence, I will reset the index and get a default index."
   ]
  },
  {
   "cell_type": "code",
   "execution_count": 6,
   "id": "ad5b270e",
   "metadata": {},
   "outputs": [],
   "source": [
    "df1.reset_index(inplace=True)\n",
    "df2.reset_index(inplace=True)"
   ]
  },
  {
   "cell_type": "markdown",
   "id": "20f89fa2",
   "metadata": {},
   "source": [
    "### 📤 Handling missing data"
   ]
  },
  {
   "cell_type": "markdown",
   "id": "ee5b3278",
   "metadata": {},
   "source": [
    "After resetting the indices, let's explore further the data. By looking at the columns information we see that for some columns we have too many missing values. For example columns \"Content_Length and X_uid\" have too many null values. However, we need to be carefull before we can decide if we can drop them, because it could be that the value being null is a contributing factor that an email is `valid` or `phishing`.\n",
    "\n",
    "Let's verify them carefully, by going back to the `phishing` and `valid` before they are merged.\n"
   ]
  },
  {
   "cell_type": "markdown",
   "id": "f2241f95",
   "metadata": {},
   "source": [
    "Below we are checking the counts of the null values of the 2 columns `X_uid` and `Content_Length` for each of the datasets. We can see that in the `valid emails` the two columns have no values at all, and in the `phishing` dataset almost 75% of the Content_Length and almost 20% of X_uid values are missing."
   ]
  },
  {
   "cell_type": "code",
   "execution_count": 7,
   "id": "a77a3cfc",
   "metadata": {},
   "outputs": [
    {
     "name": "stdout",
     "output_type": "stream",
     "text": [
      "Phishing dataframe: Count of null values in the column X_uid is 423/2239 rows\n",
      "Phishing dataframe: Count of null values in the column Content_Length is 1540/2239 rows\n",
      "\n",
      "Valid email dataframe: Count of null values in the column X_uid is 2551/2551 rows\n",
      "Valid email dataframe: Count of null values in the column Content_Length is 2551/2551 rows\n",
      "\n",
      "Valid email dataframe: Count of null values in the column IP is 848/2551 rows\n",
      "Valid email dataframe: Count of null values in the column IP is 848/2551 rows\n"
     ]
    }
   ],
   "source": [
    "print('Phishing dataframe: Count of null values in the column X_uid is {}/{} rows'.format(df1['X_uid'].isnull().sum(),len(df1.index)));\n",
    "print('Phishing dataframe: Count of null values in the column Content_Length is {}/{} rows\\n'.format(df1['Content_Length'].isnull().sum(),len(df1.index)));\n",
    "\n",
    "print('Valid email dataframe: Count of null values in the column X_uid is {}/{} rows' .format(df2['X_uid'].isnull().sum(),len(df2.index)));\n",
    "print('Valid email dataframe: Count of null values in the column Content_Length is {}/{} rows\\n' .format(df2['Content_Length'].isnull().sum(),len(df2.index)));\n",
    "\n",
    "print('Valid email dataframe: Count of null values in the column IP is {}/{} rows' .format(df2['IP'].isnull().sum(),len(df2.index)));\n",
    "print('Valid email dataframe: Count of null values in the column IP is {}/{} rows' .format(df2['IP'].isnull().sum(),len(df2.index)));"
   ]
  },
  {
   "cell_type": "markdown",
   "id": "16e360a4",
   "metadata": {},
   "source": [
    "##### Now the `Content_length`, `IP` and `X_uid` columns can be dropped due to too many missing values and also their less relevance in this analysis"
   ]
  },
  {
   "cell_type": "code",
   "execution_count": 8,
   "id": "a42594df",
   "metadata": {},
   "outputs": [],
   "source": [
    "df1=df1.drop(columns=['IP','Content_Length','X_uid'])\n",
    "df2=df2.drop(columns=['IP','Content_Length','X_uid'])"
   ]
  },
  {
   "cell_type": "markdown",
   "id": "521ce243",
   "metadata": {},
   "source": [
    "# Phase 3: Predictions"
   ]
  },
  {
   "cell_type": "markdown",
   "id": "b9d47025",
   "metadata": {},
   "source": [
    "\n",
    "## ⚙️ Preprocessing \n",
    "\n",
    "\n",
    "### 🎯 Target variable\n",
    "\n",
    "Since we have two separate datasets one for phishing emails and one for valid emails, we will first label the data by adding a new column `IsEmailPhishing` on both datasets which will indicate if an email is phishing or not. For phishing emails we put `1` and for valid emails `0`, the we will review the shapes of the datasets.\n",
    "\n",
    "Since we have 2 datasets with differents target values, we will then merge both dataframes for further preprocessing and analysis\n"
   ]
  },
  {
   "cell_type": "code",
   "execution_count": 9,
   "id": "6967d04e",
   "metadata": {},
   "outputs": [
    {
     "name": "stdout",
     "output_type": "stream",
     "text": [
      "(4790, 11)\n"
     ]
    }
   ],
   "source": [
    "df1[\"IsEmailPhishing\"] = 1\n",
    "df2[\"IsEmailPhishing\"] = 0\n",
    "\n",
    "df = pd.concat([df1,df2], axis=0)\n",
    "print(df.shape)"
   ]
  },
  {
   "cell_type": "markdown",
   "id": "6afe3240",
   "metadata": {},
   "source": [
    "After merging, the indices of the two merged datasets will be mixed up, because the `phishing` dataset had index from 0-2239 and `valid emails` dataset index 0-2551. Meaning that resulting merged dataset will have index from `0` to `2239` duplicate. So, resetting the index is needed to have sequential index, then after getting a new index, we will drop the mixed up one\n",
    "\n",
    "Then we can verify that our new index is sequential by checking the last 5 rows"
   ]
  },
  {
   "cell_type": "code",
   "execution_count": 10,
   "id": "1d21d3ae",
   "metadata": {},
   "outputs": [
    {
     "data": {
      "text/html": [
       "<div>\n",
       "<style scoped>\n",
       "    .dataframe tbody tr th:only-of-type {\n",
       "        vertical-align: middle;\n",
       "    }\n",
       "\n",
       "    .dataframe tbody tr th {\n",
       "        vertical-align: top;\n",
       "    }\n",
       "\n",
       "    .dataframe thead th {\n",
       "        text-align: right;\n",
       "    }\n",
       "</style>\n",
       "<table border=\"1\" class=\"dataframe\">\n",
       "  <thead>\n",
       "    <tr style=\"text-align: right;\">\n",
       "      <th></th>\n",
       "      <th>From</th>\n",
       "      <th>Fullname</th>\n",
       "      <th>To</th>\n",
       "      <th>Subject</th>\n",
       "      <th>Body</th>\n",
       "      <th>Date</th>\n",
       "      <th>Return_Path</th>\n",
       "      <th>Delivered_to</th>\n",
       "      <th>Content_type</th>\n",
       "      <th>Message_Id</th>\n",
       "      <th>IsEmailPhishing</th>\n",
       "    </tr>\n",
       "  </thead>\n",
       "  <tbody>\n",
       "    <tr>\n",
       "      <th>4785</th>\n",
       "      <td>rssfeeds@example.com</td>\n",
       "      <td>newscientist &lt;rssfeeds@example.com</td>\n",
       "      <td>yyyy@example.com</td>\n",
       "      <td>Gene technique reveals human evolution</td>\n",
       "      <td>URL: http://www.newsisfree.com/click/-3,8714366,1440/\\nDate: Not supplied\\n\\nA method that could allow scientists to probe our ancestors' evolution over the \\nlast 20,000 years passes its first te...</td>\n",
       "      <td>Thu, 10 Oct 2002 08:04:25 -0000</td>\n",
       "      <td>rssfeeds@example.com</td>\n",
       "      <td>yyyy@localhost.example.com</td>\n",
       "      <td>text/plain; encoding=utf-8</td>\n",
       "      <td>200210100804.g9A84PK14188@dogma.slashnull.org</td>\n",
       "      <td>0</td>\n",
       "    </tr>\n",
       "    <tr>\n",
       "      <th>4786</th>\n",
       "      <td>rssfeeds@example.com</td>\n",
       "      <td>guardian &lt;rssfeeds@example.com</td>\n",
       "      <td>yyyy@example.com</td>\n",
       "      <td>Go-ahead for new-style hospitals</td>\n",
       "      <td>URL: http://www.newsisfree.com/click/-4,8723999,215/\\nDate: 2002-10-10T03:26:52+01:00\\n\\n*Society:* Blair brokers Whitehall deal on trusts borrowing private cash.\\n\\n\\n</td>\n",
       "      <td>Thu, 10 Oct 2002 08:04:10 -0000</td>\n",
       "      <td>rssfeeds@example.com</td>\n",
       "      <td>yyyy@localhost.example.com</td>\n",
       "      <td>text/plain; encoding=utf-8</td>\n",
       "      <td>200210100804.g9A84AK14152@dogma.slashnull.org</td>\n",
       "      <td>0</td>\n",
       "    </tr>\n",
       "    <tr>\n",
       "      <th>4787</th>\n",
       "      <td>rssfeeds@example.com</td>\n",
       "      <td>newscientist &lt;rssfeeds@example.com</td>\n",
       "      <td>yyyy@example.com</td>\n",
       "      <td>Malicious code hidden in email software</td>\n",
       "      <td>URL: http://www.newsisfree.com/click/-3,8710804,1440/\\nDate: Not supplied\\n\\nThe new software was switched for dummy code containing a \"Trojan horse\" on its \\ndownload servers\\n\\n\\n</td>\n",
       "      <td>Thu, 10 Oct 2002 08:04:26 -0000</td>\n",
       "      <td>rssfeeds@example.com</td>\n",
       "      <td>yyyy@localhost.example.com</td>\n",
       "      <td>text/plain; encoding=utf-8</td>\n",
       "      <td>200210100804.g9A84QK14191@dogma.slashnull.org</td>\n",
       "      <td>0</td>\n",
       "    </tr>\n",
       "    <tr>\n",
       "      <th>4788</th>\n",
       "      <td>rssfeeds@example.com</td>\n",
       "      <td>guardian &lt;rssfeeds@example.com</td>\n",
       "      <td>yyyy@example.com</td>\n",
       "      <td>'Flexible' retirement gains ground</td>\n",
       "      <td>URL: http://www.newsisfree.com/click/-4,8724000,215/\\nDate: 2002-10-10T03:26:51+01:00\\n\\n*Money:* Government admits millions may have to work on beyond 65.\\n\\n\\n</td>\n",
       "      <td>Thu, 10 Oct 2002 08:04:10 -0000</td>\n",
       "      <td>rssfeeds@example.com</td>\n",
       "      <td>yyyy@localhost.example.com</td>\n",
       "      <td>text/plain; encoding=utf-8</td>\n",
       "      <td>200210100804.g9A84AK14155@dogma.slashnull.org</td>\n",
       "      <td>0</td>\n",
       "    </tr>\n",
       "    <tr>\n",
       "      <th>4789</th>\n",
       "      <td>rssfeeds@example.com</td>\n",
       "      <td>newscientist &lt;rssfeeds@example.com</td>\n",
       "      <td>yyyy@example.com</td>\n",
       "      <td>Critical US satellites could be hacked</td>\n",
       "      <td>URL: http://www.newsisfree.com/click/-3,8708820,1440/\\nDate: Not supplied\\n\\nMilitary communications could be jammed or intercepted and satellites thrown \\noff course or destroyed, a new US study ...</td>\n",
       "      <td>Thu, 10 Oct 2002 08:04:26 -0000</td>\n",
       "      <td>rssfeeds@example.com</td>\n",
       "      <td>yyyy@localhost.example.com</td>\n",
       "      <td>text/plain; encoding=utf-8</td>\n",
       "      <td>200210100804.g9A84QK14194@dogma.slashnull.org</td>\n",
       "      <td>0</td>\n",
       "    </tr>\n",
       "  </tbody>\n",
       "</table>\n",
       "</div>"
      ],
      "text/plain": [
       "                      From                            Fullname  \\\n",
       "4785  rssfeeds@example.com  newscientist <rssfeeds@example.com   \n",
       "4786  rssfeeds@example.com      guardian <rssfeeds@example.com   \n",
       "4787  rssfeeds@example.com  newscientist <rssfeeds@example.com   \n",
       "4788  rssfeeds@example.com      guardian <rssfeeds@example.com   \n",
       "4789  rssfeeds@example.com  newscientist <rssfeeds@example.com   \n",
       "\n",
       "                    To                                  Subject  \\\n",
       "4785  yyyy@example.com   Gene technique reveals human evolution   \n",
       "4786  yyyy@example.com         Go-ahead for new-style hospitals   \n",
       "4787  yyyy@example.com  Malicious code hidden in email software   \n",
       "4788  yyyy@example.com       'Flexible' retirement gains ground   \n",
       "4789  yyyy@example.com   Critical US satellites could be hacked   \n",
       "\n",
       "                                                                                                                                                                                                         Body  \\\n",
       "4785  URL: http://www.newsisfree.com/click/-3,8714366,1440/\\nDate: Not supplied\\n\\nA method that could allow scientists to probe our ancestors' evolution over the \\nlast 20,000 years passes its first te...   \n",
       "4786                                 URL: http://www.newsisfree.com/click/-4,8723999,215/\\nDate: 2002-10-10T03:26:52+01:00\\n\\n*Society:* Blair brokers Whitehall deal on trusts borrowing private cash.\\n\\n\\n   \n",
       "4787                    URL: http://www.newsisfree.com/click/-3,8710804,1440/\\nDate: Not supplied\\n\\nThe new software was switched for dummy code containing a \"Trojan horse\" on its \\ndownload servers\\n\\n\\n   \n",
       "4788                                        URL: http://www.newsisfree.com/click/-4,8724000,215/\\nDate: 2002-10-10T03:26:51+01:00\\n\\n*Money:* Government admits millions may have to work on beyond 65.\\n\\n\\n   \n",
       "4789  URL: http://www.newsisfree.com/click/-3,8708820,1440/\\nDate: Not supplied\\n\\nMilitary communications could be jammed or intercepted and satellites thrown \\noff course or destroyed, a new US study ...   \n",
       "\n",
       "                                 Date           Return_Path  \\\n",
       "4785  Thu, 10 Oct 2002 08:04:25 -0000  rssfeeds@example.com   \n",
       "4786  Thu, 10 Oct 2002 08:04:10 -0000  rssfeeds@example.com   \n",
       "4787  Thu, 10 Oct 2002 08:04:26 -0000  rssfeeds@example.com   \n",
       "4788  Thu, 10 Oct 2002 08:04:10 -0000  rssfeeds@example.com   \n",
       "4789  Thu, 10 Oct 2002 08:04:26 -0000  rssfeeds@example.com   \n",
       "\n",
       "                    Delivered_to                Content_type  \\\n",
       "4785  yyyy@localhost.example.com  text/plain; encoding=utf-8   \n",
       "4786  yyyy@localhost.example.com  text/plain; encoding=utf-8   \n",
       "4787  yyyy@localhost.example.com  text/plain; encoding=utf-8   \n",
       "4788  yyyy@localhost.example.com  text/plain; encoding=utf-8   \n",
       "4789  yyyy@localhost.example.com  text/plain; encoding=utf-8   \n",
       "\n",
       "                                         Message_Id  IsEmailPhishing  \n",
       "4785  200210100804.g9A84PK14188@dogma.slashnull.org                0  \n",
       "4786  200210100804.g9A84AK14152@dogma.slashnull.org                0  \n",
       "4787  200210100804.g9A84QK14191@dogma.slashnull.org                0  \n",
       "4788  200210100804.g9A84AK14155@dogma.slashnull.org                0  \n",
       "4789  200210100804.g9A84QK14194@dogma.slashnull.org                0  "
      ]
     },
     "execution_count": 10,
     "metadata": {},
     "output_type": "execute_result"
    }
   ],
   "source": [
    "df.reset_index(inplace=True)\n",
    "df=df.drop(columns='index')\n",
    "df.tail()"
   ]
  },
  {
   "cell_type": "markdown",
   "id": "6c0056ed",
   "metadata": {},
   "source": [
    "Let's recheck the sumary of the whole dataset after merging. Now we can see that we still have some missing values. Let's start `Feature Selection` process during which we will decide if a column can be considered in our analysis. "
   ]
  },
  {
   "cell_type": "code",
   "execution_count": 11,
   "id": "1200be71",
   "metadata": {},
   "outputs": [
    {
     "name": "stdout",
     "output_type": "stream",
     "text": [
      "<class 'pandas.core.frame.DataFrame'>\n",
      "RangeIndex: 4790 entries, 0 to 4789\n",
      "Data columns (total 11 columns):\n",
      " #   Column           Non-Null Count  Dtype \n",
      "---  ------           --------------  ----- \n",
      " 0   From             4790 non-null   object\n",
      " 1   Fullname         4771 non-null   object\n",
      " 2   To               4632 non-null   object\n",
      " 3   Subject          4770 non-null   object\n",
      " 4   Body             4764 non-null   object\n",
      " 5   Date             4790 non-null   object\n",
      " 6   Return_Path      4790 non-null   object\n",
      " 7   Delivered_to     4655 non-null   object\n",
      " 8   Content_type     4363 non-null   object\n",
      " 9   Message_Id       4790 non-null   object\n",
      " 10  IsEmailPhishing  4790 non-null   int64 \n",
      "dtypes: int64(1), object(10)\n",
      "memory usage: 411.8+ KB\n"
     ]
    }
   ],
   "source": [
    "df.info()"
   ]
  },
  {
   "cell_type": "markdown",
   "id": "d19c95bc",
   "metadata": {},
   "source": [
    "### 💡 Feature selection\n",
    "\n",
    "Since for analyzing phishing emails big focus is on the sender of email than the recipient, the columns `To` and `Delivered_to` are less relevant and will not have much added value on our analysis. The same apply to `Fullname`,`Message_Id`,`date` and `Return_Path` columns. `From` column can have added value in this analyzis, however, it will not be considered for this iteration.\n",
    "\n",
    "The most relevant columns are `Subject`and `Body` since they contains words that will be tokenized and turned to features\n",
    "\n",
    "Let's fill missing values with `None` on `Subject` and `Body` features"
   ]
  },
  {
   "cell_type": "code",
   "execution_count": 12,
   "id": "326b886c",
   "metadata": {},
   "outputs": [],
   "source": [
    "df['Subject'].fillna('None', inplace=True)\n",
    "df['Body'].fillna('None', inplace=True)"
   ]
  },
  {
   "cell_type": "markdown",
   "id": "60530a5e",
   "metadata": {},
   "source": [
    "##### Leaving out non-used columns\n",
    "\n",
    "Let's merge `Subject` text with `Body` columns in a new column `email_text`since both represent the text of an email.\n",
    "\n",
    "Getting a subset of our dataframe by taking only `email_text` and our target value `IsEmailPhishing` and create a new dataframe `emailText_df` and view first 5 rows."
   ]
  },
  {
   "cell_type": "code",
   "execution_count": 13,
   "id": "eb208680",
   "metadata": {},
   "outputs": [
    {
     "data": {
      "text/html": [
       "<div>\n",
       "<style scoped>\n",
       "    .dataframe tbody tr th:only-of-type {\n",
       "        vertical-align: middle;\n",
       "    }\n",
       "\n",
       "    .dataframe tbody tr th {\n",
       "        vertical-align: top;\n",
       "    }\n",
       "\n",
       "    .dataframe thead th {\n",
       "        text-align: right;\n",
       "    }\n",
       "</style>\n",
       "<table border=\"1\" class=\"dataframe\">\n",
       "  <thead>\n",
       "    <tr style=\"text-align: right;\">\n",
       "      <th></th>\n",
       "      <th>Subject</th>\n",
       "      <th>Body</th>\n",
       "      <th>IsEmailPhishing</th>\n",
       "      <th>email_text</th>\n",
       "    </tr>\n",
       "  </thead>\n",
       "  <tbody>\n",
       "    <tr>\n",
       "      <th>0</th>\n",
       "      <td>eBay account verification!</td>\n",
       "      <td>Dear eBay User , After fraud complaints from the eBay members, the eBay Inc. had developed a security program against the fraudulend attempts of accounts thefts. For that we have to securise all t...</td>\n",
       "      <td>1</td>\n",
       "      <td>eBay account verification! Dear eBay User , After fraud complaints from the eBay members, the eBay Inc. had developed a security program against the fraudulend attempts of accounts thefts. For tha...</td>\n",
       "    </tr>\n",
       "    <tr>\n",
       "      <th>1</th>\n",
       "      <td>eBay - verify your account information</td>\n",
       "      <td>Welcome Welcome to a community of sellers that have achieved exceptional levels of success and positive feedback on eBay! We invite you to join us as a PowerSeller If you agree with this rank plea...</td>\n",
       "      <td>1</td>\n",
       "      <td>eBay - verify your account information Welcome Welcome to a community of sellers that have achieved exceptional levels of success and positive feedback on eBay! We invite you to join us as a Power...</td>\n",
       "    </tr>\n",
       "    <tr>\n",
       "      <th>2</th>\n",
       "      <td>Notification of limited account access</td>\n",
       "      <td>Dear valued PayPal® member: PayPal® is committed to maintaining a safe environment for its community of buyers and sellers. To protect the security of your account, PayPal employs some of the most...</td>\n",
       "      <td>1</td>\n",
       "      <td>Notification of limited account access Dear valued PayPal® member: PayPal® is committed to maintaining a safe environment for its community of buyers and sellers. To protect the security of your a...</td>\n",
       "    </tr>\n",
       "    <tr>\n",
       "      <th>3</th>\n",
       "      <td>..PayPal Notification..: Update your information</td>\n",
       "      <td>PayPal You're Billing Information! Dear PayPal Member, It has come to our attention that your PayPal Billing Information records are out of date. That requires you to update the Billing Informatio...</td>\n",
       "      <td>1</td>\n",
       "      <td>..PayPal Notification..: Update your information PayPal You're Billing Information! Dear PayPal Member, It has come to our attention that your PayPal Billing Information records are out of date. T...</td>\n",
       "    </tr>\n",
       "    <tr>\n",
       "      <th>4</th>\n",
       "      <td>We recently noticed one or more attempts to log in your account</td>\n",
       "      <td>We recently noticed one or more attempts to log in your account from a foreign IP address and we have reasons to believe that your account was used by a third party without your authorization. If ...</td>\n",
       "      <td>1</td>\n",
       "      <td>We recently noticed one or more attempts to log in your account We recently noticed one or more attempts to log in your account from a foreign IP address and we have reasons to believe that your a...</td>\n",
       "    </tr>\n",
       "  </tbody>\n",
       "</table>\n",
       "</div>"
      ],
      "text/plain": [
       "                                                           Subject  \\\n",
       "0                                       eBay account verification!   \n",
       "1                           eBay - verify your account information   \n",
       "2                           Notification of limited account access   \n",
       "3                 ..PayPal Notification..: Update your information   \n",
       "4  We recently noticed one or more attempts to log in your account   \n",
       "\n",
       "                                                                                                                                                                                                      Body  \\\n",
       "0  Dear eBay User , After fraud complaints from the eBay members, the eBay Inc. had developed a security program against the fraudulend attempts of accounts thefts. For that we have to securise all t...   \n",
       "1  Welcome Welcome to a community of sellers that have achieved exceptional levels of success and positive feedback on eBay! We invite you to join us as a PowerSeller If you agree with this rank plea...   \n",
       "2  Dear valued PayPal® member: PayPal® is committed to maintaining a safe environment for its community of buyers and sellers. To protect the security of your account, PayPal employs some of the most...   \n",
       "3  PayPal You're Billing Information! Dear PayPal Member, It has come to our attention that your PayPal Billing Information records are out of date. That requires you to update the Billing Informatio...   \n",
       "4  We recently noticed one or more attempts to log in your account from a foreign IP address and we have reasons to believe that your account was used by a third party without your authorization. If ...   \n",
       "\n",
       "   IsEmailPhishing  \\\n",
       "0                1   \n",
       "1                1   \n",
       "2                1   \n",
       "3                1   \n",
       "4                1   \n",
       "\n",
       "                                                                                                                                                                                                email_text  \n",
       "0  eBay account verification! Dear eBay User , After fraud complaints from the eBay members, the eBay Inc. had developed a security program against the fraudulend attempts of accounts thefts. For tha...  \n",
       "1  eBay - verify your account information Welcome Welcome to a community of sellers that have achieved exceptional levels of success and positive feedback on eBay! We invite you to join us as a Power...  \n",
       "2  Notification of limited account access Dear valued PayPal® member: PayPal® is committed to maintaining a safe environment for its community of buyers and sellers. To protect the security of your a...  \n",
       "3  ..PayPal Notification..: Update your information PayPal You're Billing Information! Dear PayPal Member, It has come to our attention that your PayPal Billing Information records are out of date. T...  \n",
       "4  We recently noticed one or more attempts to log in your account We recently noticed one or more attempts to log in your account from a foreign IP address and we have reasons to believe that your a...  "
      ]
     },
     "execution_count": 13,
     "metadata": {},
     "output_type": "execute_result"
    }
   ],
   "source": [
    "emailText_df=df[['Subject','Body','IsEmailPhishing']]\n",
    "emailText_df['email_text']=df['Subject'] + ' ' + df['Body']\n",
    "emailText_dfe=emailText_df[['email_text','IsEmailPhishing']]\n",
    "emailText_df.head()"
   ]
  },
  {
   "cell_type": "markdown",
   "id": "f9e97f0d",
   "metadata": {},
   "source": [
    "##### Tokenization and stemming"
   ]
  },
  {
   "cell_type": "markdown",
   "id": "1b747574",
   "metadata": {},
   "source": [
    "For this Iteration, I will only consider the columns `Body` and `Subject` merged as `email_text` for the analysis.\n",
    "For that I will perform tokenization together with Stemming of the email text using NLTK pre processing. Within the function `text_processing`, I am using regex library to remove all ponctuations. \n",
    "\n",
    "Ref: GeeksforGeeks. (2023, May 16). Removing stop words with NLTK in Python. https://www.geeksforgeeks.org/removing-stop-words-nltk-python/\n"
   ]
  },
  {
   "cell_type": "code",
   "execution_count": 14,
   "id": "896b9a52",
   "metadata": {},
   "outputs": [],
   "source": [
    "from nltk.corpus import stopwords"
   ]
  },
  {
   "cell_type": "code",
   "execution_count": 15,
   "id": "83537583",
   "metadata": {},
   "outputs": [],
   "source": [
    "from nltk.stem import PorterStemmer\n",
    "from nltk.tokenize import sent_tokenize, word_tokenize\n",
    "\n",
    "ps = PorterStemmer()\n",
    "\n",
    "stop_words = set(stopwords.words('english'))\n",
    " \n",
    "# extracting only sequence of letters and numbers from the text, converts the words in word_tokens to lower case and then checks whether\n",
    "#they are present in stop_words or not, return tokens without stopwords in a list of words\n",
    "def text_preprocessing(dataset):\n",
    "    tokens_list=[]\n",
    "    for i in range(0,len(dataset)):\n",
    "        text=re.sub('[^a-zA-Z0-9]',' ',dataset['email_text'][i])\n",
    "        text=text.lower()\n",
    "        text=text.split()\n",
    "        text=[ps.stem(w) for w in text if not w in stop_words]\n",
    "        text =' '.join(text)\n",
    "        tokens_list.append(text)\n",
    "    return tokens_list"
   ]
  },
  {
   "cell_type": "markdown",
   "id": "654f029f",
   "metadata": {},
   "source": [
    "### Text processing using NLTK"
   ]
  },
  {
   "cell_type": "code",
   "execution_count": 16,
   "id": "57332f23",
   "metadata": {},
   "outputs": [
    {
     "data": {
      "text/html": [
       "<div>\n",
       "<style scoped>\n",
       "    .dataframe tbody tr th:only-of-type {\n",
       "        vertical-align: middle;\n",
       "    }\n",
       "\n",
       "    .dataframe tbody tr th {\n",
       "        vertical-align: top;\n",
       "    }\n",
       "\n",
       "    .dataframe thead th {\n",
       "        text-align: right;\n",
       "    }\n",
       "</style>\n",
       "<table border=\"1\" class=\"dataframe\">\n",
       "  <thead>\n",
       "    <tr style=\"text-align: right;\">\n",
       "      <th></th>\n",
       "      <th>Subject</th>\n",
       "      <th>Body</th>\n",
       "      <th>IsEmailPhishing</th>\n",
       "      <th>email_text</th>\n",
       "      <th>email_words</th>\n",
       "    </tr>\n",
       "  </thead>\n",
       "  <tbody>\n",
       "    <tr>\n",
       "      <th>793</th>\n",
       "      <td>Notification from Billing Department</td>\n",
       "      <td>We recently noticed one or more attempts to log in to your PayPal account from a foreign IP address. If you recently accessed your account while traveling, the unusual log in attempts may have bee...</td>\n",
       "      <td>1</td>\n",
       "      <td>Notification from Billing Department We recently noticed one or more attempts to log in to your PayPal account from a foreign IP address. If you recently accessed your account while traveling, the...</td>\n",
       "      <td>notif bill depart recent notic one attempt log paypal account foreign ip address recent access account travel unusu log attempt may initi howev right holder account click link log account follow i...</td>\n",
       "    </tr>\n",
       "    <tr>\n",
       "      <th>4681</th>\n",
       "      <td>Four Ways to Use Symbols to Add Emotional Depth to Games</td>\n",
       "      <td>URL: http://www.newsisfree.com/click/-0,8613677,159/\\nDate: 2002-10-06T18:12:43+01:00\\n\\nMax Payne. Elite Force. Theif. Ico. Deux Ex. Oddworld. Medal of Honor. Baldur's \\nGate. The more recent Fin...</td>\n",
       "      <td>0</td>\n",
       "      <td>Four Ways to Use Symbols to Add Emotional Depth to Games URL: http://www.newsisfree.com/click/-0,8613677,159/\\nDate: 2002-10-06T18:12:43+01:00\\n\\nMax Payne. Elite Force. Theif. Ico. Deux Ex. Oddwo...</td>\n",
       "      <td>four way use symbol add emot depth game url http www newsisfre com click 0 8613677 159 date 2002 10 06t18 12 43 01 00 max payn elit forc theif ico deux ex oddworld medal honor baldur gate recent f...</td>\n",
       "    </tr>\n",
       "    <tr>\n",
       "      <th>613</th>\n",
       "      <td>Fraud alert from California Bank &amp; Trust</td>\n",
       "      <td>Dear California Bank &amp; Trust member, For security reasons, your Internet Banking Service session has timed out. Please login again by entering your User ID and Password in order to re-activate you...</td>\n",
       "      <td>1</td>\n",
       "      <td>Fraud alert from California Bank &amp; Trust Dear California Bank &amp; Trust member, For security reasons, your Internet Banking Service session has timed out. Please login again by entering your User ID...</td>\n",
       "      <td>fraud alert california bank trust dear california bank trust member secur reason internet bank servic session time pleas login enter user id password order activ account pleas click link ssl secur...</td>\n",
       "    </tr>\n",
       "    <tr>\n",
       "      <th>4727</th>\n",
       "      <td>Factories go flat while we dither over the euro</td>\n",
       "      <td>URL: http://www.newsisfree.com/click/-2,8655714,215/\\nDate: 2002-10-08T03:30:52+01:00\\n\\n*Business: *The long-awaited recovery in Britain's manufacturing sector ground \\nto a halt in August, despi...</td>\n",
       "      <td>0</td>\n",
       "      <td>Factories go flat while we dither over the euro URL: http://www.newsisfree.com/click/-2,8655714,215/\\nDate: 2002-10-08T03:30:52+01:00\\n\\n*Business: *The long-awaited recovery in Britain's manufact...</td>\n",
       "      <td>factori go flat dither euro url http www newsisfre com click 2 8655714 215 date 2002 10 08t03 30 52 01 00 busi long await recoveri britain manufactur sector ground halt august despit sharp rise ca...</td>\n",
       "    </tr>\n",
       "    <tr>\n",
       "      <th>2969</th>\n",
       "      <td>Re: AA Meetings the Hottest Place to Meet Women With Big Bucks</td>\n",
       "      <td>&gt;&gt;&gt;&gt;&gt; \"G\" == Geege Schuman &lt;geege@barrera.org&gt; writes:\\n\\n    G&gt; SURELY you meant political extremes and not politics?  baisley?\\n    G&gt; help me out here.\\n\\nOK, but only if you also meant religio...</td>\n",
       "      <td>0</td>\n",
       "      <td>Re: AA Meetings the Hottest Place to Meet Women With Big Bucks &gt;&gt;&gt;&gt;&gt; \"G\" == Geege Schuman &lt;geege@barrera.org&gt; writes:\\n\\n    G&gt; SURELY you meant political extremes and not politics?  baisley?\\n   ...</td>\n",
       "      <td>aa meet hottest place meet women big buck g geeg schuman geeg barrera org write g sure meant polit extrem polit baisley g help ok also meant religi alcohol extrem polit canvass come door campaign ...</td>\n",
       "    </tr>\n",
       "  </tbody>\n",
       "</table>\n",
       "</div>"
      ],
      "text/plain": [
       "                                                             Subject  \\\n",
       "793                             Notification from Billing Department   \n",
       "4681        Four Ways to Use Symbols to Add Emotional Depth to Games   \n",
       "613                         Fraud alert from California Bank & Trust   \n",
       "4727                 Factories go flat while we dither over the euro   \n",
       "2969  Re: AA Meetings the Hottest Place to Meet Women With Big Bucks   \n",
       "\n",
       "                                                                                                                                                                                                         Body  \\\n",
       "793   We recently noticed one or more attempts to log in to your PayPal account from a foreign IP address. If you recently accessed your account while traveling, the unusual log in attempts may have bee...   \n",
       "4681  URL: http://www.newsisfree.com/click/-0,8613677,159/\\nDate: 2002-10-06T18:12:43+01:00\\n\\nMax Payne. Elite Force. Theif. Ico. Deux Ex. Oddworld. Medal of Honor. Baldur's \\nGate. The more recent Fin...   \n",
       "613   Dear California Bank & Trust member, For security reasons, your Internet Banking Service session has timed out. Please login again by entering your User ID and Password in order to re-activate you...   \n",
       "4727  URL: http://www.newsisfree.com/click/-2,8655714,215/\\nDate: 2002-10-08T03:30:52+01:00\\n\\n*Business: *The long-awaited recovery in Britain's manufacturing sector ground \\nto a halt in August, despi...   \n",
       "2969  >>>>> \"G\" == Geege Schuman <geege@barrera.org> writes:\\n\\n    G> SURELY you meant political extremes and not politics?  baisley?\\n    G> help me out here.\\n\\nOK, but only if you also meant religio...   \n",
       "\n",
       "      IsEmailPhishing  \\\n",
       "793                 1   \n",
       "4681                0   \n",
       "613                 1   \n",
       "4727                0   \n",
       "2969                0   \n",
       "\n",
       "                                                                                                                                                                                                   email_text  \\\n",
       "793   Notification from Billing Department We recently noticed one or more attempts to log in to your PayPal account from a foreign IP address. If you recently accessed your account while traveling, the...   \n",
       "4681  Four Ways to Use Symbols to Add Emotional Depth to Games URL: http://www.newsisfree.com/click/-0,8613677,159/\\nDate: 2002-10-06T18:12:43+01:00\\n\\nMax Payne. Elite Force. Theif. Ico. Deux Ex. Oddwo...   \n",
       "613   Fraud alert from California Bank & Trust Dear California Bank & Trust member, For security reasons, your Internet Banking Service session has timed out. Please login again by entering your User ID...   \n",
       "4727  Factories go flat while we dither over the euro URL: http://www.newsisfree.com/click/-2,8655714,215/\\nDate: 2002-10-08T03:30:52+01:00\\n\\n*Business: *The long-awaited recovery in Britain's manufact...   \n",
       "2969  Re: AA Meetings the Hottest Place to Meet Women With Big Bucks >>>>> \"G\" == Geege Schuman <geege@barrera.org> writes:\\n\\n    G> SURELY you meant political extremes and not politics?  baisley?\\n   ...   \n",
       "\n",
       "                                                                                                                                                                                                  email_words  \n",
       "793   notif bill depart recent notic one attempt log paypal account foreign ip address recent access account travel unusu log attempt may initi howev right holder account click link log account follow i...  \n",
       "4681  four way use symbol add emot depth game url http www newsisfre com click 0 8613677 159 date 2002 10 06t18 12 43 01 00 max payn elit forc theif ico deux ex oddworld medal honor baldur gate recent f...  \n",
       "613   fraud alert california bank trust dear california bank trust member secur reason internet bank servic session time pleas login enter user id password order activ account pleas click link ssl secur...  \n",
       "4727  factori go flat dither euro url http www newsisfre com click 2 8655714 215 date 2002 10 08t03 30 52 01 00 busi long await recoveri britain manufactur sector ground halt august despit sharp rise ca...  \n",
       "2969  aa meet hottest place meet women big buck g geeg schuman geeg barrera org write g sure meant polit extrem polit baisley g help ok also meant religi alcohol extrem polit canvass come door campaign ...  "
      ]
     },
     "execution_count": 16,
     "metadata": {},
     "output_type": "execute_result"
    }
   ],
   "source": [
    "email_words=text_preprocessing(emailText_df)\n",
    "emailText_df['email_words']=email_words\n",
    "emailText_df.sample(5)"
   ]
  },
  {
   "cell_type": "markdown",
   "id": "405de2c7",
   "metadata": {},
   "source": [
    "### Data Shuffling\n",
    "\n",
    "Now since our dataset is ordered starting with phishing emails and ends with valid emails. To avoid that splitting our dataset may be unbalanced, I will shuffle the dataset using the `sample` function and save the shuffled dataset in a new variable. Then will reoder the columns so we have the target variable as a last column and reset the index.\n",
    "\n",
    "During my reading I understood that Random Forest Classification model shuffles data during training, maybe this step is not needed, but I am not sure."
   ]
  },
  {
   "cell_type": "code",
   "execution_count": 17,
   "id": "cf09df20",
   "metadata": {},
   "outputs": [],
   "source": [
    "emailText_df= emailText_df.sample(frac=1)   # this frac will shufled the data"
   ]
  },
  {
   "cell_type": "code",
   "execution_count": 18,
   "id": "3b29693c",
   "metadata": {},
   "outputs": [],
   "source": [
    "emailText_df=emailText_df.reset_index(drop=True)"
   ]
  },
  {
   "cell_type": "markdown",
   "id": "f98b5f53",
   "metadata": {},
   "source": [
    "Changing order of the columns making the target column last and drop the `email_text` since we have a corpus column `email_words`\n",
    "\n",
    "Ref: How to change the order of DataFrame columns? (n.d.). Stack Overflow. https://stackoverflow.com/questions/13148429/how-to-change-the-order-of-dataframe-columns"
   ]
  },
  {
   "cell_type": "code",
   "execution_count": 19,
   "id": "8a8578a6",
   "metadata": {},
   "outputs": [
    {
     "data": {
      "text/html": [
       "<div>\n",
       "<style scoped>\n",
       "    .dataframe tbody tr th:only-of-type {\n",
       "        vertical-align: middle;\n",
       "    }\n",
       "\n",
       "    .dataframe tbody tr th {\n",
       "        vertical-align: top;\n",
       "    }\n",
       "\n",
       "    .dataframe thead th {\n",
       "        text-align: right;\n",
       "    }\n",
       "</style>\n",
       "<table border=\"1\" class=\"dataframe\">\n",
       "  <thead>\n",
       "    <tr style=\"text-align: right;\">\n",
       "      <th></th>\n",
       "      <th>email_words</th>\n",
       "      <th>Subject</th>\n",
       "      <th>Body</th>\n",
       "      <th>IsEmailPhishing</th>\n",
       "      <th>email_text</th>\n",
       "    </tr>\n",
       "  </thead>\n",
       "  <tbody>\n",
       "    <tr>\n",
       "      <th>0</th>\n",
       "      <td>question item 250026510836 respond question item 250026510836 respond ebay sent messag regist name includ show messag origin ebay learn question item respond ebay sent messag behalf ebay member me...</td>\n",
       "      <td>Question for item #250026510836 - Respond Now</td>\n",
       "      <td>a Question for item #250026510836 - Respond Now eBay sent this message. Your registered name is included to show this message originated from eBay. Learn more. Question about Item - Respond Now eB...</td>\n",
       "      <td>1</td>\n",
       "      <td>Question for item #250026510836 - Respond Now a Question for item #250026510836 - Respond Now eBay sent this message. Your registered name is included to show this message originated from eBay. Le...</td>\n",
       "    </tr>\n",
       "    <tr>\n",
       "      <th>1</th>\n",
       "      <td>author clear settlement depart author clear settlement depart strong reason believ victim fraudul transact depart record payment request internet friend network ifriend net girl show enabl charg 4...</td>\n",
       "      <td>AUTHORIZATIONS / CLEARING AND SETTLEMENT DEPARTMENT</td>\n",
       "      <td>AUTHORIZATIONS / CLEARING AND SETTLEMENT DEPARTMENT We have strong reasons to believe that you have been the victim of a fraudulent transaction Our department recorded a payment request from \"Inte...</td>\n",
       "      <td>1</td>\n",
       "      <td>AUTHORIZATIONS / CLEARING AND SETTLEMENT DEPARTMENT AUTHORIZATIONS / CLEARING AND SETTLEMENT DEPARTMENT We have strong reasons to believe that you have been the victim of a fraudulent transaction ...</td>\n",
       "    </tr>\n",
       "    <tr>\n",
       "      <th>2</th>\n",
       "      <td>secur updat</td>\n",
       "      <td>Security Update</td>\n",
       "      <td>[]</td>\n",
       "      <td>1</td>\n",
       "      <td>Security Update []</td>\n",
       "    </tr>\n",
       "    <tr>\n",
       "      <th>3</th>\n",
       "      <td>pleas confirm onlin bank record</td>\n",
       "      <td>Please Confirm Your Online Banking Records!</td>\n",
       "      <td>[]</td>\n",
       "      <td>1</td>\n",
       "      <td>Please Confirm Your Online Banking Records! []</td>\n",
       "    </tr>\n",
       "    <tr>\n",
       "      <th>4</th>\n",
       "      <td>import notic onlin bank id suspend none</td>\n",
       "      <td>Important Notice - Your Online Banking ID is Suspended</td>\n",
       "      <td>None</td>\n",
       "      <td>1</td>\n",
       "      <td>Important Notice - Your Online Banking ID is Suspended None</td>\n",
       "    </tr>\n",
       "  </tbody>\n",
       "</table>\n",
       "</div>"
      ],
      "text/plain": [
       "                                                                                                                                                                                               email_words  \\\n",
       "0  question item 250026510836 respond question item 250026510836 respond ebay sent messag regist name includ show messag origin ebay learn question item respond ebay sent messag behalf ebay member me...   \n",
       "1  author clear settlement depart author clear settlement depart strong reason believ victim fraudul transact depart record payment request internet friend network ifriend net girl show enabl charg 4...   \n",
       "2                                                                                                                                                                                              secur updat   \n",
       "3                                                                                                                                                                          pleas confirm onlin bank record   \n",
       "4                                                                                                                                                                  import notic onlin bank id suspend none   \n",
       "\n",
       "                                                  Subject  \\\n",
       "0           Question for item #250026510836 - Respond Now   \n",
       "1     AUTHORIZATIONS / CLEARING AND SETTLEMENT DEPARTMENT   \n",
       "2                                         Security Update   \n",
       "3             Please Confirm Your Online Banking Records!   \n",
       "4  Important Notice - Your Online Banking ID is Suspended   \n",
       "\n",
       "                                                                                                                                                                                                      Body  \\\n",
       "0  a Question for item #250026510836 - Respond Now eBay sent this message. Your registered name is included to show this message originated from eBay. Learn more. Question about Item - Respond Now eB...   \n",
       "1  AUTHORIZATIONS / CLEARING AND SETTLEMENT DEPARTMENT We have strong reasons to believe that you have been the victim of a fraudulent transaction Our department recorded a payment request from \"Inte...   \n",
       "2                                                                                                                                                                                                       []   \n",
       "3                                                                                                                                                                                                       []   \n",
       "4                                                                                                                                                                                                     None   \n",
       "\n",
       "   IsEmailPhishing  \\\n",
       "0                1   \n",
       "1                1   \n",
       "2                1   \n",
       "3                1   \n",
       "4                1   \n",
       "\n",
       "                                                                                                                                                                                                email_text  \n",
       "0  Question for item #250026510836 - Respond Now a Question for item #250026510836 - Respond Now eBay sent this message. Your registered name is included to show this message originated from eBay. Le...  \n",
       "1  AUTHORIZATIONS / CLEARING AND SETTLEMENT DEPARTMENT AUTHORIZATIONS / CLEARING AND SETTLEMENT DEPARTMENT We have strong reasons to believe that you have been the victim of a fraudulent transaction ...  \n",
       "2                                                                                                                                                                                       Security Update []  \n",
       "3                                                                                                                                                           Please Confirm Your Online Banking Records! []  \n",
       "4                                                                                                                                              Important Notice - Your Online Banking ID is Suspended None  "
      ]
     },
     "execution_count": 19,
     "metadata": {},
     "output_type": "execute_result"
    }
   ],
   "source": [
    "cols = emailText_df.columns.tolist()\n",
    "cols = cols[-1:] + cols[:-1]\n",
    "emailText_df=emailText_df[cols]\n",
    "emailText_df.head()"
   ]
  },
  {
   "cell_type": "markdown",
   "id": "fc82e5ba",
   "metadata": {},
   "source": [
    "Assigning feature and target to variables"
   ]
  },
  {
   "cell_type": "code",
   "execution_count": 20,
   "id": "e28e6ad8",
   "metadata": {},
   "outputs": [],
   "source": [
    "X = emailText_df['email_words']\n",
    "y = emailText_df['IsEmailPhishing']"
   ]
  },
  {
   "cell_type": "markdown",
   "id": "e0e5c960",
   "metadata": {},
   "source": [
    "### 🪓 Splitting into train/test"
   ]
  },
  {
   "cell_type": "markdown",
   "id": "41247cdd",
   "metadata": {},
   "source": [
    "After assigning the feature and target to X and Y variables, I am going to split the train and test data. As per examples in class, I am using 20% for test data and 80% for train data. I also choose random_state of 80."
   ]
  },
  {
   "cell_type": "code",
   "execution_count": 21,
   "id": "721ad4b8",
   "metadata": {
    "scrolled": true
   },
   "outputs": [
    {
     "name": "stdout",
     "output_type": "stream",
     "text": [
      "There are in total 4790 observations, of which 3832 are now in the train set, and 958 in the test set.\n"
     ]
    }
   ],
   "source": [
    "from sklearn.model_selection import train_test_split\n",
    "X_train, X_test, y_train, y_test = train_test_split(X, y, test_size=0.2, random_state=80)\n",
    "print(\"There are in total\", len(X), \"observations, of which\", len(X_train), \"are now in the train set, and\", len(X_test), \"in the test set.\")"
   ]
  },
  {
   "cell_type": "markdown",
   "id": "daf25c06",
   "metadata": {},
   "source": [
    "## 🧬 Modelling\n",
    "In this step only the train set is used to fit the model, which in this case uses a Random forest Classifier algorithm for classification named sklearn.ensemble. Ref: RandomForestClassifier. (n.d.-b). Scikit-learn. https://scikitlearn.org/stable/modules/generated/sklearn.ensemble.RandomForestClassifier.html And after that the test set is used to calculate the model's accuracy, in other words how well it performs. Accuracy is a fraction where any value closer to 1 is considered better, and 1 itself (100% accurate) is usually impossible.\n",
    "\n",
    "Since NLP doesn't understand textual data, the words need some how to be encorded in numbers. Here I am using CountVectorizer to encode our email texts(tokens) to a vector based on the count of each word that occurs in an email. Ref: Prashantrajkaggle. (2023, July 4). Spam message classification with NLP. Kaggle. https://www.kaggle.com/code/prashantrajkaggle/spam-message-classification-with-nlp/notebook\n",
    "\n"
   ]
  },
  {
   "cell_type": "code",
   "execution_count": 22,
   "id": "ab89edb6",
   "metadata": {},
   "outputs": [],
   "source": [
    "from sklearn.feature_extraction.text import CountVectorizer, TfidfVectorizer\n",
    "cv=CountVectorizer(max_features=2000,ngram_range=(1,2))\n",
    "X_train=cv.fit_transform(X_train).toarray()\n",
    "X_test=cv.transform(X_test).toarray()"
   ]
  },
  {
   "cell_type": "code",
   "execution_count": 23,
   "id": "1bd0136f",
   "metadata": {},
   "outputs": [],
   "source": [
    "from sklearn.ensemble import RandomForestClassifier\n",
    "classifier=RandomForestClassifier().fit(X_train,y_train)\n",
    "y_pred=classifier.predict(X_test)"
   ]
  },
  {
   "cell_type": "code",
   "execution_count": 24,
   "id": "8cc6abf8",
   "metadata": {},
   "outputs": [
    {
     "data": {
      "text/plain": [
       "0.9968684759916493"
      ]
     },
     "execution_count": 24,
     "metadata": {},
     "output_type": "execute_result"
    }
   ],
   "source": [
    "from sklearn.metrics import classification_report,accuracy_score,confusion_matrix\n",
    "\n",
    "accuracy_score(y_test,y_pred)"
   ]
  },
  {
   "cell_type": "code",
   "execution_count": 25,
   "id": "620fa81c",
   "metadata": {},
   "outputs": [
    {
     "data": {
      "text/plain": [
       "array([[501,   3],\n",
       "       [  0, 454]], dtype=int64)"
      ]
     },
     "execution_count": 25,
     "metadata": {},
     "output_type": "execute_result"
    }
   ],
   "source": [
    "confusion_matrix(y_test,y_pred)"
   ]
  },
  {
   "cell_type": "markdown",
   "id": "25c9e1a7",
   "metadata": {},
   "source": [
    "## 🔬 Evaluation\n",
    "\n",
    "Looking at the accuracy score we see that this model perform very well as it is predicting with 99% accuracy. We have some hyperparameters `max_features` and `ngram_range` used in the CountVectorizer that may playing a role in the performance of this model. However, myself I am not able to explain them at the moment(More reading needed). I got idea on this `Modeling` part from Prashantrajkaggle. Ref: Prashantrajkaggle. (2023, July 4). Spam message classification with NLP. Kaggle. https://www.kaggle.com/code/prashantrajkaggle/spam-message-classification-with-nlp/notebook"
   ]
  },
  {
   "cell_type": "code",
   "execution_count": 26,
   "id": "c58f3de0",
   "metadata": {},
   "outputs": [
    {
     "name": "stdout",
     "output_type": "stream",
     "text": [
      "              precision    recall  f1-score   support\n",
      "\n",
      "           0       1.00      0.99      1.00       504\n",
      "           1       0.99      1.00      1.00       454\n",
      "\n",
      "    accuracy                           1.00       958\n",
      "   macro avg       1.00      1.00      1.00       958\n",
      "weighted avg       1.00      1.00      1.00       958\n",
      "\n"
     ]
    }
   ],
   "source": [
    "print(classification_report(y_test,y_pred))"
   ]
  },
  {
   "cell_type": "markdown",
   "id": "b97da7f2",
   "metadata": {},
   "source": [
    "# Prediction with KNN Algorithm\n",
    "\n"
   ]
  },
  {
   "cell_type": "markdown",
   "id": "4dd8b098",
   "metadata": {},
   "source": [
    "Looking at the report above, I suspect that there is something wrong with my train data because the accuracy of 100% is almost impossible. Probably we need to increase the amount of the train data or max_features. \n",
    "\n",
    "As per feedback received from my teachers, I will try other algorthms and vectorizer and compare the results.\n",
    "Let's start with KNeighborsClassifier with the same vectorizer `CountVectorizer`"
   ]
  },
  {
   "cell_type": "code",
   "execution_count": 27,
   "id": "608b14de",
   "metadata": {},
   "outputs": [
    {
     "name": "stdout",
     "output_type": "stream",
     "text": [
      "Accuracy: 0.9217118997912317\n"
     ]
    }
   ],
   "source": [
    "from sklearn.neighbors import KNeighborsClassifier\n",
    "model = KNeighborsClassifier()\n",
    "model.fit(X_train, y_train)\n",
    "score = model.score(X_test, y_test)\n",
    "\n",
    "print(\"Accuracy:\", score)"
   ]
  },
  {
   "cell_type": "markdown",
   "id": "0eeb778a",
   "metadata": {},
   "source": [
    "Using KNN with CountVectorizer we are getting an accuracy of 92%. We can run our model on train and test data and compare their classification results and check if this performance is not an overfitting or underfitting. \n",
    "\n",
    "We can see that the accuracy on both train and test data are almost similar, so we can say that there is no overfitting, however, we can see that the `precision` is much higher and `recall`, which may mean our model is underfitting"
   ]
  },
  {
   "cell_type": "code",
   "execution_count": 28,
   "id": "6855f214",
   "metadata": {},
   "outputs": [
    {
     "name": "stdout",
     "output_type": "stream",
     "text": [
      "              precision    recall  f1-score   support\n",
      "\n",
      "           0       1.00      0.88      0.94      2047\n",
      "           1       0.88      1.00      0.93      1785\n",
      "\n",
      "    accuracy                           0.93      3832\n",
      "   macro avg       0.94      0.94      0.93      3832\n",
      "weighted avg       0.94      0.93      0.93      3832\n",
      "\n",
      "              precision    recall  f1-score   support\n",
      "\n",
      "           0       1.00      0.85      0.92       504\n",
      "           1       0.86      1.00      0.92       454\n",
      "\n",
      "    accuracy                           0.92       958\n",
      "   macro avg       0.93      0.93      0.92       958\n",
      "weighted avg       0.93      0.92      0.92       958\n",
      "\n"
     ]
    }
   ],
   "source": [
    "knn_train_pred = model.predict(X_train)\n",
    "knn_train_report= classification_report(y_train,knn_train_pred)\n",
    "print(knn_train_report)\n",
    "\n",
    "knn_test_pred = model.predict(X_test)\n",
    "knn_test_report= classification_report(y_test,knn_test_pred)\n",
    "print(knn_test_report)\n"
   ]
  },
  {
   "cell_type": "markdown",
   "id": "a7903f58",
   "metadata": {},
   "source": [
    "In the above model we used default values of hyperparameters, for example n_neighbors (K) is 5 by default.\n",
    "\n",
    "Let's search an optimal K value which will improve our model with less error rate.\n",
    "We are going to run the KNeighborsClassifier model with K values in range 1 to 10 and visualize in a plot to see which K will produce minimal error rate."
   ]
  },
  {
   "cell_type": "code",
   "execution_count": 29,
   "id": "abee98d5",
   "metadata": {
    "scrolled": true
   },
   "outputs": [
    {
     "name": "stdout",
     "output_type": "stream",
     "text": [
      "Minimum error:  0.0407098121085595 at K = 2\n"
     ]
    },
    {
     "data": {
      "image/png": "[encoded data removed]",
      "text/plain": [
       "<Figure size 1000x600 with 1 Axes>"
      ]
     },
     "metadata": {},
     "output_type": "display_data"
    }
   ],
   "source": [
    "from sklearn import metrics\n",
    "acc=[]\n",
    "error_rate = []\n",
    "for i in range(1,10):\n",
    "    knn = KNeighborsClassifier(n_neighbors=i)\n",
    "    knn.fit(X_train,y_train)\n",
    "    pred_i = knn.predict(X_test)\n",
    "    error_rate.append(np.mean(pred_i != y_test))\n",
    "    acc.append(metrics.accuracy_score(y_test, pred_i))\n",
    "\n",
    "plt.figure(figsize=(10,6))\n",
    "plt.plot(range(1,10),error_rate,color='blue', linestyle='dashed', \n",
    "         marker='o',markerfacecolor='red', markersize=10)\n",
    "plt.title('Error Rate vs. K Value')\n",
    "plt.xlabel('K')\n",
    "plt.ylabel('Error Rate')\n",
    "print(\"Minimum error: \",min(error_rate),\"at K =\",error_rate.index(min(error_rate))+1)\n"
   ]
  },
  {
   "cell_type": "markdown",
   "id": "0d43872a",
   "metadata": {},
   "source": [
    "We find that K=2 produces the lowest error rate of 0.040, and we are validating this by plotting the accuracy against K values and got the best accuracy of 95,9% when K=2"
   ]
  },
  {
   "cell_type": "code",
   "execution_count": 30,
   "id": "743be99b",
   "metadata": {},
   "outputs": [
    {
     "name": "stdout",
     "output_type": "stream",
     "text": [
      "Maximum accuracy:  0.9592901878914405 at K = 2\n"
     ]
    },
    {
     "data": {
      "image/png": "[encoded data removed]",
      "text/plain": [
       "<Figure size 1000x600 with 1 Axes>"
      ]
     },
     "metadata": {},
     "output_type": "display_data"
    }
   ],
   "source": [
    "plt.figure(figsize=(10,6))\n",
    "plt.plot(range(1,10),acc,color='blue', linestyle='dashed', \n",
    "         marker='o',markerfacecolor='red', markersize=10)\n",
    "plt.title('accuracy vs. K Value')\n",
    "plt.xlabel('K')\n",
    "plt.ylabel('Accuracy')\n",
    "print(\"Maximum accuracy: \",max(acc),\"at K =\",acc.index(max(acc))+1)"
   ]
  },
  {
   "cell_type": "markdown",
   "id": "b26feb12",
   "metadata": {},
   "source": [
    "#### Using TF-IDF as a text tokenizer and vectorizer"
   ]
  },
  {
   "cell_type": "markdown",
   "id": "0aa8423c",
   "metadata": {},
   "source": [
    "The goal of using tf-idf is that it not only focuses on the frequency of words present in the corpus as `CountVectorizer`, but also provides the weight of the words. Sklearn.feature_extraction.text.TfidFVectorizer. (n.d.). Scikit-learn. https://scikit-learn.org/stable/modules/generated/sklearn.feature_extraction.text.TfidfVectorizer.html#sklearn.feature_extraction.t\n"
   ]
  },
  {
   "cell_type": "code",
   "execution_count": 31,
   "id": "5e455af9",
   "metadata": {},
   "outputs": [
    {
     "data": {
      "text/plain": [
       "(4790, 1324)"
      ]
     },
     "execution_count": 31,
     "metadata": {},
     "output_type": "execute_result"
    }
   ],
   "source": [
    "tfidf_vectorizer = TfidfVectorizer(min_df=.01, use_idf =True, stop_words = 'english')\n",
    "tf_X_vectorized = tfidf_vectorizer.fit_transform(emailText_df['email_text']).toarray()\n",
    "tf_X_vectorized.shape"
   ]
  },
  {
   "cell_type": "code",
   "execution_count": 32,
   "id": "581fafb8",
   "metadata": {},
   "outputs": [
    {
     "data": {
      "text/html": [
       "<div>\n",
       "<style scoped>\n",
       "    .dataframe tbody tr th:only-of-type {\n",
       "        vertical-align: middle;\n",
       "    }\n",
       "\n",
       "    .dataframe tbody tr th {\n",
       "        vertical-align: top;\n",
       "    }\n",
       "\n",
       "    .dataframe thead th {\n",
       "        text-align: right;\n",
       "    }\n",
       "</style>\n",
       "<table border=\"1\" class=\"dataframe\">\n",
       "  <thead>\n",
       "    <tr style=\"text-align: right;\">\n",
       "      <th></th>\n",
       "      <th>0</th>\n",
       "      <th>1</th>\n",
       "      <th>2</th>\n",
       "      <th>3</th>\n",
       "      <th>4</th>\n",
       "      <th>5</th>\n",
       "      <th>6</th>\n",
       "      <th>7</th>\n",
       "      <th>8</th>\n",
       "      <th>9</th>\n",
       "      <th>...</th>\n",
       "      <th>1315</th>\n",
       "      <th>1316</th>\n",
       "      <th>1317</th>\n",
       "      <th>1318</th>\n",
       "      <th>1319</th>\n",
       "      <th>1320</th>\n",
       "      <th>1321</th>\n",
       "      <th>1322</th>\n",
       "      <th>1323</th>\n",
       "      <th>email_text</th>\n",
       "    </tr>\n",
       "  </thead>\n",
       "  <tbody>\n",
       "    <tr>\n",
       "      <th>4074</th>\n",
       "      <td>0.00</td>\n",
       "      <td>0.00</td>\n",
       "      <td>0.00</td>\n",
       "      <td>0.00</td>\n",
       "      <td>0.00</td>\n",
       "      <td>0.00</td>\n",
       "      <td>0.00</td>\n",
       "      <td>0.00</td>\n",
       "      <td>0.00</td>\n",
       "      <td>0.00</td>\n",
       "      <td>...</td>\n",
       "      <td>0.00</td>\n",
       "      <td>0.19</td>\n",
       "      <td>0.00</td>\n",
       "      <td>0.00</td>\n",
       "      <td>0.00</td>\n",
       "      <td>0.00</td>\n",
       "      <td>0.00</td>\n",
       "      <td>0.00</td>\n",
       "      <td>0.00</td>\n",
       "      <td>RE: AA Meetings the Hottest Place to Meet Women With Big Bucks less obscure haiku \\n\\nbuy a puppy, ro!\\nthey are chick magnets. master\\nventriloquism.\\n\\ngg\\n\\n\\n\\n-----Original Message-----\\nFrom...</td>\n",
       "    </tr>\n",
       "    <tr>\n",
       "      <th>4331</th>\n",
       "      <td>0.00</td>\n",
       "      <td>0.00</td>\n",
       "      <td>0.07</td>\n",
       "      <td>0.00</td>\n",
       "      <td>0.00</td>\n",
       "      <td>0.00</td>\n",
       "      <td>0.00</td>\n",
       "      <td>0.00</td>\n",
       "      <td>0.00</td>\n",
       "      <td>0.00</td>\n",
       "      <td>...</td>\n",
       "      <td>0.00</td>\n",
       "      <td>0.00</td>\n",
       "      <td>0.00</td>\n",
       "      <td>0.00</td>\n",
       "      <td>0.00</td>\n",
       "      <td>0.00</td>\n",
       "      <td>0.00</td>\n",
       "      <td>0.00</td>\n",
       "      <td>0.00</td>\n",
       "      <td>Actualización de datos de su cuenta de Banamex. Banamex ESTIMADO CLIENTE DE BANAMEX BancaNet se renueva constantemente incluyendo nuevas funcionalidades y servicios, modernizando la operación en s...</td>\n",
       "    </tr>\n",
       "    <tr>\n",
       "      <th>3541</th>\n",
       "      <td>0.00</td>\n",
       "      <td>0.00</td>\n",
       "      <td>0.00</td>\n",
       "      <td>0.00</td>\n",
       "      <td>0.00</td>\n",
       "      <td>0.00</td>\n",
       "      <td>0.00</td>\n",
       "      <td>0.00</td>\n",
       "      <td>0.00</td>\n",
       "      <td>0.00</td>\n",
       "      <td>...</td>\n",
       "      <td>0.03</td>\n",
       "      <td>0.00</td>\n",
       "      <td>0.00</td>\n",
       "      <td>0.00</td>\n",
       "      <td>0.00</td>\n",
       "      <td>0.00</td>\n",
       "      <td>0.00</td>\n",
       "      <td>0.00</td>\n",
       "      <td>0.00</td>\n",
       "      <td>Unauthorized access to your PayPal account ! PayPal Unauthorized access to your PayPal account! We recently noticed more attempts to log in to your PayPal account from a foreign IP address. If you...</td>\n",
       "    </tr>\n",
       "    <tr>\n",
       "      <th>1622</th>\n",
       "      <td>0.00</td>\n",
       "      <td>0.00</td>\n",
       "      <td>0.06</td>\n",
       "      <td>0.13</td>\n",
       "      <td>0.00</td>\n",
       "      <td>0.00</td>\n",
       "      <td>0.00</td>\n",
       "      <td>0.00</td>\n",
       "      <td>0.00</td>\n",
       "      <td>0.00</td>\n",
       "      <td>...</td>\n",
       "      <td>0.00</td>\n",
       "      <td>0.00</td>\n",
       "      <td>0.00</td>\n",
       "      <td>0.00</td>\n",
       "      <td>0.00</td>\n",
       "      <td>0.00</td>\n",
       "      <td>0.00</td>\n",
       "      <td>0.00</td>\n",
       "      <td>0.00</td>\n",
       "      <td>[use Perl] Headlines for 2002-10-08 use Perl Daily Headline Mailer\\n\\nThis Week on perl5-porters (30 September / 6 October 2002)\\n    posted by rafael on Monday October 07, @07:12 (summaries)\\n   ...</td>\n",
       "    </tr>\n",
       "    <tr>\n",
       "      <th>1359</th>\n",
       "      <td>0.00</td>\n",
       "      <td>0.00</td>\n",
       "      <td>0.00</td>\n",
       "      <td>0.00</td>\n",
       "      <td>0.00</td>\n",
       "      <td>0.00</td>\n",
       "      <td>0.00</td>\n",
       "      <td>0.00</td>\n",
       "      <td>0.00</td>\n",
       "      <td>0.00</td>\n",
       "      <td>...</td>\n",
       "      <td>0.00</td>\n",
       "      <td>0.00</td>\n",
       "      <td>0.00</td>\n",
       "      <td>0.00</td>\n",
       "      <td>0.00</td>\n",
       "      <td>0.00</td>\n",
       "      <td>0.00</td>\n",
       "      <td>0.00</td>\n",
       "      <td>0.00</td>\n",
       "      <td>New testing packages Hi,\\n\\nJust the kind of announce I make once in a while :\\n- I've rebuilt a new \"alsaplayer\" package based on Angle's one.\\n- I've rebuilt a hopefully final version \"-fr8\" of ...</td>\n",
       "    </tr>\n",
       "  </tbody>\n",
       "</table>\n",
       "<p>5 rows × 1325 columns</p>\n",
       "</div>"
      ],
      "text/plain": [
       "        0    1    2    3    4    5    6    7    8    9  ...  1315  1316  1317  \\\n",
       "4074 0.00 0.00 0.00 0.00 0.00 0.00 0.00 0.00 0.00 0.00  ...  0.00  0.19  0.00   \n",
       "4331 0.00 0.00 0.07 0.00 0.00 0.00 0.00 0.00 0.00 0.00  ...  0.00  0.00  0.00   \n",
       "3541 0.00 0.00 0.00 0.00 0.00 0.00 0.00 0.00 0.00 0.00  ...  0.03  0.00  0.00   \n",
       "1622 0.00 0.00 0.06 0.13 0.00 0.00 0.00 0.00 0.00 0.00  ...  0.00  0.00  0.00   \n",
       "1359 0.00 0.00 0.00 0.00 0.00 0.00 0.00 0.00 0.00 0.00  ...  0.00  0.00  0.00   \n",
       "\n",
       "      1318  1319  1320  1321  1322  1323  \\\n",
       "4074  0.00  0.00  0.00  0.00  0.00  0.00   \n",
       "4331  0.00  0.00  0.00  0.00  0.00  0.00   \n",
       "3541  0.00  0.00  0.00  0.00  0.00  0.00   \n",
       "1622  0.00  0.00  0.00  0.00  0.00  0.00   \n",
       "1359  0.00  0.00  0.00  0.00  0.00  0.00   \n",
       "\n",
       "                                                                                                                                                                                                   email_text  \n",
       "4074  RE: AA Meetings the Hottest Place to Meet Women With Big Bucks less obscure haiku \\n\\nbuy a puppy, ro!\\nthey are chick magnets. master\\nventriloquism.\\n\\ngg\\n\\n\\n\\n-----Original Message-----\\nFrom...  \n",
       "4331  Actualización de datos de su cuenta de Banamex. Banamex ESTIMADO CLIENTE DE BANAMEX BancaNet se renueva constantemente incluyendo nuevas funcionalidades y servicios, modernizando la operación en s...  \n",
       "3541  Unauthorized access to your PayPal account ! PayPal Unauthorized access to your PayPal account! We recently noticed more attempts to log in to your PayPal account from a foreign IP address. If you...  \n",
       "1622  [use Perl] Headlines for 2002-10-08 use Perl Daily Headline Mailer\\n\\nThis Week on perl5-porters (30 September / 6 October 2002)\\n    posted by rafael on Monday October 07, @07:12 (summaries)\\n   ...  \n",
       "1359  New testing packages Hi,\\n\\nJust the kind of announce I make once in a while :\\n- I've rebuilt a new \"alsaplayer\" package based on Angle's one.\\n- I've rebuilt a hopefully final version \"-fr8\" of ...  \n",
       "\n",
       "[5 rows x 1325 columns]"
      ]
     },
     "execution_count": 32,
     "metadata": {},
     "output_type": "execute_result"
    }
   ],
   "source": [
    "X = pd.DataFrame(tf_X_vectorized)\n",
    "X['email_text'] = emailText_df[\"email_text\"].values\n",
    "y = emailText_df[\"IsEmailPhishing\"]\n",
    "X.sample(5)"
   ]
  },
  {
   "cell_type": "code",
   "execution_count": 33,
   "id": "e9a91f49",
   "metadata": {
    "scrolled": true
   },
   "outputs": [
    {
     "name": "stdout",
     "output_type": "stream",
     "text": [
      "There are in total 4790 observations, of which 3832 are now in the train set, and 958 in the test set.\n"
     ]
    }
   ],
   "source": [
    "from sklearn.model_selection import train_test_split\n",
    "X_train, X_test, y_train, y_test = train_test_split(X, y, test_size=0.2, random_state=80)\n",
    "print(\"There are in total\", len(X), \"observations, of which\", len(X_train), \"are now in the train set, and\", len(X_test), \"in the test set.\")"
   ]
  },
  {
   "cell_type": "code",
   "execution_count": 34,
   "id": "973b4027",
   "metadata": {},
   "outputs": [],
   "source": [
    "X_train = X_train.drop(['email_text'], axis=1)\n",
    "X_email_text = X_test['email_text']\n",
    "X_test = X_test.drop(['email_text'], axis=1)"
   ]
  },
  {
   "cell_type": "code",
   "execution_count": 35,
   "id": "f8fb803c",
   "metadata": {},
   "outputs": [
    {
     "name": "stdout",
     "output_type": "stream",
     "text": [
      "Accuracy: 0.8903966597077244\n"
     ]
    }
   ],
   "source": [
    "k=2\n",
    "model = KNeighborsClassifier(n_neighbors=k)\n",
    "model.fit(X_train, y_train)\n",
    "score = model.score(X_test.values, y_test)\n",
    "\n",
    "print(\"Accuracy:\", score)"
   ]
  },
  {
   "cell_type": "markdown",
   "id": "731e97fd",
   "metadata": {},
   "source": [
    "These classification reports shows that we have overfitting in our train data because the model perform well on train data `100%` and and a big difference gat on test data`89%`."
   ]
  },
  {
   "cell_type": "code",
   "execution_count": 36,
   "id": "49a4c13a",
   "metadata": {},
   "outputs": [
    {
     "name": "stdout",
     "output_type": "stream",
     "text": [
      "              precision    recall  f1-score   support\n",
      "\n",
      "           0       1.00      1.00      1.00      2047\n",
      "           1       1.00      1.00      1.00      1785\n",
      "\n",
      "    accuracy                           1.00      3832\n",
      "   macro avg       1.00      1.00      1.00      3832\n",
      "weighted avg       1.00      1.00      1.00      3832\n",
      "\n",
      "              precision    recall  f1-score   support\n",
      "\n",
      "           0       1.00      0.79      0.88       504\n",
      "           1       0.81      1.00      0.90       454\n",
      "\n",
      "    accuracy                           0.89       958\n",
      "   macro avg       0.91      0.90      0.89       958\n",
      "weighted avg       0.91      0.89      0.89       958\n",
      "\n"
     ]
    }
   ],
   "source": [
    "pred = model.predict(X_train.values)\n",
    "report= classification_report(y_train,pred)\n",
    "print(report)\n",
    "\n",
    "pred = model.predict(X_test.values)\n",
    "report= classification_report(y_test,pred)\n",
    "print(report)"
   ]
  },
  {
   "cell_type": "markdown",
   "id": "3e8ecf68",
   "metadata": {},
   "source": [
    "Let's try to perform hyperparameter tuning by reducing the max_features to 200, which will give use data with shape (4790, 200) "
   ]
  },
  {
   "cell_type": "code",
   "execution_count": 37,
   "id": "425c00db",
   "metadata": {},
   "outputs": [
    {
     "data": {
      "text/plain": [
       "(4790, 200)"
      ]
     },
     "execution_count": 37,
     "metadata": {},
     "output_type": "execute_result"
    }
   ],
   "source": [
    "tfidf_vectorizer = TfidfVectorizer(max_features=200,min_df=.01, use_idf =True, stop_words = 'english')\n",
    "tf_X_vectorized = tfidf_vectorizer.fit_transform(emailText_df['email_text']).toarray()\n",
    "tf_X_vectorized.shape"
   ]
  },
  {
   "cell_type": "markdown",
   "id": "dcc08648",
   "metadata": {},
   "source": [
    "Let's add the email text that was removed by the vectorizer"
   ]
  },
  {
   "cell_type": "code",
   "execution_count": 38,
   "id": "9e47162a",
   "metadata": {},
   "outputs": [],
   "source": [
    "X = pd.DataFrame(tf_X_vectorized)\n",
    "X['email_text'] = emailText_df[\"email_text\"].values\n",
    "y = emailText_df[\"IsEmailPhishing\"]"
   ]
  },
  {
   "cell_type": "markdown",
   "id": "86eeac04",
   "metadata": {},
   "source": [
    "Splitting Train and Test data by 80% train and 20% test data"
   ]
  },
  {
   "cell_type": "code",
   "execution_count": 39,
   "id": "e27cd79d",
   "metadata": {},
   "outputs": [
    {
     "name": "stdout",
     "output_type": "stream",
     "text": [
      "There are in total 4790 observations, of which 3832 are now in the train set, and 958 in the test set.\n"
     ]
    }
   ],
   "source": [
    "from sklearn.model_selection import train_test_split\n",
    "X_train, X_test, y_train, y_test = train_test_split(X, y, test_size=0.2, random_state=80)\n",
    "print(\"There are in total\", len(X), \"observations, of which\", len(X_train), \"are now in the train set, and\", len(X_test), \"in the test set.\")"
   ]
  },
  {
   "cell_type": "markdown",
   "id": "e993c279",
   "metadata": {},
   "source": [
    "remove email text from the train and test data for running the model"
   ]
  },
  {
   "cell_type": "code",
   "execution_count": 40,
   "id": "3ce34ff3",
   "metadata": {},
   "outputs": [],
   "source": [
    "X_train = X_train.drop(['email_text'], axis=1)\n",
    "X_email_text = X_test['email_text']\n",
    "X_test = X_test.drop(['email_text'], axis=1)"
   ]
  },
  {
   "cell_type": "code",
   "execution_count": 41,
   "id": "f67dc705",
   "metadata": {},
   "outputs": [
    {
     "name": "stdout",
     "output_type": "stream",
     "text": [
      "Accuracy: 0.9780793319415448\n"
     ]
    }
   ],
   "source": [
    "k=2\n",
    "model = KNeighborsClassifier(n_neighbors=k)\n",
    "model.fit(X_train, y_train)\n",
    "score = model.score(X_test.values, y_test)\n",
    "\n",
    "print(\"Accuracy:\", score)"
   ]
  },
  {
   "cell_type": "markdown",
   "id": "8556113d",
   "metadata": {},
   "source": [
    "Now the accuracy has increased a lot to 98% which is almost perfect performance. "
   ]
  },
  {
   "cell_type": "code",
   "execution_count": 42,
   "id": "eca52893",
   "metadata": {},
   "outputs": [
    {
     "name": "stdout",
     "output_type": "stream",
     "text": [
      "              precision    recall  f1-score   support\n",
      "\n",
      "           0       0.99      1.00      1.00      2047\n",
      "           1       1.00      0.99      1.00      1785\n",
      "\n",
      "    accuracy                           1.00      3832\n",
      "   macro avg       1.00      1.00      1.00      3832\n",
      "weighted avg       1.00      1.00      1.00      3832\n",
      "\n",
      "              precision    recall  f1-score   support\n",
      "\n",
      "           0       0.99      0.97      0.98       504\n",
      "           1       0.97      0.99      0.98       454\n",
      "\n",
      "    accuracy                           0.98       958\n",
      "   macro avg       0.98      0.98      0.98       958\n",
      "weighted avg       0.98      0.98      0.98       958\n",
      "\n"
     ]
    }
   ],
   "source": [
    "pred = model.predict(X_train.values)\n",
    "report= classification_report(y_train,pred)\n",
    "print(report)\n",
    "\n",
    "pred = model.predict(X_test.values)\n",
    "report= classification_report(y_test,pred)\n",
    "print(report)"
   ]
  },
  {
   "cell_type": "markdown",
   "id": "b751c7f6",
   "metadata": {},
   "source": [
    "## Evaluation"
   ]
  },
  {
   "cell_type": "markdown",
   "id": "32b712e2",
   "metadata": {},
   "source": [
    "Creating labels with meaningful names add a column for phishing and safe and also the actual email text in the predictions dataframe "
   ]
  },
  {
   "cell_type": "code",
   "execution_count": 43,
   "id": "211fdbde",
   "metadata": {},
   "outputs": [
    {
     "data": {
      "text/html": [
       "<div>\n",
       "<style scoped>\n",
       "    .dataframe tbody tr th:only-of-type {\n",
       "        vertical-align: middle;\n",
       "    }\n",
       "\n",
       "    .dataframe tbody tr th {\n",
       "        vertical-align: top;\n",
       "    }\n",
       "\n",
       "    .dataframe thead th {\n",
       "        text-align: right;\n",
       "    }\n",
       "</style>\n",
       "<table border=\"1\" class=\"dataframe\">\n",
       "  <thead>\n",
       "    <tr style=\"text-align: right;\">\n",
       "      <th></th>\n",
       "      <th>0</th>\n",
       "      <th>truth</th>\n",
       "      <th>text</th>\n",
       "    </tr>\n",
       "  </thead>\n",
       "  <tbody>\n",
       "    <tr>\n",
       "      <th>852</th>\n",
       "      <td>0</td>\n",
       "      <td>safe</td>\n",
       "      <td>\"Cram school\" operator arrested for trying to cram it into a 13\\n    year old girl URL: http://www.newsisfree.com/click/-2,8417753,1717/\\nDate: 2002-10-01T03:29:21+01:00\\n\\n[IMG: http://www.newsis...</td>\n",
       "    </tr>\n",
       "    <tr>\n",
       "      <th>709</th>\n",
       "      <td>0</td>\n",
       "      <td>safe</td>\n",
       "      <td>Re: K3B checking build system type... i686-pc-linux-gnu\\nchecking host system type... i686-pc-linux-gnu\\nchecking target system type... Invalid configuration\\n`athalon-redhat-linux': machine `atha...</td>\n",
       "    </tr>\n",
       "    <tr>\n",
       "      <th>566</th>\n",
       "      <td>0</td>\n",
       "      <td>safe</td>\n",
       "      <td>Re: [SAdev] Live Rule Updates after Release ??? Yes - great minds think alike. But even withput eval rules it would be very \\nuseful. It would allow us to respond quickly to spammer's tricks.\\n\\nT...</td>\n",
       "    </tr>\n",
       "    <tr>\n",
       "      <th>269</th>\n",
       "      <td>1</td>\n",
       "      <td>phishing</td>\n",
       "      <td>Regions Bank Corporate Customer Service: Confirm Your Account\\n Records! (message id: B34265387720840) []</td>\n",
       "    </tr>\n",
       "    <tr>\n",
       "      <th>951</th>\n",
       "      <td>1</td>\n",
       "      <td>phishing</td>\n",
       "      <td>Question about your item -- respond now eBay sent this message to you.Your registered name is included to show this message originated from eBay. Learn more. Question about Item -- Respond Now eBa...</td>\n",
       "    </tr>\n",
       "    <tr>\n",
       "      <th>202</th>\n",
       "      <td>1</td>\n",
       "      <td>phishing</td>\n",
       "      <td>Question about Item -- Respond Now []</td>\n",
       "    </tr>\n",
       "    <tr>\n",
       "      <th>683</th>\n",
       "      <td>1</td>\n",
       "      <td>phishing</td>\n",
       "      <td>eBay Change Notice: Item 22183492189 Dear eBay Community Member, A previously entered bid on your item http://cgi.ebay.com/ws/eBayISAPI.dll?ViewItem&amp;item=22183492189 has been retracted or cancelle...</td>\n",
       "    </tr>\n",
       "    <tr>\n",
       "      <th>82</th>\n",
       "      <td>1</td>\n",
       "      <td>phishing</td>\n",
       "      <td>Your account has been suspended Your account has been suspended Dear member, Your account has been indefinitely suspended from eBay because our records indicate your account was involved in activi...</td>\n",
       "    </tr>\n",
       "    <tr>\n",
       "      <th>126</th>\n",
       "      <td>1</td>\n",
       "      <td>phishing</td>\n",
       "      <td>Question for item #250026510836 - Respond Now Re: Question for item #8812386909 - DELL PRECISION M20 LAPTOP BRAND NEW BOXED!!! NO RESERVE Learn more. Response to Question about Item -- Respond Now...</td>\n",
       "    </tr>\n",
       "    <tr>\n",
       "      <th>715</th>\n",
       "      <td>0</td>\n",
       "      <td>safe</td>\n",
       "      <td>[SAdev] [Bug 1053] New: IMG tag based rules http://www.hughes-family.org/bugzilla/show_bug.cgi?id=1053\\n\\n           Summary: IMG tag based rules\\n           Product: Spamassassin\\n           Vers...</td>\n",
       "    </tr>\n",
       "  </tbody>\n",
       "</table>\n",
       "</div>"
      ],
      "text/plain": [
       "     0     truth  \\\n",
       "852  0      safe   \n",
       "709  0      safe   \n",
       "566  0      safe   \n",
       "269  1  phishing   \n",
       "951  1  phishing   \n",
       "202  1  phishing   \n",
       "683  1  phishing   \n",
       "82   1  phishing   \n",
       "126  1  phishing   \n",
       "715  0      safe   \n",
       "\n",
       "                                                                                                                                                                                                        text  \n",
       "852  \"Cram school\" operator arrested for trying to cram it into a 13\\n    year old girl URL: http://www.newsisfree.com/click/-2,8417753,1717/\\nDate: 2002-10-01T03:29:21+01:00\\n\\n[IMG: http://www.newsis...  \n",
       "709  Re: K3B checking build system type... i686-pc-linux-gnu\\nchecking host system type... i686-pc-linux-gnu\\nchecking target system type... Invalid configuration\\n`athalon-redhat-linux': machine `atha...  \n",
       "566  Re: [SAdev] Live Rule Updates after Release ??? Yes - great minds think alike. But even withput eval rules it would be very \\nuseful. It would allow us to respond quickly to spammer's tricks.\\n\\nT...  \n",
       "269                                                                                                Regions Bank Corporate Customer Service: Confirm Your Account\\n Records! (message id: B34265387720840) []  \n",
       "951  Question about your item -- respond now eBay sent this message to you.Your registered name is included to show this message originated from eBay. Learn more. Question about Item -- Respond Now eBa...  \n",
       "202                                                                                                                                                                    Question about Item -- Respond Now []  \n",
       "683  eBay Change Notice: Item 22183492189 Dear eBay Community Member, A previously entered bid on your item http://cgi.ebay.com/ws/eBayISAPI.dll?ViewItem&item=22183492189 has been retracted or cancelle...  \n",
       "82   Your account has been suspended Your account has been suspended Dear member, Your account has been indefinitely suspended from eBay because our records indicate your account was involved in activi...  \n",
       "126  Question for item #250026510836 - Respond Now Re: Question for item #8812386909 - DELL PRECISION M20 LAPTOP BRAND NEW BOXED!!! NO RESERVE Learn more. Response to Question about Item -- Respond Now...  \n",
       "715  [SAdev] [Bug 1053] New: IMG tag based rules http://www.hughes-family.org/bugzilla/show_bug.cgi?id=1053\\n\\n           Summary: IMG tag based rules\\n           Product: Spamassassin\\n           Vers...  "
      ]
     },
     "execution_count": 43,
     "metadata": {},
     "output_type": "execute_result"
    }
   ],
   "source": [
    "label_map = {\"phishing\": 1, \"safe\": 0}\n",
    "predictions = pd.DataFrame(pred)\n",
    "predictions[\"truth\"] = y_test.map(dict((v,k) for k, v in label_map.items())).values\n",
    "predictions[\"text\"] = X_email_text.values\n",
    "predictions.sample(10)"
   ]
  },
  {
   "cell_type": "markdown",
   "id": "98e3fd77",
   "metadata": {},
   "source": [
    "To be continued ..."
   ]
  },
  {
   "cell_type": "code",
   "execution_count": null,
   "id": "35039892",
   "metadata": {},
   "outputs": [],
   "source": []
  }
 ],
 "metadata": {
  "kernelspec": {
   "display_name": "Python 3 (ipykernel)",
   "language": "python",
   "name": "python3"
  },
  "language_info": {
   "codemirror_mode": {
    "name": "ipython",
    "version": 3
   },
   "file_extension": ".py",
   "mimetype": "text/x-python",
   "name": "python",
   "nbconvert_exporter": "python",
   "pygments_lexer": "ipython3",
   "version": "3.11.4"
  }
 },
 "nbformat": 4,
 "nbformat_minor": 5
}
